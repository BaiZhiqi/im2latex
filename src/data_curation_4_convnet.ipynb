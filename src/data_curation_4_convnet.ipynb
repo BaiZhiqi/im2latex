{
 "cells": [
  {
   "cell_type": "markdown",
   "metadata": {},
   "source": [
    "# im2latex(S): Tokenizer\n",
    "\n",
    "    Runs images through VGG net and extracts and saves the features for input into im2latex model.\n",
    "    \n",
    "&copy; Copyright 2017 Sumeet S Singh\n",
    "\n",
    "    This file is part of im2latex solution by Sumeet S Singh.\n",
    "\n",
    "    This program is free software: you can redistribute it and/or modify\n",
    "    it under the terms of the Affero GNU General Public License as published by\n",
    "    the Free Software Foundation, either version 3 of the License, or\n",
    "    (at your option) any later version.\n",
    "\n",
    "    This program is distributed in the hope that it will be useful,\n",
    "    but WITHOUT ANY WARRANTY; without even the implied warranty of\n",
    "    MERCHANTABILITY or FITNESS FOR A PARTICULAR PURPOSE.  See the\n",
    "    Affero GNU General Public License for more details.\n",
    "\n",
    "    You should have received a copy of the Affero GNU General Public License\n",
    "    along with this program.  If not, see <http://www.gnu.org/licenses/>."
   ]
  },
  {
   "cell_type": "code",
   "execution_count": 1,
   "metadata": {},
   "outputs": [
    {
     "name": "stderr",
     "output_type": "stream",
     "text": [
      "Using TensorFlow backend.\n"
     ]
    }
   ],
   "source": [
    "from keras.applications.vgg16 import VGG16\n",
    "from keras import backend as K"
   ]
  },
  {
   "cell_type": "code",
   "execution_count": null,
   "metadata": {
    "collapsed": true
   },
   "outputs": [],
   "source": [
    "def build_image_context(params, image_batch):\n",
    "    ## Conv-net\n",
    "    assert K.int_shape(image_batch) == (params.B,) + params.image_shape\n",
    "    ################ Build VGG Net ################\n",
    "    with tf.variable_scope('VGGNet'):\n",
    "        # K.set_image_data_format('channels_last')\n",
    "        convnet = VGG16(include_top=False, weights='imagenet', pooling=None, input_shape=params.image_shape)\n",
    "        convnet.trainable = False\n",
    "        print 'convnet output_shape = ', convnet.output_shape\n",
    "        a = convnet(image_batch)\n",
    "        assert K.int_shape(a) == (params.B, params.H, params.W, params.D)\n",
    "\n",
    "        ## Combine HxW into a single dimension L\n",
    "        a = tf.reshape(a, shape=(params.B or -1, params.L, params.D))\n",
    "        assert K.int_shape(a) == (params.B, params.L, params.D)\n",
    "    \n",
    "    return a"
   ]
  },
  {
   "cell_type": "code",
   "execution_count": null,
   "metadata": {
    "collapsed": true
   },
   "outputs": [],
   "source": []
  }
 ],
 "metadata": {
  "kernelspec": {
   "display_name": "Python 2",
   "language": "python",
   "name": "python2"
  },
  "language_info": {
   "codemirror_mode": {
    "name": "ipython",
    "version": 2
   },
   "file_extension": ".py",
   "mimetype": "text/x-python",
   "name": "python",
   "nbconvert_exporter": "python",
   "pygments_lexer": "ipython2",
   "version": "2.7.13"
  }
 },
 "nbformat": 4,
 "nbformat_minor": 2
}
