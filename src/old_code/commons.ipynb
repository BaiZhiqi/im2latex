{
 "cells": [
  {
   "cell_type": "markdown",
   "metadata": {},
   "source": [
    "# im2latex(S): Utility Functions\n",
    "\n",
    "&copy; Copyright 2017 Sumeet S Singh\n",
    "\n",
    "    This file is part of im2latex solution by Sumeet S Singh.\n",
    "\n",
    "    This program is free software: you can redistribute it and/or modify\n",
    "    it under the terms of the Affero GNU General Public License as published by\n",
    "    the Free Software Foundation, either version 3 of the License, or\n",
    "    (at your option) any later version.\n",
    "\n",
    "    This program is distributed in the hope that it will be useful,\n",
    "    but WITHOUT ANY WARRANTY; without even the implied warranty of\n",
    "    MERCHANTABILITY or FITNESS FOR A PARTICULAR PURPOSE.  See the\n",
    "    Affero GNU General Public License for more details.\n",
    "\n",
    "    You should have received a copy of the Affero GNU General Public License\n",
    "    along with this program.  If not, see <http://www.gnu.org/licenses/>."
   ]
  },
  {
   "cell_type": "markdown",
   "metadata": {},
   "source": [
    "https://docs.scipy.org/doc/scipy-0.19.0/reference/generated/scipy.ndimage.imread.html\n",
    "\n",
    "    imread uses the Python Imaging Library (PIL) to read an image. The following notes are from the PIL documentation.\n",
    "\n",
    "    mode can be one of the following strings:\n",
    "\n",
    "    ‘L’ (8-bit pixels, black and white)\n",
    "    ‘P’ (8-bit pixels, mapped to any other mode using a color palette)\n",
    "    ‘RGB’ (3x8-bit pixels, true color)\n",
    "    ‘RGBA’ (4x8-bit pixels, true color with transparency mask)\n",
    "    ‘CMYK’ (4x8-bit pixels, color separation)\n",
    "    ‘YCbCr’ (3x8-bit pixels, color video format)\n",
    "    ‘I’ (32-bit signed integer pixels)\n",
    "    ‘F’ (32-bit floating point pixels)\n",
    "    PIL also provides limited support for a few special modes, including ‘LA’ (‘L’ with alpha), ‘RGBX’ (true color with padding) and ‘RGBa’ (true color with premultiplied alpha).\n",
    "\n",
    "    When translating a color image to black and white (mode ‘L’, ‘I’ or ‘F’), the library uses the ITU-R 601-2 luma transform:\n",
    "\n",
    "    L = R * 299/1000 + G * 587/1000 + B * 114/1000\n",
    "    When flatten is True, the image is converted using mode ‘F’. When mode is not None and flatten is True, the image is first converted according to mode, and the result is then flattened using mode ‘F’."
   ]
  },
  {
   "cell_type": "code",
   "execution_count": null,
   "metadata": {
    "collapsed": true
   },
   "outputs": [],
   "source": [
    "def loadImage(path, mode=None, flatten=None):\n",
    "    # Flatten=True collapses the RGB channels into a single grayscale\n",
    "    #return ndimage.imread(path, flatten=True)\n",
    "    return ndimage.imread(path, mode=mode)"
   ]
  }
 ],
 "metadata": {
  "kernelspec": {
   "display_name": "Python 2",
   "language": "python",
   "name": "python2"
  },
  "language_info": {
   "codemirror_mode": {
    "name": "ipython",
    "version": 2
   },
   "file_extension": ".py",
   "mimetype": "text/x-python",
   "name": "python",
   "nbconvert_exporter": "python",
   "pygments_lexer": "ipython2",
   "version": "2.7.13"
  }
 },
 "nbformat": 4,
 "nbformat_minor": 2
}
