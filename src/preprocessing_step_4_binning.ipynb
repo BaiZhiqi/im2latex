{
 "cells": [
  {
   "cell_type": "markdown",
   "metadata": {},
   "source": [
    "# im2latex: Data Binning\n",
    "\n",
    "&copy; Copyright 2017 Sumeet S Singh\n",
    "\n",
    "    This file is part of im2latex solution by Sumeet S Singh.\n",
    "\n",
    "    This program is free software: you can redistribute it and/or modify\n",
    "    it under the terms of the Affero GNU General Public License as published by\n",
    "    the Free Software Foundation, either version 3 of the License, or\n",
    "    (at your option) any later version.\n",
    "\n",
    "    This program is distributed in the hope that it will be useful,\n",
    "    but WITHOUT ANY WARRANTY; without even the implied warranty of\n",
    "    MERCHANTABILITY or FITNESS FOR A PARTICULAR PURPOSE.  See the\n",
    "    Affero GNU General Public License for more details.\n",
    "\n",
    "    You should have received a copy of the Affero GNU General Public License\n",
    "    along with this program.  If not, see <http://www.gnu.org/licenses/>."
   ]
  },
  {
   "cell_type": "markdown",
   "metadata": {},
   "source": [
    "# What This Program Does\n",
    "This notebook curates the [im2latex-100k dataset from Harvard NLP](https://zenodo.org/record/56198#.WT4fsxMrJE4) from a [Harvard NLP project](http://lstm.seas.harvard.edu/latex/) generated using [their code]( https://github.com/Miffyli/im2latex-dataset).\n",
    "\n",
    "* This notebook loads the data set which are png files generated using [textogif](https://www.fourmilab.ch/webtools/textogif/textogif.html) (via the abovementioned sourcecode)\n",
    "* Checks and visualizes the data\n",
    "* Curates the data - whitening etc.\n",
    "* Converts it to numpy arrays and finally stores it as pickle files."
   ]
  },
  {
   "cell_type": "markdown",
   "metadata": {},
   "source": [
    "----\n",
    "## 'Binning' Training Data by Markup Sequence Length\n",
    "Next, we'll group the samples by length of the (tokenized) latex formulas. The idea is to standardize the sequence lengths to a small set of fixed lengths (by padding smaller neighboring sequences with a 'null' tokens at the end.). This will allow us to create equal length batches for RNN/LSTM training while minimizing wasted training cycles. The [Show, Attend and Tell paper](https://www.semanticscholar.org/paper/Show-Attend-and-Tell-Neural-Image-Caption-Generati-Xu-Ba/146f6f6ed688c905fb6e346ad02332efd5464616) suggests this approach. At every epoch, we'll randomly/uniformly draw batches from within each group. Then we'll randomize said batch-list and use it for the training epoch. At next epoch, we'll repeat the process. The larger our group-size, that much better randomness we'll get in the training sequence. However the downside of increasing group-size is more padding of sequence-lengths resulting in wasteful  (and worse; maybe even misleading) training cycles.\n",
    "\n",
    "-----"
   ]
  },
  {
   "cell_type": "code",
   "execution_count": 1,
   "metadata": {
    "cellView": "both",
    "colab": {
     "autoexec": {
      "startup": false,
      "wait_interval": 0
     }
    },
    "colab_type": "code",
    "collapsed": true,
    "id": "apJbCsBHl-2A",
    "scrolled": true
   },
   "outputs": [],
   "source": [
    "from __future__ import print_function\n",
    "import os\n",
    "import numpy as np\n",
    "from IPython.display import display, Math, Image as ipImage\n",
    "import PIL\n",
    "from PIL import Image\n",
    "from scipy import ndimage\n",
    "from sklearn.linear_model import LogisticRegression\n",
    "from six.moves import cPickle as pickle\n",
    "from mpl_toolkits.axes_grid1 import ImageGrid\n",
    "import pandas as pd\n",
    "import matplotlib.pyplot as plt\n",
    "\n",
    "# Config the matplotlib backend as plotting inline in IPython\n",
    "%matplotlib inline"
   ]
  },
  {
   "cell_type": "code",
   "execution_count": 2,
   "metadata": {
    "collapsed": true,
    "scrolled": true
   },
   "outputs": [],
   "source": [
    "# pd.options.display.max_rows = 600\n",
    "pd.options.display.max_columns = 20\n",
    "pd.options.display.max_colwidth = 100\n",
    "pd.options.display.width = 160"
   ]
  },
  {
   "cell_type": "markdown",
   "metadata": {},
   "source": [
    "### Notebook Arguments\n",
    "Change the arguments below before you run the notebook."
   ]
  },
  {
   "cell_type": "code",
   "execution_count": 3,
   "metadata": {
    "collapsed": true
   },
   "outputs": [],
   "source": [
    "HYPER_batch_size = 56\n",
    "# HYPER_bins=[0,30,40,50,60,70,80,90,110,150]\n",
    "# HYPER_bins=[0,35,48,64,88,150]\n",
    "HYPER_bins=[0,28,35,41,48,55,64,75,88,105,150]\n",
    "data_folder = data_dir = '../data/dataset5'\n",
    "image_folder = image_dir = os.path.join(data_folder, 'formula_images')\n",
    "output_data_dir = os.path.join(data_folder, 'step4')\n",
    "dump = True"
   ]
  },
  {
   "cell_type": "code",
   "execution_count": 4,
   "metadata": {
    "scrolled": true
   },
   "outputs": [
    {
     "data": {
      "text/plain": [
       "(142966, 10)"
      ]
     },
     "execution_count": 4,
     "metadata": {},
     "output_type": "execute_result"
    }
   ],
   "source": [
    "df_pruned = pd.read_pickle(os.path.join(data_folder, 'step3', 'df_pruned.pkl'))\n",
    "df_pruned.shape"
   ]
  },
  {
   "cell_type": "code",
   "execution_count": 5,
   "metadata": {
    "scrolled": true
   },
   "outputs": [
    {
     "data": {
      "text/html": [
       "<div>\n",
       "<style>\n",
       "    .dataframe thead tr:only-child th {\n",
       "        text-align: right;\n",
       "    }\n",
       "\n",
       "    .dataframe thead th {\n",
       "        text-align: left;\n",
       "    }\n",
       "\n",
       "    .dataframe tbody tr th {\n",
       "        vertical-align: top;\n",
       "    }\n",
       "</style>\n",
       "<table border=\"1\" class=\"dataframe\">\n",
       "  <thead>\n",
       "    <tr style=\"text-align: right;\">\n",
       "      <th></th>\n",
       "      <th>width</th>\n",
       "      <th>word2id_len</th>\n",
       "      <th>height</th>\n",
       "    </tr>\n",
       "  </thead>\n",
       "  <tbody>\n",
       "    <tr>\n",
       "      <th>width</th>\n",
       "      <td>1.000000</td>\n",
       "      <td>0.811935</td>\n",
       "      <td>0.215366</td>\n",
       "    </tr>\n",
       "    <tr>\n",
       "      <th>word2id_len</th>\n",
       "      <td>0.811935</td>\n",
       "      <td>1.000000</td>\n",
       "      <td>0.428026</td>\n",
       "    </tr>\n",
       "    <tr>\n",
       "      <th>height</th>\n",
       "      <td>0.215366</td>\n",
       "      <td>0.428026</td>\n",
       "      <td>1.000000</td>\n",
       "    </tr>\n",
       "  </tbody>\n",
       "</table>\n",
       "</div>"
      ],
      "text/plain": [
       "                width  word2id_len    height\n",
       "width        1.000000     0.811935  0.215366\n",
       "word2id_len  0.811935     1.000000  0.428026\n",
       "height       0.215366     0.428026  1.000000"
      ]
     },
     "execution_count": 5,
     "metadata": {},
     "output_type": "execute_result"
    }
   ],
   "source": [
    "df_pruned[['width', 'word2id_len', 'height']].corr()"
   ]
  },
  {
   "cell_type": "code",
   "execution_count": 6,
   "metadata": {
    "scrolled": true
   },
   "outputs": [
    {
     "data": {
      "text/plain": [
       "0.850     94.0\n",
       "0.900    105.0\n",
       "0.950    120.0\n",
       "0.960    124.0\n",
       "0.970    129.0\n",
       "0.980    134.0\n",
       "0.985    137.0\n",
       "0.990    141.0\n",
       "1.000    150.0\n",
       "Name: word2id_len, dtype: float64"
      ]
     },
     "metadata": {},
     "output_type": "display_data"
    }
   ],
   "source": [
    "display(df_pruned.word2id_len.quantile((.85,.90,.95,.96,.97,.98,.985,.99,1.0)))"
   ]
  },
  {
   "cell_type": "markdown",
   "metadata": {},
   "source": [
    "**Below is what the sequence length distribution looks like at this point**"
   ]
  },
  {
   "cell_type": "code",
   "execution_count": 7,
   "metadata": {
    "scrolled": false
   },
   "outputs": [
    {
     "data": {
      "text/plain": [
       "<matplotlib.axes._subplots.AxesSubplot at 0x7f7d33ef5050>"
      ]
     },
     "execution_count": 7,
     "metadata": {},
     "output_type": "execute_result"
    },
    {
     "data": {
      "image/png": "[encoded data removed]",
      "text/plain": [
       "<matplotlib.figure.Figure at 0x7f7d33ed8a90>"
      ]
     },
     "metadata": {},
     "output_type": "display_data"
    }
   ],
   "source": [
    "axes = plt.axes()\n",
    "axes.set_xlabel('markup sequence length')\n",
    "axes.set_title('Distribution of markup sequence length')\n",
    "bins=range(0,151,5)\n",
    "# df_pruned.word2id_len.plot.hist(ax=axes, histtype='step', lw=2,  figsize=(15,5), grid=True, bins=bins, xticks=bins, yticks=range(0,9001,1000))\n",
    "df_pruned.word2id_len.plot.hist(ax=axes, histtype='step', lw=2,  figsize=(15,5), grid=True, bins=bins)"
   ]
  },
  {
   "cell_type": "markdown",
   "metadata": {},
   "source": [
    "### Binning\n",
    "Below we create the data-bins as described at the beginning of this section."
   ]
  },
  {
   "cell_type": "code",
   "execution_count": 8,
   "metadata": {
    "scrolled": false
   },
   "outputs": [
    {
     "data": {
      "text/plain": [
       "<matplotlib.axes._subplots.AxesSubplot at 0x7f7d6cd29690>"
      ]
     },
     "execution_count": 8,
     "metadata": {},
     "output_type": "execute_result"
    },
    {
     "data": {
      "image/png": "[encoded data removed]",
      "text/plain": [
       "<matplotlib.figure.Figure at 0x7f7d33ed8750>"
      ]
     },
     "metadata": {},
     "output_type": "display_data"
    }
   ],
   "source": [
    "axes = plt.axes()\n",
    "axes.set_xlabel('batch')\n",
    "axes.set_ylabel('batch-count')\n",
    "axes.set_title('sequence length of bins')\n",
    "df_pruned.word2id_len.plot.hist(ax=axes, histtype='step', lw=2,  figsize=(15,5), grid=True, bins=HYPER_bins)"
   ]
  },
  {
   "cell_type": "code",
   "execution_count": 9,
   "metadata": {
    "scrolled": true
   },
   "outputs": [
    {
     "data": {
      "text/html": [
       "<div>\n",
       "<style>\n",
       "    .dataframe thead tr:only-child th {\n",
       "        text-align: right;\n",
       "    }\n",
       "\n",
       "    .dataframe thead th {\n",
       "        text-align: left;\n",
       "    }\n",
       "\n",
       "    .dataframe tbody tr th {\n",
       "        vertical-align: top;\n",
       "    }\n",
       "</style>\n",
       "<table border=\"1\" class=\"dataframe\">\n",
       "  <thead>\n",
       "    <tr style=\"text-align: right;\">\n",
       "      <th></th>\n",
       "      <th>image</th>\n",
       "      <th>height</th>\n",
       "      <th>width</th>\n",
       "      <th>word2id_len</th>\n",
       "      <th>bin_len</th>\n",
       "      <th>word2id</th>\n",
       "      <th>latex_ascii</th>\n",
       "    </tr>\n",
       "  </thead>\n",
       "  <tbody>\n",
       "    <tr>\n",
       "      <th>0</th>\n",
       "      <td>23be72ded29e9b4_basic.png</td>\n",
       "      <td>78</td>\n",
       "      <td>738</td>\n",
       "      <td>112</td>\n",
       "      <td>151</td>\n",
       "      <td>[163, 305, 334, 11, 145, 336, 304, 334, 162, 336, 311, 319, 62, 195, 334, 312, 336, 304, 334, 11...</td>\n",
       "      <td>\\int _ { - \\epsilon } ^ { \\infty } d l \\: \\mathrm { e } ^ { - l \\zeta } \\int _ { - \\epsilon } ^ ...</td>\n",
       "    </tr>\n",
       "    <tr>\n",
       "      <th>1</th>\n",
       "      <td>8c904c5d9c7bd63_basic.png</td>\n",
       "      <td>94</td>\n",
       "      <td>962</td>\n",
       "      <td>129</td>\n",
       "      <td>151</td>\n",
       "      <td>[311, 326, 304, 334, 17, 336, 28, 6, 16, 11, 334, 150, 334, 324, 309, 322, 326, 271, 336, 334, 3...</td>\n",
       "      <td>d s ^ { 2 } = ( 1 - { \\frac { q c o s \\theta } { r } } ) ^ { \\frac { 2 } { 1 + \\alpha ^ { 2 } } ...</td>\n",
       "    </tr>\n",
       "    <tr>\n",
       "      <th>2</th>\n",
       "      <td>1f111caa1be3516_basic.png</td>\n",
       "      <td>87</td>\n",
       "      <td>291</td>\n",
       "      <td>51</td>\n",
       "      <td>56</td>\n",
       "      <td>[296, 151, 305, 334, 195, 334, 315, 322, 323, 313, 336, 336, 255, 265, 305, 334, 321, 29, 15, 33...</td>\n",
       "      <td>\\widetilde \\gamma _ { \\mathrm { h o p f } } \\simeq \\sum _ { n &gt; 0 } \\widetilde { G } _ { n } { \\...</td>\n",
       "    </tr>\n",
       "    <tr>\n",
       "      <th>3</th>\n",
       "      <td>76287b1b483a0d2_basic.png</td>\n",
       "      <td>35</td>\n",
       "      <td>405</td>\n",
       "      <td>43</td>\n",
       "      <td>49</td>\n",
       "      <td>[6, 334, 120, 41, 336, 305, 334, 307, 336, 314, 7, 305, 334, 316, 317, 336, 28, 15, 10, 57, 57, ...</td>\n",
       "      <td>( { \\cal L } _ { a } g ) _ { i j } = 0 , \\ \\ \\ \\ ( { \\cal L } _ { a } H ) _ { i j k } = 0 ,</td>\n",
       "    </tr>\n",
       "    <tr>\n",
       "      <th>4</th>\n",
       "      <td>7483d06c1e14dcb_basic.png</td>\n",
       "      <td>60</td>\n",
       "      <td>521</td>\n",
       "      <td>61</td>\n",
       "      <td>65</td>\n",
       "      <td>[48, 305, 334, 326, 327, 307, 327, 336, 28, 17, 225, 260, 334, 43, 305, 334, 20, 336, 304, 334, ...</td>\n",
       "      <td>S _ { s t a t } = 2 \\pi \\sqrt { N _ { 5 } ^ { ( 1 ) } N _ { 5 } ^ { ( 2 ) } N _ { 5 } ^ { ( 3 ) ...</td>\n",
       "    </tr>\n",
       "  </tbody>\n",
       "</table>\n",
       "</div>"
      ],
      "text/plain": [
       "                       image  height  width  word2id_len  bin_len  \\\n",
       "0  23be72ded29e9b4_basic.png      78    738          112      151   \n",
       "1  8c904c5d9c7bd63_basic.png      94    962          129      151   \n",
       "2  1f111caa1be3516_basic.png      87    291           51       56   \n",
       "3  76287b1b483a0d2_basic.png      35    405           43       49   \n",
       "4  7483d06c1e14dcb_basic.png      60    521           61       65   \n",
       "\n",
       "                                                                                               word2id  \\\n",
       "0  [163, 305, 334, 11, 145, 336, 304, 334, 162, 336, 311, 319, 62, 195, 334, 312, 336, 304, 334, 11...   \n",
       "1  [311, 326, 304, 334, 17, 336, 28, 6, 16, 11, 334, 150, 334, 324, 309, 322, 326, 271, 336, 334, 3...   \n",
       "2  [296, 151, 305, 334, 195, 334, 315, 322, 323, 313, 336, 336, 255, 265, 305, 334, 321, 29, 15, 33...   \n",
       "3  [6, 334, 120, 41, 336, 305, 334, 307, 336, 314, 7, 305, 334, 316, 317, 336, 28, 15, 10, 57, 57, ...   \n",
       "4  [48, 305, 334, 326, 327, 307, 327, 336, 28, 17, 225, 260, 334, 43, 305, 334, 20, 336, 304, 334, ...   \n",
       "\n",
       "                                                                                           latex_ascii  \n",
       "0  \\int _ { - \\epsilon } ^ { \\infty } d l \\: \\mathrm { e } ^ { - l \\zeta } \\int _ { - \\epsilon } ^ ...  \n",
       "1  d s ^ { 2 } = ( 1 - { \\frac { q c o s \\theta } { r } } ) ^ { \\frac { 2 } { 1 + \\alpha ^ { 2 } } ...  \n",
       "2  \\widetilde \\gamma _ { \\mathrm { h o p f } } \\simeq \\sum _ { n > 0 } \\widetilde { G } _ { n } { \\...  \n",
       "3          ( { \\cal L } _ { a } g ) _ { i j } = 0 , \\ \\ \\ \\ ( { \\cal L } _ { a } H ) _ { i j k } = 0 ,  \n",
       "4  S _ { s t a t } = 2 \\pi \\sqrt { N _ { 5 } ^ { ( 1 ) } N _ { 5 } ^ { ( 2 ) } N _ { 5 } ^ { ( 3 ) ...  "
      ]
     },
     "execution_count": 9,
     "metadata": {},
     "output_type": "execute_result"
    }
   ],
   "source": [
    "# 'bin' the entries\n",
    "bin_lens=np.array(HYPER_bins[1:]) + 1 #Add 1 for ensuring minimum one 'null' token at the end of sequence.\n",
    "# mapper for converting pandas category# into integer bin_len (because pandas Category are special types)\n",
    "m = {i:bin_lens[i] for i in range(len(bin_lens))}\n",
    "\n",
    "cats = pd.cut(df_pruned.word2id_len, HYPER_bins, labels=False)\n",
    "df_bins = df_pruned.assign(bin_len=cats.map(m))[['image', 'height', 'width', 'word2id_len', 'bin_len',\n",
    "                                                 'word2id', 'latex_ascii' ]]\n",
    "df_bins.head()"
   ]
  },
  {
   "cell_type": "code",
   "execution_count": 10,
   "metadata": {
    "scrolled": false
   },
   "outputs": [
    {
     "data": {
      "text/html": [
       "<div>\n",
       "<style>\n",
       "    .dataframe thead tr:only-child th {\n",
       "        text-align: right;\n",
       "    }\n",
       "\n",
       "    .dataframe thead th {\n",
       "        text-align: left;\n",
       "    }\n",
       "\n",
       "    .dataframe tbody tr th {\n",
       "        vertical-align: top;\n",
       "    }\n",
       "</style>\n",
       "<table border=\"1\" class=\"dataframe\">\n",
       "  <thead>\n",
       "    <tr style=\"text-align: right;\">\n",
       "      <th></th>\n",
       "      <th>image</th>\n",
       "      <th>height</th>\n",
       "      <th>width</th>\n",
       "      <th>word2id_len</th>\n",
       "      <th>word2id</th>\n",
       "      <th>latex_ascii</th>\n",
       "    </tr>\n",
       "    <tr>\n",
       "      <th>bin_len</th>\n",
       "      <th></th>\n",
       "      <th></th>\n",
       "      <th></th>\n",
       "      <th></th>\n",
       "      <th></th>\n",
       "      <th></th>\n",
       "    </tr>\n",
       "  </thead>\n",
       "  <tbody>\n",
       "    <tr>\n",
       "      <th>29</th>\n",
       "      <td>15439</td>\n",
       "      <td>15439</td>\n",
       "      <td>15439</td>\n",
       "      <td>15439</td>\n",
       "      <td>15439</td>\n",
       "      <td>15439</td>\n",
       "    </tr>\n",
       "    <tr>\n",
       "      <th>36</th>\n",
       "      <td>14340</td>\n",
       "      <td>14340</td>\n",
       "      <td>14340</td>\n",
       "      <td>14340</td>\n",
       "      <td>14340</td>\n",
       "      <td>14340</td>\n",
       "    </tr>\n",
       "    <tr>\n",
       "      <th>42</th>\n",
       "      <td>13364</td>\n",
       "      <td>13364</td>\n",
       "      <td>13364</td>\n",
       "      <td>13364</td>\n",
       "      <td>13364</td>\n",
       "      <td>13364</td>\n",
       "    </tr>\n",
       "    <tr>\n",
       "      <th>49</th>\n",
       "      <td>15115</td>\n",
       "      <td>15115</td>\n",
       "      <td>15115</td>\n",
       "      <td>15115</td>\n",
       "      <td>15115</td>\n",
       "      <td>15115</td>\n",
       "    </tr>\n",
       "    <tr>\n",
       "      <th>56</th>\n",
       "      <td>13689</td>\n",
       "      <td>13689</td>\n",
       "      <td>13689</td>\n",
       "      <td>13689</td>\n",
       "      <td>13689</td>\n",
       "      <td>13689</td>\n",
       "    </tr>\n",
       "    <tr>\n",
       "      <th>65</th>\n",
       "      <td>15318</td>\n",
       "      <td>15318</td>\n",
       "      <td>15318</td>\n",
       "      <td>15318</td>\n",
       "      <td>15318</td>\n",
       "      <td>15318</td>\n",
       "    </tr>\n",
       "    <tr>\n",
       "      <th>76</th>\n",
       "      <td>15277</td>\n",
       "      <td>15277</td>\n",
       "      <td>15277</td>\n",
       "      <td>15277</td>\n",
       "      <td>15277</td>\n",
       "      <td>15277</td>\n",
       "    </tr>\n",
       "    <tr>\n",
       "      <th>89</th>\n",
       "      <td>13963</td>\n",
       "      <td>13963</td>\n",
       "      <td>13963</td>\n",
       "      <td>13963</td>\n",
       "      <td>13963</td>\n",
       "      <td>13963</td>\n",
       "    </tr>\n",
       "    <tr>\n",
       "      <th>106</th>\n",
       "      <td>12675</td>\n",
       "      <td>12675</td>\n",
       "      <td>12675</td>\n",
       "      <td>12675</td>\n",
       "      <td>12675</td>\n",
       "      <td>12675</td>\n",
       "    </tr>\n",
       "    <tr>\n",
       "      <th>151</th>\n",
       "      <td>13786</td>\n",
       "      <td>13786</td>\n",
       "      <td>13786</td>\n",
       "      <td>13786</td>\n",
       "      <td>13786</td>\n",
       "      <td>13786</td>\n",
       "    </tr>\n",
       "  </tbody>\n",
       "</table>\n",
       "</div>"
      ],
      "text/plain": [
       "         image  height  width  word2id_len  word2id  latex_ascii\n",
       "bin_len                                                         \n",
       "29       15439   15439  15439        15439    15439        15439\n",
       "36       14340   14340  14340        14340    14340        14340\n",
       "42       13364   13364  13364        13364    13364        13364\n",
       "49       15115   15115  15115        15115    15115        15115\n",
       "56       13689   13689  13689        13689    13689        13689\n",
       "65       15318   15318  15318        15318    15318        15318\n",
       "76       15277   15277  15277        15277    15277        15277\n",
       "89       13963   13963  13963        13963    13963        13963\n",
       "106      12675   12675  12675        12675    12675        12675\n",
       "151      13786   13786  13786        13786    13786        13786"
      ]
     },
     "execution_count": 10,
     "metadata": {},
     "output_type": "execute_result"
    }
   ],
   "source": [
    "df_bins.groupby('bin_len').count()"
   ]
  },
  {
   "cell_type": "code",
   "execution_count": 11,
   "metadata": {
    "scrolled": true
   },
   "outputs": [
    {
     "name": "stdout",
     "output_type": "stream",
     "text": [
      "(114406, 7) (14280, 7) (14280, 7)\n"
     ]
    }
   ],
   "source": [
    "# randomly pick test-data - approx 10% of data size - ensuring it is an integral multiple of batch_size\n",
    "frac = 0.1\n",
    "test_count = int(df_bins.shape[0]*frac // HYPER_batch_size) * HYPER_batch_size\n",
    "df_test = df_bins.sample(n=test_count)\n",
    "df_train = df_bins.drop(df_test.index)\n",
    "df_valid = df_train.sample(n=test_count)\n",
    "df_train = df_train.drop(df_valid.index)\n",
    "print(df_train.shape, df_valid.shape, df_test.shape)"
   ]
  },
  {
   "cell_type": "markdown",
   "metadata": {},
   "source": [
    "### Persist"
   ]
  },
  {
   "cell_type": "code",
   "execution_count": 12,
   "metadata": {
    "collapsed": true
   },
   "outputs": [],
   "source": [
    "if dump:\n",
    "    if not os.path.exists(output_data_dir):\n",
    "        os.makedirs(output_data_dir)\n",
    "    df_train.to_pickle(os.path.join(output_data_dir, 'df_train.pkl'))\n",
    "    df_test.to_pickle(os.path.join(output_data_dir, 'df_test.pkl'))\n",
    "    df_valid.to_pickle(os.path.join(output_data_dir, 'df_valid.pkl'))\n"
   ]
  },
  {
   "cell_type": "markdown",
   "metadata": {},
   "source": [
    "# END"
   ]
  }
 ],
 "metadata": {
  "anaconda-cloud": {},
  "colab": {
   "default_view": {},
   "name": "1_notmnist.ipynb",
   "provenance": [],
   "version": "0.3.2",
   "views": {}
  },
  "kernelspec": {
   "display_name": "Python 2",
   "language": "python",
   "name": "python2"
  },
  "language_info": {
   "codemirror_mode": {
    "name": "ipython",
    "version": 2
   },
   "file_extension": ".py",
   "mimetype": "text/x-python",
   "name": "python",
   "nbconvert_exporter": "python",
   "pygments_lexer": "ipython2",
   "version": "2.7.14"
  }
 },
 "nbformat": 4,
 "nbformat_minor": 2
}
