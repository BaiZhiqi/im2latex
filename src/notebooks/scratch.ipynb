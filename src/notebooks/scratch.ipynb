{
 "cells": [
  {
   "cell_type": "code",
   "execution_count": 2,
   "metadata": {},
   "outputs": [
    {
     "name": "stderr",
     "output_type": "stream",
     "text": [
      "Using TensorFlow backend.\n"
     ]
    }
   ],
   "source": [
    "import numpy as np\n",
    "import dl_commons as dlc\n",
    "import pandas as pd\n",
    "import os\n",
    "import tensorflow as tf\n",
    "import matplotlib.pyplot as plt\n",
    "import viz_commons as viz"
   ]
  },
  {
   "cell_type": "code",
   "execution_count": 3,
   "metadata": {
    "collapsed": true
   },
   "outputs": [],
   "source": [
    "width = None\n",
    "pd.options.display.max_rows = 600\n",
    "pd.options.display.max_columns = width\n",
    "pd.options.display.max_colwidth = 600\n",
    "pd.options.display.width = width\n",
    "pd.options.display.max_seq_items = None\n",
    "pd.options.display.expand_frame_repr = False\n",
    "pd.options.display.colheader_justify = 'left'"
   ]
  },
  {
   "cell_type": "code",
   "execution_count": 87,
   "metadata": {},
   "outputs": [
    {
     "name": "stdout",
     "output_type": "stream",
     "text": [
      "Loaded /zpool_3TB/i2l/tb_metrics/2017-12-06 15-40-46 PST score_86.14/store/hyper.pkl\n",
      "Loaded /zpool_3TB/i2l/tb_metrics/2017-12-07 23-23-25 PST score_87.45/store/hyper.pkl\n",
      "Loaded /zpool_3TB/i2l/tb_metrics/2017-12-10 12-52-23 PST score_88.17/store/hyper.pkl\n",
      "Loaded /zpool_3TB/i2l/tb_metrics/2017-12-11 22-57-42 PST noInitModel_score_86.54/store/hyper.pkl\n",
      "Loaded /zpool_3TB/i2l/tb_metrics/2017-12-12 19-49-24 PST noInitModel_score_88.10/store/hyper.pkl\n",
      "Loaded /zpool_3TB/i2l/tb_metrics/2017-12-16 18-51-38 PST pLambda=0_score_88.86/store/hyper.pkl\n",
      "Loaded /zpool_3TB/i2l/tb_metrics/2017-12-21 02-20-10 PST 140K_score_89.0/store/hyper.pkl\n",
      "Loaded /zpool_3TB/i2l/tb_metrics/2017-12-23 22-02-35 PST 140K_noInitModel_score_88.74/store/hyper.pkl\n",
      "Loaded /zpool_3TB/i2l/tb_metrics/2017-12-25 21-04-15 PST 140K_noRegroup_score89.09/store/hyper.pkl\n",
      "Loaded /zpool_3TB/i2l/tb_metrics/2017-12-28 13-46-23 PST 140K_noRegroup_noInitModel_beta2=0.6_score85.96/store/hyper.pkl\n",
      "Loaded /zpool_3TB/i2l/tb_metrics/2017-12-31 11-32-42 PST 140K_noRegroup_noInitModel_beta2=0.90_beta1=0.25_score88.05/00169865_beta2=0.90_beta1=0.1_score88.20/store/hyper.pkl\n",
      "Loaded /zpool_3TB/i2l/tb_metrics/2017-12-06 15-40-46 PST score_86.14/store/args.pkl\n",
      "Loaded /zpool_3TB/i2l/tb_metrics/2017-12-07 23-23-25 PST score_87.45/store/args.pkl\n",
      "Loaded /zpool_3TB/i2l/tb_metrics/2017-12-10 12-52-23 PST score_88.17/store/args.pkl\n",
      "Loaded /zpool_3TB/i2l/tb_metrics/2017-12-11 22-57-42 PST noInitModel_score_86.54/store/args.pkl\n",
      "Loaded /zpool_3TB/i2l/tb_metrics/2017-12-12 19-49-24 PST noInitModel_score_88.10/store/args.pkl\n",
      "Loaded /zpool_3TB/i2l/tb_metrics/2017-12-16 18-51-38 PST pLambda=0_score_88.86/store/args.pkl\n",
      "Loaded /zpool_3TB/i2l/tb_metrics/2017-12-21 02-20-10 PST 140K_score_89.0/store/args.pkl\n",
      "Loaded /zpool_3TB/i2l/tb_metrics/2017-12-23 22-02-35 PST 140K_noInitModel_score_88.74/store/args.pkl\n",
      "Loaded /zpool_3TB/i2l/tb_metrics/2017-12-25 21-04-15 PST 140K_noRegroup_score89.09/store/args.pkl\n",
      "Loaded /zpool_3TB/i2l/tb_metrics/2017-12-28 13-46-23 PST 140K_noRegroup_noInitModel_beta2=0.6_score85.96/store/args.pkl\n",
      "Loaded /zpool_3TB/i2l/tb_metrics/2017-12-31 11-32-42 PST 140K_noRegroup_noInitModel_beta2=0.90_beta1=0.25_score88.05/00169865_beta2=0.90_beta1=0.1_score88.20/store/args.pkl\n",
      "processing file /zpool_3TB/i2l/tb_metrics/2017-12-06 15-40-46 PST score_86.14/events.out.tfevents.1512603661.DeepLearner\n",
      "processing file /zpool_3TB/i2l/tb_metrics/2017-12-07 23-23-25 PST score_87.45/events.out.tfevents.1512717819.DeepLearner\n",
      "processing file /zpool_3TB/i2l/tb_metrics/2017-12-10 12-52-23 PST score_88.17/events.out.tfevents.1512939156.DeepLearner\n",
      "processing file /zpool_3TB/i2l/tb_metrics/2017-12-10 12-52-23 PST score_88.17/events.out.tfevents.1513380554.DeepLearner\n",
      "processing file /zpool_3TB/i2l/tb_metrics/2017-12-10 12-52-23 PST score_88.17/events.out.tfevents.1513407301.DeepLearner\n",
      "processing file /zpool_3TB/i2l/tb_metrics/2017-12-11 22-57-42 PST noInitModel_score_86.54/events.out.tfevents.1513061875.DeepLearner\n",
      "processing file /zpool_3TB/i2l/tb_metrics/2017-12-11 22-57-42 PST noInitModel_score_86.54/events.out.tfevents.1513104462.DeepLearner\n",
      "processing file /zpool_3TB/i2l/tb_metrics/2017-12-11 22-57-42 PST noInitModel_score_86.54/events.out.tfevents.1513119280.DeepLearner\n",
      "processing file /zpool_3TB/i2l/tb_metrics/2017-12-12 19-49-24 PST noInitModel_score_88.10/events.out.tfevents.1513136976.DeepLearner\n",
      "processing file /zpool_3TB/i2l/tb_metrics/2017-12-12 19-49-24 PST noInitModel_score_88.10/events.out.tfevents.1513186996.DeepLearner\n",
      "processing file /zpool_3TB/i2l/tb_metrics/2017-12-12 19-49-24 PST noInitModel_score_88.10/events.out.tfevents.1513191770.DeepLearner\n",
      "processing file /zpool_3TB/i2l/tb_metrics/2017-12-12 19-49-24 PST noInitModel_score_88.10/events.out.tfevents.1513233407.DeepLearner\n",
      "processing file /zpool_3TB/i2l/tb_metrics/2017-12-12 19-49-24 PST noInitModel_score_88.10/events.out.tfevents.1513317011.DeepLearner\n",
      "processing file /zpool_3TB/i2l/tb_metrics/2017-12-16 18-51-38 PST pLambda=0_score_88.86/events.out.tfevents.1513479111.DeepLearner\n",
      "processing file /zpool_3TB/i2l/tb_metrics/2017-12-16 18-51-38 PST pLambda=0_score_88.86/events.out.tfevents.1513545360.DeepLearner\n",
      "WARNING: corrupted record at 40988997\n",
      "processing file /zpool_3TB/i2l/tb_metrics/2017-12-16 18-51-38 PST pLambda=0_score_88.86/events.out.tfevents.1513573378.DeepLearner\n",
      "processing file /zpool_3TB/i2l/tb_metrics/2017-12-21 02-20-10 PST 140K_score_89.0/events.out.tfevents.1513851626.DeepLearner\n",
      "processing file /zpool_3TB/i2l/tb_metrics/2017-12-23 22-02-35 PST 140K_noInitModel_score_88.74/events.out.tfevents.1514095371.DeepLearner\n",
      "processing file /zpool_3TB/i2l/tb_metrics/2017-12-25 21-04-15 PST 140K_noRegroup_score89.09/events.out.tfevents.1514264671.DeepLearner\n",
      "processing file /zpool_3TB/i2l/tb_metrics/2017-12-25 21-04-15 PST 140K_noRegroup_score89.09/events.out.tfevents.1514403018.DeepLearner\n",
      "processing file /zpool_3TB/i2l/tb_metrics/2017-12-28 13-46-23 PST 140K_noRegroup_noInitModel_beta2=0.6_score85.96/events.out.tfevents.1514497596.DeepLearner\n",
      "processing file /zpool_3TB/i2l/tb_metrics/2017-12-28 13-46-23 PST 140K_noRegroup_noInitModel_beta2=0.6_score85.96/events.out.tfevents.1514583224.DeepLearner\n",
      "WARNING: Duplicate values for tag validation/top_1/edit_distance at step 53637\n",
      "(0.0921667069197,\n",
      "0.0906925573945)\n",
      "\n",
      "WARNING: Duplicate values for tag validation/top_1/bleu2 at step 53637\n",
      "(0.853581607342,\n",
      "0.850625932217)\n",
      "\n",
      "WARNING: Duplicate values for tag validation/top_1/bleu at step 53637\n",
      "(0.8517370224,\n",
      "0.852092206478)\n",
      "\n",
      "processing file /zpool_3TB/i2l/tb_metrics/2017-12-31 11-32-42 PST 140K_noRegroup_noInitModel_beta2=0.90_beta1=0.25_score88.05/00169865_beta2=0.90_beta1=0.1_score88.20/events.out.tfevents.1514925761.DeepLearner\n"
     ]
    }
   ],
   "source": [
    "reload(viz)\n",
    "runs = (\n",
    "    '/zpool_3TB/i2l/tb_metrics/2017-12-06 15-40-46 PST score_86.14',\n",
    "    '/zpool_3TB/i2l/tb_metrics/2017-12-07 23-23-25 PST score_87.45',\n",
    "    '/zpool_3TB/i2l/tb_metrics/2017-12-10 12-52-23 PST score_88.17',\n",
    "    '/zpool_3TB/i2l/tb_metrics/2017-12-11 22-57-42 PST noInitModel_score_86.54',\n",
    "    '/zpool_3TB/i2l/tb_metrics/2017-12-12 19-49-24 PST noInitModel_score_88.10',\n",
    "    '/zpool_3TB/i2l/tb_metrics/2017-12-16 18-51-38 PST pLambda=0_score_88.86',\n",
    "    '/zpool_3TB/i2l/tb_metrics/2017-12-21 02-20-10 PST 140K_score_89.0',\n",
    "    '/zpool_3TB/i2l/tb_metrics/2017-12-23 22-02-35 PST 140K_noInitModel_score_88.74',\n",
    "    '/zpool_3TB/i2l/tb_metrics/2017-12-25 21-04-15 PST 140K_noRegroup_score89.09',\n",
    "    '/zpool_3TB/i2l/tb_metrics/2017-12-28 13-46-23 PST 140K_noRegroup_noInitModel_beta2=0.6_score85.96',\n",
    "    '/zpool_3TB/i2l/tb_metrics/2017-12-31 11-32-42 PST 140K_noRegroup_noInitModel_beta2=0.90_beta1=0.25_score88.05/00169865_beta2=0.90_beta1=0.1_score88.20'\n",
    ")\n",
    "runs = viz.EvalRuns(runs, ['raw_data_dir', 'pLambda', 'build_init_model', 'REGROUP_IMAGE', 'adam_alpha', 'adam_beta1', 'adam_beta2'], metric_names=['select_max%validation/.*bleu2', 'selected%edit_distance', 'min%edit_distance', 'max%validation/.*bleu$'])\n",
    "df = runs.df"
   ]
  },
  {
   "cell_type": "code",
   "execution_count": 88,
   "metadata": {},
   "outputs": [
    {
     "data": {
      "text/html": [
       "<div>\n",
       "<style>\n",
       "    .dataframe thead tr:only-child th {\n",
       "        text-align: right;\n",
       "    }\n",
       "\n",
       "    .dataframe thead th {\n",
       "        text-align: left;\n",
       "    }\n",
       "\n",
       "    .dataframe tbody tr th {\n",
       "        vertical-align: top;\n",
       "    }\n",
       "</style>\n",
       "<table border=\"1\" class=\"dataframe\">\n",
       "  <thead>\n",
       "    <tr style=\"text-align: left;\">\n",
       "      <th></th>\n",
       "      <th>raw_data_dir</th>\n",
       "      <th>pLambda</th>\n",
       "      <th>build_init_model</th>\n",
       "      <th>REGROUP_IMAGE</th>\n",
       "      <th>adam_alpha</th>\n",
       "      <th>adam_beta1</th>\n",
       "      <th>adam_beta2</th>\n",
       "      <th>select_max%validation/top_1/bleu2</th>\n",
       "      <th>selected%validation/top_1/edit_distance</th>\n",
       "      <th>min%validation/top_1/edit_distance</th>\n",
       "      <th>max%validation/top_1/bleu</th>\n",
       "    </tr>\n",
       "  </thead>\n",
       "  <tbody>\n",
       "    <tr>\n",
       "      <th>/zpool_3TB/i2l/tb_metrics/2017-12-06 15-40-46 PST score_86.14</th>\n",
       "      <td>../data/dataset3/training_56/</td>\n",
       "      <td>0.0005</td>\n",
       "      <td>undefined</td>\n",
       "      <td>[4, 1]</td>\n",
       "      <td>0.0001</td>\n",
       "      <td>undefined</td>\n",
       "      <td>undefined</td>\n",
       "      <td>0.8614 @ 87150</td>\n",
       "      <td>0.0847 @ 87150</td>\n",
       "      <td>0.0846 @ 98700</td>\n",
       "      <td>0.8643 @ 87675</td>\n",
       "    </tr>\n",
       "    <tr>\n",
       "      <th>/zpool_3TB/i2l/tb_metrics/2017-12-07 23-23-25 PST score_87.45</th>\n",
       "      <td>../data/dataset3/training_56/</td>\n",
       "      <td>0.0005</td>\n",
       "      <td>True</td>\n",
       "      <td>[4, 1]</td>\n",
       "      <td>0.0001</td>\n",
       "      <td>undefined</td>\n",
       "      <td>undefined</td>\n",
       "      <td>0.8745 @ 129850</td>\n",
       "      <td>0.0744 @ 129850</td>\n",
       "      <td>0.0744 @ 129850</td>\n",
       "      <td>0.8757 @ 129850</td>\n",
       "    </tr>\n",
       "    <tr>\n",
       "      <th>/zpool_3TB/i2l/tb_metrics/2017-12-10 12-52-23 PST score_88.17</th>\n",
       "      <td>../data/dataset3/training_56/</td>\n",
       "      <td>0.0005</td>\n",
       "      <td>True</td>\n",
       "      <td>[4, 1]</td>\n",
       "      <td>0.0001</td>\n",
       "      <td>0.5</td>\n",
       "      <td>0.9</td>\n",
       "      <td>0.8817 @ 106925</td>\n",
       "      <td>0.0765 @ 106925</td>\n",
       "      <td>0.0730 @ 112525</td>\n",
       "      <td>0.8774 @ 112525</td>\n",
       "    </tr>\n",
       "    <tr>\n",
       "      <th>/zpool_3TB/i2l/tb_metrics/2017-12-11 22-57-42 PST noInitModel_score_86.54</th>\n",
       "      <td>../data/dataset3/training_56/</td>\n",
       "      <td>0.0005</td>\n",
       "      <td>False</td>\n",
       "      <td>[4, 1]</td>\n",
       "      <td>0.0001</td>\n",
       "      <td>0.5</td>\n",
       "      <td>0.9</td>\n",
       "      <td>0.8654 @ 63525</td>\n",
       "      <td>0.0818 @ 63525</td>\n",
       "      <td>0.0803 @ 58450</td>\n",
       "      <td>0.8664 @ 58450</td>\n",
       "    </tr>\n",
       "    <tr>\n",
       "      <th>/zpool_3TB/i2l/tb_metrics/2017-12-12 19-49-24 PST noInitModel_score_88.10</th>\n",
       "      <td>../data/dataset3/training_56/</td>\n",
       "      <td>0.0005</td>\n",
       "      <td>False</td>\n",
       "      <td>[4, 1]</td>\n",
       "      <td>0.0001</td>\n",
       "      <td>0.5</td>\n",
       "      <td>0.9</td>\n",
       "      <td>0.8810 @ 179812</td>\n",
       "      <td>0.0750 @ 179812</td>\n",
       "      <td>0.0738 @ 181212</td>\n",
       "      <td>0.8745 @ 181212</td>\n",
       "    </tr>\n",
       "    <tr>\n",
       "      <th>/zpool_3TB/i2l/tb_metrics/2017-12-16 18-51-38 PST pLambda=0_score_88.86</th>\n",
       "      <td>../data/dataset3/training_56</td>\n",
       "      <td>0.0000</td>\n",
       "      <td>True</td>\n",
       "      <td>[4, 1]</td>\n",
       "      <td>0.0001</td>\n",
       "      <td>0.5</td>\n",
       "      <td>0.9</td>\n",
       "      <td>0.8886 @ 115675</td>\n",
       "      <td>0.0688 @ 115675</td>\n",
       "      <td>0.0687 @ 133875</td>\n",
       "      <td>0.8825 @ 133875</td>\n",
       "    </tr>\n",
       "    <tr>\n",
       "      <th>/zpool_3TB/i2l/tb_metrics/2017-12-21 02-20-10 PST 140K_score_89.0</th>\n",
       "      <td>../data/dataset5/training_56</td>\n",
       "      <td>0.0000</td>\n",
       "      <td>True</td>\n",
       "      <td>[4, 1]</td>\n",
       "      <td>0.0001</td>\n",
       "      <td>0.5</td>\n",
       "      <td>0.9</td>\n",
       "      <td>0.8900 @ 147087</td>\n",
       "      <td>0.0677 @ 147087</td>\n",
       "      <td>0.0669 @ 139737</td>\n",
       "      <td>0.8868 @ 177187</td>\n",
       "    </tr>\n",
       "    <tr>\n",
       "      <th>/zpool_3TB/i2l/tb_metrics/2017-12-23 22-02-35 PST 140K_noInitModel_score_88.74</th>\n",
       "      <td>../data/dataset5/training_56</td>\n",
       "      <td>0.0000</td>\n",
       "      <td>False</td>\n",
       "      <td>[4, 1]</td>\n",
       "      <td>0.0001</td>\n",
       "      <td>0.5</td>\n",
       "      <td>0.9</td>\n",
       "      <td>0.8874 @ 126921</td>\n",
       "      <td>0.0691 @ 126921</td>\n",
       "      <td>0.0689 @ 123346</td>\n",
       "      <td>0.8834 @ 126921</td>\n",
       "    </tr>\n",
       "    <tr>\n",
       "      <th>/zpool_3TB/i2l/tb_metrics/2017-12-25 21-04-15 PST 140K_noRegroup_score89.09</th>\n",
       "      <td>../data/dataset5/training_56</td>\n",
       "      <td>0.0000</td>\n",
       "      <td>True</td>\n",
       "      <td>None</td>\n",
       "      <td>0.0001</td>\n",
       "      <td>0.5</td>\n",
       "      <td>0.9</td>\n",
       "      <td>0.8909 @ 146585</td>\n",
       "      <td>0.0684 @ 146585</td>\n",
       "      <td>0.0675 @ 126921</td>\n",
       "      <td>0.8867 @ 166249</td>\n",
       "    </tr>\n",
       "    <tr>\n",
       "      <th>/zpool_3TB/i2l/tb_metrics/2017-12-28 13-46-23 PST 140K_noRegroup_noInitModel_beta2=0.6_score85.96</th>\n",
       "      <td>../data/dataset5/training_56</td>\n",
       "      <td>0.0000</td>\n",
       "      <td>False</td>\n",
       "      <td>None</td>\n",
       "      <td>0.0001</td>\n",
       "      <td>0.5</td>\n",
       "      <td>0.6</td>\n",
       "      <td>0.8596 @ 105469</td>\n",
       "      <td>0.0889 @ 105469</td>\n",
       "      <td>0.0858 @ 107257</td>\n",
       "      <td>0.8595 @ 107257</td>\n",
       "    </tr>\n",
       "    <tr>\n",
       "      <th>/zpool_3TB/i2l/tb_metrics/2017-12-31 11-32-42 PST 140K_noRegroup_noInitModel_beta2=0.90_beta1=0.25_score88.05/00169865_beta2=0.90_beta1=0.1_score88.20</th>\n",
       "      <td>../data/dataset5/training_56</td>\n",
       "      <td>0.0000</td>\n",
       "      <td>False</td>\n",
       "      <td>None</td>\n",
       "      <td>0.0001</td>\n",
       "      <td>0.1</td>\n",
       "      <td>0.9</td>\n",
       "      <td>0.8820 @ 188300</td>\n",
       "      <td>0.0738 @ 188300</td>\n",
       "      <td>0.0726 @ 152687</td>\n",
       "      <td>0.8783 @ 152687</td>\n",
       "    </tr>\n",
       "  </tbody>\n",
       "</table>\n",
       "</div>"
      ],
      "text/plain": [
       "                                                                                                                                                       raw_data_dir                    pLambda build_init_model REGROUP_IMAGE  adam_alpha adam_beta1 adam_beta2 select_max%validation/top_1/bleu2 selected%validation/top_1/edit_distance min%validation/top_1/edit_distance max%validation/top_1/bleu\n",
       "/zpool_3TB/i2l/tb_metrics/2017-12-06 15-40-46 PST score_86.14                                                                                           ../data/dataset3/training_56/  0.0005   undefined        [4, 1]        0.0001      undefined  undefined   0.8614 @ 87150                    0.0847 @ 87150                          0.0846 @ 98700                     0.8643 @ 87675         \n",
       "/zpool_3TB/i2l/tb_metrics/2017-12-07 23-23-25 PST score_87.45                                                                                           ../data/dataset3/training_56/  0.0005        True        [4, 1]        0.0001      undefined  undefined  0.8745 @ 129850                   0.0744 @ 129850                         0.0744 @ 129850                    0.8757 @ 129850         \n",
       "/zpool_3TB/i2l/tb_metrics/2017-12-10 12-52-23 PST score_88.17                                                                                           ../data/dataset3/training_56/  0.0005        True        [4, 1]        0.0001            0.5        0.9  0.8817 @ 106925                   0.0765 @ 106925                         0.0730 @ 112525                    0.8774 @ 112525         \n",
       "/zpool_3TB/i2l/tb_metrics/2017-12-11 22-57-42 PST noInitModel_score_86.54                                                                               ../data/dataset3/training_56/  0.0005       False        [4, 1]        0.0001            0.5        0.9   0.8654 @ 63525                    0.0818 @ 63525                          0.0803 @ 58450                     0.8664 @ 58450         \n",
       "/zpool_3TB/i2l/tb_metrics/2017-12-12 19-49-24 PST noInitModel_score_88.10                                                                               ../data/dataset3/training_56/  0.0005       False        [4, 1]        0.0001            0.5        0.9  0.8810 @ 179812                   0.0750 @ 179812                         0.0738 @ 181212                    0.8745 @ 181212         \n",
       "/zpool_3TB/i2l/tb_metrics/2017-12-16 18-51-38 PST pLambda=0_score_88.86                                                                                  ../data/dataset3/training_56  0.0000        True        [4, 1]        0.0001            0.5        0.9  0.8886 @ 115675                   0.0688 @ 115675                         0.0687 @ 133875                    0.8825 @ 133875         \n",
       "/zpool_3TB/i2l/tb_metrics/2017-12-21 02-20-10 PST 140K_score_89.0                                                                                        ../data/dataset5/training_56  0.0000        True        [4, 1]        0.0001            0.5        0.9  0.8900 @ 147087                   0.0677 @ 147087                         0.0669 @ 139737                    0.8868 @ 177187         \n",
       "/zpool_3TB/i2l/tb_metrics/2017-12-23 22-02-35 PST 140K_noInitModel_score_88.74                                                                           ../data/dataset5/training_56  0.0000       False        [4, 1]        0.0001            0.5        0.9  0.8874 @ 126921                   0.0691 @ 126921                         0.0689 @ 123346                    0.8834 @ 126921         \n",
       "/zpool_3TB/i2l/tb_metrics/2017-12-25 21-04-15 PST 140K_noRegroup_score89.09                                                                              ../data/dataset5/training_56  0.0000        True          None        0.0001            0.5        0.9  0.8909 @ 146585                   0.0684 @ 146585                         0.0675 @ 126921                    0.8867 @ 166249         \n",
       "/zpool_3TB/i2l/tb_metrics/2017-12-28 13-46-23 PST 140K_noRegroup_noInitModel_beta2=0.6_score85.96                                                        ../data/dataset5/training_56  0.0000       False          None        0.0001            0.5        0.6  0.8596 @ 105469                   0.0889 @ 105469                         0.0858 @ 107257                    0.8595 @ 107257         \n",
       "/zpool_3TB/i2l/tb_metrics/2017-12-31 11-32-42 PST 140K_noRegroup_noInitModel_beta2=0.90_beta1=0.25_score88.05/00169865_beta2=0.90_beta1=0.1_score88.20   ../data/dataset5/training_56  0.0000       False          None        0.0001            0.1        0.9  0.8820 @ 188300                   0.0738 @ 188300                         0.0726 @ 152687                    0.8783 @ 152687         "
      ]
     },
     "execution_count": 88,
     "metadata": {},
     "output_type": "execute_result"
    }
   ],
   "source": [
    "df"
   ]
  },
  {
   "cell_type": "code",
   "execution_count": 84,
   "metadata": {},
   "outputs": [
    {
     "data": {
      "text/plain": [
       "{'B': 28,\n",
       " 'CALSTM_STACK': [{'B': 28,\n",
       "   'CTCBlankTokenID': 357,\n",
       "   'D': 2048,\n",
       "   'D0': 512,\n",
       "   'H': 1,\n",
       "   'H0': 4,\n",
       "   'K': 358,\n",
       "   'L': 34,\n",
       "   'L0': 136,\n",
       "   'MaxSeqLen': 151,\n",
       "   'NullTokenID': 0,\n",
       "   'REGROUP_IMAGE': [4, 1],\n",
       "   'SpaceTokenID': None,\n",
       "   'StartTokenID': 1,\n",
       "   'W': 34,\n",
       "   'W0': 34,\n",
       "   'att_layers': {'layers': [{'activation_fn': <function tensorflow.python.ops.math_ops.tanh>,\n",
       "      'biases_initializer': <tensorflow.python.ops.init_ops.Zeros at 0x7eff4eda3f90>,\n",
       "      'biases_regularizer': None,\n",
       "      'dropout': None,\n",
       "      'num_units': 256,\n",
       "      'tb': {'tb_activations': 'Activations',\n",
       "       'tb_biases': 'Biases',\n",
       "       'tb_logdir': './tb_metrics/2017-12-16 18-51-38 PST pLambda=0_score_88.47',\n",
       "       'tb_weights': 'Weights'},\n",
       "      'weights_initializer': <function tensorflow.contrib.layers.python.layers.initializers._initializer>,\n",
       "      'weights_regularizer': <function tensorflow.contrib.layers.python.layers.regularizers.l2>},\n",
       "     {'activation_fn': <function tensorflow.python.ops.math_ops.tanh>,\n",
       "      'biases_initializer': <tensorflow.python.ops.init_ops.Zeros at 0x7eff4eda3f90>,\n",
       "      'biases_regularizer': None,\n",
       "      'dropout': None,\n",
       "      'num_units': 128,\n",
       "      'tb': {'tb_activations': 'Activations',\n",
       "       'tb_biases': 'Biases',\n",
       "       'tb_logdir': './tb_metrics/2017-12-16 18-51-38 PST pLambda=0_score_88.47',\n",
       "       'tb_weights': 'Weights'},\n",
       "      'weights_initializer': <function tensorflow.contrib.layers.python.layers.initializers._initializer>,\n",
       "      'weights_regularizer': <function tensorflow.contrib.layers.python.layers.regularizers.l2>},\n",
       "     {'activation_fn': None,\n",
       "      'biases_initializer': <tensorflow.python.ops.init_ops.Zeros at 0x7eff4eda3f90>,\n",
       "      'biases_regularizer': None,\n",
       "      'dropout': None,\n",
       "      'num_units': 34,\n",
       "      'tb': {'tb_activations': 'Activations',\n",
       "       'tb_biases': 'Biases',\n",
       "       'tb_logdir': './tb_metrics/2017-12-16 18-51-38 PST pLambda=0_score_88.47',\n",
       "       'tb_weights': 'Weights'},\n",
       "      'weights_initializer': <function tensorflow.contrib.layers.python.layers.initializers._initializer>,\n",
       "      'weights_regularizer': <function tensorflow.contrib.layers.python.layers.regularizers.l2>}],\n",
       "    'op_name': 'MLP_full',\n",
       "    'tb': {'tb_activations': 'Activations',\n",
       "     'tb_biases': 'Biases',\n",
       "     'tb_logdir': './tb_metrics/2017-12-16 18-51-38 PST pLambda=0_score_88.47',\n",
       "     'tb_weights': 'Weights'}},\n",
       "   'att_model': 'MLP_full',\n",
       "   'biases_initializer': <tensorflow.python.ops.init_ops.Zeros at 0x7eff4eda3f90>,\n",
       "   'biases_regularizer': None,\n",
       "   'build_att_modulator': False,\n",
       "   'build_image_context': 2,\n",
       "   'build_scanning_RNN': False,\n",
       "   'dataset': 3,\n",
       "   'decoder_lstm': {'B': 28,\n",
       "    'dropout': None,\n",
       "    'dtype': tf.float32,\n",
       "    'forget_bias': 1.0,\n",
       "    'i': 2112,\n",
       "    'layers_units': [1500, 1500],\n",
       "    'op_name': 'LSTMWrapper',\n",
       "    'tb': {'tb_activations': 'Activations',\n",
       "     'tb_biases': 'Biases',\n",
       "     'tb_logdir': './tb_metrics/2017-12-16 18-51-38 PST pLambda=0_score_88.47',\n",
       "     'tb_weights': 'Weights'},\n",
       "    'type': 'lstm',\n",
       "    'use_peephole': True,\n",
       "    'weights_initializer': <function tensorflow.contrib.layers.python.layers.initializers._initializer>,\n",
       "    'weights_regularizer': <function tensorflow.contrib.layers.python.layers.regularizers.l2>},\n",
       "   'dropout': None,\n",
       "   'dtype': tf.float32,\n",
       "   'dtype_np': numpy.float32,\n",
       "   'feed_clock_to_att': None,\n",
       "   'image_shape_unframed': [128, 1088, 1],\n",
       "   'int_type': tf.int32,\n",
       "   'int_type_np': numpy.int32,\n",
       "   'logger': <logging.Logger at 0x7eff4eda3b50>,\n",
       "   'm': 64,\n",
       "   'n': 1500,\n",
       "   'no_clock_to_lstm': None,\n",
       "   'rLambda': 5e-05,\n",
       "   'raw_data_dir': '../data/dataset3/training_56',\n",
       "   'tb': {'tb_activations': 'Activations',\n",
       "    'tb_biases': 'Biases',\n",
       "    'tb_logdir': './tb_metrics/2017-12-16 18-51-38 PST pLambda=0_score_88.47',\n",
       "    'tb_weights': 'Weights'},\n",
       "   'use_ctc_loss': False,\n",
       "   'use_peephole': True,\n",
       "   'weights_initializer': <function tensorflow.contrib.layers.python.layers.initializers._initializer>,\n",
       "   'weights_regularizer': <function tensorflow.contrib.layers.python.layers.regularizers.l2>}],\n",
       " 'CONVNET': {'layers': [{'activation_fn': <function tensorflow.python.ops.math_ops.tanh>,\n",
       "    'biases_initializer': <tensorflow.python.ops.init_ops.Zeros at 0x7eff4eda3f90>,\n",
       "    'biases_regularizer': None,\n",
       "    'kernel_shape': [3, 3],\n",
       "    'output_channels': 64,\n",
       "    'padding': 'VALID',\n",
       "    'stride': [1, 1],\n",
       "    'weights_initializer': <function tensorflow.contrib.layers.python.layers.initializers._initializer>,\n",
       "    'weights_regularizer': <function tensorflow.contrib.layers.python.layers.regularizers.l2>},\n",
       "   {'kernel_shape': [2, 2], 'padding': 'SAME', 'stride': [2, 2]},\n",
       "   {'activation_fn': <function tensorflow.python.ops.math_ops.tanh>,\n",
       "    'biases_initializer': <tensorflow.python.ops.init_ops.Zeros at 0x7eff4eda3f90>,\n",
       "    'biases_regularizer': None,\n",
       "    'kernel_shape': [3, 3],\n",
       "    'output_channels': 128,\n",
       "    'padding': 'SAME',\n",
       "    'stride': [1, 1],\n",
       "    'weights_initializer': <function tensorflow.contrib.layers.python.layers.initializers._initializer>,\n",
       "    'weights_regularizer': <function tensorflow.contrib.layers.python.layers.regularizers.l2>},\n",
       "   {'kernel_shape': [2, 2], 'padding': 'SAME', 'stride': [2, 2]},\n",
       "   {'activation_fn': <function tensorflow.python.ops.math_ops.tanh>,\n",
       "    'biases_initializer': <tensorflow.python.ops.init_ops.Zeros at 0x7eff4eda3f90>,\n",
       "    'biases_regularizer': None,\n",
       "    'kernel_shape': [3, 3],\n",
       "    'output_channels': 256,\n",
       "    'padding': 'SAME',\n",
       "    'stride': [1, 1],\n",
       "    'weights_initializer': <function tensorflow.contrib.layers.python.layers.initializers._initializer>,\n",
       "    'weights_regularizer': <function tensorflow.contrib.layers.python.layers.regularizers.l2>},\n",
       "   {'kernel_shape': [2, 2], 'padding': 'SAME', 'stride': [2, 2]},\n",
       "   {'activation_fn': <function tensorflow.python.ops.math_ops.tanh>,\n",
       "    'biases_initializer': <tensorflow.python.ops.init_ops.Zeros at 0x7eff4eda3f90>,\n",
       "    'biases_regularizer': None,\n",
       "    'kernel_shape': [3, 3],\n",
       "    'output_channels': 512,\n",
       "    'padding': 'SAME',\n",
       "    'stride': [1, 1],\n",
       "    'weights_initializer': <function tensorflow.contrib.layers.python.layers.initializers._initializer>,\n",
       "    'weights_regularizer': <function tensorflow.contrib.layers.python.layers.regularizers.l2>},\n",
       "   {'kernel_shape': [2, 2], 'padding': 'SAME', 'stride': [2, 2]},\n",
       "   {'activation_fn': <function tensorflow.python.ops.math_ops.tanh>,\n",
       "    'biases_initializer': <tensorflow.python.ops.init_ops.Zeros at 0x7eff4eda3f90>,\n",
       "    'biases_regularizer': None,\n",
       "    'kernel_shape': [3, 3],\n",
       "    'output_channels': 512,\n",
       "    'padding': 'SAME',\n",
       "    'stride': [1, 1],\n",
       "    'weights_initializer': <function tensorflow.contrib.layers.python.layers.initializers._initializer>,\n",
       "    'weights_regularizer': <function tensorflow.contrib.layers.python.layers.regularizers.l2>},\n",
       "   {'kernel_shape': [2, 2], 'padding': 'SAME', 'stride': [2, 2]}],\n",
       "  'op_name': 'Convnet',\n",
       "  'tb': {'tb_activations': 'Activations',\n",
       "   'tb_biases': 'Biases',\n",
       "   'tb_logdir': './tb_metrics/2017-12-16 18-51-38 PST pLambda=0_score_88.47',\n",
       "   'tb_weights': 'Weights'}},\n",
       " 'CTCBlankTokenID': 357,\n",
       " 'D': 2048,\n",
       " 'D0': 512,\n",
       " 'DecodingSlack': 20,\n",
       " 'H': 1,\n",
       " 'H0': 4,\n",
       " 'K': 358,\n",
       " 'L': 34,\n",
       " 'L0': 136,\n",
       " 'MaxDecodeLen': 171,\n",
       " 'MaxS': None,\n",
       " 'MaxSeqLen': 151,\n",
       " 'MeanSumAlphaEquals1': False,\n",
       " 'NullTokenID': 0,\n",
       " 'REGROUP_IMAGE': [4, 1],\n",
       " 'SFactor': None,\n",
       " 'SpaceTokenID': None,\n",
       " 'StartTokenID': 1,\n",
       " 'W': 34,\n",
       " 'W0': 34,\n",
       " 'adam_alpha': 0.0001,\n",
       " 'adam_beta1': 0.5,\n",
       " 'adam_beta2': 0.9,\n",
       " 'assert_whole_batch': False,\n",
       " 'beamsearch_length_penalty': 1.0,\n",
       " 'biases_initializer': <tensorflow.python.ops.init_ops.Zeros at 0x7eff4eda3f90>,\n",
       " 'biases_regularizer': None,\n",
       " 'build_image_context': 2,\n",
       " 'build_init_model': True,\n",
       " 'build_scanning_RNN': False,\n",
       " 'ctc_beam_width': 10,\n",
       " 'data_reader_B': 56,\n",
       " 'dataset': 3,\n",
       " 'dropout': None,\n",
       " 'dtype': tf.float32,\n",
       " 'dtype_np': numpy.float32,\n",
       " 'embeddings_initializer': <function tensorflow.contrib.layers.python.layers.initializers._initializer>,\n",
       " 'embeddings_regularizer': <function tensorflow.contrib.layers.python.layers.regularizers.l2>,\n",
       " 'image_frame_width': 1,\n",
       " 'image_shape': [130, 1090, 1],\n",
       " 'image_shape_unframed': [128, 1088, 1],\n",
       " 'init_model_final_layers': {'activation_fn': <function tensorflow.python.ops.math_ops.tanh>,\n",
       "  'biases_initializer': <tensorflow.python.ops.init_ops.Zeros at 0x7eff4eda3f90>,\n",
       "  'biases_regularizer': None,\n",
       "  'dropout': None,\n",
       "  'tb': {'tb_activations': 'Activations',\n",
       "   'tb_biases': 'Biases',\n",
       "   'tb_logdir': './tb_metrics/2017-12-16 18-51-38 PST pLambda=0_score_88.47',\n",
       "   'tb_weights': 'Weights'},\n",
       "  'weights_initializer': <function tensorflow.contrib.layers.python.layers.initializers._initializer>,\n",
       "  'weights_regularizer': <function tensorflow.contrib.layers.python.layers.regularizers.l2>},\n",
       " 'init_model_hidden': {'layers': [{'activation_fn': <function tensorflow.python.ops.math_ops.tanh>,\n",
       "    'biases_initializer': <tensorflow.python.ops.init_ops.Zeros at 0x7eff4eda3f90>,\n",
       "    'biases_regularizer': None,\n",
       "    'dropout': None,\n",
       "    'num_units': 100,\n",
       "    'tb': {'tb_activations': 'Activations',\n",
       "     'tb_biases': 'Biases',\n",
       "     'tb_logdir': './tb_metrics/2017-12-16 18-51-38 PST pLambda=0_score_88.47',\n",
       "     'tb_weights': 'Weights'},\n",
       "    'weights_initializer': <function tensorflow.contrib.layers.python.layers.initializers._initializer>,\n",
       "    'weights_regularizer': <function tensorflow.contrib.layers.python.layers.regularizers.l2>}],\n",
       "  'tb': {'tb_activations': 'Activations',\n",
       "   'tb_biases': 'Biases',\n",
       "   'tb_logdir': './tb_metrics/2017-12-16 18-51-38 PST pLambda=0_score_88.47',\n",
       "   'tb_weights': 'Weights'}},\n",
       " 'init_model_input_transform': 'full',\n",
       " 'input_queue_capacity': 6,\n",
       " 'int_type': tf.int32,\n",
       " 'int_type_np': numpy.int32,\n",
       " 'k': 5,\n",
       " 'logger': <logging.Logger at 0x7eff4eda3b50>,\n",
       " 'm': 64,\n",
       " 'n': 1500,\n",
       " 'no_ctc_merge_repeated': True,\n",
       " 'no_towers': False,\n",
       " 'num_gpus': 2,\n",
       " 'num_towers': 2,\n",
       " 'optimizer': 'adam',\n",
       " 'outputMLP_skip_connections': True,\n",
       " 'output_layers': {'layers': [{'activation_fn': <function tensorflow.python.ops.math_ops.tanh>,\n",
       "    'biases_initializer': <tensorflow.python.ops.init_ops.Zeros at 0x7eff4eda3f90>,\n",
       "    'biases_regularizer': None,\n",
       "    'dropout': None,\n",
       "    'num_units': 358,\n",
       "    'tb': {'tb_activations': 'Activations',\n",
       "     'tb_biases': 'Biases',\n",
       "     'tb_logdir': './tb_metrics/2017-12-16 18-51-38 PST pLambda=0_score_88.47',\n",
       "     'tb_weights': 'Weights'},\n",
       "    'weights_initializer': <function tensorflow.contrib.layers.python.layers.initializers._initializer>,\n",
       "    'weights_regularizer': <function tensorflow.contrib.layers.python.layers.regularizers.l2>},\n",
       "   {'activation_fn': <function tensorflow.python.ops.math_ops.tanh>,\n",
       "    'biases_initializer': <tensorflow.python.ops.init_ops.Zeros at 0x7eff4eda3f90>,\n",
       "    'biases_regularizer': None,\n",
       "    'dropout': None,\n",
       "    'num_units': 358,\n",
       "    'tb': {'tb_activations': 'Activations',\n",
       "     'tb_biases': 'Biases',\n",
       "     'tb_logdir': './tb_metrics/2017-12-16 18-51-38 PST pLambda=0_score_88.47',\n",
       "     'tb_weights': 'Weights'},\n",
       "    'weights_initializer': <function tensorflow.contrib.layers.python.layers.initializers._initializer>,\n",
       "    'weights_regularizer': <function tensorflow.contrib.layers.python.layers.regularizers.l2>},\n",
       "   {'activation_fn': None,\n",
       "    'biases_initializer': <tensorflow.python.ops.init_ops.Zeros at 0x7eff4eda3f90>,\n",
       "    'biases_regularizer': None,\n",
       "    'dropout': None,\n",
       "    'num_units': 358,\n",
       "    'tb': {'tb_activations': 'Activations',\n",
       "     'tb_biases': 'Biases',\n",
       "     'tb_logdir': './tb_metrics/2017-12-16 18-51-38 PST pLambda=0_score_88.47',\n",
       "     'tb_weights': 'Weights'},\n",
       "    'weights_initializer': <function tensorflow.contrib.layers.python.layers.initializers._initializer>,\n",
       "    'weights_regularizer': <function tensorflow.contrib.layers.python.layers.regularizers.l2>}],\n",
       "  'op_name': 'yLogits_MLP',\n",
       "  'tb': {'tb_activations': 'Activations',\n",
       "   'tb_biases': 'Biases',\n",
       "   'tb_logdir': './tb_metrics/2017-12-16 18-51-38 PST pLambda=0_score_88.47',\n",
       "   'tb_weights': 'Weights'}},\n",
       " 'output_reuse_embeddings': False,\n",
       " 'pLambda': 0.0,\n",
       " 'rLambda': 5e-05,\n",
       " 'raw_data_dir': '../data/dataset3/training_56',\n",
       " 'seq2seq_beam_width': 10,\n",
       " 'squash_input_seq': True,\n",
       " 'sum_logloss': False,\n",
       " 'swap_memory': False,\n",
       " 'target_ase': None,\n",
       " 'tb': {'tb_activations': 'Activations',\n",
       "  'tb_biases': 'Biases',\n",
       "  'tb_logdir': './tb_metrics/2017-12-16 18-51-38 PST pLambda=0_score_88.47',\n",
       "  'tb_weights': 'Weights'},\n",
       " 'tf_session_allow_growth': False,\n",
       " 'towers_per_gpu': 1,\n",
       " 'use_ctc_loss': False,\n",
       " 'use_peephole': True,\n",
       " 'weights_initializer': <function tensorflow.contrib.layers.python.layers.initializers._initializer>,\n",
       " 'weights_regularizer': <function tensorflow.contrib.layers.python.layers.regularizers.l2>}"
      ]
     },
     "execution_count": 84,
     "metadata": {},
     "output_type": "execute_result"
    }
   ],
   "source": [
    "runs.hypers['/zpool_3TB/i2l/tb_metrics/2017-12-16 18-51-38 PST pLambda=0_score_88.86']"
   ]
  },
  {
   "cell_type": "code",
   "execution_count": 21,
   "metadata": {},
   "outputs": [
    {
     "name": "stdout",
     "output_type": "stream",
     "text": [
      "processing file /zpool_3TB/i2l/tb_metrics/2017-12-31 11-32-42 PST 140K_noRegroup_noInitModel_beta2=0.90_beta1=0.25_score88.05/00169865_beta2=0.90_beta1=0.1_score88.20/events.out.tfevents.1514925761.DeepLearner\n",
      "WARNING: Duplicate values for tag training/bleu at step 191275\n",
      "(0.937850177288,\n",
      "0.94123929739)\n",
      "\n",
      "WARNING: Duplicate values for tag training/ctc_ed at step 191275\n",
      "(0.0361549183726,\n",
      "0.0360923372209)\n",
      "\n",
      "WARNING: Duplicate values for tag training/bleu2 at step 191275\n",
      "(0.93271869421,\n",
      "0.943310081959)\n",
      "\n",
      "WARNING: Duplicate values for tag training/logloss_mean at step 191275\n",
      "(0.0167569741607,\n",
      "0.0122567526996)\n",
      "\n"
     ]
    }
   ],
   "source": [
    "reader = viz.TBSummaryReader('/zpool_3TB/i2l/tb_metrics/2017-12-31 11-32-42 PST 140K_noRegroup_noInitModel_beta2=0.90_beta1=0.25_score88.05/00169865_beta2=0.90_beta1=0.1_score88.20', 56)\n",
    "df = reader.read('(validation|training)/.*(bleu|edit_distance|ctc_ed|logloss_mean)')\n"
   ]
  },
  {
   "cell_type": "code",
   "execution_count": 23,
   "metadata": {},
   "outputs": [
    {
     "data": {
      "text/plain": [
       "242500"
      ]
     },
     "execution_count": 23,
     "metadata": {},
     "output_type": "execute_result"
    }
   ],
   "source": [
    "df['_step'].max()"
   ]
  },
  {
   "cell_type": "code",
   "execution_count": 6,
   "metadata": {},
   "outputs": [
    {
     "data": {
      "text/plain": [
       "array([  0,   1,   2,   3,   4,   5,   6,   7,   8,   9,  10,  11,  12,\n",
       "        13,  14,  15,  16,  17,  18,  19,  20,  21,  22,  23,  24,  25,\n",
       "        26,  27,  28,  29,  30,  31,  32,  33,  34,  35,  36,  37,  38,\n",
       "        39,  40,  41,  42,  43,  44,  45,  46,  47,  48,  49,  50,  51,\n",
       "        52,  53,  54,  55,  56,  57,  58,  59,  60,  61,  62,  63,  64,\n",
       "        65,  66,  67,  68,  69,  70,  71,  72,  73,  74,  75,  76,  77,\n",
       "        78,  79,  80,  81,  82,  83,  84,  85,  86,  87,  88,  89,  90,\n",
       "        91,  92,  93,  94,  95,  96,  97,  98,  99, 100])"
      ]
     },
     "execution_count": 6,
     "metadata": {},
     "output_type": "execute_result"
    }
   ],
   "source": [
    "np.arange(101)"
   ]
  },
  {
   "cell_type": "code",
   "execution_count": 7,
   "metadata": {},
   "outputs": [
    {
     "data": {
      "image/png": "[encoded data removed]",
      "text/plain": [
       "<matplotlib.figure.Figure at 0x7f5681004190>"
      ]
     },
     "metadata": {},
     "output_type": "display_data"
    }
   ],
   "source": [
    "x = np.arange(101)/100.0\n",
    "y = 1-np.exp(-3*x)\n",
    "plt.plot(x, y)\n",
    "#plt.plot(x, 1-y)\n",
    "plt.show()"
   ]
  },
  {
   "cell_type": "code",
   "execution_count": 8,
   "metadata": {},
   "outputs": [
    {
     "data": {
      "image/png": "[encoded data removed]",
      "text/plain": [
       "<matplotlib.figure.Figure at 0x7f56812c41d0>"
      ]
     },
     "metadata": {},
     "output_type": "display_data"
    },
    {
     "name": "stdout",
     "output_type": "stream",
     "text": [
      "(0.0, 1.0)\n"
     ]
    }
   ],
   "source": [
    "n = 3\n",
    "e = np.exp(n)\n",
    "x = np.arange(101)/100.0\n",
    "y = (np.exp(n*x)-1)/(e-1)\n",
    "plt.plot(x, y)\n",
    "#plt.plot(x, 1-y)\n",
    "plt.show()\n",
    "print(y[0],y[-1])"
   ]
  },
  {
   "cell_type": "code",
   "execution_count": 9,
   "metadata": {},
   "outputs": [
    {
     "data": {
      "image/png": "[encoded data removed]",
      "text/plain": [
       "<matplotlib.figure.Figure at 0x7f5679353290>"
      ]
     },
     "metadata": {},
     "output_type": "display_data"
    },
    {
     "name": "stdout",
     "output_type": "stream",
     "text": [
      "(1.0, 0.29999999999999999)\n"
     ]
    }
   ],
   "source": [
    "N = 3\n",
    "MIN = 0.3\n",
    "x = np.arange(101)/100.0  # [0-1]\n",
    "D = np.exp(N)-1\n",
    "e = np.exp(N*(x-1))\n",
    "y = (1-e)/(e*D)\n",
    "y = y*(1-MIN)+MIN  # \n",
    "plt.plot(x, y)\n",
    "plt.plot(x, 1-y)\n",
    "plt.show()\n",
    "print(y[0],y[-1])"
   ]
  },
  {
   "cell_type": "code",
   "execution_count": 10,
   "metadata": {},
   "outputs": [
    {
     "data": {
      "image/png": "[encoded data removed]",
      "text/plain": [
       "<matplotlib.figure.Figure at 0x7f5681004050>"
      ]
     },
     "metadata": {},
     "output_type": "display_data"
    },
    {
     "name": "stdout",
     "output_type": "stream",
     "text": [
      "(1.0, 0.0)\n"
     ]
    }
   ],
   "source": [
    "x = np.arange(101)/100.0\n",
    "y = np.power(1-x, 2.2)\n",
    "plt.plot(x, y)\n",
    "plt.show()\n",
    "print(y[0], y[-1])"
   ]
  },
  {
   "cell_type": "code",
   "execution_count": 11,
   "metadata": {},
   "outputs": [
    {
     "data": {
      "image/png": "[encoded data removed]",
      "text/plain": [
       "<matplotlib.figure.Figure at 0x7f56f864e190>"
      ]
     },
     "metadata": {},
     "output_type": "display_data"
    },
    {
     "name": "stdout",
     "output_type": "stream",
     "text": [
      "(0.0, 1.0)\n"
     ]
    }
   ],
   "source": [
    "x = np.arange(101)/100.0\n",
    "y = np.power(x,6)\n",
    "plt.plot(x, y)\n",
    "plt.show()\n",
    "print(y[0], y[-1])"
   ]
  },
  {
   "cell_type": "code",
   "execution_count": 9,
   "metadata": {},
   "outputs": [],
   "source": [
    "import itertools\n",
    "\n",
    "ar = np.arange(100).reshape((10,10))"
   ]
  },
  {
   "cell_type": "code",
   "execution_count": 27,
   "metadata": {},
   "outputs": [
    {
     "data": {
      "text/plain": [
       "[False, False, False, False, False, False, False, False, False, True]"
      ]
     },
     "execution_count": 27,
     "metadata": {},
     "output_type": "execute_result"
    }
   ],
   "source": [
    "rows = [(row==0).any() for row in ar][::-1]\n",
    "rows"
   ]
  },
  {
   "cell_type": "code",
   "execution_count": 28,
   "metadata": {},
   "outputs": [
    {
     "data": {
      "text/plain": [
       "[]"
      ]
     },
     "execution_count": 28,
     "metadata": {},
     "output_type": "execute_result"
    }
   ],
   "source": [
    "[x for x in itertools.takewhile(lambda x: x, rows)]"
   ]
  },
  {
   "cell_type": "code",
   "execution_count": 24,
   "metadata": {},
   "outputs": [
    {
     "data": {
      "text/plain": [
       "[True, False, False, False, False, False, False, False, False, False]"
      ]
     },
     "execution_count": 24,
     "metadata": {},
     "output_type": "execute_result"
    }
   ],
   "source": [
    "rows"
   ]
  },
  {
   "cell_type": "code",
   "execution_count": null,
   "metadata": {
    "collapsed": true
   },
   "outputs": [],
   "source": []
  }
 ],
 "metadata": {
  "kernelspec": {
   "display_name": "Python 2",
   "language": "python",
   "name": "python2"
  },
  "language_info": {
   "codemirror_mode": {
    "name": "ipython",
    "version": 2
   },
   "file_extension": ".py",
   "mimetype": "text/x-python",
   "name": "python",
   "nbconvert_exporter": "python",
   "pygments_lexer": "ipython2",
   "version": "2.7.14"
  }
 },
 "nbformat": 4,
 "nbformat_minor": 2
}
