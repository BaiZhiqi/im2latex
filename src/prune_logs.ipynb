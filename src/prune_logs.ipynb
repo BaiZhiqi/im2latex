{
 "cells": [
  {
   "cell_type": "code",
   "execution_count": 10,
   "metadata": {},
   "outputs": [
    {
     "data": {
      "text/html": [
       "<style>.container { width:90% !important; }</style>"
      ],
      "text/plain": [
       "<IPython.core.display.HTML object>"
      ]
     },
     "metadata": {},
     "output_type": "display_data"
    }
   ],
   "source": [
    "from IPython.core.display import display, HTML\n",
    "display(HTML(\"<style>.container { width:90% !important; }</style>\"))"
   ]
  },
  {
   "cell_type": "code",
   "execution_count": 11,
   "metadata": {
    "collapsed": true
   },
   "outputs": [],
   "source": [
    "import pandas as pd\n",
    "import os\n",
    "import re\n",
    "import codecs\n",
    "from IPython.display import display\n",
    "from six.moves import cPickle as pickle\n",
    "import string\n",
    "from PIL import Image\n",
    "import numpy as np\n",
    "import h5py"
   ]
  },
  {
   "cell_type": "code",
   "execution_count": 12,
   "metadata": {
    "collapsed": true
   },
   "outputs": [],
   "source": [
    "width = None\n",
    "pd.options.display.max_rows = 600\n",
    "pd.options.display.max_columns = width\n",
    "pd.options.display.max_colwidth = 600\n",
    "pd.options.display.width = width\n",
    "pd.options.display.max_seq_items = None\n",
    "pd.options.display.expand_frame_repr = False\n",
    "pd.options.display.colheader_justify = 'left'"
   ]
  },
  {
   "cell_type": "code",
   "execution_count": 13,
   "metadata": {},
   "outputs": [],
   "source": [
    "import data_commons as dtc\n",
    "import dl_commons as dlc\n",
    "import viz_commons as vc\n",
    "from viz_commons import VisualizeDir, DiffParams, VisualizeStep"
   ]
  },
  {
   "cell_type": "code",
   "execution_count": 14,
   "metadata": {},
   "outputs": [
    {
     "name": "stdout",
     "output_type": "stream",
     "text": [
      "Loaded ./tb_metrics/2017-12-16 18-51-38 PST pLambda=0_score_88+/store_2/hyper.pkl and ./tb_metrics/2017-12-16 18-51-38 PST pLambda=0_score_88+/store_2/args.pkl\n",
      "Loaded ../data/dataset3/training_56/df_train.pkl (89096, 3)\n"
     ]
    }
   ],
   "source": [
    "vd = VisualizeDir('./tb_metrics/2017-12-16 18-51-38 PST pLambda=0_score_88+/store_2')"
   ]
  },
  {
   "cell_type": "code",
   "execution_count": 15,
   "metadata": {},
   "outputs": [],
   "source": [
    "# vd.unstandardize_step(69480)"
   ]
  },
  {
   "cell_type": "code",
   "execution_count": 16,
   "metadata": {
    "scrolled": true
   },
   "outputs": [
    {
     "name": "stdout",
     "output_type": "stream",
     "text": [
      "Num Snapshots: 0\n",
      "Snapshots = []\n"
     ]
    }
   ],
   "source": [
    "vd.view_snapshots()"
   ]
  },
  {
   "cell_type": "code",
   "execution_count": 17,
   "metadata": {
    "scrolled": true
   },
   "outputs": [
    {
     "name": "stdout",
     "output_type": "stream",
     "text": [
      "num epoch_steps = 20\n",
      "epoch_steps = [(65100, 56962.5), (65200, 57050.0), (66800, 58450.0), (67900, 59412.5), (69500, 60812.5), (71100, 62212.5), (71500, 62562.5), (73100, 63962.5), (74700, 65362.5), (75700, 66237.5), (77300, 67637.5), (77500, 67812.5), (79100, 69212.5), (80400, 70350.0), (82000, 71750.0), (82878, 72518.25), (82900, 72537.5), (84500, 73937.5), (86100, 75337.5), (87700, 76737.5)]\n",
      "all_steps = [(65100, 56962.5), (65100, 56962.5), (65200, 57050.0), (65200, 57050.0), (65300, 57137.5), (65400, 57225.0), (65500, 57312.5), (65600, 57400.0), (65700, 57487.5), (65800, 57575.0), (65900, 57662.5), (66000, 57750.0), (66100, 57837.5), (66200, 57925.0), (66300, 58012.5), (66400, 58100.0), (66500, 58187.5), (66600, 58275.0), (66700, 58362.5), (66800, 58450.0), (66800, 58450.0), (66900, 58537.5), (67000, 58625.0), (67100, 58712.5), (67200, 58800.0), (67300, 58887.5), (67400, 58975.0), (67500, 59062.5), (67600, 59150.0), (67700, 59237.5), (67800, 59325.0), (67900, 59412.5), (67900, 59412.5), (68000, 59500.0), (68100, 59587.5), (68200, 59675.0), (68300, 59762.5), (68400, 59850.0), (68500, 59937.5), (68600, 60025.0), (68700, 60112.5), (68800, 60200.0), (68900, 60287.5), (69000, 60375.0), (69100, 60462.5), (69200, 60550.0), (69300, 60637.5), (69400, 60725.0), (69500, 60812.5), (69500, 60812.5), (69600, 60900.0), (69700, 60987.5), (69800, 61075.0), (69900, 61162.5), (70000, 61250.0), (70100, 61337.5), (70200, 61425.0), (70300, 61512.5), (70400, 61600.0), (70500, 61687.5), (70600, 61775.0), (70700, 61862.5), (70800, 61950.0), (70900, 62037.5), (71000, 62125.0), (71100, 62212.5), (71100, 62212.5), (71200, 62300.0), (71300, 62387.5), (71400, 62475.0), (71500, 62562.5), (71500, 62562.5), (71600, 62650.0), (71700, 62737.5), (71800, 62825.0), (71900, 62912.5), (72000, 63000.0), (72100, 63087.5), (72200, 63175.0), (72300, 63262.5), (72400, 63350.0), (72500, 63437.5), (72600, 63525.0), (72700, 63612.5), (72800, 63700.0), (72900, 63787.5), (73000, 63875.0), (73100, 63962.5), (73100, 63962.5), (73200, 64050.0), (73300, 64137.5), (73400, 64225.0), (73500, 64312.5), (73600, 64400.0), (73700, 64487.5), (73800, 64575.0), (73900, 64662.5), (74000, 64750.0), (74100, 64837.5), (74200, 64925.0), (74300, 65012.5), (74400, 65100.0), (74500, 65187.5), (74600, 65275.0), (74700, 65362.5), (74700, 65362.5), (74800, 65450.0), (74900, 65537.5), (75000, 65625.0), (75100, 65712.5), (75200, 65800.0), (75300, 65887.5), (75400, 65975.0), (75500, 66062.5), (75600, 66150.0), (75700, 66237.5), (75700, 66237.5), (75800, 66325.0), (75900, 66412.5), (76000, 66500.0), (76100, 66587.5), (76200, 66675.0), (76300, 66762.5), (76400, 66850.0), (76500, 66937.5), (76600, 67025.0), (76700, 67112.5), (76800, 67200.0), (76900, 67287.5), (77000, 67375.0), (77100, 67462.5), (77200, 67550.0), (77300, 67637.5), (77300, 67637.5), (77400, 67725.0), (77500, 67812.5), (77500, 67812.5), (77600, 67900.0), (77700, 67987.5), (77800, 68075.0), (77900, 68162.5), (78000, 68250.0), (78100, 68337.5), (78200, 68425.0), (78300, 68512.5), (78400, 68600.0), (78500, 68687.5), (78600, 68775.0), (78700, 68862.5), (78800, 68950.0), (78900, 69037.5), (79000, 69125.0), (79100, 69212.5), (79100, 69212.5), (79200, 69300.0), (79300, 69387.5), (79400, 69475.0), (79500, 69562.5), (79600, 69650.0), (79700, 69737.5), (79800, 69825.0), (79900, 69912.5), (80000, 70000.0), (80100, 70087.5), (80200, 70175.0), (80300, 70262.5), (80400, 70350.0), (80400, 70350.0), (80500, 70437.5), (80600, 70525.0), (80700, 70612.5), (80800, 70700.0), (80900, 70787.5), (81000, 70875.0), (81100, 70962.5), (81200, 71050.0), (81300, 71137.5), (81400, 71225.0), (81500, 71312.5), (81600, 71400.0), (81700, 71487.5), (81800, 71575.0), (81900, 71662.5), (82000, 71750.0), (82000, 71750.0), (82100, 71837.5), (82200, 71925.0), (82300, 72012.5), (82400, 72100.0), (82500, 72187.5), (82600, 72275.0), (82700, 72362.5), (82800, 72450.0), (82878, 72518.25), (82878, 72518.25), (82900, 72537.5), (82900, 72537.5), (83000, 72625.0), (83100, 72712.5), (83200, 72800.0), (83300, 72887.5), (83400, 72975.0), (83500, 73062.5), (83600, 73150.0), (83700, 73237.5), (83800, 73325.0), (83900, 73412.5), (84000, 73500.0), (84100, 73587.5), (84200, 73675.0), (84300, 73762.5), (84400, 73850.0), (84500, 73937.5), (84500, 73937.5), (84600, 74025.0), (84700, 74112.5), (84800, 74200.0), (84900, 74287.5), (85000, 74375.0), (85100, 74462.5), (85200, 74550.0), (85300, 74637.5), (85400, 74725.0), (85500, 74812.5), (85600, 74900.0), (85700, 74987.5), (85800, 75075.0), (85900, 75162.5), (86000, 75250.0), (86100, 75337.5), (86100, 75337.5), (86200, 75425.0), (86300, 75512.5), (86400, 75600.0), (86500, 75687.5), (86600, 75775.0), (86700, 75862.5), (86800, 75950.0), (86900, 76037.5), (87000, 76125.0), (87100, 76212.5), (87200, 76300.0), (87300, 76387.5), (87400, 76475.0), (87500, 76562.5), (87600, 76650.0), (87700, 76737.5), (87700, 76737.5), (87800, 76825.0), (87900, 76912.5)]\n"
     ]
    }
   ],
   "source": [
    "vd.view_steps()"
   ]
  },
  {
   "cell_type": "code",
   "execution_count": 18,
   "metadata": {},
   "outputs": [
    {
     "name": "stdout",
     "output_type": "stream",
     "text": [
      "epoch_steps: [65100, 65200, 66800, 67900, 69500, 71100, 71500, 73100, 74700, 75700, 77300, 77500, 79100, 80400, 82000, 82878, 82900, 84500, 86100, 87700]\n",
      "Removed 208 files\n",
      "0      training_65300.h5\n",
      "1      training_65400.h5\n",
      "2      training_65500.h5\n",
      "3      training_65600.h5\n",
      "4      training_65700.h5\n",
      "5      training_65800.h5\n",
      "6      training_65900.h5\n",
      "7      training_66000.h5\n",
      "8      training_66100.h5\n",
      "9      training_66200.h5\n",
      "10     training_66300.h5\n",
      "11     training_66400.h5\n",
      "12     training_66500.h5\n",
      "13     training_66600.h5\n",
      "14     training_66700.h5\n",
      "15     training_66900.h5\n",
      "16     training_67000.h5\n",
      "17     training_67100.h5\n",
      "18     training_67200.h5\n",
      "19     training_67300.h5\n",
      "20     training_67400.h5\n",
      "21     training_67500.h5\n",
      "22     training_67600.h5\n",
      "23     training_67700.h5\n",
      "24     training_67800.h5\n",
      "25     training_68000.h5\n",
      "26     training_68100.h5\n",
      "27     training_68200.h5\n",
      "28     training_68300.h5\n",
      "29     training_68400.h5\n",
      "30     training_68500.h5\n",
      "31     training_68600.h5\n",
      "32     training_68700.h5\n",
      "33     training_68800.h5\n",
      "34     training_68900.h5\n",
      "35     training_69000.h5\n",
      "36     training_69100.h5\n",
      "37     training_69200.h5\n",
      "38     training_69300.h5\n",
      "39     training_69400.h5\n",
      "40     training_69600.h5\n",
      "41     training_69700.h5\n",
      "42     training_69800.h5\n",
      "43     training_69900.h5\n",
      "44     training_70000.h5\n",
      "45     training_70100.h5\n",
      "46     training_70200.h5\n",
      "47     training_70300.h5\n",
      "48     training_70400.h5\n",
      "49     training_70500.h5\n",
      "50     training_70600.h5\n",
      "51     training_70700.h5\n",
      "52     training_70800.h5\n",
      "53     training_70900.h5\n",
      "54     training_71000.h5\n",
      "55     training_71200.h5\n",
      "56     training_71300.h5\n",
      "57     training_71400.h5\n",
      "58     training_71600.h5\n",
      "59     training_71700.h5\n",
      "60     training_71800.h5\n",
      "61     training_71900.h5\n",
      "62     training_72000.h5\n",
      "63     training_72100.h5\n",
      "64     training_72200.h5\n",
      "65     training_72300.h5\n",
      "66     training_72400.h5\n",
      "67     training_72500.h5\n",
      "68     training_72600.h5\n",
      "69     training_72700.h5\n",
      "70     training_72800.h5\n",
      "71     training_72900.h5\n",
      "72     training_73000.h5\n",
      "73     training_73200.h5\n",
      "74     training_73300.h5\n",
      "75     training_73400.h5\n",
      "76     training_73500.h5\n",
      "77     training_73600.h5\n",
      "78     training_73700.h5\n",
      "79     training_73800.h5\n",
      "80     training_73900.h5\n",
      "81     training_74000.h5\n",
      "82     training_74100.h5\n",
      "83     training_74200.h5\n",
      "84     training_74300.h5\n",
      "85     training_74400.h5\n",
      "86     training_74500.h5\n",
      "87     training_74600.h5\n",
      "88     training_74800.h5\n",
      "89     training_74900.h5\n",
      "90     training_75000.h5\n",
      "91     training_75100.h5\n",
      "92     training_75200.h5\n",
      "93     training_75300.h5\n",
      "94     training_75400.h5\n",
      "95     training_75500.h5\n",
      "96     training_75600.h5\n",
      "97     training_75800.h5\n",
      "98     training_75900.h5\n",
      "99     training_76000.h5\n",
      "100    training_76100.h5\n",
      "101    training_76200.h5\n",
      "102    training_76300.h5\n",
      "103    training_76400.h5\n",
      "104    training_76500.h5\n",
      "105    training_76600.h5\n",
      "106    training_76700.h5\n",
      "107    training_76800.h5\n",
      "108    training_76900.h5\n",
      "109    training_77000.h5\n",
      "110    training_77100.h5\n",
      "111    training_77200.h5\n",
      "112    training_77400.h5\n",
      "113    training_77600.h5\n",
      "114    training_77700.h5\n",
      "115    training_77800.h5\n",
      "116    training_77900.h5\n",
      "117    training_78000.h5\n",
      "118    training_78100.h5\n",
      "119    training_78200.h5\n",
      "120    training_78300.h5\n",
      "121    training_78400.h5\n",
      "122    training_78500.h5\n",
      "123    training_78600.h5\n",
      "124    training_78700.h5\n",
      "125    training_78800.h5\n",
      "126    training_78900.h5\n",
      "127    training_79000.h5\n",
      "128    training_79200.h5\n",
      "129    training_79300.h5\n",
      "130    training_79400.h5\n",
      "131    training_79500.h5\n",
      "132    training_79600.h5\n",
      "133    training_79700.h5\n",
      "134    training_79800.h5\n",
      "135    training_79900.h5\n",
      "136    training_80000.h5\n",
      "137    training_80100.h5\n",
      "138    training_80200.h5\n",
      "139    training_80300.h5\n",
      "140    training_80500.h5\n",
      "141    training_80600.h5\n",
      "142    training_80700.h5\n",
      "143    training_80800.h5\n",
      "144    training_80900.h5\n",
      "145    training_81000.h5\n",
      "146    training_81100.h5\n",
      "147    training_81200.h5\n",
      "148    training_81300.h5\n",
      "149    training_81400.h5\n",
      "150    training_81500.h5\n",
      "151    training_81600.h5\n",
      "152    training_81700.h5\n",
      "153    training_81800.h5\n",
      "154    training_81900.h5\n",
      "155    training_82100.h5\n",
      "156    training_82200.h5\n",
      "157    training_82300.h5\n",
      "158    training_82400.h5\n",
      "159    training_82500.h5\n",
      "160    training_82600.h5\n",
      "161    training_82700.h5\n",
      "162    training_82800.h5\n",
      "163    training_83000.h5\n",
      "164    training_83100.h5\n",
      "165    training_83200.h5\n",
      "166    training_83300.h5\n",
      "167    training_83400.h5\n",
      "168    training_83500.h5\n",
      "169    training_83600.h5\n",
      "170    training_83700.h5\n",
      "171    training_83800.h5\n",
      "172    training_83900.h5\n",
      "173    training_84000.h5\n",
      "174    training_84100.h5\n",
      "175    training_84200.h5\n",
      "176    training_84300.h5\n",
      "177    training_84400.h5\n",
      "178    training_84600.h5\n",
      "179    training_84700.h5\n",
      "180    training_84800.h5\n",
      "181    training_84900.h5\n",
      "182    training_85000.h5\n",
      "183    training_85100.h5\n",
      "184    training_85200.h5\n",
      "185    training_85300.h5\n",
      "186    training_85400.h5\n",
      "187    training_85500.h5\n",
      "188    training_85600.h5\n",
      "189    training_85700.h5\n",
      "190    training_85800.h5\n",
      "191    training_85900.h5\n",
      "192    training_86000.h5\n",
      "193    training_86200.h5\n",
      "194    training_86300.h5\n",
      "195    training_86400.h5\n",
      "196    training_86500.h5\n",
      "197    training_86600.h5\n",
      "198    training_86700.h5\n",
      "199    training_86800.h5\n",
      "200    training_86900.h5\n",
      "201    training_87000.h5\n",
      "202    training_87100.h5\n",
      "203    training_87200.h5\n",
      "204    training_87300.h5\n",
      "205    training_87400.h5\n",
      "206    training_87500.h5\n",
      "207    training_87600.h5\n",
      "dtype: object\n"
     ]
    }
   ],
   "source": [
    "vd.prune_logs(save_epochs=0, dry_run=False)"
   ]
  },
  {
   "cell_type": "code",
   "execution_count": 27,
   "metadata": {
    "scrolled": true
   },
   "outputs": [
    {
     "name": "stdout",
     "output_type": "stream",
     "text": [
      "steps to keep:  [117800, 118600, 119400, 120200, 120400, 121200, 122000, 122800, 123600, 124400, 125200, 126000, 126800, 127600, 128400, 129200, 130000, 130800, 131600, 132400, 133200, 134000, 134800, 135600, 136400]\n",
      "steps to remove:  [81500, 82700, 84900, 88000, 91100, 94200, 97297, 97300, 97400, 97600, 97700, 98500, 98600, 99400, 100200, 101000, 101800, 102600, 103400, 104200, 105000, 105800, 106600, 107400, 108200, 109000, 109800, 110600, 111400, 112200, 113000, 113800, 114600, 115400, 116200, 117000]\n",
      "108 files removed\n",
      "0                     snapshot-00081500.meta\n",
      "1      snapshot-00081500.data-00000-of-00001\n",
      "2                    snapshot-00081500.index\n",
      "3      snapshot-00082700.data-00000-of-00001\n",
      "4                     snapshot-00082700.meta\n",
      "5                    snapshot-00082700.index\n",
      "6      snapshot-00084900.data-00000-of-00001\n",
      "7                    snapshot-00084900.index\n",
      "8                     snapshot-00084900.meta\n",
      "9                    snapshot-00088000.index\n",
      "10     snapshot-00088000.data-00000-of-00001\n",
      "11                    snapshot-00088000.meta\n",
      "12                    snapshot-00091100.meta\n",
      "13     snapshot-00091100.data-00000-of-00001\n",
      "14                   snapshot-00091100.index\n",
      "15                    snapshot-00094200.meta\n",
      "16     snapshot-00094200.data-00000-of-00001\n",
      "17                   snapshot-00094200.index\n",
      "18                   snapshot-00097297.index\n",
      "19                    snapshot-00097297.meta\n",
      "20     snapshot-00097297.data-00000-of-00001\n",
      "21                    snapshot-00097300.meta\n",
      "22     snapshot-00097300.data-00000-of-00001\n",
      "23                   snapshot-00097300.index\n",
      "24                    snapshot-00097400.meta\n",
      "25     snapshot-00097400.data-00000-of-00001\n",
      "26                   snapshot-00097400.index\n",
      "27                   snapshot-00097600.index\n",
      "28                    snapshot-00097600.meta\n",
      "29     snapshot-00097600.data-00000-of-00001\n",
      "30     snapshot-00097700.data-00000-of-00001\n",
      "31                   snapshot-00097700.index\n",
      "32                    snapshot-00097700.meta\n",
      "33                   snapshot-00098500.index\n",
      "34                    snapshot-00098500.meta\n",
      "35     snapshot-00098500.data-00000-of-00001\n",
      "36                    snapshot-00098600.meta\n",
      "37                   snapshot-00098600.index\n",
      "38     snapshot-00098600.data-00000-of-00001\n",
      "39                   snapshot-00099400.index\n",
      "40                    snapshot-00099400.meta\n",
      "41     snapshot-00099400.data-00000-of-00001\n",
      "42                   snapshot-00100200.index\n",
      "43     snapshot-00100200.data-00000-of-00001\n",
      "44                    snapshot-00100200.meta\n",
      "45                    snapshot-00101000.meta\n",
      "46                   snapshot-00101000.index\n",
      "47     snapshot-00101000.data-00000-of-00001\n",
      "48                   snapshot-00101800.index\n",
      "49     snapshot-00101800.data-00000-of-00001\n",
      "50                    snapshot-00101800.meta\n",
      "51                   snapshot-00102600.index\n",
      "52     snapshot-00102600.data-00000-of-00001\n",
      "53                    snapshot-00102600.meta\n",
      "54                    snapshot-00103400.meta\n",
      "55     snapshot-00103400.data-00000-of-00001\n",
      "56                   snapshot-00103400.index\n",
      "57     snapshot-00104200.data-00000-of-00001\n",
      "58                   snapshot-00104200.index\n",
      "59                    snapshot-00104200.meta\n",
      "60     snapshot-00105000.data-00000-of-00001\n",
      "61                   snapshot-00105000.index\n",
      "62                    snapshot-00105000.meta\n",
      "63                    snapshot-00105800.meta\n",
      "64                   snapshot-00105800.index\n",
      "65     snapshot-00105800.data-00000-of-00001\n",
      "66                    snapshot-00106600.meta\n",
      "67                   snapshot-00106600.index\n",
      "68     snapshot-00106600.data-00000-of-00001\n",
      "69                    snapshot-00107400.meta\n",
      "70     snapshot-00107400.data-00000-of-00001\n",
      "71                   snapshot-00107400.index\n",
      "72                    snapshot-00108200.meta\n",
      "73                   snapshot-00108200.index\n",
      "74     snapshot-00108200.data-00000-of-00001\n",
      "75                   snapshot-00109000.index\n",
      "76     snapshot-00109000.data-00000-of-00001\n",
      "77                    snapshot-00109000.meta\n",
      "78                   snapshot-00109800.index\n",
      "79     snapshot-00109800.data-00000-of-00001\n",
      "80                    snapshot-00109800.meta\n",
      "81                   snapshot-00110600.index\n",
      "82                    snapshot-00110600.meta\n",
      "83     snapshot-00110600.data-00000-of-00001\n",
      "84                    snapshot-00111400.meta\n",
      "85                   snapshot-00111400.index\n",
      "86     snapshot-00111400.data-00000-of-00001\n",
      "87                    snapshot-00112200.meta\n",
      "88     snapshot-00112200.data-00000-of-00001\n",
      "89                   snapshot-00112200.index\n",
      "90                    snapshot-00113000.meta\n",
      "91                   snapshot-00113000.index\n",
      "92     snapshot-00113000.data-00000-of-00001\n",
      "93                   snapshot-00113800.index\n",
      "94                    snapshot-00113800.meta\n",
      "95     snapshot-00113800.data-00000-of-00001\n",
      "96     snapshot-00114600.data-00000-of-00001\n",
      "97                    snapshot-00114600.meta\n",
      "98                   snapshot-00114600.index\n",
      "99                    snapshot-00115400.meta\n",
      "100    snapshot-00115400.data-00000-of-00001\n",
      "101                  snapshot-00115400.index\n",
      "102                   snapshot-00116200.meta\n",
      "103                  snapshot-00116200.index\n",
      "104    snapshot-00116200.data-00000-of-00001\n",
      "105    snapshot-00117000.data-00000-of-00001\n",
      "106                   snapshot-00117000.meta\n",
      "107                  snapshot-00117000.index\n",
      "dtype: object\n"
     ]
    }
   ],
   "source": [
    "# vd.prune_snapshots(keep_first=117800, dry_run=False)\n",
    "# vd.hyper"
   ]
  },
  {
   "cell_type": "code",
   "execution_count": null,
   "metadata": {
    "collapsed": true
   },
   "outputs": [],
   "source": []
  }
 ],
 "metadata": {
  "kernelspec": {
   "display_name": "Python 2",
   "language": "python",
   "name": "python2"
  },
  "language_info": {
   "codemirror_mode": {
    "name": "ipython",
    "version": 2
   },
   "file_extension": ".py",
   "mimetype": "text/x-python",
   "name": "python",
   "nbconvert_exporter": "python",
   "pygments_lexer": "ipython2",
   "version": "2.7.14"
  }
 },
 "nbformat": 4,
 "nbformat_minor": 2
}
