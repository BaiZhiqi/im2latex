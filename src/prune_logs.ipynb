{
 "cells": [
  {
   "cell_type": "code",
   "execution_count": 1,
   "metadata": {
    "collapsed": true
   },
   "outputs": [],
   "source": [
    "from IPython.core.display import display, HTML\n",
    "# display(HTML(\"<style>.container { width:90% !important; }</style>\"))"
   ]
  },
  {
   "cell_type": "code",
   "execution_count": 2,
   "metadata": {
    "collapsed": true
   },
   "outputs": [],
   "source": [
    "import pandas as pd\n",
    "import os\n",
    "import re\n",
    "import codecs\n",
    "from IPython.display import display\n",
    "from six.moves import cPickle as pickle\n",
    "import string\n",
    "from PIL import Image\n",
    "import numpy as np\n",
    "import h5py"
   ]
  },
  {
   "cell_type": "code",
   "execution_count": 3,
   "metadata": {
    "collapsed": true
   },
   "outputs": [],
   "source": [
    "width = None\n",
    "pd.options.display.max_rows = 600\n",
    "pd.options.display.max_columns = width\n",
    "pd.options.display.max_colwidth = 600\n",
    "pd.options.display.width = width\n",
    "pd.options.display.max_seq_items = None\n",
    "pd.options.display.expand_frame_repr = False\n",
    "pd.options.display.colheader_justify = 'left'"
   ]
  },
  {
   "cell_type": "code",
   "execution_count": 4,
   "metadata": {},
   "outputs": [
    {
     "name": "stderr",
     "output_type": "stream",
     "text": [
      "Using TensorFlow backend.\n"
     ]
    }
   ],
   "source": [
    "import data_commons as dtc\n",
    "import dl_commons as dlc\n",
    "import viz_commons as vc\n",
    "from viz_commons import VisualizeDir, DiffParams, VisualizeStep"
   ]
  },
  {
   "cell_type": "code",
   "execution_count": 5,
   "metadata": {
    "collapsed": true
   },
   "outputs": [],
   "source": [
    "# v = Visualize('./tb_metrics_dev/2017-10-06 17-56-47 PDT/store', '../data/generated2')\n",
    "# v = VisualizeDir('./tb_metrics/2017-10-08 12-26-45 PDT/store')\n",
    "# v = VisualizeDir('./tb_metrics_dev/2017-10-09 12-45-15 PDT/store')\n",
    "# vd = VisualizeDir('./tb_metrics/2017-10-09 17-43-49 PDT/store')\n",
    "# vd = VisualizeDir('tb_metrics/2017-10-09 16-01-07 PDT/store')\n",
    "# vd2 = VisualizeDir('tb_metrics/2017-09-26 22-40-18 PDT/new_code 2017-10-10 15-10-17 PDT/store')\n",
    "# vd = VisualizeDir('./tb_metrics/2017-10-07 14-33-35 PDT_my_decoder/store')\n",
    "# vd = VisualizeDir('./tb_metrics_view/2017-10-10 19-14-54 PDT good 3_decoder_LSTMs_my_decoder/store')\n",
    "# vd = VisualizeDir('./tb_metrics_view/2017-10-11 17-46-12 PDT 3lstm_3att/store')\n",
    "# vd = VisualizeDir('/zpool_3TB/i2l/tb_metrics/2017-10-12 00-15-53 PDT good 3lstm_attMLP/store')\n",
    "# vd = VisualizeDir('./tb_metrics_view/2017-10-12 19-06-32 PDT 3.1LSTM_noShare_3att/store')\n",
    "# vd = VisualizeDir('./tb_metrics_view/2017-10-17 15-41-15 PDT 3.1LSTM_3att_noGather/store_2')\n",
    "# vd = VisualizeDir('./tb_metrics_dev/2017-10-19 00-08-10 PDT reset/store')\n",
    "# vd = VisualizeDir('/zpool_3TB/i2l/tb_metrics/2017-10-19 22-21-59 PDT reset_3.1LSTM_2init_3out_3attShared_1beta/store')\n",
    "# vd = VisualizeDir('./tb_metrics/2017-11-06 09-42-24 PST reset_3.1LSTM_2init_3out_3attMLPfull_1beta_L1/store')\n",
    "# vd = VisualizeDir('./tb_metrics/2017-11-05 17-24-13 PST reset_3.1LSTM_2init_3out_3MLPfull_1beta_10xL2/store')\n",
    "vd = VisualizeDir('/home/sumeet/im2latex_dev/src/tb_metrics_dev/2017-11-07 23-39-38 PST test_3.1LSTM_2init_3OutMLP_3attMLPfull_1beta_regroupImage_0pLambda/store')"
   ]
  },
  {
   "cell_type": "code",
   "execution_count": 6,
   "metadata": {},
   "outputs": [
    {
     "data": {
      "text/plain": [
       "(97200, 96348)"
      ]
     },
     "execution_count": 6,
     "metadata": {},
     "output_type": "execute_result"
    }
   ],
   "source": [
    "vd.max_steps"
   ]
  },
  {
   "cell_type": "code",
   "execution_count": 8,
   "metadata": {
    "scrolled": true
   },
   "outputs": [
    {
     "name": "stdout",
     "output_type": "stream",
     "text": [
      "num_epoch_steps = 93\n",
      "epoch_steps = [1036, 2072, 3108, 4144, 5180, 6216, 7252, 8288, 9324, 10360, 11396, 12432, 13468, 14504, 15540, 16576, 17612, 18648, 19684, 20720, 21756, 22792, 23828, 24864, 25900, 26936, 27972, 29008, 30044, 31080, 32116, 33152, 34188, 35224, 36260, 37296, 38332, 39368, 40404, 41440, 42476, 43512, 44548, 45584, 46620, 47656, 48692, 49728, 50764, 51800, 52836, 53872, 54908, 55944, 56980, 58016, 59052, 60088, 61124, 62160, 63196, 64232, 65268, 66304, 67340, 68376, 69412, 70448, 71484, 72520, 73556, 74592, 75628, 76664, 77700, 78736, 79772, 80808, 81844, 82880, 83916, 84952, 85988, 87024, 88060, 89096, 90132, 91168, 92204, 93240, 94276, 95312, 96348]\n"
     ]
    }
   ],
   "source": [
    "vd.view_steps()"
   ]
  },
  {
   "cell_type": "code",
   "execution_count": 13,
   "metadata": {
    "scrolled": false
   },
   "outputs": [
    {
     "name": "stdout",
     "output_type": "stream",
     "text": [
      "epoch_steps: [1036, 2072, 3108, 4144, 5180, 6216, 7252, 8288, 9324, 10360, 11396, 12432, 13468, 14504, 15540, 16576, 17612, 18648, 19684, 20720, 21756, 22792, 23828, 24864, 25900, 26936, 27972, 29008, 30044, 31080, 32116, 33152, 34188, 35224, 36260, 37296, 38332, 39368, 40404, 41440, 42476, 43512, 44548, 45584, 46620, 47656, 48692, 49728, 50764, 51800, 52836, 53872, 54908, 55944, 56980, 58016, 59052, 60088, 61124, 62160, 63196, 64232, 65268, 66304, 67340, 68376, 69412, 70448, 71484, 72520, 73556, 74592, 75628, 76664, 77700, 78736, 79772, 80808, 81844, 82880, 83916, 84952, 85988, 87024, 88060, 89096, 90132, 91168, 92204, 93240, 94276, 95312, 96348, 97384]\n",
      "Removed 0 files\n",
      "Series([], dtype: float64)\n"
     ]
    }
   ],
   "source": [
    "# vd.prune_logs(save_epochs=1, dry_run=True)\n",
    "# vd.prune_snapshots(keep=1, dry_run=True)\n",
    "# vd.hyper"
   ]
  },
  {
   "cell_type": "code",
   "execution_count": null,
   "metadata": {
    "collapsed": true
   },
   "outputs": [],
   "source": []
  }
 ],
 "metadata": {
  "kernelspec": {
   "display_name": "Python 2",
   "language": "python",
   "name": "python2"
  },
  "language_info": {
   "codemirror_mode": {
    "name": "ipython",
    "version": 2
   },
   "file_extension": ".py",
   "mimetype": "text/x-python",
   "name": "python",
   "nbconvert_exporter": "python",
   "pygments_lexer": "ipython2",
   "version": "2.7.14"
  }
 },
 "nbformat": 4,
 "nbformat_minor": 2
}
