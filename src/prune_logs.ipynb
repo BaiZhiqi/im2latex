{
 "cells": [
  {
   "cell_type": "code",
   "execution_count": 1,
   "metadata": {},
   "outputs": [
    {
     "data": {
      "text/html": [
       "<style>.container { width:90% !important; }</style>"
      ],
      "text/plain": [
       "<IPython.core.display.HTML object>"
      ]
     },
     "metadata": {},
     "output_type": "display_data"
    }
   ],
   "source": [
    "from IPython.core.display import display, HTML\n",
    "display(HTML(\"<style>.container { width:90% !important; }</style>\"))"
   ]
  },
  {
   "cell_type": "code",
   "execution_count": 2,
   "metadata": {
    "collapsed": true
   },
   "outputs": [],
   "source": [
    "import pandas as pd\n",
    "import os\n",
    "import re\n",
    "import codecs\n",
    "from IPython.display import display\n",
    "from six.moves import cPickle as pickle\n",
    "import string\n",
    "from PIL import Image\n",
    "import numpy as np\n",
    "import h5py"
   ]
  },
  {
   "cell_type": "code",
   "execution_count": 3,
   "metadata": {
    "collapsed": true
   },
   "outputs": [],
   "source": [
    "width = None\n",
    "pd.options.display.max_rows = 600\n",
    "pd.options.display.max_columns = width\n",
    "pd.options.display.max_colwidth = 600\n",
    "pd.options.display.width = width\n",
    "pd.options.display.max_seq_items = None\n",
    "pd.options.display.expand_frame_repr = False\n",
    "pd.options.display.colheader_justify = 'left'"
   ]
  },
  {
   "cell_type": "code",
   "execution_count": 4,
   "metadata": {},
   "outputs": [
    {
     "name": "stderr",
     "output_type": "stream",
     "text": [
      "Using TensorFlow backend.\n"
     ]
    }
   ],
   "source": [
    "import data_commons as dtc\n",
    "import dl_commons as dlc\n",
    "import viz_commons as vc\n",
    "from viz_commons import VisualizeDir, DiffParams, VisualizeStep"
   ]
  },
  {
   "cell_type": "code",
   "execution_count": 23,
   "metadata": {},
   "outputs": [
    {
     "name": "stdout",
     "output_type": "stream",
     "text": [
      "Loaded ./tb_metrics/2017-12-12 19-49-24 PST/store_3/hyper.pkl and ./tb_metrics/2017-12-12 19-49-24 PST/store_3/args.pkl\n",
      "Loaded ../data/dataset3/training_56/df_train.pkl (89096, 3)\n"
     ]
    }
   ],
   "source": [
    "vd = VisualizeDir('./tb_metrics/2017-12-12 19-49-24 PST/store_3')"
   ]
  },
  {
   "cell_type": "code",
   "execution_count": 24,
   "metadata": {
    "scrolled": true
   },
   "outputs": [
    {
     "name": "stdout",
     "output_type": "stream",
     "text": [
      "Num Snapshots: 61\n",
      "Snapshots = [(81500, 71312.5), (82700, 72362.5), (84900, 74287.5), (88000, 77000.0), (91100, 79712.5), (94200, 82425.0), (97297, 85134.875), (97300, 85137.5), (97400, 85225.0), (97600, 85400.0), (97700, 85487.5), (98500, 86187.5), (98600, 86275.0), (99400, 86975.0), (100200, 87675.0), (101000, 88375.0), (101800, 89075.0), (102600, 89775.0), (103400, 90475.0), (104200, 91175.0), (105000, 91875.0), (105800, 92575.0), (106600, 93275.0), (107400, 93975.0), (108200, 94675.0), (109000, 95375.0), (109800, 96075.0), (110600, 96775.0), (111400, 97475.0), (112200, 98175.0), (113000, 98875.0), (113800, 99575.0), (114600, 100275.0), (115400, 100975.0), (116200, 101675.0), (117000, 102375.0), (117800, 103075.0), (118600, 103775.0), (119400, 104475.0), (120200, 105175.0), (120400, 105350.0), (121200, 106050.0), (122000, 106750.0), (122800, 107450.0), (123600, 108150.0), (124400, 108850.0), (125200, 109550.0), (126000, 110250.0), (126800, 110950.0), (127600, 111650.0), (128400, 112350.0), (129200, 113050.0), (130000, 113750.0), (130800, 114450.0), (131600, 115150.0), (132400, 115850.0), (133200, 116550.0), (134000, 117250.0), (134800, 117950.0), (135600, 118650.0), (136400, 119350.0)]\n"
     ]
    }
   ],
   "source": [
    "vd.view_snapshots()"
   ]
  },
  {
   "cell_type": "code",
   "execution_count": 25,
   "metadata": {
    "scrolled": true
   },
   "outputs": [
    {
     "name": "stdout",
     "output_type": "stream",
     "text": [
      "num epoch_steps = 23\n",
      "epoch_steps = [(55200, 48300.0), (55300, 48387.5), (55600, 48650.0), (58300, 51012.5), (59200, 51800.0), (60800, 53200.0), (61300, 53637.5), (63200, 55300.0), (64300, 56262.5), (66000, 57750.0), (69100, 60462.5), (72200, 63175.0), (72300, 63262.5), (75300, 65887.5), (78400, 68600.0), (81500, 71312.5), (82700, 72362.5), (84900, 74287.5), (88000, 77000.0), (91100, 79712.5), (94200, 82425.0), (97297, 85134.875), (97300, 85137.5)]\n",
      "all_steps = [(55200, 48300.0), (55200, 48300.0), (55300, 48387.5), (55300, 48387.5), (55600, 48650.0), (55600, 48650.0), (58300, 51012.5), (58300, 51012.5), (59200, 51800.0), (59200, 51800.0), (60800, 53200.0), (60800, 53200.0), (61300, 53637.5), (61300, 53637.5), (63200, 55300.0), (63200, 55300.0), (64300, 56262.5), (64300, 56262.5), (66000, 57750.0), (66000, 57750.0), (69100, 60462.5), (69100, 60462.5), (72200, 63175.0), (72200, 63175.0), (72300, 63262.5), (72300, 63262.5), (75300, 65887.5), (75300, 65887.5), (78400, 68600.0), (78400, 68600.0), (81500, 71312.5), (81500, 71312.5), (82700, 72362.5), (82700, 72362.5), (84900, 74287.5), (84900, 74287.5), (88000, 77000.0), (88000, 77000.0), (91100, 79712.5), (91100, 79712.5), (94200, 82425.0), (94200, 82425.0), (97297, 85134.875), (97297, 85134.875), (97300, 85137.5), (97300, 85137.5)]\n"
     ]
    }
   ],
   "source": [
    "vd.view_steps()"
   ]
  },
  {
   "cell_type": "code",
   "execution_count": 26,
   "metadata": {},
   "outputs": [
    {
     "name": "stdout",
     "output_type": "stream",
     "text": [
      "epoch_steps: [55200, 55300, 55600, 58300, 59200, 60800, 61300, 63200, 64300, 66000, 69100, 72200, 72300, 75300, 78400, 81500, 82700, 84900, 88000, 91100, 94200, 97297, 97300]\n",
      "Removed 0 files\n",
      "Series([], dtype: float64)\n"
     ]
    }
   ],
   "source": [
    "vd.prune_logs(save_epochs=0, dry_run=False)"
   ]
  },
  {
   "cell_type": "code",
   "execution_count": 27,
   "metadata": {
    "scrolled": true
   },
   "outputs": [
    {
     "name": "stdout",
     "output_type": "stream",
     "text": [
      "steps to keep:  [117800, 118600, 119400, 120200, 120400, 121200, 122000, 122800, 123600, 124400, 125200, 126000, 126800, 127600, 128400, 129200, 130000, 130800, 131600, 132400, 133200, 134000, 134800, 135600, 136400]\n",
      "steps to remove:  [81500, 82700, 84900, 88000, 91100, 94200, 97297, 97300, 97400, 97600, 97700, 98500, 98600, 99400, 100200, 101000, 101800, 102600, 103400, 104200, 105000, 105800, 106600, 107400, 108200, 109000, 109800, 110600, 111400, 112200, 113000, 113800, 114600, 115400, 116200, 117000]\n",
      "108 files removed\n",
      "0                     snapshot-00081500.meta\n",
      "1      snapshot-00081500.data-00000-of-00001\n",
      "2                    snapshot-00081500.index\n",
      "3      snapshot-00082700.data-00000-of-00001\n",
      "4                     snapshot-00082700.meta\n",
      "5                    snapshot-00082700.index\n",
      "6      snapshot-00084900.data-00000-of-00001\n",
      "7                    snapshot-00084900.index\n",
      "8                     snapshot-00084900.meta\n",
      "9                    snapshot-00088000.index\n",
      "10     snapshot-00088000.data-00000-of-00001\n",
      "11                    snapshot-00088000.meta\n",
      "12                    snapshot-00091100.meta\n",
      "13     snapshot-00091100.data-00000-of-00001\n",
      "14                   snapshot-00091100.index\n",
      "15                    snapshot-00094200.meta\n",
      "16     snapshot-00094200.data-00000-of-00001\n",
      "17                   snapshot-00094200.index\n",
      "18                   snapshot-00097297.index\n",
      "19                    snapshot-00097297.meta\n",
      "20     snapshot-00097297.data-00000-of-00001\n",
      "21                    snapshot-00097300.meta\n",
      "22     snapshot-00097300.data-00000-of-00001\n",
      "23                   snapshot-00097300.index\n",
      "24                    snapshot-00097400.meta\n",
      "25     snapshot-00097400.data-00000-of-00001\n",
      "26                   snapshot-00097400.index\n",
      "27                   snapshot-00097600.index\n",
      "28                    snapshot-00097600.meta\n",
      "29     snapshot-00097600.data-00000-of-00001\n",
      "30     snapshot-00097700.data-00000-of-00001\n",
      "31                   snapshot-00097700.index\n",
      "32                    snapshot-00097700.meta\n",
      "33                   snapshot-00098500.index\n",
      "34                    snapshot-00098500.meta\n",
      "35     snapshot-00098500.data-00000-of-00001\n",
      "36                    snapshot-00098600.meta\n",
      "37                   snapshot-00098600.index\n",
      "38     snapshot-00098600.data-00000-of-00001\n",
      "39                   snapshot-00099400.index\n",
      "40                    snapshot-00099400.meta\n",
      "41     snapshot-00099400.data-00000-of-00001\n",
      "42                   snapshot-00100200.index\n",
      "43     snapshot-00100200.data-00000-of-00001\n",
      "44                    snapshot-00100200.meta\n",
      "45                    snapshot-00101000.meta\n",
      "46                   snapshot-00101000.index\n",
      "47     snapshot-00101000.data-00000-of-00001\n",
      "48                   snapshot-00101800.index\n",
      "49     snapshot-00101800.data-00000-of-00001\n",
      "50                    snapshot-00101800.meta\n",
      "51                   snapshot-00102600.index\n",
      "52     snapshot-00102600.data-00000-of-00001\n",
      "53                    snapshot-00102600.meta\n",
      "54                    snapshot-00103400.meta\n",
      "55     snapshot-00103400.data-00000-of-00001\n",
      "56                   snapshot-00103400.index\n",
      "57     snapshot-00104200.data-00000-of-00001\n",
      "58                   snapshot-00104200.index\n",
      "59                    snapshot-00104200.meta\n",
      "60     snapshot-00105000.data-00000-of-00001\n",
      "61                   snapshot-00105000.index\n",
      "62                    snapshot-00105000.meta\n",
      "63                    snapshot-00105800.meta\n",
      "64                   snapshot-00105800.index\n",
      "65     snapshot-00105800.data-00000-of-00001\n",
      "66                    snapshot-00106600.meta\n",
      "67                   snapshot-00106600.index\n",
      "68     snapshot-00106600.data-00000-of-00001\n",
      "69                    snapshot-00107400.meta\n",
      "70     snapshot-00107400.data-00000-of-00001\n",
      "71                   snapshot-00107400.index\n",
      "72                    snapshot-00108200.meta\n",
      "73                   snapshot-00108200.index\n",
      "74     snapshot-00108200.data-00000-of-00001\n",
      "75                   snapshot-00109000.index\n",
      "76     snapshot-00109000.data-00000-of-00001\n",
      "77                    snapshot-00109000.meta\n",
      "78                   snapshot-00109800.index\n",
      "79     snapshot-00109800.data-00000-of-00001\n",
      "80                    snapshot-00109800.meta\n",
      "81                   snapshot-00110600.index\n",
      "82                    snapshot-00110600.meta\n",
      "83     snapshot-00110600.data-00000-of-00001\n",
      "84                    snapshot-00111400.meta\n",
      "85                   snapshot-00111400.index\n",
      "86     snapshot-00111400.data-00000-of-00001\n",
      "87                    snapshot-00112200.meta\n",
      "88     snapshot-00112200.data-00000-of-00001\n",
      "89                   snapshot-00112200.index\n",
      "90                    snapshot-00113000.meta\n",
      "91                   snapshot-00113000.index\n",
      "92     snapshot-00113000.data-00000-of-00001\n",
      "93                   snapshot-00113800.index\n",
      "94                    snapshot-00113800.meta\n",
      "95     snapshot-00113800.data-00000-of-00001\n",
      "96     snapshot-00114600.data-00000-of-00001\n",
      "97                    snapshot-00114600.meta\n",
      "98                   snapshot-00114600.index\n",
      "99                    snapshot-00115400.meta\n",
      "100    snapshot-00115400.data-00000-of-00001\n",
      "101                  snapshot-00115400.index\n",
      "102                   snapshot-00116200.meta\n",
      "103                  snapshot-00116200.index\n",
      "104    snapshot-00116200.data-00000-of-00001\n",
      "105    snapshot-00117000.data-00000-of-00001\n",
      "106                   snapshot-00117000.meta\n",
      "107                  snapshot-00117000.index\n",
      "dtype: object\n"
     ]
    }
   ],
   "source": [
    "# vd.prune_snapshots(keep_first=117800, dry_run=False)\n",
    "# vd.hyper"
   ]
  },
  {
   "cell_type": "code",
   "execution_count": null,
   "metadata": {
    "collapsed": true
   },
   "outputs": [],
   "source": []
  }
 ],
 "metadata": {
  "kernelspec": {
   "display_name": "Python 2",
   "language": "python",
   "name": "python2"
  },
  "language_info": {
   "codemirror_mode": {
    "name": "ipython",
    "version": 2
   },
   "file_extension": ".py",
   "mimetype": "text/x-python",
   "name": "python",
   "nbconvert_exporter": "python",
   "pygments_lexer": "ipython2",
   "version": "2.7.14"
  }
 },
 "nbformat": 4,
 "nbformat_minor": 2
}
