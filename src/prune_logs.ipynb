{
 "cells": [
  {
   "cell_type": "code",
   "execution_count": 1,
   "metadata": {},
   "outputs": [
    {
     "data": {
      "text/html": [
       "<style>.container { width:90% !important; }</style>"
      ],
      "text/plain": [
       "<IPython.core.display.HTML object>"
      ]
     },
     "metadata": {},
     "output_type": "display_data"
    }
   ],
   "source": [
    "from IPython.core.display import display, HTML\n",
    "display(HTML(\"<style>.container { width:90% !important; }</style>\"))"
   ]
  },
  {
   "cell_type": "code",
   "execution_count": 2,
   "metadata": {
    "collapsed": true
   },
   "outputs": [],
   "source": [
    "import pandas as pd\n",
    "import os\n",
    "import re\n",
    "import codecs\n",
    "from IPython.display import display\n",
    "from six.moves import cPickle as pickle\n",
    "import string\n",
    "from PIL import Image\n",
    "import numpy as np\n",
    "import h5py"
   ]
  },
  {
   "cell_type": "code",
   "execution_count": 3,
   "metadata": {
    "collapsed": true
   },
   "outputs": [],
   "source": [
    "width = None\n",
    "pd.options.display.max_rows = 600\n",
    "pd.options.display.max_columns = width\n",
    "pd.options.display.max_colwidth = 600\n",
    "pd.options.display.width = width\n",
    "pd.options.display.max_seq_items = None\n",
    "pd.options.display.expand_frame_repr = False\n",
    "pd.options.display.colheader_justify = 'left'"
   ]
  },
  {
   "cell_type": "code",
   "execution_count": 4,
   "metadata": {},
   "outputs": [
    {
     "name": "stderr",
     "output_type": "stream",
     "text": [
      "Using TensorFlow backend.\n"
     ]
    }
   ],
   "source": [
    "import data_commons as dtc\n",
    "import dl_commons as dlc\n",
    "import viz_commons as vc\n",
    "from viz_commons import VisualizeDir, DiffParams, VisualizeStep"
   ]
  },
  {
   "cell_type": "code",
   "execution_count": 28,
   "metadata": {},
   "outputs": [
    {
     "name": "stdout",
     "output_type": "stream",
     "text": [
      "Loaded ./tb_metrics/2017-11-30 11-53-23 PST scanningRNN_regroupImage/SFactor=1.5/store/hyper.pkl and ./tb_metrics/2017-11-30 11-53-23 PST scanningRNN_regroupImage/SFactor=1.5/store/args.pkl\n",
      "Loaded ../data/dataset3/training_56/df_train.pkl (89096, 3)\n"
     ]
    }
   ],
   "source": [
    "vd = VisualizeDir('./tb_metrics/2017-12-02 21-07-08 PST scanningRNN_regroupImage/plambda=0.005/store')"
   ]
  },
  {
   "cell_type": "code",
   "execution_count": 34,
   "metadata": {
    "scrolled": true
   },
   "outputs": [
    {
     "name": "stdout",
     "output_type": "stream",
     "text": [
      "Num Snapshots: 0\n",
      "Snapshots = []\n"
     ]
    }
   ],
   "source": [
    "vd.view_snapshots()"
   ]
  },
  {
   "cell_type": "code",
   "execution_count": 31,
   "metadata": {
    "scrolled": true
   },
   "outputs": [
    {
     "name": "stdout",
     "output_type": "stream",
     "text": [
      "num epoch_steps = 5\n",
      "epoch_steps = [(1512, 1323.0), (3024, 2646.0), (4536, 3969.0), (6048, 5292.0), (7560, 6615.0)]\n",
      "all_steps = [(1512, 1323.0), (1512, 1323.0), (3024, 2646.0), (3024, 2646.0), (4536, 3969.0), (4536, 3969.0), (6048, 5292.0), (6048, 5292.0), (7560, 6615.0), (7560, 6615.0), (7600, 6650.0), (7700, 6737.5), (7800, 6825.0)]\n"
     ]
    }
   ],
   "source": [
    "vd.view_steps()"
   ]
  },
  {
   "cell_type": "code",
   "execution_count": 32,
   "metadata": {},
   "outputs": [
    {
     "name": "stdout",
     "output_type": "stream",
     "text": [
      "epoch_steps: [1512, 3024, 4536, 6048, 7560]\n",
      "Removed 0 files\n",
      "Series([], dtype: float64)\n"
     ]
    }
   ],
   "source": [
    "vd.prune_logs(save_epochs=0, dry_run=False)"
   ]
  },
  {
   "cell_type": "code",
   "execution_count": 33,
   "metadata": {
    "scrolled": false
   },
   "outputs": [
    {
     "name": "stdout",
     "output_type": "stream",
     "text": [
      "steps to keep:  []\n",
      "steps to remove:  [71064]\n",
      "3 files removed\n",
      "0    snapshot-00071064.data-00000-of-00001\n",
      "1                   snapshot-00071064.meta\n",
      "2                  snapshot-00071064.index\n",
      "dtype: object\n"
     ]
    }
   ],
   "source": [
    "vd.prune_snapshots(keep_first=71065, dry_run=False)\n",
    "# vd.hyper"
   ]
  },
  {
   "cell_type": "code",
   "execution_count": null,
   "metadata": {
    "collapsed": true
   },
   "outputs": [],
   "source": []
  }
 ],
 "metadata": {
  "kernelspec": {
   "display_name": "Python 2",
   "language": "python",
   "name": "python2"
  },
  "language_info": {
   "codemirror_mode": {
    "name": "ipython",
    "version": 2
   },
   "file_extension": ".py",
   "mimetype": "text/x-python",
   "name": "python",
   "nbconvert_exporter": "python",
   "pygments_lexer": "ipython2",
   "version": "2.7.14"
  }
 },
 "nbformat": 4,
 "nbformat_minor": 2
}
