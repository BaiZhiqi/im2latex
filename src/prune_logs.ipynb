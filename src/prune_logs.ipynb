{
 "cells": [
  {
   "cell_type": "code",
   "execution_count": 1,
   "metadata": {
    "collapsed": true
   },
   "outputs": [],
   "source": [
    "from IPython.core.display import display, HTML\n",
    "# display(HTML(\"<style>.container { width:90% !important; }</style>\"))"
   ]
  },
  {
   "cell_type": "code",
   "execution_count": 5,
   "metadata": {
    "collapsed": true
   },
   "outputs": [],
   "source": [
    "import pandas as pd\n",
    "import os\n",
    "import re\n",
    "import codecs\n",
    "from IPython.display import display\n",
    "from six.moves import cPickle as pickle\n",
    "import string\n",
    "from PIL import Image\n",
    "import numpy as np\n",
    "import h5py"
   ]
  },
  {
   "cell_type": "code",
   "execution_count": 6,
   "metadata": {
    "collapsed": true
   },
   "outputs": [],
   "source": [
    "width = None\n",
    "pd.options.display.max_rows = 600\n",
    "pd.options.display.max_columns = width\n",
    "pd.options.display.max_colwidth = 600\n",
    "pd.options.display.width = width\n",
    "pd.options.display.max_seq_items = None\n",
    "pd.options.display.expand_frame_repr = False\n",
    "pd.options.display.colheader_justify = 'left'"
   ]
  },
  {
   "cell_type": "code",
   "execution_count": 7,
   "metadata": {},
   "outputs": [
    {
     "name": "stderr",
     "output_type": "stream",
     "text": [
      "Using TensorFlow backend.\n"
     ]
    }
   ],
   "source": [
    "import data_commons as dtc\n",
    "import dl_commons as dlc\n",
    "import viz_commons as vc\n",
    "from viz_commons import VisualizeDir, DiffParams, VisualizeStep"
   ]
  },
  {
   "cell_type": "code",
   "execution_count": 8,
   "metadata": {},
   "outputs": [],
   "source": [
    "vd = VisualizeDir('./tb_metrics_dev/2017-11-20 23-11-24 PST 3.1LSTM_2init_3OutMLP_3attMLPfull_1beta_0pLambda_regroupImage_i=2/store_2')"
   ]
  },
  {
   "cell_type": "code",
   "execution_count": 10,
   "metadata": {
    "scrolled": true
   },
   "outputs": [
    {
     "name": "stdout",
     "output_type": "stream",
     "text": [
      "Num Snapshots: 51\n",
      "Snapshots = [(36500, 31937.5), (38300, 33512.5), (40100, 35087.5), (41800, 36575.0), (44000, 38500.0), (46100, 40337.5), (46900, 41037.5), (48800, 42700.0), (50400, 44100.0), (51200, 44800.0), (52200, 45675.0), (54100, 47337.5), (54900, 48037.5), (56000, 49000.0), (57500, 50312.5), (58300, 51012.5), (59600, 52150.0), (63700, 55737.5), (65300, 57137.5), (66800, 58450.0), (68200, 59675.0), (69200, 60550.0), (69300, 60637.5), (70900, 62037.5), (72500, 63437.5), (73100, 63962.5), (74700, 65362.5), (76300, 66762.5), (77900, 68162.5), (79600, 69650.0), (81000, 70875.0), (81700, 71487.5), (84400, 73850.0), (86100, 75337.5), (87700, 76737.5), (89300, 78137.5), (90900, 79537.5), (93700, 81987.5), (95300, 83387.5), (97000, 84875.0), (98600, 86275.0), (100200, 87675.0), (101900, 89162.5), (107100, 93712.5), (109200, 95550.0), (117900, 103162.5), (122900, 107537.5), (124500, 108937.5), (126100, 110337.5), (129600, 113400.0), (134500, 117687.5)]\n"
     ]
    }
   ],
   "source": [
    "vd.view_snapshots()"
   ]
  },
  {
   "cell_type": "code",
   "execution_count": 15,
   "metadata": {},
   "outputs": [
    {
     "name": "stdout",
     "output_type": "stream",
     "text": [
      "num_epoch_steps = 42\n",
      "epoch_steps = [31770, 32829, 33888, 34947, 36006, 37065, 38124, 39183, 40242, 41301, 42360, 43419, 44478, 45537, 46596, 47655, 48714, 49773, 50832, 51891, 52950, 54009, 55068, 56127, 57186, 58245, 59304, 60363, 61422, 62481, 63540, 64599, 65658, 66717, 67776, 68835, 69894, 70953, 72012, 73071, 74130, 75189]\n"
     ]
    }
   ],
   "source": [
    "vd.view_steps()"
   ]
  },
  {
   "cell_type": "code",
   "execution_count": 12,
   "metadata": {
    "scrolled": false
   },
   "outputs": [
    {
     "name": "stdout",
     "output_type": "stream",
     "text": [
      "steps to keep:  [72500, 73100, 74700, 76300, 77900, 79600, 81000, 81700, 84400, 86100, 87700, 89300, 90900, 93700, 95300, 97000, 98600, 100200, 101900, 107100, 109200, 117900, 122900, 124500, 126100, 129600, 134500]\n",
      "steps to remove:  [36500, 38300, 40100, 41800, 44000, 46100, 46900, 48800, 50400, 51200, 52200, 54100, 54900, 56000, 57500, 58300, 59600, 63700, 65300, 66800, 68200, 69200, 69300, 70900]\n",
      "72 files removed\n",
      "0                    snapshot-00036500.meta\n",
      "1     snapshot-00036500.data-00000-of-00001\n",
      "2                   snapshot-00036500.index\n",
      "3                   snapshot-00038300.index\n",
      "4     snapshot-00038300.data-00000-of-00001\n",
      "5                    snapshot-00038300.meta\n",
      "6                    snapshot-00040100.meta\n",
      "7     snapshot-00040100.data-00000-of-00001\n",
      "8                   snapshot-00040100.index\n",
      "9                   snapshot-00041800.index\n",
      "10    snapshot-00041800.data-00000-of-00001\n",
      "11                   snapshot-00041800.meta\n",
      "12                  snapshot-00044000.index\n",
      "13                   snapshot-00044000.meta\n",
      "14    snapshot-00044000.data-00000-of-00001\n",
      "15                   snapshot-00046100.meta\n",
      "16    snapshot-00046100.data-00000-of-00001\n",
      "17                  snapshot-00046100.index\n",
      "18                   snapshot-00046900.meta\n",
      "19    snapshot-00046900.data-00000-of-00001\n",
      "20                  snapshot-00046900.index\n",
      "21                  snapshot-00048800.index\n",
      "22    snapshot-00048800.data-00000-of-00001\n",
      "23                   snapshot-00048800.meta\n",
      "24                  snapshot-00050400.index\n",
      "25                   snapshot-00050400.meta\n",
      "26    snapshot-00050400.data-00000-of-00001\n",
      "27    snapshot-00051200.data-00000-of-00001\n",
      "28                  snapshot-00051200.index\n",
      "29                   snapshot-00051200.meta\n",
      "30    snapshot-00052200.data-00000-of-00001\n",
      "31                   snapshot-00052200.meta\n",
      "32                  snapshot-00052200.index\n",
      "33                   snapshot-00054100.meta\n",
      "34                  snapshot-00054100.index\n",
      "35    snapshot-00054100.data-00000-of-00001\n",
      "36                  snapshot-00054900.index\n",
      "37    snapshot-00054900.data-00000-of-00001\n",
      "38                   snapshot-00054900.meta\n",
      "39                  snapshot-00056000.index\n",
      "40                   snapshot-00056000.meta\n",
      "41    snapshot-00056000.data-00000-of-00001\n",
      "42    snapshot-00057500.data-00000-of-00001\n",
      "43                  snapshot-00057500.index\n",
      "44                   snapshot-00057500.meta\n",
      "45                  snapshot-00058300.index\n",
      "46    snapshot-00058300.data-00000-of-00001\n",
      "47                   snapshot-00058300.meta\n",
      "48    snapshot-00059600.data-00000-of-00001\n",
      "49                  snapshot-00059600.index\n",
      "50                   snapshot-00059600.meta\n",
      "51                   snapshot-00063700.meta\n",
      "52    snapshot-00063700.data-00000-of-00001\n",
      "53                  snapshot-00063700.index\n",
      "54                  snapshot-00065300.index\n",
      "55                   snapshot-00065300.meta\n",
      "56    snapshot-00065300.data-00000-of-00001\n",
      "57                   snapshot-00066800.meta\n",
      "58    snapshot-00066800.data-00000-of-00001\n",
      "59                  snapshot-00066800.index\n",
      "60                  snapshot-00068200.index\n",
      "61                   snapshot-00068200.meta\n",
      "62    snapshot-00068200.data-00000-of-00001\n",
      "63                  snapshot-00069200.index\n",
      "64                   snapshot-00069200.meta\n",
      "65    snapshot-00069200.data-00000-of-00001\n",
      "66    snapshot-00069300.data-00000-of-00001\n",
      "67                   snapshot-00069300.meta\n",
      "68                  snapshot-00069300.index\n",
      "69                  snapshot-00070900.index\n",
      "70    snapshot-00070900.data-00000-of-00001\n",
      "71                   snapshot-00070900.meta\n",
      "dtype: object\n"
     ]
    }
   ],
   "source": [
    "# vd.prune_logs(save_epochs=1, dry_run=True)\n",
    "vd.prune_snapshots(keep_first=72500, keep_last=134500, dry_run=True)\n",
    "# vd.hyper"
   ]
  },
  {
   "cell_type": "code",
   "execution_count": 8,
   "metadata": {},
   "outputs": [
    {
     "data": {
      "text/plain": [
       "42251.42857142857"
      ]
     },
     "execution_count": 8,
     "metadata": {},
     "output_type": "execute_result"
    }
   ],
   "source": [
    "vd.unstandardize_step(36970)"
   ]
  },
  {
   "cell_type": "code",
   "execution_count": null,
   "metadata": {
    "collapsed": true
   },
   "outputs": [],
   "source": []
  }
 ],
 "metadata": {
  "kernelspec": {
   "display_name": "Python 2",
   "language": "python",
   "name": "python2"
  },
  "language_info": {
   "codemirror_mode": {
    "name": "ipython",
    "version": 2
   },
   "file_extension": ".py",
   "mimetype": "text/x-python",
   "name": "python",
   "nbconvert_exporter": "python",
   "pygments_lexer": "ipython2",
   "version": "2.7.14"
  }
 },
 "nbformat": 4,
 "nbformat_minor": 2
}
