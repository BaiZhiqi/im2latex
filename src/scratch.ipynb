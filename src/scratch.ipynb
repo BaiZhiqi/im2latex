{
 "cells": [
  {
   "cell_type": "code",
   "execution_count": 1,
   "metadata": {
    "collapsed": true
   },
   "outputs": [],
   "source": [
    "import pandas as pd\n",
    "import os\n",
    "import re\n",
    "import codecs\n",
    "from IPython.display import display\n",
    "from six.moves import cPickle as pickle\n",
    "import string\n",
    "from PIL import Image\n",
    "import numpy as np\n",
    "import h5py"
   ]
  },
  {
   "cell_type": "code",
   "execution_count": 2,
   "metadata": {},
   "outputs": [
    {
     "data": {
      "text/html": [
       "<style>.container { width:80% !important; }</style>"
      ],
      "text/plain": [
       "<IPython.core.display.HTML object>"
      ]
     },
     "metadata": {},
     "output_type": "display_data"
    }
   ],
   "source": [
    "from IPython.core.display import display, HTML\n",
    "display(HTML(\"<style>.container { width:80% !important; }</style>\"))"
   ]
  },
  {
   "cell_type": "code",
   "execution_count": 3,
   "metadata": {
    "collapsed": true
   },
   "outputs": [],
   "source": [
    "width = None\n",
    "pd.options.display.max_rows = 600\n",
    "pd.options.display.max_columns = width\n",
    "pd.options.display.max_colwidth = 600\n",
    "pd.options.display.width = width\n",
    "pd.options.display.max_seq_items = None\n",
    "pd.options.display.expand_frame_repr = False\n",
    "pd.options.display.colheader_justify = 'left'"
   ]
  },
  {
   "cell_type": "code",
   "execution_count": 4,
   "metadata": {},
   "outputs": [
    {
     "name": "stderr",
     "output_type": "stream",
     "text": [
      "Using TensorFlow backend.\n"
     ]
    }
   ],
   "source": [
    "import data_commons as dtc\n",
    "import dl_commons as dlc\n",
    "import hyper_params as hp"
   ]
  },
  {
   "cell_type": "code",
   "execution_count": 5,
   "metadata": {},
   "outputs": [
    {
     "data": {
      "text/plain": [
       "<module 'data_commons' from 'data_commons.pyc'>"
      ]
     },
     "execution_count": 5,
     "metadata": {},
     "output_type": "execute_result"
    }
   ],
   "source": [
    "import data_commons as dtc\n",
    "reload(dtc)"
   ]
  },
  {
   "cell_type": "code",
   "execution_count": 6,
   "metadata": {
    "collapsed": true
   },
   "outputs": [],
   "source": [
    "one = dtc.load('./tb_metrics/2017-10-07 14-33-35 PDT/hyper.pkl')\n",
    "two = dtc.load('./tb_metrics/2017-10-08 12-26-45 PDT/hyper.pkl')"
   ]
  },
  {
   "cell_type": "code",
   "execution_count": 7,
   "metadata": {},
   "outputs": [
    {
     "name": "stdout",
     "output_type": "stream",
     "text": [
      "({'CALSTM_STACK_1': {'att_layers': {'biases_initializer': (<tensorflow.python.ops.init_ops.Zeros object at 0x7f1541b86810>,\n",
      "                                                           <tensorflow.python.ops.init_ops.Zeros object at 0x7f1541b963d0>)},\n",
      "                     'biases_initializer': (<tensorflow.python.ops.init_ops.Zeros object at 0x7f1541b86810>,\n",
      "                                            <tensorflow.python.ops.init_ops.Zeros object at 0x7f1541b963d0>),\n",
      "                     'decoder_lstm': {'i': (1512, 576)}},\n",
      "  'biases_initializer': (<tensorflow.python.ops.init_ops.Zeros object at 0x7f1541b86810>,\n",
      "                         <tensorflow.python.ops.init_ops.Zeros object at 0x7f1541b963d0>),\n",
      "  'init_model': {'biases_initializer': (<tensorflow.python.ops.init_ops.Zeros object at 0x7f1541b86810>,\n",
      "                                        <tensorflow.python.ops.init_ops.Zeros object at 0x7f1541b963d0>)},\n",
      "  'init_model_final_layers': {'biases_initializer': (<tensorflow.python.ops.init_ops.Zeros object at 0x7f1541b86810>,\n",
      "                                                     <tensorflow.python.ops.init_ops.Zeros object at 0x7f1541b963d0>)},\n",
      "  'optimizer': (<tensorflow.python.training.adam.AdamOptimizer object at 0x7f1541b96110>,\n",
      "                <tensorflow.python.training.adam.AdamOptimizer object at 0x7f1541b96410>),\n",
      "  'output_layers': {'biases_initializer': (<tensorflow.python.ops.init_ops.Zeros object at 0x7f1541b86810>,\n",
      "                                           <tensorflow.python.ops.init_ops.Zeros object at 0x7f1541b963d0>)}},\n",
      " {'CALSTM_STACK_1': {'att_layers': {'activation_fn': ('<function tanh at 0x7f0f551d3230>',\n",
      "                                                      '<function tanh at 0x7f5ceea85668>'),\n",
      "                                    'weights_initializer': ('<function _initializer at 0x7f0f4d0fa7d0>',\n",
      "                                                            '<function _initializer at 0x7f5cdf338668>'),\n",
      "                                    'weights_regularizer': ('<function l2 at 0x7f0fd4396230>',\n",
      "                                                            '<function l2 at 0x7f5d66613230>')},\n",
      "                     'decoder_lstm': {'weights_initializer': ('<function _initializer at 0x7f0f4d0fa7d0>',\n",
      "                                                              '<function _initializer at 0x7f5cdf338668>'),\n",
      "                                      'weights_regularizer': ('<function l2 at 0x7f0fd4396230>',\n",
      "                                                              '<function l2 at 0x7f5d66613230>')},\n",
      "                     'weights_initializer': ('<function _initializer at 0x7f0f4d0fa7d0>',\n",
      "                                             '<function _initializer at 0x7f5cdf338668>'),\n",
      "                     'weights_regularizer': ('<function l2 at 0x7f0fd4396230>',\n",
      "                                             '<function l2 at 0x7f5d66613230>')},\n",
      "  'embeddings_initializer': ('<function _initializer at 0x7f0f4d0fa7d0>',\n",
      "                             '<function _initializer at 0x7f5cdf338668>'),\n",
      "  'embeddings_regularizer': ('<function l2 at 0x7f0fd4396230>',\n",
      "                             '<function l2 at 0x7f5d66613230>'),\n",
      "  'init_model': {'activation_fn': ('<function relu at 0x7f0f552c9578>',\n",
      "                                   '<function relu at 0x7f5ceebeb9b0>'),\n",
      "                 'weights_initializer': ('<function _initializer at 0x7f0f4d0fa7d0>',\n",
      "                                         '<function _initializer at 0x7f5cdf338668>'),\n",
      "                 'weights_regularizer': ('<function l2 at 0x7f0fd4396230>',\n",
      "                                         '<function l2 at 0x7f5d66613230>')},\n",
      "  'init_model_final_layers': {'activation_fn': ('<function tanh at 0x7f0f551d3230>',\n",
      "                                                '<function tanh at 0x7f5ceea85668>'),\n",
      "                              'weights_initializer': ('<function _initializer at 0x7f0f4d0fa7d0>',\n",
      "                                                      '<function _initializer at 0x7f5cdf338668>'),\n",
      "                              'weights_regularizer': ('<function l2 at 0x7f0fd4396230>',\n",
      "                                                      '<function l2 at 0x7f5d66613230>')},\n",
      "  'output_layers': {'activation_fn': ('<function relu at 0x7f0f552c9578>',\n",
      "                                      '<function relu at 0x7f5ceebeb9b0>'),\n",
      "                    'weights_initializer': ('<function _initializer at 0x7f0f4d0fa7d0>',\n",
      "                                            '<function _initializer at 0x7f5cdf338668>'),\n",
      "                    'weights_regularizer': ('<function l2 at 0x7f0fd4396230>',\n",
      "                                            '<function l2 at 0x7f5d66613230>')},\n",
      "  'weights_initializer': ('<function _initializer at 0x7f0f4d0fa7d0>',\n",
      "                          '<function _initializer at 0x7f5cdf338668>'),\n",
      "  'weights_regularizer': ('<function l2 at 0x7f0fd4396230>',\n",
      "                          '<function l2 at 0x7f5d66613230>')})\n"
     ]
    }
   ],
   "source": [
    "dtc.pprint(dlc.diff_dict(one,two))"
   ]
  },
  {
   "cell_type": "code",
   "execution_count": null,
   "metadata": {
    "collapsed": true
   },
   "outputs": [],
   "source": [
    "import temp"
   ]
  },
  {
   "cell_type": "code",
   "execution_count": null,
   "metadata": {},
   "outputs": [],
   "source": [
    "bad = dtc.load('./tb_metrics/2017-10-08 12-26-45 PDT/hyper.pkl')"
   ]
  },
  {
   "cell_type": "code",
   "execution_count": null,
   "metadata": {},
   "outputs": [],
   "source": [
    "dtc.pprint(dlc.diff_dict(temp.orig_hyper, bad))"
   ]
  },
  {
   "cell_type": "code",
   "execution_count": null,
   "metadata": {},
   "outputs": [],
   "source": [
    "pd.DataFrame(temp.orig_args.diff_table(temp.mod_args))"
   ]
  },
  {
   "cell_type": "code",
   "execution_count": null,
   "metadata": {},
   "outputs": [],
   "source": [
    "pd.DataFrame(temp.orig_hyper.diff_table(temp.mod_hyper))"
   ]
  },
  {
   "cell_type": "code",
   "execution_count": null,
   "metadata": {},
   "outputs": [],
   "source": [
    "bad = dtc.load('./tb_metrics/2017-10-07 14-33-35 PDT/hyper.pkl')\n",
    "pd.DataFrame(temp.orig_hyper.diff_table(bad))"
   ]
  },
  {
   "cell_type": "code",
   "execution_count": null,
   "metadata": {
    "collapsed": true
   },
   "outputs": [],
   "source": []
  }
 ],
 "metadata": {
  "kernelspec": {
   "display_name": "Python 2",
   "language": "python",
   "name": "python2"
  },
  "language_info": {
   "codemirror_mode": {
    "name": "ipython",
    "version": 2
   },
   "file_extension": ".py",
   "mimetype": "text/x-python",
   "name": "python",
   "nbconvert_exporter": "python",
   "pygments_lexer": "ipython2",
   "version": "2.7.13"
  }
 },
 "nbformat": 4,
 "nbformat_minor": 2
}
