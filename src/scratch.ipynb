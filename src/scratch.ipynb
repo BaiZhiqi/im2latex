{
 "cells": [
  {
   "cell_type": "code",
   "execution_count": 1,
   "metadata": {},
   "outputs": [
    {
     "data": {
      "text/html": [
       "<style>.container { width:80% !important; }</style>"
      ],
      "text/plain": [
       "<IPython.core.display.HTML object>"
      ]
     },
     "metadata": {},
     "output_type": "display_data"
    }
   ],
   "source": [
    "from IPython.core.display import display, HTML\n",
    "display(HTML(\"<style>.container { width:80% !important; }</style>\"))"
   ]
  },
  {
   "cell_type": "code",
   "execution_count": 2,
   "metadata": {
    "collapsed": true
   },
   "outputs": [],
   "source": [
    "import pandas as pd\n",
    "import os\n",
    "import re\n",
    "import codecs\n",
    "from IPython.display import display\n",
    "from six.moves import cPickle as pickle\n",
    "import string\n",
    "from PIL import Image\n",
    "import numpy as np\n",
    "import h5py"
   ]
  },
  {
   "cell_type": "code",
   "execution_count": 3,
   "metadata": {
    "collapsed": true
   },
   "outputs": [],
   "source": [
    "width = None\n",
    "pd.options.display.max_rows = 600\n",
    "pd.options.display.max_columns = width\n",
    "pd.options.display.max_colwidth = 600\n",
    "pd.options.display.width = width\n",
    "pd.options.display.max_seq_items = None\n",
    "pd.options.display.expand_frame_repr = False\n",
    "pd.options.display.colheader_justify = 'left'"
   ]
  },
  {
   "cell_type": "code",
   "execution_count": 4,
   "metadata": {},
   "outputs": [
    {
     "name": "stderr",
     "output_type": "stream",
     "text": [
      "Using TensorFlow backend.\n"
     ]
    }
   ],
   "source": [
    "import data_commons as dtc\n",
    "import dl_commons as dlc\n",
    "import hyper_params as hp"
   ]
  },
  {
   "cell_type": "code",
   "execution_count": 5,
   "metadata": {},
   "outputs": [],
   "source": [
    "import data_commons as dtc"
   ]
  },
  {
   "cell_type": "code",
   "execution_count": 6,
   "metadata": {
    "collapsed": true
   },
   "outputs": [],
   "source": [
    "one = dtc.load('./tb_metrics/2017-10-07 14-33-35 PDT/hyper.pkl')\n",
    "two = dtc.load('./tb_metrics/2017-10-08 12-26-45 PDT/hyper.pkl')"
   ]
  },
  {
   "cell_type": "code",
   "execution_count": 19,
   "metadata": {},
   "outputs": [],
   "source": [
    "two.dropout"
   ]
  },
  {
   "cell_type": "code",
   "execution_count": 7,
   "metadata": {},
   "outputs": [
    {
     "name": "stdout",
     "output_type": "stream",
     "text": [
      "({'CALSTM_STACK_1': {'decoder_lstm': {'i': ('1512', '576')}}},\n",
      " {'CALSTM_STACK_1': {'att_layers': {'activation_fn': ('<function tanh at 0x7f0f551d3230>',\n",
      "                                                      '<function tanh at 0x7f5ceea85668>'),\n",
      "                                    'biases_initializer': ('<tensorflow.python.ops.init_ops.Zeros object at 0x7f13b2388c10>',\n",
      "                                                           '<tensorflow.python.ops.init_ops.Zeros object at 0x7f13b2388e90>'),\n",
      "                                    'weights_initializer': ('<function _initializer at 0x7f0f4d0fa7d0>',\n",
      "                                                            '<function _initializer at 0x7f5cdf338668>'),\n",
      "                                    'weights_regularizer': ('<function l2 at 0x7f0fd4396230>',\n",
      "                                                            '<function l2 at 0x7f5d66613230>')},\n",
      "                     'biases_initializer': ('<tensorflow.python.ops.init_ops.Zeros object at 0x7f13b2388c10>',\n",
      "                                            '<tensorflow.python.ops.init_ops.Zeros object at 0x7f13b2388e90>'),\n",
      "                     'decoder_lstm': {'weights_initializer': ('<function _initializer at 0x7f0f4d0fa7d0>',\n",
      "                                                              '<function _initializer at 0x7f5cdf338668>'),\n",
      "                                      'weights_regularizer': ('<function l2 at 0x7f0fd4396230>',\n",
      "                                                              '<function l2 at 0x7f5d66613230>')},\n",
      "                     'weights_initializer': ('<function _initializer at 0x7f0f4d0fa7d0>',\n",
      "                                             '<function _initializer at 0x7f5cdf338668>'),\n",
      "                     'weights_regularizer': ('<function l2 at 0x7f0fd4396230>',\n",
      "                                             '<function l2 at 0x7f5d66613230>')},\n",
      "  'biases_initializer': ('<tensorflow.python.ops.init_ops.Zeros object at 0x7f13b2388c10>',\n",
      "                         '<tensorflow.python.ops.init_ops.Zeros object at 0x7f13b2388e90>'),\n",
      "  'embeddings_initializer': ('<function _initializer at 0x7f0f4d0fa7d0>',\n",
      "                             '<function _initializer at 0x7f5cdf338668>'),\n",
      "  'embeddings_regularizer': ('<function l2 at 0x7f0fd4396230>',\n",
      "                             '<function l2 at 0x7f5d66613230>'),\n",
      "  'init_model': {'activation_fn': ('<function relu at 0x7f0f552c9578>',\n",
      "                                   '<function relu at 0x7f5ceebeb9b0>'),\n",
      "                 'biases_initializer': ('<tensorflow.python.ops.init_ops.Zeros object at 0x7f13b2388c10>',\n",
      "                                        '<tensorflow.python.ops.init_ops.Zeros object at 0x7f13b2388e90>'),\n",
      "                 'weights_initializer': ('<function _initializer at 0x7f0f4d0fa7d0>',\n",
      "                                         '<function _initializer at 0x7f5cdf338668>'),\n",
      "                 'weights_regularizer': ('<function l2 at 0x7f0fd4396230>',\n",
      "                                         '<function l2 at 0x7f5d66613230>')},\n",
      "  'init_model_final_layers': {'activation_fn': ('<function tanh at 0x7f0f551d3230>',\n",
      "                                                '<function tanh at 0x7f5ceea85668>'),\n",
      "                              'biases_initializer': ('<tensorflow.python.ops.init_ops.Zeros object at 0x7f13b2388c10>',\n",
      "                                                     '<tensorflow.python.ops.init_ops.Zeros object at 0x7f13b2388e90>'),\n",
      "                              'weights_initializer': ('<function _initializer at 0x7f0f4d0fa7d0>',\n",
      "                                                      '<function _initializer at 0x7f5cdf338668>'),\n",
      "                              'weights_regularizer': ('<function l2 at 0x7f0fd4396230>',\n",
      "                                                      '<function l2 at 0x7f5d66613230>')},\n",
      "  'optimizer': ('<tensorflow.python.training.adam.AdamOptimizer object at 0x7f13b2388c50>',\n",
      "                '<tensorflow.python.training.adam.AdamOptimizer object at 0x7f13b2388ed0>'),\n",
      "  'output_layers': {'activation_fn': ('<function relu at 0x7f0f552c9578>',\n",
      "                                      '<function relu at 0x7f5ceebeb9b0>'),\n",
      "                    'biases_initializer': ('<tensorflow.python.ops.init_ops.Zeros object at 0x7f13b2388c10>',\n",
      "                                           '<tensorflow.python.ops.init_ops.Zeros object at 0x7f13b2388e90>'),\n",
      "                    'weights_initializer': ('<function _initializer at 0x7f0f4d0fa7d0>',\n",
      "                                            '<function _initializer at 0x7f5cdf338668>'),\n",
      "                    'weights_regularizer': ('<function l2 at 0x7f0fd4396230>',\n",
      "                                            '<function l2 at 0x7f5d66613230>')},\n",
      "  'weights_initializer': ('<function _initializer at 0x7f0f4d0fa7d0>',\n",
      "                          '<function _initializer at 0x7f5cdf338668>'),\n",
      "  'weights_regularizer': ('<function l2 at 0x7f0fd4396230>',\n",
      "                          '<function l2 at 0x7f5d66613230>')})\n"
     ]
    }
   ],
   "source": [
    "dtc.pprint(dlc.diff_dict(dlc.to_dict(one), dlc.to_dict(two)) )"
   ]
  },
  {
   "cell_type": "code",
   "execution_count": 8,
   "metadata": {},
   "outputs": [
    {
     "data": {
      "text/plain": [
       "{'B': '96',\n",
       " 'CALSTM_STACK': [{'B': '96',\n",
       "   'CTCBlankTokenID': 'None',\n",
       "   'D': '512',\n",
       "   'H': '3',\n",
       "   'K': '557',\n",
       "   'L': '99',\n",
       "   'MaxSeqLen': '151',\n",
       "   'NullTokenID': '0',\n",
       "   'SpaceTokenID': '556',\n",
       "   'StartTokenID': '1',\n",
       "   'W': '33',\n",
       "   'att_layers': {'activation_fn': '<function tanh at 0x7f13ba1e9488>',\n",
       "    'biases_initializer': '<tensorflow.python.ops.init_ops.Zeros object at 0x7f13b23f5f50>',\n",
       "    'biases_regularizer': 'None',\n",
       "    'dropout': 'None',\n",
       "    'layers_units': ['512'],\n",
       "    'normalizer_fn': 'None',\n",
       "    'op_name': 'MLP',\n",
       "    'tb': {'tb_activations': 'Activations',\n",
       "     'tb_biases': 'Biases',\n",
       "     'tb_logdir': 'tb_metrics',\n",
       "     'tb_weights': 'Weights'},\n",
       "    'weights_initializer': '<function _initializer at 0x7f13b23819b0>',\n",
       "    'weights_regularizer': '<function l2 at 0x7f144c394758>'},\n",
       "   'att_share_weights': 'True',\n",
       "   'att_weighted_gather': 'True',\n",
       "   'biases_initializer': '<tensorflow.python.ops.init_ops.Zeros object at 0x7f13b23f5f50>',\n",
       "   'biases_regularizer': 'None',\n",
       "   'build_image_context': '0',\n",
       "   'decoder_lstm': {'B': '96',\n",
       "    'dropout': 'None',\n",
       "    'dtype': \"<dtype: 'float32'>\",\n",
       "    'forget_bias': '1.0',\n",
       "    'i': '1512',\n",
       "    'layers_units': ['1000', '1000'],\n",
       "    'op_name': 'LSTMWrapper',\n",
       "    'tb': {'tb_activations': 'Activations',\n",
       "     'tb_biases': 'Biases',\n",
       "     'tb_logdir': 'tb_metrics',\n",
       "     'tb_weights': 'Weights'},\n",
       "    'type': 'lstm',\n",
       "    'use_peephole': 'True',\n",
       "    'weights_initializer': '<function _initializer at 0x7f13b23819b0>',\n",
       "    'weights_regularizer': '<function l2 at 0x7f144c394758>'},\n",
       "   'dropout': 'None',\n",
       "   'dtype': \"<dtype: 'float32'>\",\n",
       "   'dtype_np': \"<type 'numpy.float32'>\",\n",
       "   'image_shape_unframed': ['120', '1075', '3'],\n",
       "   'int_type': \"<dtype: 'int32'>\",\n",
       "   'int_type_np': \"<type 'numpy.int32'>\",\n",
       "   'logger': 'None',\n",
       "   'm': '64',\n",
       "   'n': '1000',\n",
       "   'rLambda': '0.0005',\n",
       "   'tb': {'tb_activations': 'Activations',\n",
       "    'tb_biases': 'Biases',\n",
       "    'tb_logdir': 'tb_metrics',\n",
       "    'tb_weights': 'Weights'},\n",
       "   'use_ctc_loss': 'False',\n",
       "   'use_peephole': 'True',\n",
       "   'weights_initializer': '<function _initializer at 0x7f13b23819b0>',\n",
       "   'weights_regularizer': '<function l2 at 0x7f144c394758>'}],\n",
       " 'CONVNET': 'None',\n",
       " 'CTCBlankTokenID': 'None',\n",
       " 'D': '512',\n",
       " 'DecodingSlack': '20',\n",
       " 'H': '3',\n",
       " 'K': '557',\n",
       " 'L': '99',\n",
       " 'MaxDecodeLen': '171',\n",
       " 'MaxSeqLen': '151',\n",
       " 'MeanSumAlphaEquals1': 'True',\n",
       " 'NullTokenID': '0',\n",
       " 'SpaceTokenID': '556',\n",
       " 'StartTokenID': '1',\n",
       " 'W': '33',\n",
       " 'adam_alpha': '0.0001',\n",
       " 'assert_whole_batch': 'True',\n",
       " 'beamsearch_length_penalty': '0.6',\n",
       " 'biases_initializer': '<tensorflow.python.ops.init_ops.Zeros object at 0x7f13b23f5f50>',\n",
       " 'biases_regularizer': 'None',\n",
       " 'build_image_context': '0',\n",
       " 'ctc_beam_width': 'None',\n",
       " 'data_reader_B': '192',\n",
       " 'dropout': 'None',\n",
       " 'dtype': \"<dtype: 'float32'>\",\n",
       " 'dtype_np': \"<type 'numpy.float32'>\",\n",
       " 'embeddings_initializer': '<function _initializer at 0x7f13b23819b0>',\n",
       " 'embeddings_regularizer': '<function l2 at 0x7f144c394758>',\n",
       " 'image_frame_width': '0',\n",
       " 'image_shape': ['120', '1075', '3'],\n",
       " 'image_shape_unframed': ['120', '1075', '3'],\n",
       " 'init_model': {'activation_fn': '<function relu at 0x7f13ba2e67d0>',\n",
       "  'biases_initializer': '<tensorflow.python.ops.init_ops.Zeros object at 0x7f13b23f5f50>',\n",
       "  'biases_regularizer': 'None',\n",
       "  'dropout': 'None',\n",
       "  'layers_units': ['512'],\n",
       "  'normalizer_fn': 'None',\n",
       "  'op_name': 'MLP',\n",
       "  'tb': {'tb_activations': 'Activations',\n",
       "   'tb_biases': 'Biases',\n",
       "   'tb_logdir': 'tb_metrics',\n",
       "   'tb_weights': 'Weights'},\n",
       "  'weights_initializer': '<function _initializer at 0x7f13b23819b0>',\n",
       "  'weights_regularizer': '<function l2 at 0x7f144c394758>'},\n",
       " 'init_model_final_layers': {'activation_fn': '<function tanh at 0x7f13ba1e9488>',\n",
       "  'biases_initializer': '<tensorflow.python.ops.init_ops.Zeros object at 0x7f13b23f5f50>',\n",
       "  'biases_regularizer': 'None',\n",
       "  'dropout': 'None',\n",
       "  'normalizer_fn': 'None',\n",
       "  'num_units': 'None',\n",
       "  'tb': {'tb_activations': 'Activations',\n",
       "   'tb_biases': 'Biases',\n",
       "   'tb_logdir': 'tb_metrics',\n",
       "   'tb_weights': 'Weights'},\n",
       "  'weights_initializer': '<function _initializer at 0x7f13b23819b0>',\n",
       "  'weights_regularizer': '<function l2 at 0x7f144c394758>'},\n",
       " 'input_queue_capacity': '6',\n",
       " 'int_type': \"<dtype: 'int32'>\",\n",
       " 'int_type_np': \"<type 'numpy.int32'>\",\n",
       " 'k': '5',\n",
       " 'logger': 'None',\n",
       " 'm': '64',\n",
       " 'n': '1000',\n",
       " 'no_ctc_merge_repeated': 'True',\n",
       " 'no_towers': 'False',\n",
       " 'num_gpus': '2',\n",
       " 'optimizer': '<tensorflow.python.training.adam.AdamOptimizer object at 0x7f13b23b4210>',\n",
       " 'output_follow_paper': 'True',\n",
       " 'output_layers': {'activation_fn': '<function relu at 0x7f13ba2e67d0>',\n",
       "  'biases_initializer': '<tensorflow.python.ops.init_ops.Zeros object at 0x7f13b23f5f50>',\n",
       "  'biases_regularizer': 'None',\n",
       "  'dropout': 'None',\n",
       "  'layers_units': ['64', '557'],\n",
       "  'normalizer_fn': 'None',\n",
       "  'op_name': 'yLogits_MLP',\n",
       "  'tb': {'tb_activations': 'Activations',\n",
       "   'tb_biases': 'Biases',\n",
       "   'tb_logdir': 'tb_metrics',\n",
       "   'tb_weights': 'Weights'},\n",
       "  'weights_initializer': '<function _initializer at 0x7f13b23819b0>',\n",
       "  'weights_regularizer': '<function l2 at 0x7f144c394758>'},\n",
       " 'pLambda': '0.0005',\n",
       " 'rLambda': '0.0005',\n",
       " 'seq2seq_beam_width': 'None',\n",
       " 'squash_input_seq': 'False',\n",
       " 'sum_logloss': 'True',\n",
       " 'swap_memory': 'False',\n",
       " 'tb': {'tb_activations': 'Activations',\n",
       "  'tb_biases': 'Biases',\n",
       "  'tb_logdir': 'tb_metrics',\n",
       "  'tb_weights': 'Weights'},\n",
       " 'tf_session_allow_growth': 'False',\n",
       " 'use_ctc_loss': 'False',\n",
       " 'use_peephole': 'True',\n",
       " 'weights_initializer': '<function _initializer at 0x7f13b23819b0>',\n",
       " 'weights_regularizer': '<function l2 at 0x7f144c394758>'}"
      ]
     },
     "execution_count": 8,
     "metadata": {},
     "output_type": "execute_result"
    }
   ],
   "source": [
    "hyper = hp.make_hyper({'num_gpus':2, 'build_image_context':0})\n",
    "dlc.to_dict(hyper)"
   ]
  },
  {
   "cell_type": "code",
   "execution_count": 12,
   "metadata": {},
   "outputs": [
    {
     "ename": "TypeError",
     "evalue": "__call__() takes exactly 3 arguments (1 given)",
     "output_type": "error",
     "traceback": [
      "\u001b[0;31m\u001b[0m",
      "\u001b[0;31mTypeError\u001b[0mTraceback (most recent call last)",
      "\u001b[0;32m<ipython-input-12-690e18bc66ce>\u001b[0m in \u001b[0;36m<module>\u001b[0;34m()\u001b[0m\n\u001b[0;32m----> 1\u001b[0;31m \u001b[0mhyper\u001b[0m\u001b[0;34m.\u001b[0m\u001b[0mCALSTM_STACK\u001b[0m\u001b[0;34m[\u001b[0m\u001b[0;36m0\u001b[0m\u001b[0;34m]\u001b[0m\u001b[0;34m.\u001b[0m\u001b[0mdecoder_lstm\u001b[0m\u001b[0;34m.\u001b[0m\u001b[0m_rvn\u001b[0m\u001b[0;34m(\u001b[0m\u001b[0;34m'i'\u001b[0m\u001b[0;34m)\u001b[0m\u001b[0;34m(\u001b[0m\u001b[0;34m)\u001b[0m\u001b[0;34m\u001b[0m\u001b[0m\n\u001b[0m",
      "\u001b[0;31mTypeError\u001b[0m: __call__() takes exactly 3 arguments (1 given)"
     ]
    }
   ],
   "source": [
    "hyper.CALSTM_STACK[0].decoder_lstm._rvn('i')"
   ]
  },
  {
   "cell_type": "code",
   "execution_count": null,
   "metadata": {
    "collapsed": true
   },
   "outputs": [],
   "source": [
    "import temp"
   ]
  },
  {
   "cell_type": "code",
   "execution_count": null,
   "metadata": {},
   "outputs": [],
   "source": [
    "bad = dtc.load('./tb_metrics/2017-10-08 12-26-45 PDT/hyper.pkl')"
   ]
  },
  {
   "cell_type": "code",
   "execution_count": null,
   "metadata": {},
   "outputs": [],
   "source": [
    "dtc.pprint(dlc.diff_dict(temp.orig_hyper, bad))"
   ]
  },
  {
   "cell_type": "code",
   "execution_count": null,
   "metadata": {},
   "outputs": [],
   "source": [
    "pd.DataFrame(temp.orig_args.diff_table(temp.mod_args))"
   ]
  },
  {
   "cell_type": "code",
   "execution_count": null,
   "metadata": {},
   "outputs": [],
   "source": [
    "pd.DataFrame(temp.orig_hyper.diff_table(temp.mod_hyper))"
   ]
  },
  {
   "cell_type": "code",
   "execution_count": null,
   "metadata": {},
   "outputs": [],
   "source": [
    "bad = dtc.load('./tb_metrics/2017-10-07 14-33-35 PDT/hyper.pkl')\n",
    "pd.DataFrame(temp.orig_hyper.diff_table(bad))"
   ]
  },
  {
   "cell_type": "code",
   "execution_count": null,
   "metadata": {
    "collapsed": true
   },
   "outputs": [],
   "source": []
  }
 ],
 "metadata": {
  "kernelspec": {
   "display_name": "Python 2",
   "language": "python",
   "name": "python2"
  },
  "language_info": {
   "codemirror_mode": {
    "name": "ipython",
    "version": 2
   },
   "file_extension": ".py",
   "mimetype": "text/x-python",
   "name": "python",
   "nbconvert_exporter": "python",
   "pygments_lexer": "ipython2",
   "version": "2.7.13"
  }
 },
 "nbformat": 4,
 "nbformat_minor": 2
}
