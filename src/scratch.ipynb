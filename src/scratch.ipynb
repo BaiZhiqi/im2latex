{
 "cells": [
  {
   "cell_type": "code",
   "execution_count": 1,
   "metadata": {},
   "outputs": [
    {
     "data": {
      "text/html": [
       "<style>.container { width:80% !important; }</style>"
      ],
      "text/plain": [
       "<IPython.core.display.HTML object>"
      ]
     },
     "metadata": {},
     "output_type": "display_data"
    }
   ],
   "source": [
    "from IPython.core.display import display, HTML\n",
    "display(HTML(\"<style>.container { width:80% !important; }</style>\"))"
   ]
  },
  {
   "cell_type": "code",
   "execution_count": 2,
   "metadata": {
    "collapsed": true
   },
   "outputs": [],
   "source": [
    "import pandas as pd\n",
    "import os\n",
    "import re\n",
    "import codecs\n",
    "from IPython.display import display\n",
    "from six.moves import cPickle as pickle\n",
    "import string\n",
    "from PIL import Image\n",
    "import numpy as np\n",
    "import h5py"
   ]
  },
  {
   "cell_type": "code",
   "execution_count": 3,
   "metadata": {
    "collapsed": true
   },
   "outputs": [],
   "source": [
    "width = None\n",
    "pd.options.display.max_rows = 600\n",
    "pd.options.display.max_columns = width\n",
    "pd.options.display.max_colwidth = 600\n",
    "pd.options.display.width = width\n",
    "pd.options.display.max_seq_items = None\n",
    "pd.options.display.expand_frame_repr = False\n",
    "pd.options.display.colheader_justify = 'left'"
   ]
  },
  {
   "cell_type": "code",
   "execution_count": 4,
   "metadata": {},
   "outputs": [
    {
     "name": "stderr",
     "output_type": "stream",
     "text": [
      "Using TensorFlow backend.\n"
     ]
    }
   ],
   "source": [
    "import data_commons as dtc\n",
    "import dl_commons as dlc\n",
    "import hyper_params as hp"
   ]
  },
  {
   "cell_type": "code",
   "execution_count": 11,
   "metadata": {},
   "outputs": [],
   "source": [
    "one = dtc.load('./tb_metrics/2017-09-26 22-40-18 PDT/hyper.pkl')\n",
    "two = dtc.load('./tb_metrics/2017-10-07 14-33-35 PDT/hyper.pkl')\n",
    "three = dtc.load('./tb_metrics_dev/2017-10-09 12-45-15 PDT/hyper.pkl')\n",
    "one = dlc.to_dict(one)\n",
    "two = dlc.to_dict(two)\n",
    "three = dlc.to_dict(three)"
   ]
  },
  {
   "cell_type": "code",
   "execution_count": 8,
   "metadata": {
    "scrolled": true
   },
   "outputs": [
    {
     "name": "stdout",
     "output_type": "stream",
     "text": [
      "({'B': '40 != 40',\n",
      "  'CALSTM_STACK_1': {'B': '40 != 40',\n",
      "                     'CTCBlankTokenID': '556 != None',\n",
      "                     'D': '512 != 512',\n",
      "                     'H': '3 != 3',\n",
      "                     'K': '557 != 557',\n",
      "                     'L': '99 != 99',\n",
      "                     'MaxSeqLen': '151 != 151',\n",
      "                     'NullTokenID': '0 != 0',\n",
      "                     'SpaceTokenID': '556 != 556',\n",
      "                     'StartTokenID': '556 != 556',\n",
      "                     'W': '33 != 33',\n",
      "                     'att_layers': {'biases_regularizer': 'None != None',\n",
      "                                    'dropout': 'None != None',\n",
      "                                    'layers_units': \"['512'] != [512]\",\n",
      "                                    'normalizer_fn': 'None != None'},\n",
      "                     'att_share_weights': 'True != True',\n",
      "                     'att_weighted_gather': 'True != True',\n",
      "                     'biases_regularizer': 'None != None',\n",
      "                     'build_image_context': '0 != 0',\n",
      "                     'decoder_lstm': {'B': '40 != 40',\n",
      "                                      'dropout': 'None != None',\n",
      "                                      'dtype': \"tf.float32 != <dtype: 'float32'>\",\n",
      "                                      'forget_bias': '1.0 != 1.0',\n",
      "                                      'i': '576 != 1512',\n",
      "                                      'layers_units': \"['1000', '1000'] != [1000, 1000]\",\n",
      "                                      'use_peephole': 'True != True'},\n",
      "                     'dropout': 'None != None',\n",
      "                     'dtype': \"tf.float32 != <dtype: 'float32'>\",\n",
      "                     'dtype_np': \"<type numpy.float32> != <type 'numpy.float32'>\",\n",
      "                     'image_shape_unframed': \"['120', '1075', '3'] != [120, 1075, 3]\",\n",
      "                     'int_type': \"tf.int32 != <dtype: 'int32'>\",\n",
      "                     'int_type_np': \"<type numpy.int32> != <type 'numpy.int32'>\",\n",
      "                     'logger': '<logging.Logger object at 0x7f4006201410> != None',\n",
      "                     'm': '64 != 64',\n",
      "                     'n': '1000 != 1000',\n",
      "                     'rLambda': '5e-05 != 5e-05',\n",
      "                     'use_peephole': 'True != True'},\n",
      "  'CONVNET': 'None != None',\n",
      "  'CTCBlankTokenID': '556 != None',\n",
      "  'D': '512 != 512',\n",
      "  'DecodingSlack': '20 != 20',\n",
      "  'H': '3 != 3',\n",
      "  'K': '557 != 557',\n",
      "  'L': '99 != 99',\n",
      "  'MaxDecodeLen': '171 != 171',\n",
      "  'MaxSeqLen': '151 != 151',\n",
      "  'MeanSumAlphaEquals1': 'False != False',\n",
      "  'NullTokenID': '0 != 0',\n",
      "  'SpaceTokenID': '556 != 556',\n",
      "  'StartTokenID': '556 != 556',\n",
      "  'W': '33 != 33',\n",
      "  'adam_alpha': '0.0001 != 0.0001',\n",
      "  'assert_whole_batch': 'False != False',\n",
      "  'beamsearch_length_penalty': '1.0 != 1.0',\n",
      "  'biases_regularizer': 'None != None',\n",
      "  'build_image_context': '0 != 0',\n",
      "  'ctc_beam_width': '10 != 10',\n",
      "  'data_reader_B': '80 != 80',\n",
      "  'dropout': 'None != None',\n",
      "  'dtype': \"tf.float32 != <dtype: 'float32'>\",\n",
      "  'dtype_np': \"<type numpy.float32> != <type 'numpy.float32'>\",\n",
      "  'image_frame_width': '0 != 0',\n",
      "  'image_shape': \"['120', '1075', '3'] != [120, 1075, 3]\",\n",
      "  'image_shape_unframed': \"['120', '1075', '3'] != [120, 1075, 3]\",\n",
      "  'init_model': {'biases_regularizer': 'None != None',\n",
      "                 'dropout': 'None != None',\n",
      "                 'layers_units': \"['512'] != [512]\",\n",
      "                 'normalizer_fn': 'None != None'},\n",
      "  'init_model_final_layers': {'biases_regularizer': 'None != None',\n",
      "                              'dropout': 'None != None',\n",
      "                              'normalizer_fn': 'None != None',\n",
      "                              'num_units': 'None != None'},\n",
      "  'input_queue_capacity': '6 != 6',\n",
      "  'int_type': \"tf.int32 != <dtype: 'int32'>\",\n",
      "  'int_type_np': \"<type numpy.int32> != <type 'numpy.int32'>\",\n",
      "  'k': '5 != 5',\n",
      "  'logger': '<logging.Logger object at 0x7f4006201410> != None',\n",
      "  'm': '64 != 64',\n",
      "  'n': '1000 != 1000',\n",
      "  'no_ctc_merge_repeated': 'True != True',\n",
      "  'no_towers': 'False != False',\n",
      "  'num_gpus': '2 != 2',\n",
      "  'output_follow_paper': 'True != True',\n",
      "  'output_layers': {'biases_regularizer': 'None != None',\n",
      "                    'dropout': 'None != None',\n",
      "                    'layers_units': \"['64', '557'] != [64, 557]\",\n",
      "                    'normalizer_fn': 'None != None'},\n",
      "  'pLambda': '0.005 != 0.005',\n",
      "  'rLambda': '5e-05 != 5e-05',\n",
      "  'seq2seq_beam_width': '10 != 10',\n",
      "  'squash_input_seq': 'True != True',\n",
      "  'sum_logloss': 'False != False',\n",
      "  'swap_memory': 'False != False',\n",
      "  'tf_session_allow_growth': 'False != False',\n",
      "  'use_ctc_loss': 'False != False',\n",
      "  'use_peephole': 'True != True'},\n",
      " {'CALSTM_STACK_1': {'att_layers': {'activation_fn': '<function tanh at 0x7f4079de36e0> != <function tanh at 0x7f0f551d3230>',\n",
      "                                    'biases_initializer': '<tensorflow.python.ops.init_ops.Zeros object at 0x7f40061ea810> != <tensorflow.python.ops.init_ops.Zeros object at 0x7f26af81af90>',\n",
      "                                    'weights_initializer': '<function _initializer at 0x7f40062d3b18> != <function _initializer at 0x7f0f4d0fa7d0>',\n",
      "                                    'weights_regularizer': '<function l2 at 0x7f406bd2b8c0> != <function l2 at 0x7f0fd4396230>'},\n",
      "                     'biases_initializer': '<tensorflow.python.ops.init_ops.Zeros object at 0x7f40061ea810> != <tensorflow.python.ops.init_ops.Zeros object at 0x7f26af81af90>',\n",
      "                     'decoder_lstm': {'weights_initializer': '<function _initializer at 0x7f40062d3b18> != <function _initializer at 0x7f0f4d0fa7d0>',\n",
      "                                      'weights_regularizer': '<function l2 at 0x7f406bd2b8c0> != <function l2 at 0x7f0fd4396230>'},\n",
      "                     'weights_initializer': '<function _initializer at 0x7f40062d3b18> != <function _initializer at 0x7f0f4d0fa7d0>',\n",
      "                     'weights_regularizer': '<function l2 at 0x7f406bd2b8c0> != <function l2 at 0x7f0fd4396230>'},\n",
      "  'biases_initializer': '<tensorflow.python.ops.init_ops.Zeros object at 0x7f40061ea810> != <tensorflow.python.ops.init_ops.Zeros object at 0x7f26af81af90>',\n",
      "  'embeddings_initializer': '<function _initializer at 0x7f40062d3b18> != <function _initializer at 0x7f0f4d0fa7d0>',\n",
      "  'embeddings_regularizer': '<function l2 at 0x7f406bd2b8c0> != <function l2 at 0x7f0fd4396230>',\n",
      "  'init_model': {'activation_fn': '<function relu at 0x7f4079eeaa28> != <function relu at 0x7f0f552c9578>',\n",
      "                 'biases_initializer': '<tensorflow.python.ops.init_ops.Zeros object at 0x7f40061ea810> != <tensorflow.python.ops.init_ops.Zeros object at 0x7f26af81af90>',\n",
      "                 'weights_initializer': '<function _initializer at 0x7f40062d3b18> != <function _initializer at 0x7f0f4d0fa7d0>',\n",
      "                 'weights_regularizer': '<function l2 at 0x7f406bd2b8c0> != <function l2 at 0x7f0fd4396230>'},\n",
      "  'init_model_final_layers': {'activation_fn': '<function tanh at 0x7f4079de36e0> != <function tanh at 0x7f0f551d3230>',\n",
      "                              'biases_initializer': '<tensorflow.python.ops.init_ops.Zeros object at 0x7f40061ea810> != <tensorflow.python.ops.init_ops.Zeros object at 0x7f26af81af90>',\n",
      "                              'weights_initializer': '<function _initializer at 0x7f40062d3b18> != <function _initializer at 0x7f0f4d0fa7d0>',\n",
      "                              'weights_regularizer': '<function l2 at 0x7f406bd2b8c0> != <function l2 at 0x7f0fd4396230>'},\n",
      "  'optimizer': '<tensorflow.python.training.adam.AdamOptimizer object at 0x7f40062223d0> != <tensorflow.python.training.adam.AdamOptimizer object at 0x7f26af81afd0>',\n",
      "  'output_layers': {'activation_fn': '<function relu at 0x7f4079eeaa28> != <function relu at 0x7f0f552c9578>',\n",
      "                    'biases_initializer': '<tensorflow.python.ops.init_ops.Zeros object at 0x7f40061ea810> != <tensorflow.python.ops.init_ops.Zeros object at 0x7f26af81af90>',\n",
      "                    'weights_initializer': '<function _initializer at 0x7f40062d3b18> != <function _initializer at 0x7f0f4d0fa7d0>',\n",
      "                    'weights_regularizer': '<function l2 at 0x7f406bd2b8c0> != <function l2 at 0x7f0fd4396230>'},\n",
      "  'weights_initializer': '<function _initializer at 0x7f40062d3b18> != <function _initializer at 0x7f0f4d0fa7d0>',\n",
      "  'weights_regularizer': '<function l2 at 0x7f406bd2b8c0> != <function l2 at 0x7f0fd4396230>'})\n"
     ]
    }
   ],
   "source": [
    "dtc.pprint(dlc.diff_dict(one, two) )"
   ]
  },
  {
   "cell_type": "code",
   "execution_count": 9,
   "metadata": {},
   "outputs": [
    {
     "data": {
      "text/plain": [
       "({'StartTokenID': 'dl_commons.equalto object at 0x7f40062015d0 != <dl_commons.equalto object at 0x7f5cdf2e5650>',\n",
       "  'logdir': 'tb_metrics/2017-09-26 22-40-18 PDT != tb_metrics/2017-10-08 12-26-45 PDT',\n",
       "  'logger': 'logging.Logger object at 0x7f4006201410 != <logging.Logger object at 0x7f5cdf2f4410>'},\n",
       " {})"
      ]
     },
     "execution_count": 9,
     "metadata": {},
     "output_type": "execute_result"
    }
   ],
   "source": [
    "import temp\n",
    "dlc.diff_dict(dlc.to_dict(temp.orig_args), dlc.to_dict(temp.mod_args))"
   ]
  },
  {
   "cell_type": "code",
   "execution_count": 10,
   "metadata": {},
   "outputs": [
    {
     "data": {
      "text/plain": [
       "({'CALSTM_STACK_1': {'CTCBlankTokenID': '556 != None',\n",
       "   'logger': '<logging.Logger object at 0x7f4006201410> != None'},\n",
       "  'CTCBlankTokenID': '556 != None',\n",
       "  'logger': '<logging.Logger object at 0x7f4006201410> != <logging.Logger object at 0x7f5cdf2f4410>'},\n",
       " {'CALSTM_STACK_1': {'att_layers': {'activation_fn': '<function tanh at 0x7f4079de36e0> != <function tanh at 0x7f5ceea85668>',\n",
       "    'biases_initializer': '<tensorflow.python.ops.init_ops.Zeros object at 0x7f40061ea810> != <tensorflow.python.ops.init_ops.Zeros object at 0x7f5cdf33b610>',\n",
       "    'weights_initializer': '<function _initializer at 0x7f40062d3b18> != <function _initializer at 0x7f5cdf338668>',\n",
       "    'weights_regularizer': '<function l2 at 0x7f406bd2b8c0> != <function l2 at 0x7f5d66613230>'},\n",
       "   'biases_initializer': '<tensorflow.python.ops.init_ops.Zeros object at 0x7f40061ea810> != <tensorflow.python.ops.init_ops.Zeros object at 0x7f5cdf33b610>',\n",
       "   'decoder_lstm': {'weights_initializer': '<function _initializer at 0x7f40062d3b18> != <function _initializer at 0x7f5cdf338668>',\n",
       "    'weights_regularizer': '<function l2 at 0x7f406bd2b8c0> != <function l2 at 0x7f5d66613230>'},\n",
       "   'weights_initializer': '<function _initializer at 0x7f40062d3b18> != <function _initializer at 0x7f5cdf338668>',\n",
       "   'weights_regularizer': '<function l2 at 0x7f406bd2b8c0> != <function l2 at 0x7f5d66613230>'},\n",
       "  'biases_initializer': '<tensorflow.python.ops.init_ops.Zeros object at 0x7f40061ea810> != <tensorflow.python.ops.init_ops.Zeros object at 0x7f5cdf33b610>',\n",
       "  'embeddings_initializer': '<function _initializer at 0x7f40062d3b18> != <function _initializer at 0x7f5cdf338668>',\n",
       "  'embeddings_regularizer': '<function l2 at 0x7f406bd2b8c0> != <function l2 at 0x7f5d66613230>',\n",
       "  'init_model': {'activation_fn': '<function relu at 0x7f4079eeaa28> != <function relu at 0x7f5ceebeb9b0>',\n",
       "   'biases_initializer': '<tensorflow.python.ops.init_ops.Zeros object at 0x7f40061ea810> != <tensorflow.python.ops.init_ops.Zeros object at 0x7f5cdf33b610>',\n",
       "   'weights_initializer': '<function _initializer at 0x7f40062d3b18> != <function _initializer at 0x7f5cdf338668>',\n",
       "   'weights_regularizer': '<function l2 at 0x7f406bd2b8c0> != <function l2 at 0x7f5d66613230>'},\n",
       "  'init_model_final_layers': {'activation_fn': '<function tanh at 0x7f4079de36e0> != <function tanh at 0x7f5ceea85668>',\n",
       "   'biases_initializer': '<tensorflow.python.ops.init_ops.Zeros object at 0x7f40061ea810> != <tensorflow.python.ops.init_ops.Zeros object at 0x7f5cdf33b610>',\n",
       "   'weights_initializer': '<function _initializer at 0x7f40062d3b18> != <function _initializer at 0x7f5cdf338668>',\n",
       "   'weights_regularizer': '<function l2 at 0x7f406bd2b8c0> != <function l2 at 0x7f5d66613230>'},\n",
       "  'optimizer': '<tensorflow.python.training.adam.AdamOptimizer object at 0x7f40062223d0> != <tensorflow.python.training.adam.AdamOptimizer object at 0x7f5cdf2f43d0>',\n",
       "  'output_layers': {'activation_fn': '<function relu at 0x7f4079eeaa28> != <function relu at 0x7f5ceebeb9b0>',\n",
       "   'biases_initializer': '<tensorflow.python.ops.init_ops.Zeros object at 0x7f40061ea810> != <tensorflow.python.ops.init_ops.Zeros object at 0x7f5cdf33b610>',\n",
       "   'weights_initializer': '<function _initializer at 0x7f40062d3b18> != <function _initializer at 0x7f5cdf338668>',\n",
       "   'weights_regularizer': '<function l2 at 0x7f406bd2b8c0> != <function l2 at 0x7f5d66613230>'},\n",
       "  'weights_initializer': '<function _initializer at 0x7f40062d3b18> != <function _initializer at 0x7f5cdf338668>',\n",
       "  'weights_regularizer': '<function l2 at 0x7f406bd2b8c0> != <function l2 at 0x7f5d66613230>'})"
      ]
     },
     "execution_count": 10,
     "metadata": {},
     "output_type": "execute_result"
    }
   ],
   "source": [
    "dlc.diff_dict(dlc.to_dict(temp.orig_hyper), dlc.to_dict(temp.mod_hyper))"
   ]
  },
  {
   "cell_type": "code",
   "execution_count": null,
   "metadata": {
    "collapsed": true
   },
   "outputs": [],
   "source": []
  }
 ],
 "metadata": {
  "kernelspec": {
   "display_name": "Python 2",
   "language": "python",
   "name": "python2"
  },
  "language_info": {
   "codemirror_mode": {
    "name": "ipython",
    "version": 2
   },
   "file_extension": ".py",
   "mimetype": "text/x-python",
   "name": "python",
   "nbconvert_exporter": "python",
   "pygments_lexer": "ipython2",
   "version": "2.7.13"
  }
 },
 "nbformat": 4,
 "nbformat_minor": 2
}
