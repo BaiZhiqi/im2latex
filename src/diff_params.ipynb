{
 "cells": [
  {
   "cell_type": "code",
   "execution_count": 2,
   "metadata": {},
   "outputs": [
    {
     "data": {
      "text/html": [
       "<style>.container { width:90% !important; }</style>"
      ],
      "text/plain": [
       "<IPython.core.display.HTML object>"
      ]
     },
     "metadata": {},
     "output_type": "display_data"
    }
   ],
   "source": [
    "from IPython.core.display import display, HTML\n",
    "display(HTML(\"<style>.container { width:90% !important; }</style>\"))"
   ]
  },
  {
   "cell_type": "code",
   "execution_count": 3,
   "metadata": {
    "collapsed": true
   },
   "outputs": [],
   "source": [
    "import pandas as pd\n",
    "import os\n",
    "import re\n",
    "import codecs\n",
    "from IPython.display import display\n",
    "from six.moves import cPickle as pickle\n",
    "import string\n",
    "from PIL import Image\n",
    "import numpy as np\n",
    "import h5py"
   ]
  },
  {
   "cell_type": "code",
   "execution_count": 4,
   "metadata": {
    "collapsed": true
   },
   "outputs": [],
   "source": [
    "width = None\n",
    "pd.options.display.max_rows = 600\n",
    "pd.options.display.max_columns = width\n",
    "pd.options.display.max_colwidth = 600\n",
    "pd.options.display.width = width\n",
    "pd.options.display.max_seq_items = None\n",
    "pd.options.display.expand_frame_repr = False\n",
    "pd.options.display.colheader_justify = 'left'"
   ]
  },
  {
   "cell_type": "code",
   "execution_count": 5,
   "metadata": {},
   "outputs": [
    {
     "name": "stderr",
     "output_type": "stream",
     "text": [
      "Using TensorFlow backend.\n"
     ]
    }
   ],
   "source": [
    "import data_commons as dtc\n",
    "import dl_commons as dlc\n",
    "import viz_commons as vc\n",
    "from viz_commons import VisualizeDir, DiffParams, VisualizeStep"
   ]
  },
  {
   "cell_type": "code",
   "execution_count": 28,
   "metadata": {
    "scrolled": false
   },
   "outputs": [
    {
     "data": {
      "text/html": [
       "<div>\n",
       "<style>\n",
       "    .dataframe thead tr:only-child th {\n",
       "        text-align: right;\n",
       "    }\n",
       "\n",
       "    .dataframe thead th {\n",
       "        text-align: left;\n",
       "    }\n",
       "\n",
       "    .dataframe tbody tr th {\n",
       "        vertical-align: top;\n",
       "    }\n",
       "</style>\n",
       "<table border=\"1\" class=\"dataframe\">\n",
       "  <thead>\n",
       "    <tr style=\"text-align: left;\">\n",
       "      <th></th>\n",
       "      <th>0</th>\n",
       "      <th>1</th>\n",
       "    </tr>\n",
       "  </thead>\n",
       "  <tbody>\n",
       "    <tr>\n",
       "      <th>0</th>\n",
       "      <td>CALSTM_STACK_1.decoder_lstm.i ===&gt; 2112</td>\n",
       "      <td>CALSTM_STACK_1.decoder_lstm.i ===&gt; 576</td>\n",
       "    </tr>\n",
       "    <tr>\n",
       "      <th>2</th>\n",
       "      <td>assert_whole_batch ===&gt; True</td>\n",
       "      <td>assert_whole_batch ===&gt; False</td>\n",
       "    </tr>\n",
       "    <tr>\n",
       "      <th>3</th>\n",
       "      <td>num_towers ===&gt; undefined</td>\n",
       "      <td>num_towers ===&gt; 8</td>\n",
       "    </tr>\n",
       "    <tr>\n",
       "      <th>10</th>\n",
       "      <td>CALSTM_STACK_1.D ===&gt; 2048</td>\n",
       "      <td>CALSTM_STACK_1.D ===&gt; 512</td>\n",
       "    </tr>\n",
       "    <tr>\n",
       "      <th>12</th>\n",
       "      <td>CALSTM_STACK_1.B ===&gt; 28</td>\n",
       "      <td>CALSTM_STACK_1.B ===&gt; 4</td>\n",
       "    </tr>\n",
       "    <tr>\n",
       "      <th>15</th>\n",
       "      <td>CALSTM_STACK_1.decoder_lstm.B ===&gt; 28</td>\n",
       "      <td>CALSTM_STACK_1.decoder_lstm.B ===&gt; 4</td>\n",
       "    </tr>\n",
       "    <tr>\n",
       "      <th>17</th>\n",
       "      <td>tf_session_allow_growth ===&gt; False</td>\n",
       "      <td>tf_session_allow_growth ===&gt; True</td>\n",
       "    </tr>\n",
       "    <tr>\n",
       "      <th>19</th>\n",
       "      <td>input_queue_capacity ===&gt; 6</td>\n",
       "      <td>input_queue_capacity ===&gt; 24</td>\n",
       "    </tr>\n",
       "    <tr>\n",
       "      <th>26</th>\n",
       "      <td>B ===&gt; 28</td>\n",
       "      <td>B ===&gt; 4</td>\n",
       "    </tr>\n",
       "    <tr>\n",
       "      <th>27</th>\n",
       "      <td>D ===&gt; 2048</td>\n",
       "      <td>D ===&gt; 512</td>\n",
       "    </tr>\n",
       "    <tr>\n",
       "      <th>41</th>\n",
       "      <td>data_reader_B ===&gt; 56</td>\n",
       "      <td>data_reader_B ===&gt; 32</td>\n",
       "    </tr>\n",
       "    <tr>\n",
       "      <th>47</th>\n",
       "      <td>towers_per_gpu ===&gt; undefined</td>\n",
       "      <td>towers_per_gpu ===&gt; 4</td>\n",
       "    </tr>\n",
       "    <tr>\n",
       "      <th>49</th>\n",
       "      <td>CALSTM_STACK_1.D0 ===&gt; 512</td>\n",
       "      <td>CALSTM_STACK_1.D0 ===&gt; 128</td>\n",
       "    </tr>\n",
       "    <tr>\n",
       "      <th>52</th>\n",
       "      <td>D0 ===&gt; 512</td>\n",
       "      <td>D0 ===&gt; 128</td>\n",
       "    </tr>\n",
       "  </tbody>\n",
       "</table>\n",
       "</div>"
      ],
      "text/plain": [
       "   0                                        1                                      \n",
       "0   CALSTM_STACK_1.decoder_lstm.i ===> 2112  CALSTM_STACK_1.decoder_lstm.i ===> 576\n",
       "2              assert_whole_batch ===> True           assert_whole_batch ===> False\n",
       "3                 num_towers ===> undefined                       num_towers ===> 8\n",
       "10               CALSTM_STACK_1.D ===> 2048               CALSTM_STACK_1.D ===> 512\n",
       "12                 CALSTM_STACK_1.B ===> 28                 CALSTM_STACK_1.B ===> 4\n",
       "15    CALSTM_STACK_1.decoder_lstm.B ===> 28    CALSTM_STACK_1.decoder_lstm.B ===> 4\n",
       "17       tf_session_allow_growth ===> False       tf_session_allow_growth ===> True\n",
       "19              input_queue_capacity ===> 6            input_queue_capacity ===> 24\n",
       "26                                B ===> 28                                B ===> 4\n",
       "27                              D ===> 2048                              D ===> 512\n",
       "41                    data_reader_B ===> 56                   data_reader_B ===> 32\n",
       "47            towers_per_gpu ===> undefined                   towers_per_gpu ===> 4\n",
       "49               CALSTM_STACK_1.D0 ===> 512              CALSTM_STACK_1.D0 ===> 128\n",
       "52                              D0 ===> 512                             D0 ===> 128"
      ]
     },
     "execution_count": 28,
     "metadata": {},
     "output_type": "execute_result"
    }
   ],
   "source": [
    "diff = DiffParams('./tb_metrics/2017-12-04 13-19-02 PST score_83.27', './tb_metrics/2017-12-06 00-35-28 PST')\n",
    "one, two = diff.get_hyper()\n",
    "head, tail = diff.hyper(show=False)\n",
    "head[~head[0].str.contains('CONVNET')]"
   ]
  },
  {
   "cell_type": "code",
   "execution_count": 21,
   "metadata": {
    "scrolled": false
   },
   "outputs": [
    {
     "data": {
      "text/plain": [
       "[{'activation_fn': <function tensorflow.python.ops.gen_nn_ops.relu>,\n",
       "  'biases_initializer': <tensorflow.python.ops.init_ops.Zeros at 0x7f5db1b090d0>,\n",
       "  'biases_regularizer': None,\n",
       "  'kernel_shape': [3, 3],\n",
       "  'output_channels': 64,\n",
       "  'padding': 'VALID',\n",
       "  'stride': [1, 1],\n",
       "  'weights_initializer': <function tensorflow.contrib.layers.python.layers.initializers._initializer>,\n",
       "  'weights_regularizer': <function tensorflow.contrib.layers.python.layers.regularizers.l2>},\n",
       " {'activation_fn': <function tensorflow.python.ops.gen_nn_ops.relu>,\n",
       "  'biases_initializer': <tensorflow.python.ops.init_ops.Zeros at 0x7f5db1b090d0>,\n",
       "  'biases_regularizer': None,\n",
       "  'kernel_shape': [3, 3],\n",
       "  'output_channels': 64,\n",
       "  'padding': 'SAME',\n",
       "  'stride': [1, 1],\n",
       "  'weights_initializer': <function tensorflow.contrib.layers.python.layers.initializers._initializer>,\n",
       "  'weights_regularizer': <function tensorflow.contrib.layers.python.layers.regularizers.l2>},\n",
       " {'kernel_shape': [2, 2], 'padding': 'SAME', 'stride': [2, 2]},\n",
       " {'activation_fn': <function tensorflow.python.ops.gen_nn_ops.relu>,\n",
       "  'biases_initializer': <tensorflow.python.ops.init_ops.Zeros at 0x7f5db1b090d0>,\n",
       "  'biases_regularizer': None,\n",
       "  'kernel_shape': [3, 3],\n",
       "  'output_channels': 128,\n",
       "  'padding': 'SAME',\n",
       "  'stride': [1, 1],\n",
       "  'weights_initializer': <function tensorflow.contrib.layers.python.layers.initializers._initializer>,\n",
       "  'weights_regularizer': <function tensorflow.contrib.layers.python.layers.regularizers.l2>},\n",
       " {'kernel_shape': [2, 2], 'padding': 'SAME', 'stride': [2, 2]},\n",
       " {'activation_fn': <function tensorflow.python.ops.gen_nn_ops.relu>,\n",
       "  'biases_initializer': <tensorflow.python.ops.init_ops.Zeros at 0x7f5db1b090d0>,\n",
       "  'biases_regularizer': None,\n",
       "  'kernel_shape': [3, 3],\n",
       "  'output_channels': 256,\n",
       "  'padding': 'SAME',\n",
       "  'stride': [1, 1],\n",
       "  'weights_initializer': <function tensorflow.contrib.layers.python.layers.initializers._initializer>,\n",
       "  'weights_regularizer': <function tensorflow.contrib.layers.python.layers.regularizers.l2>},\n",
       " {'kernel_shape': [2, 2], 'padding': 'SAME', 'stride': [2, 2]},\n",
       " {'activation_fn': <function tensorflow.python.ops.gen_nn_ops.relu>,\n",
       "  'biases_initializer': <tensorflow.python.ops.init_ops.Zeros at 0x7f5db1b090d0>,\n",
       "  'biases_regularizer': None,\n",
       "  'kernel_shape': [3, 3],\n",
       "  'output_channels': 512,\n",
       "  'padding': 'SAME',\n",
       "  'stride': [1, 1],\n",
       "  'weights_initializer': <function tensorflow.contrib.layers.python.layers.initializers._initializer>,\n",
       "  'weights_regularizer': <function tensorflow.contrib.layers.python.layers.regularizers.l2>},\n",
       " {'kernel_shape': [2, 2], 'padding': 'SAME', 'stride': [2, 2]},\n",
       " {'activation_fn': <function tensorflow.python.ops.gen_nn_ops.relu>,\n",
       "  'biases_initializer': <tensorflow.python.ops.init_ops.Zeros at 0x7f5db1b090d0>,\n",
       "  'biases_regularizer': None,\n",
       "  'kernel_shape': [3, 3],\n",
       "  'output_channels': 512,\n",
       "  'padding': 'SAME',\n",
       "  'stride': [1, 1],\n",
       "  'weights_initializer': <function tensorflow.contrib.layers.python.layers.initializers._initializer>,\n",
       "  'weights_regularizer': <function tensorflow.contrib.layers.python.layers.regularizers.l2>},\n",
       " {'kernel_shape': [2, 2], 'padding': 'SAME', 'stride': [2, 2]}]"
      ]
     },
     "execution_count": 21,
     "metadata": {},
     "output_type": "execute_result"
    }
   ],
   "source": [
    "one['CONVNET']['layers']"
   ]
  },
  {
   "cell_type": "code",
   "execution_count": null,
   "metadata": {
    "collapsed": true
   },
   "outputs": [],
   "source": []
  }
 ],
 "metadata": {
  "kernelspec": {
   "display_name": "Python 2",
   "language": "python",
   "name": "python2"
  },
  "language_info": {
   "codemirror_mode": {
    "name": "ipython",
    "version": 2
   },
   "file_extension": ".py",
   "mimetype": "text/x-python",
   "name": "python",
   "nbconvert_exporter": "python",
   "pygments_lexer": "ipython2",
   "version": "2.7.14"
  }
 },
 "nbformat": 4,
 "nbformat_minor": 2
}
