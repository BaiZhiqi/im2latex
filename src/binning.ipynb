{
 "cells": [
  {
   "cell_type": "markdown",
   "metadata": {},
   "source": [
    "# im2latex(S): Data Binning\n",
    "\n",
    "&copy; Copyright 2017 Sumeet S Singh\n",
    "\n",
    "    This file is part of im2latex solution by Sumeet S Singh.\n",
    "\n",
    "    This program is free software: you can redistribute it and/or modify\n",
    "    it under the terms of the Affero GNU General Public License as published by\n",
    "    the Free Software Foundation, either version 3 of the License, or\n",
    "    (at your option) any later version.\n",
    "\n",
    "    This program is distributed in the hope that it will be useful,\n",
    "    but WITHOUT ANY WARRANTY; without even the implied warranty of\n",
    "    MERCHANTABILITY or FITNESS FOR A PARTICULAR PURPOSE.  See the\n",
    "    Affero GNU General Public License for more details.\n",
    "\n",
    "    You should have received a copy of the Affero GNU General Public License\n",
    "    along with this program.  If not, see <http://www.gnu.org/licenses/>."
   ]
  },
  {
   "cell_type": "markdown",
   "metadata": {},
   "source": [
    "# What This Program Does\n",
    "This notebook curates the [im2latex-100k dataset from Harvard NLP](https://zenodo.org/record/56198#.WT4fsxMrJE4) from a [Harvard NLP project](http://lstm.seas.harvard.edu/latex/) generated using [their code]( https://github.com/Miffyli/im2latex-dataset).\n",
    "\n",
    "* This notebook loads the data set which are png files generated using [textogif](https://www.fourmilab.ch/webtools/textogif/textogif.html) (via the abovementioned sourcecode)\n",
    "* Checks and visualizes the data\n",
    "* Curates the data - whitening etc.\n",
    "* Converts it to numpy arrays and finally stores it as pickle files."
   ]
  },
  {
   "cell_type": "markdown",
   "metadata": {},
   "source": [
    "----\n",
    "## 'Binning' Training Data by Markup Sequence Length\n",
    "Next, we'll group the samples by length of the (tokenized) latex formulas. The idea is to standardize the sequence lengths to a small set of fixed lengths (by padding smaller neighboring sequences with a 'null' tokens at the end.). This will allow us to create equal length batches for RNN/LSTM training while minimizing wasted training cycles. The [Show, Attend and Tell paper](https://www.semanticscholar.org/paper/Show-Attend-and-Tell-Neural-Image-Caption-Generati-Xu-Ba/146f6f6ed688c905fb6e346ad02332efd5464616) suggests this approach. At every epoch, we'll randomly/uniformly draw batches from within each group. Then we'll randomize said batch-list and use it for the training epoch. At next epoch, we'll repeat the process. The larger our group-size, that much better randomness we'll get in the training sequence. However the downside of increasing group-size is more padding of sequence-lengths resulting in wasteful  (and worse; maybe even misleading) training cycles.\n",
    "\n",
    "-----"
   ]
  },
  {
   "cell_type": "code",
   "execution_count": 1,
   "metadata": {
    "cellView": "both",
    "colab": {
     "autoexec": {
      "startup": false,
      "wait_interval": 0
     }
    },
    "colab_type": "code",
    "collapsed": true,
    "id": "apJbCsBHl-2A"
   },
   "outputs": [],
   "source": [
    "from __future__ import print_function\n",
    "import os\n",
    "import numpy as np\n",
    "from IPython.display import display, Image as ipImage\n",
    "import PIL\n",
    "from PIL import Image\n",
    "from scipy import ndimage\n",
    "from sklearn.linear_model import LogisticRegression\n",
    "from six.moves.urllib.request import urlretrieve\n",
    "from six.moves import cPickle as pickle\n",
    "from mpl_toolkits.axes_grid1 import ImageGrid\n",
    "import pandas as pd\n",
    "import matplotlib.pyplot as plt\n",
    "\n",
    "# Config the matplotlib backend as plotting inline in IPython\n",
    "%matplotlib inline"
   ]
  },
  {
   "cell_type": "code",
   "execution_count": 2,
   "metadata": {
    "collapsed": true
   },
   "outputs": [],
   "source": [
    "pd.options.display.max_rows = 600\n",
    "pd.options.display.max_columns = 20\n",
    "pd.options.display.max_colwidth = 100\n",
    "pd.options.display.width = 160\n",
    "data_folder = '../data/generated2'\n",
    "image_folder = os.path.join(data_folder,'formula_images')"
   ]
  },
  {
   "cell_type": "code",
   "execution_count": 3,
   "metadata": {
    "collapsed": true
   },
   "outputs": [],
   "source": [
    "df_pruned = pd.read_pickle(os.path.join(data_folder, 'df_pruned.pkl'))"
   ]
  },
  {
   "cell_type": "code",
   "execution_count": 4,
   "metadata": {},
   "outputs": [
    {
     "data": {
      "text/html": [
       "<div>\n",
       "<style>\n",
       "    .dataframe thead tr:only-child th {\n",
       "        text-align: right;\n",
       "    }\n",
       "\n",
       "    .dataframe thead th {\n",
       "        text-align: left;\n",
       "    }\n",
       "\n",
       "    .dataframe tbody tr th {\n",
       "        vertical-align: top;\n",
       "    }\n",
       "</style>\n",
       "<table border=\"1\" class=\"dataframe\">\n",
       "  <thead>\n",
       "    <tr style=\"text-align: right;\">\n",
       "      <th></th>\n",
       "      <th>width</th>\n",
       "      <th>word2id_len</th>\n",
       "      <th>height</th>\n",
       "    </tr>\n",
       "  </thead>\n",
       "  <tbody>\n",
       "    <tr>\n",
       "      <th>width</th>\n",
       "      <td>1.000000</td>\n",
       "      <td>0.789018</td>\n",
       "      <td>0.218565</td>\n",
       "    </tr>\n",
       "    <tr>\n",
       "      <th>word2id_len</th>\n",
       "      <td>0.789018</td>\n",
       "      <td>1.000000</td>\n",
       "      <td>0.377885</td>\n",
       "    </tr>\n",
       "    <tr>\n",
       "      <th>height</th>\n",
       "      <td>0.218565</td>\n",
       "      <td>0.377885</td>\n",
       "      <td>1.000000</td>\n",
       "    </tr>\n",
       "  </tbody>\n",
       "</table>\n",
       "</div>"
      ],
      "text/plain": [
       "                width  word2id_len    height\n",
       "width        1.000000     0.789018  0.218565\n",
       "word2id_len  0.789018     1.000000  0.377885\n",
       "height       0.218565     0.377885  1.000000"
      ]
     },
     "execution_count": 4,
     "metadata": {},
     "output_type": "execute_result"
    }
   ],
   "source": [
    "df_pruned[['width', 'word2id_len', 'height']].corr()"
   ]
  },
  {
   "cell_type": "markdown",
   "metadata": {},
   "source": [
    "From the above correlation table we can clearly see the impact of pruning the outlier sampples from our dataset: the correlation of word2id_len went up from ~0.69 (for dff_all) to ~0.79 (for df_pruned)."
   ]
  },
  {
   "cell_type": "code",
   "execution_count": 5,
   "metadata": {},
   "outputs": [
    {
     "data": {
      "text/plain": [
       "0.850     96.0\n",
       "0.900    106.0\n",
       "0.950    120.0\n",
       "0.960    124.0\n",
       "0.970    128.0\n",
       "0.980    134.0\n",
       "0.985    137.0\n",
       "0.990    141.0\n",
       "1.000    150.0\n",
       "Name: word2id_len, dtype: float64"
      ]
     },
     "metadata": {},
     "output_type": "display_data"
    }
   ],
   "source": [
    "display(df_pruned.word2id_len.quantile((.85,.90,.95,.96,.97,.98,.985,.99,1.0)))"
   ]
  },
  {
   "cell_type": "markdown",
   "metadata": {},
   "source": [
    "**Below is what the sequence length distribution looks like at this point**"
   ]
  },
  {
   "cell_type": "code",
   "execution_count": 6,
   "metadata": {},
   "outputs": [
    {
     "data": {
      "text/plain": [
       "<matplotlib.axes._subplots.AxesSubplot at 0x7f043776de50>"
      ]
     },
     "execution_count": 6,
     "metadata": {},
     "output_type": "execute_result"
    },
    {
     "data": {
      "image/png": "[encoded data removed]",
      "text/plain": [
       "<matplotlib.figure.Figure at 0x7f04341c7b10>"
      ]
     },
     "metadata": {},
     "output_type": "display_data"
    }
   ],
   "source": [
    "axes = plt.axes()\n",
    "axes.set_xlabel('markup sequence length')\n",
    "axes.set_title('Distribution of markup sequence length')\n",
    "bins=range(0,151,5)\n",
    "df_pruned.word2id_len.plot.hist(ax=axes, histtype='step', lw=2,  figsize=(15,5), grid=True, bins=bins, xticks=bins, yticks=range(0,9001,1000))"
   ]
  },
  {
   "cell_type": "markdown",
   "metadata": {},
   "source": [
    "### Hyperparameter: Data Bins\n",
    "Below we create the data-bins as described at the beginning of this section. This 'binning' is a training hyperparameter."
   ]
  },
  {
   "cell_type": "code",
   "execution_count": 7,
   "metadata": {},
   "outputs": [
    {
     "data": {
      "text/plain": [
       "<matplotlib.axes._subplots.AxesSubplot at 0x7f0433e15950>"
      ]
     },
     "execution_count": 7,
     "metadata": {},
     "output_type": "execute_result"
    },
    {
     "data": {
      "image/png": "[encoded data removed]",
      "text/plain": [
       "<matplotlib.figure.Figure at 0x7f0472c1ba50>"
      ]
     },
     "metadata": {},
     "output_type": "display_data"
    }
   ],
   "source": [
    "axes = plt.axes()\n",
    "axes.set_xlabel('batch')\n",
    "axes.set_ylabel('batch-count')\n",
    "axes.set_title('sequence length batches with a minimum of 5000 samples each')\n",
    "HYPER_bins=[0,30,40,50,60,70,80,90,110,150]\n",
    "df_pruned.word2id_len.plot.hist(ax=axes, histtype='step', lw=2,  figsize=(15,5), grid=True, bins=HYPER_bins, xticks=HYPER_bins, yticks=range(0,16001,1000))"
   ]
  },
  {
   "cell_type": "code",
   "execution_count": 8,
   "metadata": {},
   "outputs": [
    {
     "data": {
      "text/html": [
       "<div>\n",
       "<style>\n",
       "    .dataframe thead tr:only-child th {\n",
       "        text-align: right;\n",
       "    }\n",
       "\n",
       "    .dataframe thead th {\n",
       "        text-align: left;\n",
       "    }\n",
       "\n",
       "    .dataframe tbody tr th {\n",
       "        vertical-align: top;\n",
       "    }\n",
       "</style>\n",
       "<table border=\"1\" class=\"dataframe\">\n",
       "  <thead>\n",
       "    <tr style=\"text-align: right;\">\n",
       "      <th></th>\n",
       "      <th>image</th>\n",
       "      <th>height</th>\n",
       "      <th>width</th>\n",
       "      <th>word2id_len</th>\n",
       "      <th>bin_len</th>\n",
       "      <th>word2id</th>\n",
       "      <th>latex_ascii</th>\n",
       "    </tr>\n",
       "  </thead>\n",
       "  <tbody>\n",
       "    <tr>\n",
       "      <th>0</th>\n",
       "      <td>450f7c1496143fd_basic.png</td>\n",
       "      <td>78</td>\n",
       "      <td>738</td>\n",
       "      <td>112</td>\n",
       "      <td>151</td>\n",
       "      <td>[257, 524, 552, 13, 212, 554, 523, 256, 1, 529, 537, 60, 26, 1, 552, 410, 1, 530, 554, 523, 552,...</td>\n",
       "      <td>\\int_{-\\epsilon}^\\infty dl\\: {\\rm e}^{-l\\zeta} \\int_{-\\epsilon}^\\infty dl' {\\rm e}^{-l'\\zeta} ll...</td>\n",
       "    </tr>\n",
       "    <tr>\n",
       "      <th>1</th>\n",
       "      <td>868d5037af9e4b4_basic.png</td>\n",
       "      <td>94</td>\n",
       "      <td>962</td>\n",
       "      <td>125</td>\n",
       "      <td>151</td>\n",
       "      <td>[529, 544, 523, 552, 18, 554, 1, 29, 1, 8, 17, 1, 13, 1, 552, 542, 528, 540, 544, 474, 364, 1, 5...</td>\n",
       "      <td>ds^{2} = (1 - {qcos\\theta\\over r})^{2\\over 1 + \\alpha^{2}}\\lbrace dr^2+r^2d\\theta^2+r^2sin^2\\the...</td>\n",
       "    </tr>\n",
       "    <tr>\n",
       "      <th>2</th>\n",
       "      <td>af0b6c3ee18804a_basic.png</td>\n",
       "      <td>87</td>\n",
       "      <td>291</td>\n",
       "      <td>47</td>\n",
       "      <td>51</td>\n",
       "      <td>[517, 231, 524, 552, 410, 1, 533, 540, 541, 531, 554, 430, 454, 524, 552, 539, 30, 16, 554, 517,...</td>\n",
       "      <td>\\widetilde\\gamma_{\\rm hopf}\\simeq\\sum_{n&gt;0}\\widetilde{G}_n{(-a)^n\\over2^{2n-1}}\\label{H4}</td>\n",
       "    </tr>\n",
       "    <tr>\n",
       "      <th>3</th>\n",
       "      <td>dda45eca6d32fa3_basic.png</td>\n",
       "      <td>35</td>\n",
       "      <td>405</td>\n",
       "      <td>53</td>\n",
       "      <td>61</td>\n",
       "      <td>[8, 552, 159, 1, 44, 554, 524, 526, 1, 532, 9, 524, 552, 534, 535, 554, 1, 29, 1, 16, 12, 1, 60,...</td>\n",
       "      <td>({\\cal L}_a g)_{ij} = 0, \\ \\ \\ \\ ({\\cal L}_a H)_{ijk} = 0 ,</td>\n",
       "    </tr>\n",
       "    <tr>\n",
       "      <th>4</th>\n",
       "      <td>67eb249ed1c20d2_basic.png</td>\n",
       "      <td>60</td>\n",
       "      <td>521</td>\n",
       "      <td>69</td>\n",
       "      <td>71</td>\n",
       "      <td>[51, 524, 552, 544, 545, 526, 545, 554, 1, 29, 1, 18, 377, 1, 446, 552, 46, 524, 21, 523, 552, 8...</td>\n",
       "      <td>S_{stat} = 2\\pi \\sqrt{N_5^{(1)} N_5^{(2)} N_5^{(3)}} \\left(\\sqrt{n} +\\sqrt{\\bar{n}}\\right)\\label...</td>\n",
       "    </tr>\n",
       "  </tbody>\n",
       "</table>\n",
       "</div>"
      ],
      "text/plain": [
       "                       image  height  width  word2id_len bin_len  \\\n",
       "0  450f7c1496143fd_basic.png      78    738          112     151   \n",
       "1  868d5037af9e4b4_basic.png      94    962          125     151   \n",
       "2  af0b6c3ee18804a_basic.png      87    291           47      51   \n",
       "3  dda45eca6d32fa3_basic.png      35    405           53      61   \n",
       "4  67eb249ed1c20d2_basic.png      60    521           69      71   \n",
       "\n",
       "                                                                                               word2id  \\\n",
       "0  [257, 524, 552, 13, 212, 554, 523, 256, 1, 529, 537, 60, 26, 1, 552, 410, 1, 530, 554, 523, 552,...   \n",
       "1  [529, 544, 523, 552, 18, 554, 1, 29, 1, 8, 17, 1, 13, 1, 552, 542, 528, 540, 544, 474, 364, 1, 5...   \n",
       "2  [517, 231, 524, 552, 410, 1, 533, 540, 541, 531, 554, 430, 454, 524, 552, 539, 30, 16, 554, 517,...   \n",
       "3  [8, 552, 159, 1, 44, 554, 524, 526, 1, 532, 9, 524, 552, 534, 535, 554, 1, 29, 1, 16, 12, 1, 60,...   \n",
       "4  [51, 524, 552, 544, 545, 526, 545, 554, 1, 29, 1, 18, 377, 1, 446, 552, 46, 524, 21, 523, 552, 8...   \n",
       "\n",
       "                                                                                           latex_ascii  \n",
       "0  \\int_{-\\epsilon}^\\infty dl\\: {\\rm e}^{-l\\zeta} \\int_{-\\epsilon}^\\infty dl' {\\rm e}^{-l'\\zeta} ll...  \n",
       "1  ds^{2} = (1 - {qcos\\theta\\over r})^{2\\over 1 + \\alpha^{2}}\\lbrace dr^2+r^2d\\theta^2+r^2sin^2\\the...  \n",
       "2            \\widetilde\\gamma_{\\rm hopf}\\simeq\\sum_{n>0}\\widetilde{G}_n{(-a)^n\\over2^{2n-1}}\\label{H4}  \n",
       "3                                          ({\\cal L}_a g)_{ij} = 0, \\ \\ \\ \\ ({\\cal L}_a H)_{ijk} = 0 ,  \n",
       "4  S_{stat} = 2\\pi \\sqrt{N_5^{(1)} N_5^{(2)} N_5^{(3)}} \\left(\\sqrt{n} +\\sqrt{\\bar{n}}\\right)\\label...  "
      ]
     },
     "execution_count": 8,
     "metadata": {},
     "output_type": "execute_result"
    }
   ],
   "source": [
    "bins=HYPER_bins\n",
    "labels=np.array(bins[1:]) + 1 #Add 1 for ensuring minimum one 'null' token at the end of sequence.\n",
    "cats = pd.cut(df_pruned.word2id_len, bins, labels=labels)\n",
    "df_bins = df_pruned.assign(bin_len=cats)[['image', 'height', 'width', 'word2id_len', 'bin_len', 'word2id', 'latex_ascii' ]]\n",
    "df_bins.head()"
   ]
  },
  {
   "cell_type": "code",
   "execution_count": 9,
   "metadata": {},
   "outputs": [
    {
     "data": {
      "text/html": [
       "<div>\n",
       "<style>\n",
       "    .dataframe thead tr:only-child th {\n",
       "        text-align: right;\n",
       "    }\n",
       "\n",
       "    .dataframe thead th {\n",
       "        text-align: left;\n",
       "    }\n",
       "\n",
       "    .dataframe tbody tr th {\n",
       "        vertical-align: top;\n",
       "    }\n",
       "</style>\n",
       "<table border=\"1\" class=\"dataframe\">\n",
       "  <thead>\n",
       "    <tr style=\"text-align: right;\">\n",
       "      <th></th>\n",
       "      <th>image</th>\n",
       "      <th>height</th>\n",
       "      <th>width</th>\n",
       "      <th>word2id_len</th>\n",
       "      <th>word2id</th>\n",
       "      <th>latex_ascii</th>\n",
       "    </tr>\n",
       "    <tr>\n",
       "      <th>bin_len</th>\n",
       "      <th></th>\n",
       "      <th></th>\n",
       "      <th></th>\n",
       "      <th></th>\n",
       "      <th></th>\n",
       "      <th></th>\n",
       "    </tr>\n",
       "  </thead>\n",
       "  <tbody>\n",
       "    <tr>\n",
       "      <th>31</th>\n",
       "      <td>6608</td>\n",
       "      <td>6608</td>\n",
       "      <td>6608</td>\n",
       "      <td>6608</td>\n",
       "      <td>6608</td>\n",
       "      <td>6608</td>\n",
       "    </tr>\n",
       "    <tr>\n",
       "      <th>41</th>\n",
       "      <td>14032</td>\n",
       "      <td>14032</td>\n",
       "      <td>14032</td>\n",
       "      <td>14032</td>\n",
       "      <td>14032</td>\n",
       "      <td>14032</td>\n",
       "    </tr>\n",
       "    <tr>\n",
       "      <th>51</th>\n",
       "      <td>15042</td>\n",
       "      <td>15042</td>\n",
       "      <td>15042</td>\n",
       "      <td>15042</td>\n",
       "      <td>15042</td>\n",
       "      <td>15042</td>\n",
       "    </tr>\n",
       "    <tr>\n",
       "      <th>61</th>\n",
       "      <td>13341</td>\n",
       "      <td>13341</td>\n",
       "      <td>13341</td>\n",
       "      <td>13341</td>\n",
       "      <td>13341</td>\n",
       "      <td>13341</td>\n",
       "    </tr>\n",
       "    <tr>\n",
       "      <th>71</th>\n",
       "      <td>10858</td>\n",
       "      <td>10858</td>\n",
       "      <td>10858</td>\n",
       "      <td>10858</td>\n",
       "      <td>10858</td>\n",
       "      <td>10858</td>\n",
       "    </tr>\n",
       "    <tr>\n",
       "      <th>81</th>\n",
       "      <td>8598</td>\n",
       "      <td>8598</td>\n",
       "      <td>8598</td>\n",
       "      <td>8598</td>\n",
       "      <td>8598</td>\n",
       "      <td>8598</td>\n",
       "    </tr>\n",
       "    <tr>\n",
       "      <th>91</th>\n",
       "      <td>6900</td>\n",
       "      <td>6900</td>\n",
       "      <td>6900</td>\n",
       "      <td>6900</td>\n",
       "      <td>6900</td>\n",
       "      <td>6900</td>\n",
       "    </tr>\n",
       "    <tr>\n",
       "      <th>111</th>\n",
       "      <td>9480</td>\n",
       "      <td>9480</td>\n",
       "      <td>9480</td>\n",
       "      <td>9480</td>\n",
       "      <td>9480</td>\n",
       "      <td>9480</td>\n",
       "    </tr>\n",
       "    <tr>\n",
       "      <th>151</th>\n",
       "      <td>7424</td>\n",
       "      <td>7424</td>\n",
       "      <td>7424</td>\n",
       "      <td>7424</td>\n",
       "      <td>7424</td>\n",
       "      <td>7424</td>\n",
       "    </tr>\n",
       "  </tbody>\n",
       "</table>\n",
       "</div>"
      ],
      "text/plain": [
       "         image  height  width  word2id_len  word2id  latex_ascii\n",
       "bin_len                                                         \n",
       "31        6608    6608   6608         6608     6608         6608\n",
       "41       14032   14032  14032        14032    14032        14032\n",
       "51       15042   15042  15042        15042    15042        15042\n",
       "61       13341   13341  13341        13341    13341        13341\n",
       "71       10858   10858  10858        10858    10858        10858\n",
       "81        8598    8598   8598         8598     8598         8598\n",
       "91        6900    6900   6900         6900     6900         6900\n",
       "111       9480    9480   9480         9480     9480         9480\n",
       "151       7424    7424   7424         7424     7424         7424"
      ]
     },
     "execution_count": 9,
     "metadata": {},
     "output_type": "execute_result"
    }
   ],
   "source": [
    "df_bins.groupby('bin_len').count()"
   ]
  },
  {
   "cell_type": "code",
   "execution_count": 10,
   "metadata": {
    "collapsed": true
   },
   "outputs": [],
   "source": [
    "def get_padded(df_):\n",
    "    df = df_[['bin_len', 'word2id_len', 'word2id']]\n",
    "    def pad(row_ar):\n",
    "        word2id = row_ar[2]\n",
    "        plen = (0, row_ar[0]-row_ar[1])\n",
    "        return np.pad(word2id, plen, 'constant', constant_values=0).tolist()\n",
    "    padded_seq = df.apply(pad, raw=True, reduce=True, axis=1)\n",
    "    return df_.assign(padded_seq=padded_seq, padded_seq_len=padded_seq.str.len())"
   ]
  },
  {
   "cell_type": "code",
   "execution_count": 11,
   "metadata": {
    "collapsed": true
   },
   "outputs": [],
   "source": [
    "df_binned = get_padded(df_bins)\n",
    "assert sum(df_binned.padded_seq.str.len() != df_binned.bin_len) == 0\n",
    "assert sum(df_binned.padded_seq_len != df_binned.bin_len) == 0"
   ]
  },
  {
   "cell_type": "code",
   "execution_count": 12,
   "metadata": {
    "collapsed": true
   },
   "outputs": [],
   "source": [
    "df_binned.to_pickle(os.path.join(data_folder, 'df_binned.pkl'))"
   ]
  }
 ],
 "metadata": {
  "anaconda-cloud": {},
  "colab": {
   "default_view": {},
   "name": "1_notmnist.ipynb",
   "provenance": [],
   "version": "0.3.2",
   "views": {}
  },
  "kernelspec": {
   "display_name": "Python 2",
   "language": "python",
   "name": "python2"
  },
  "language_info": {
   "codemirror_mode": {
    "name": "ipython",
    "version": 2
   },
   "file_extension": ".py",
   "mimetype": "text/x-python",
   "name": "python",
   "nbconvert_exporter": "python",
   "pygments_lexer": "ipython2",
   "version": "2.7.13"
  }
 },
 "nbformat": 4,
 "nbformat_minor": 1
}
