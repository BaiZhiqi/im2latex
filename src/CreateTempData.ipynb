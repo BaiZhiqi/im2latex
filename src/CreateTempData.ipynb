{
 "cells": [
  {
   "cell_type": "markdown",
   "metadata": {},
   "source": [
    "Create raw_data subset based on subset of available files in vgg16_features."
   ]
  },
  {
   "cell_type": "code",
   "execution_count": 6,
   "metadata": {
    "collapsed": true
   },
   "outputs": [],
   "source": [
    "import os\n",
    "import pandas as pd\n",
    "import numpy as np\n",
    "from six.moves import cPickle as pickle"
   ]
  },
  {
   "cell_type": "code",
   "execution_count": 2,
   "metadata": {},
   "outputs": [],
   "source": [
    "data_folder = '../data/generated2'\n",
    "image_folder = os.path.join(data_folder,'formula_images')\n",
    "raw_data_dir = os.path.join(data_folder, 'training')"
   ]
  },
  {
   "cell_type": "code",
   "execution_count": 3,
   "metadata": {
    "collapsed": true
   },
   "outputs": [],
   "source": [
    "def make_seq_bins(df_):\n",
    "    \"\"\"\n",
    "    Creates ndarrays of (padded) sequence bins from df_train_padded \n",
    "    and pickles them as a dictionary of ndarrays wrapped in dataframes.\n",
    "    This preprocessing is needed in order to quickly obtain an ndarray of\n",
    "    token-sequences at training time.\n",
    "    \"\"\"\n",
    "    bin_lens = df_.bin_len.unique()\n",
    "    bins = {}\n",
    "    bins_squashed = {}\n",
    "    \n",
    "    for len_ in bin_lens:\n",
    "        df_slice = df_[df_.padded_seq_len == len_]\n",
    "        bin_ = np.array(df_slice.padded_seq.values.tolist(), dtype=np.int32)\n",
    "        bin_squashed = np.array(df_slice.squashed_seq.values.tolist(), dtype=np.int32)\n",
    "        assert bin_.shape[1] == len_\n",
    "        assert bin_.shape[0] == df_slice.shape[0]\n",
    "        bins[len_] = pd.DataFrame(bin_, index=df_slice.index)\n",
    "        bins_squashed[len_] = pd.DataFrame(bin_squashed, index=df_slice.index)\n",
    "    return bins, bins_squashed\n",
    "\n"
   ]
  },
  {
   "cell_type": "code",
   "execution_count": 4,
   "metadata": {
    "collapsed": true
   },
   "outputs": [],
   "source": [
    "def check(bins, ser):\n",
    "    ## spot-check that the two file contents match.\n",
    "    for bin_ in bins.keys():\n",
    "        for loc_ in bins[bin_].index.values:\n",
    "            ## print ('spot-checking bin %d and loc %d'%(bin_,loc_))\n",
    "            try:\n",
    "                assert sum(bins[bin_].loc[loc_].values != ser[loc_]) == 0\n",
    "            except:\n",
    "                print('Assertion failed at bin %d and loc %d'%(bin_,loc_))\n",
    "                raise"
   ]
  },
  {
   "cell_type": "code",
   "execution_count": 7,
   "metadata": {},
   "outputs": [
    {
     "name": "stdout",
     "output_type": "stream",
     "text": [
      "(292, 12)\n"
     ]
    }
   ],
   "source": [
    "temp_dir = os.path.join(raw_data_dir, 'temp_dir')\n",
    "image_features_folder = os.path.join(raw_data_dir, 'vgg16_features')\n",
    "\n",
    "image_list = [os.path.splitext(s)[0]+'.png' for s in filter(lambda s: s.endswith('.pkl'),os.listdir(image_features_folder))]\n",
    "\n",
    "df_train = pd.read_pickle(os.path.join(raw_data_dir, 'df_train.pkl'))\n",
    "\n",
    "df_train_short = df_train[df_train.image.isin(image_list)]\n",
    "print (df_train_short.shape)\n",
    "df_train_short.to_pickle(os.path.join(temp_dir, 'df_train.pkl'))\n",
    "\n",
    "bins_train_short, bins_sq_train_short = make_seq_bins(df_train_short)\n",
    "\n",
    "check(bins_train_short, df_train_short.padded_seq)\n",
    "check(bins_sq_train_short, df_train_short.squashed_seq)\n",
    "\n",
    "with open(os.path.join(raw_data_dir, 'temp_dir/raw_seq_train.pkl'), 'wb') as f:\n",
    "  pickle.dump(bins_train_short, f, pickle.HIGHEST_PROTOCOL)\n",
    "with open(os.path.join(raw_data_dir, 'temp_dir/raw_seq_sq_train.pkl'), 'wb') as f:\n",
    "  pickle.dump(bins_sq_train_short, f, pickle.HIGHEST_PROTOCOL)"
   ]
  },
  {
   "cell_type": "code",
   "execution_count": null,
   "metadata": {
    "collapsed": true
   },
   "outputs": [],
   "source": []
  }
 ],
 "metadata": {
  "kernelspec": {
   "display_name": "Python 2",
   "language": "python",
   "name": "python2"
  },
  "language_info": {
   "codemirror_mode": {
    "name": "ipython",
    "version": 2
   },
   "file_extension": ".py",
   "mimetype": "text/x-python",
   "name": "python",
   "nbconvert_exporter": "python",
   "pygments_lexer": "ipython2",
   "version": "2.7.13"
  }
 },
 "nbformat": 4,
 "nbformat_minor": 2
}
