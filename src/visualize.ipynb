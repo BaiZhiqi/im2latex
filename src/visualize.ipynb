{
 "cells": [
  {
   "cell_type": "code",
   "execution_count": 1,
   "metadata": {
    "collapsed": true
   },
   "outputs": [],
   "source": [
    "import pandas as pd\n",
    "import os\n",
    "import re\n",
    "import codecs\n",
    "from IPython.display import display\n",
    "from six.moves import cPickle as pickle\n",
    "import string\n",
    "from PIL import Image\n",
    "import numpy as np\n",
    "import h5py"
   ]
  },
  {
   "cell_type": "code",
   "execution_count": 4,
   "metadata": {},
   "outputs": [
    {
     "data": {
      "text/html": [
       "<style>.container { width:90% !important; }</style>"
      ],
      "text/plain": [
       "<IPython.core.display.HTML object>"
      ]
     },
     "metadata": {},
     "output_type": "display_data"
    }
   ],
   "source": [
    "from IPython.core.display import display, HTML\n",
    "display(HTML(\"<style>.container { width:90% !important; }</style>\"))"
   ]
  },
  {
   "cell_type": "code",
   "execution_count": 5,
   "metadata": {
    "collapsed": true
   },
   "outputs": [],
   "source": [
    "width = None\n",
    "pd.options.display.max_rows = 600\n",
    "pd.options.display.max_columns = width\n",
    "pd.options.display.max_colwidth = 600\n",
    "pd.options.display.width = width\n",
    "pd.options.display.max_seq_items = None\n",
    "pd.options.display.expand_frame_repr = False\n",
    "pd.options.display.colheader_justify = 'left'"
   ]
  },
  {
   "cell_type": "code",
   "execution_count": 74,
   "metadata": {
    "collapsed": true
   },
   "outputs": [],
   "source": [
    "class Visualize(object):\n",
    "    def __init__(self, storedir, gen_datadir):\n",
    "        self._storedir = storedir\n",
    "        self._word2id = pd.read_pickle(os.path.join(gen_datadir, 'dict_vocab.pkl'))\n",
    "        i2w = pd.read_pickle(os.path.join(gen_datadir, 'dict_id2word.pkl'))\n",
    "        for i in range(-1,-11,-1):\n",
    "            i2w[i] = '%d'%i\n",
    "        self._id2word = {}\n",
    "        ## Append space after all commands beginning with a backslash (except backslash alone)\n",
    "        for i, w in i2w.items():\n",
    "            if w[0] == '\\\\':\n",
    "              self._id2word[i] = w + \" \"  \n",
    "            else:\n",
    "                self._id2word[i] = w \n",
    "        self._id2word[self._word2id['id']['\\\\']] = '\\\\'\n",
    "    \n",
    "    @property\n",
    "    def w2i(self):\n",
    "        return self._word2id['id']\n",
    "\n",
    "    @property\n",
    "    def i2w(self):\n",
    "        return self._id2word\n",
    "    \n",
    "    def keys(self, graph, step):\n",
    "        with h5py.File(os.path.join(self._storedir, '%s_%d.h5'%(graph,step))) as h5:\n",
    "            return h5.keys()\n",
    "\n",
    "    def np(self, graph, step, key):\n",
    "        \"\"\"\n",
    "        Args:\n",
    "            graph: 'training' or 'validation'\n",
    "            step:  step who's output is to be fetched\n",
    "            key:   key of object to fetch - e.g. 'predicted_ids'\n",
    "        \"\"\"\n",
    "        with h5py.File(os.path.join(self._storedir, '%s_%d.h5'%(graph,step))) as h5:\n",
    "            return h5[key][...]\n",
    "    \n",
    "    def df(self, graph, step, key):\n",
    "        return pd.DataFrame(self.np(graph, step, key))\n",
    "    \n",
    "    def words(self, graph, step, key):\n",
    "        df = self.df(graph, step, key)\n",
    "        return df.applymap(lambda x: self._id2word[x])\n",
    "\n",
    "    def str(self, graph, step, key):\n",
    "        df_str = self.words(graph, step, key)\n",
    "        \n",
    "        ## each token's string version - excepting backslash - has a space appended to it,\n",
    "        ## therefore the string output should be compile if the prediction was syntactically correct\n",
    "        return pd.DataFrame([\"\".join(row) for row in df_str.itertuples(index=False)])\n",
    "                "
   ]
  },
  {
   "cell_type": "code",
   "execution_count": 75,
   "metadata": {},
   "outputs": [],
   "source": [
    "v = Visualize('./tb_metrics_dev/2017-10-06 00-39-05 PDT/store', '../data/generated2')"
   ]
  },
  {
   "cell_type": "code",
   "execution_count": 76,
   "metadata": {},
   "outputs": [
    {
     "data": {
      "text/plain": [
       "[u'alpha', u'predicted_ids', u'y']"
      ]
     },
     "execution_count": 76,
     "metadata": {},
     "output_type": "execute_result"
    }
   ],
   "source": [
    "v.keys('training', 1)"
   ]
  },
  {
   "cell_type": "code",
   "execution_count": 77,
   "metadata": {
    "scrolled": true
   },
   "outputs": [
    {
     "data": {
      "text/plain": [
       "(1, 40, 71, 3, 33)"
      ]
     },
     "execution_count": 77,
     "metadata": {},
     "output_type": "execute_result"
    }
   ],
   "source": [
    "v.np('training', 1, 'alpha').shape"
   ]
  },
  {
   "cell_type": "code",
   "execution_count": 83,
   "metadata": {},
   "outputs": [
    {
     "data": {
      "text/plain": [
       "array([[[ 0.00650329,  0.02085393,  0.03852431, ...,  0.0033305 ,\n",
       "          0.00321665,  0.0032965 ],\n",
       "        [ 0.0019619 ,  0.00199953,  0.00267198, ...,  0.00610553,\n",
       "          0.00607357,  0.00819643],\n",
       "        [ 0.00984446,  0.02706817,  0.0226049 , ...,  0.00518685,\n",
       "          0.00519742,  0.00717194]],\n",
       "\n",
       "       [[ 0.00499212,  0.01671512,  0.03074244, ...,  0.0027173 ,\n",
       "          0.00265462,  0.00344004],\n",
       "        [ 0.00226628,  0.00223743,  0.00160808, ...,  0.00640897,\n",
       "          0.00633911,  0.0082096 ],\n",
       "        [ 0.01315936,  0.04250258,  0.01784795, ...,  0.00509784,\n",
       "          0.00509746,  0.00670797]],\n",
       "\n",
       "       [[ 0.00501953,  0.0167746 ,  0.03186426, ...,  0.00270955,\n",
       "          0.00264292,  0.00336353],\n",
       "        [ 0.00221744,  0.00220547,  0.0016955 , ...,  0.00639331,\n",
       "          0.00634303,  0.00830908],\n",
       "        [ 0.0135147 ,  0.04153442,  0.01806595, ...,  0.00502808,\n",
       "          0.0050262 ,  0.00677582]],\n",
       "\n",
       "       ..., \n",
       "       [[ 0.00511913,  0.0181241 ,  0.0291148 , ...,  0.00295315,\n",
       "          0.00287974,  0.00348153],\n",
       "        [ 0.00215613,  0.00207873,  0.0019185 , ...,  0.00679577,\n",
       "          0.00676502,  0.00907958],\n",
       "        [ 0.01207049,  0.03796548,  0.02031802, ...,  0.0053424 ,\n",
       "          0.00533491,  0.00743963]],\n",
       "\n",
       "       [[ 0.00511911,  0.01812438,  0.02911386, ...,  0.00295305,\n",
       "          0.00287964,  0.00348135],\n",
       "        [ 0.00215629,  0.00207881,  0.00191851, ...,  0.0067959 ,\n",
       "          0.00676513,  0.00907952],\n",
       "        [ 0.01206968,  0.03796703,  0.02031783, ...,  0.00534249,\n",
       "          0.005335  ,  0.00743959]],\n",
       "\n",
       "       [[ 0.0051191 ,  0.01812467,  0.02911305, ...,  0.00295297,\n",
       "          0.00287955,  0.00348118],\n",
       "        [ 0.00215644,  0.00207889,  0.00191852, ...,  0.00679605,\n",
       "          0.00676525,  0.0090795 ],\n",
       "        [ 0.01206898,  0.03796861,  0.02031771, ...,  0.0053426 ,\n",
       "          0.00533511,  0.00743958]]], dtype=float32)"
      ]
     },
     "execution_count": 83,
     "metadata": {},
     "output_type": "execute_result"
    }
   ],
   "source": [
    "v.np('training', 1, 'alpha')[0,0]"
   ]
  },
  {
   "cell_type": "code",
   "execution_count": 61,
   "metadata": {
    "scrolled": true
   },
   "outputs": [
    {
     "name": "stdout",
     "output_type": "stream",
     "text": [
      "41\n"
     ]
    }
   ],
   "source": [
    "df = v.words('validation', 1, 'y')\n",
    "print (df == '\\\\').sum().sum()"
   ]
  },
  {
   "cell_type": "code",
   "execution_count": 59,
   "metadata": {
    "scrolled": true
   },
   "outputs": [
    {
     "data": {
      "text/html": [
       "<div>\n",
       "<style>\n",
       "    .dataframe thead tr:only-child th {\n",
       "        text-align: right;\n",
       "    }\n",
       "\n",
       "    .dataframe thead th {\n",
       "        text-align: left;\n",
       "    }\n",
       "\n",
       "    .dataframe tbody tr th {\n",
       "        vertical-align: top;\n",
       "    }\n",
       "</style>\n",
       "<table border=\"1\" class=\"dataframe\">\n",
       "  <thead>\n",
       "    <tr style=\"text-align: left;\">\n",
       "      <th></th>\n",
       "      <th>0</th>\n",
       "    </tr>\n",
       "  </thead>\n",
       "  <tbody>\n",
       "    <tr>\n",
       "      <th>0</th>\n",
       "      <td>h_{\\mu \\nu }(k)=h^{+}(k)e_{\\mu \\nu }^{+}(k)+h^{\\times }(k)\\,e_{\\mu \\nu }^{\\times }(k)\\,\\label {fas}\\eos \\eos \\eos \\eos \\eos \\eos \\eos \\eos \\eos \\eos \\eos \\eos \\eos \\eos \\eos \\eos \\eos \\eos</td>\n",
       "    </tr>\n",
       "    <tr>\n",
       "      <th>1</th>\n",
       "      <td>\\label {8}D^{++}_r\\Gamma ^{(0|2,2,2,2)}=0\\;,\\quad \\mbox {if}x_r\\neq x_s\\;,\\quad r,s=1,\\ldots ,4\\;.\\eos \\eos \\eos \\eos \\eos \\eos \\eos \\eos \\eos \\eos \\eos \\eos \\eos \\eos \\eos \\eos \\eos \\eos \\eos \\eos</td>\n",
       "    </tr>\n",
       "    <tr>\n",
       "      <th>2</th>\n",
       "      <td>\\omega _0^2-k_n^2\\left [{1\\over g}+{1\\over 2}k_n^{D-4}\\int ^{\\Lambda /k_n}{d^Dq\\over (2\\pi )^D}\\,{1\\over q^2(q+1)^2}\\right ]=0.\\eos \\eos \\eos \\eos \\eos</td>\n",
       "    </tr>\n",
       "    <tr>\n",
       "      <th>3</th>\n",
       "      <td>S_{YM}=\\int d^dx\\,\\left (-\\frac {1}{4g^2}\\right )F_{\\mu \\nu }*F^{\\mu \\nu }\\,,\\label {eq:NYM_action}\\eos \\eos \\eos \\eos \\eos \\eos \\eos \\eos \\eos \\eos \\eos \\eos \\eos \\eos \\eos \\eos \\eos \\eos \\eos \\eos</td>\n",
       "    </tr>\n",
       "    <tr>\n",
       "      <th>4</th>\n",
       "      <td>\\label {A13}T(u_E)=\\left (\\begin {array}{c|c}1&amp;b(u^0_E)\\vec u_E^{\\rm T}\\\\[1ex]\\hline 0&amp;I\\end {array}\\right ),\\eos \\eos \\eos \\eos \\eos \\eos \\eos \\eos \\eos \\eos \\eos \\eos</td>\n",
       "    </tr>\n",
       "    <tr>\n",
       "      <th>5</th>\n",
       "      <td>K^{(1)}\\;:=\\;\\frac {1}{-\\triangle +\\frac {e^2N}{\\pi +gN}}\\;=\\;\\frac {\\pi +gN}{\\pi }K_{11}\\;,\\eos \\eos \\eos \\eos \\eos \\eos \\eos \\eos \\eos \\eos \\eos \\eos \\eos \\eos \\eos \\eos \\eos \\eos \\eos \\eos \\eos \\eos</td>\n",
       "    </tr>\n",
       "    <tr>\n",
       "      <th>6</th>\n",
       "      <td>\\label {Qrepresent_int}Q_{\\nu -1/2}(\\cosh \\rho )=\\frac {1}{\\sqrt {2}}\\int _{\\rho }^{\\infty }dt\\frac {e^{-\\nu t}}{\\sqrt {\\cosh t-\\cosh \\rho }}\\.\\eos \\eos \\eos \\eos \\eos \\eos \\eos</td>\n",
       "    </tr>\n",
       "    <tr>\n",
       "      <th>7</th>\n",
       "      <td>\\left .-2\\int d\\phi d\\theta N\\\\delta \\left (\\gamma -\\frac {\\gamma ^3}{l^2}\\right )\\right |^{r_{++}}_{r_+}\\.\\label {var3}\\eos \\eos \\eos \\eos \\eos \\eos \\eos \\eos \\eos \\eos \\eos \\eos \\eos \\eos \\eos \\eos \\eos \\eos \\eos \\eos \\eos \\eos \\eos \\eos \\eos \\eos</td>\n",
       "    </tr>\n",
       "    <tr>\n",
       "      <th>8</th>\n",
       "      <td>S^{F}=\\sum ^{+\\infty }_{n_{1}=0}\\sum ^{n_{1}}_{n_{0}=-n_{1}-1}\\oplus (1/2+n_{0},3/2+n_{1}),\\eos \\eos \\eos \\eos \\eos \\eos \\eos \\eos \\eos \\eos</td>\n",
       "    </tr>\n",
       "    <tr>\n",
       "      <th>9</th>\n",
       "      <td>eq.(16)\\bar {\\bar {\\Psi }}_0\\i \\gamma ^\\mu \\partial _\\mu \\Psi _0=\\bar {\\Psi }\\i \\gamma ^\\mu (\\partial _\\mu \\Psi -\\i eA_\\mu )\\Psi -m\\bar {\\Psi }\\Psi \\eos \\eos \\eos \\eos \\eos \\eos \\eos \\eos \\eos \\eos \\eos \\eos \\eos \\eos \\eos \\eos \\eos \\eos \\eos \\eos \\eos \\eos \\eos \\eos \\eos \\eos</td>\n",
       "    </tr>\n",
       "    <tr>\n",
       "      <th>10</th>\n",
       "      <td>V_J=\\left (\\frac {J}{3V}-\\frac {1}{r_{OM}}\\left (\\frac {6V}{d}\\right )^{1/3}\\right )^{-1}\\;,\\label {VDerivative}\\eos \\eos \\eos \\eos \\eos \\eos \\eos \\eos \\eos \\eos \\eos \\eos</td>\n",
       "    </tr>\n",
       "    <tr>\n",
       "      <th>11</th>\n",
       "      <td>\\label {ex.20}z_{1}=Re^{i(k_{i}x^{i})}\\;\\;\\;,\\;\\;\\;z_{2}=Re^{i(k_{i}x^{i}+\\pi )}\\;\\;,\\eos \\eos \\eos \\eos \\eos</td>\n",
       "    </tr>\n",
       "    <tr>\n",
       "      <th>12</th>\n",
       "      <td>{f'_0}^2{\\sum ^M_{i=1}}{f''_i}+{f_0}''{\\sum ^M_{i=1}}{f_i}'^2={\\sum _{i\\ne j}}{f_o}'^2{f_j}''\\eos \\eos \\eos</td>\n",
       "    </tr>\n",
       "    <tr>\n",
       "      <th>13</th>\n",
       "      <td>I_{\\omega }\\rightarrow K_{\\omega },\\quad K_{\\omega }\\rightarrow I_{\\omega },\\quad \\xi _{1}\\rightarrow \\xi _{2},\\quad \\xi _{2}\\rightarrow \\xi _{1}.\\label {replace}\\eos \\eos \\eos \\eos \\eos \\eos \\eos \\eos \\eos \\eos \\eos \\eos \\eos \\eos \\eos \\eos \\eos \\eos \\eos \\eos</td>\n",
       "    </tr>\n",
       "    <tr>\n",
       "      <th>14</th>\n",
       "      <td>\\left [N,B\\right ]=-2B\\\\,\\\\\\left [N,B^\\dagger \\right ]=2B^\\dagger \\\\,\\\\\\left [B,B^\\dagger \\right ]=4N+2D_G=4N+6\\\\\\.\\eos \\eos \\eos \\eos \\eos \\eos \\eos \\eos \\eos \\eos \\eos \\eos \\eos \\eos \\eos \\eos \\eos \\eos \\eos \\eos</td>\n",
       "    </tr>\n",
       "    <tr>\n",
       "      <th>15</th>\n",
       "      <td>\\left (\\sqrt {\\tilde {x}^{2}+\\tilde {y}^{2}}-\\widetilde {\\rho }\\frac {\\cosh \\tau }{\\sinh \\tau }\\right )^{2}+\\tilde {z}^{2}=\\frac {\\widetilde {\\rho }^{2}}{\\sinh ^{2}\\tau }.\\eos \\eos \\eos \\eos \\eos \\eos \\eos \\eos \\eos</td>\n",
       "    </tr>\n",
       "    <tr>\n",
       "      <th>16</th>\n",
       "      <td>\\theta _{s}(\\sum (x_i-y_i)/2+z-w)\\prod _{I}\\theta _{s,h_I}(\\sum (x_i+y_i)/2-\\sum u_{i,I})~.\\label {theta0}\\eos \\eos \\eos \\eos \\eos \\eos \\eos \\eos \\eos \\eos</td>\n",
       "    </tr>\n",
       "    <tr>\n",
       "      <th>17</th>\n",
       "      <td>S^{\\mu \\nu }={{\\partial L}\\over {\\partial \\sigma _{\\mu \\nu }}}={{L^{-1}}\\over 2}[J^2\\sigma ^{\\mu \\nu }+{MJ}\\epsilon ^{\\mu \\nu \\lambda }u_\\lambda ]\\label {8}\\eos \\eos \\eos \\eos \\eos \\eos \\eos \\eos \\eos \\eos \\eos \\eos \\eos \\eos \\eos</td>\n",
       "    </tr>\n",
       "    <tr>\n",
       "      <th>18</th>\n",
       "      <td>x^{\\prime i}=\\sqrt {a^2-z^2}\\left (e_1^i\\cos \\psi +e_2^i\\sin \\psi \\right ),~~~0\\leq z\\leq a,~0\\leq \\psi &lt;2\\pi .\\eos \\eos \\eos \\eos \\eos \\eos \\eos \\eos \\eos \\eos \\eos \\eos \\eos \\eos \\eos \\eos \\eos \\eos \\eos \\eos \\eos \\eos \\eos \\eos \\eos \\eos \\eos</td>\n",
       "    </tr>\n",
       "    <tr>\n",
       "      <th>19</th>\n",
       "      <td>\\hat {A}_{\\mu }\\equiv \\frac {1}{2}(q+1)A_{\\mu }+\\frac {1}{2}(q-1)\\epsilon _{\\mu \\nu }A^{\\nu }+a_{\\mu }+\\epsilon _{\\mu \\nu }b^{\\nu }.\\eos \\eos \\eos \\eos \\eos \\eos \\eos \\eos \\eos \\eos \\eos \\eos</td>\n",
       "    </tr>\n",
       "    <tr>\n",
       "      <th>20</th>\n",
       "      <td>\\delta _{\\mu \\nu }\\partial ^{2}-\\partial _{\\mu }\\partial _{\\nu }=\\frac {1}{2}\\epsilon _{\\mu \\kappa \\alpha \\beta }\\epsilon _{\\nu \\lambda \\alpha \\beta }\\partial _{\\kappa }\\partial _{\\lambda }\\.\\eos \\eos \\eos \\eos \\eos \\eos \\eos \\eos \\eos \\eos \\eos \\eos \\eos \\eos \\eos \\eos \\eos \\eos \\eos \\eos \\eos \\eos \\eos</td>\n",
       "    </tr>\n",
       "    <tr>\n",
       "      <th>21</th>\n",
       "      <td>I_{2,2}(\\overline {P_1},\\overline {P_2},Q_1,Q_2)=\\int dx\\,\\overline {P_1(x)}\\overline {P_2(x)}Q_1(x)Q_2(x).\\eos \\eos \\eos \\eos \\eos \\eos \\eos \\eos \\eos \\eos \\eos \\eos \\eos \\eos</td>\n",
       "    </tr>\n",
       "    <tr>\n",
       "      <th>22</th>\n",
       "      <td>s_k\\sim k!\\,(-a)^{k}\\,k^b\\,\\left [1+O(k^{-1})\\right ]\\qquad \\qquad {\\rm with}\\qquad a=-1/g_b.\\label {lobh}\\eos \\eos \\eos \\eos \\eos \\eos \\eos \\eos \\eos \\eos \\eos \\eos \\eos \\eos \\eos \\eos \\eos</td>\n",
       "    </tr>\n",
       "    <tr>\n",
       "      <th>23</th>\n",
       "      <td>\\sum _{i=1}^{N}\\left [-\\frac {\\partial ^{2}}{\\partial x_{i}^{2}}+V(x_{i})\\right ]\\psi _a(x)=E\\psi _a(x),\\eos \\eos \\eos \\eos \\eos \\eos \\eos \\eos \\eos \\eos \\eos \\eos \\eos \\eos \\eos \\eos \\eos \\eos \\eos \\eos \\eos</td>\n",
       "    </tr>\n",
       "    <tr>\n",
       "      <th>24</th>\n",
       "      <td>N_i({\\vec x})=a_i^\\dagger ({\\vec x})a_{i}({\\vec x})={\\tilde a}_i^\\dagger ({\\vec x}){\\tilde a}_{i}({\\vec x})=n_i({\\vec x})\\eos \\eos \\eos \\eos \\eos \\eos \\eos \\eos \\eos \\eos</td>\n",
       "    </tr>\n",
       "    <tr>\n",
       "      <th>25</th>\n",
       "      <td>\\label {S-46}\\lim _{R\\rightarrow 0}E_{as}\\sim -\\frac {\\alpha C_0}{16\\pi R}-\\frac {\\alpha ^3}{24\\pi R}\\left (\\ln \\frac {1}{Rm}-C_3\\right ),\\eos \\eos \\eos \\eos \\eos \\eos \\eos \\eos \\eos \\eos \\eos \\eos \\eos \\eos \\eos</td>\n",
       "    </tr>\n",
       "    <tr>\n",
       "      <th>26</th>\n",
       "      <td>Z=\\pi \\int {\\cal D}G{\\cal D}\\tilde {A}~~exp\\bigg (\\int G^{\\mu \\nu }_a[-\\alpha G_{\\mu \\nu }^a+F_{\\mu \\nu }^a(\\tilde {A})]dx\\bigg ),\\eos \\eos \\eos \\eos \\eos \\eos \\eos \\eos \\eos \\eos \\eos \\eos \\eos \\eos \\eos \\eos</td>\n",
       "    </tr>\n",
       "    <tr>\n",
       "      <th>27</th>\n",
       "      <td>\\delta a_i=-\\,{i}(\\delta \\lambda ){\\partial G\\over \\partial a_i^*},\\qquad \\delta a_j^*={i}(\\delta \\lambda ){\\partial G\\over \\partial a_j},\\label {notes9}\\eos \\eos \\eos \\eos \\eos \\eos \\eos \\eos \\eos \\eos \\eos \\eos \\eos \\eos \\eos \\eos \\eos \\eos \\eos \\eos</td>\n",
       "    </tr>\n",
       "    <tr>\n",
       "      <th>28</th>\n",
       "      <td>[\\phi _i^\\pm (z),\\phi _j^\\pm (z')]=0,~~~~[\\phi _i^\\pm (z),\\phi _j^\\mp (z')]=-\\frac {i}{4}\\hbar \\delta _{ij}h^\\pm (z-z'),\\eos \\eos \\eos \\eos \\eos \\eos \\eos \\eos</td>\n",
       "    </tr>\n",
       "    <tr>\n",
       "      <th>29</th>\n",
       "      <td>\\gamma _{str}=2+(1-f)\\frac {C-24}{24-C-12B^{2}-\\sqrt {(24-C-12B^{2})(-12B^{2}-C)}},\\eos \\eos \\eos \\eos \\eos \\eos \\eos \\eos \\eos \\eos \\eos \\eos \\eos \\eos</td>\n",
       "    </tr>\n",
       "    <tr>\n",
       "      <th>30</th>\n",
       "      <td>g_{xy}\\,(\\varphi ^y)'=+3\\alpha G(x^5)W_{,x}\\,\\qquad \\qquad {a'\\over a}=-\\alpha G(x^5)W\\,,\\label {BPSsol}\\eos \\eos \\eos \\eos \\eos \\eos \\eos \\eos \\eos \\eos \\eos \\eos \\eos \\eos \\eos \\eos \\eos \\eos \\eos</td>\n",
       "    </tr>\n",
       "    <tr>\n",
       "      <th>31</th>\n",
       "      <td>V(\\bar {\\phi })=-\\left [{\\cal L}_{1}(\\bar {\\phi })+{\\cal L}_{ct}(\\bar {\\phi })\\right ]-\\frac {T}{\\Omega }\\log Z'(K).\\label {effact2}\\eos \\eos \\eos \\eos \\eos \\eos \\eos \\eos \\eos \\eos \\eos \\eos \\eos</td>\n",
       "    </tr>\n",
       "    <tr>\n",
       "      <th>32</th>\n",
       "      <td>e^{2\\left (\\phi -\\phi _{\\infty }\\right )}=\\frac {1}{r(r-2M)}\\left |r-2M+\\frac {i(QN-PM){\\cal Q}^*}{|{\\cal M}|^2}\\right |^2.\\eos \\eos \\eos \\eos \\eos \\eos \\eos \\eos \\eos \\eos \\eos \\eos</td>\n",
       "    </tr>\n",
       "    <tr>\n",
       "      <th>33</th>\n",
       "      <td>v_{mn}=e^{(n-m)t}\\int _{F-F_0}\\frac {dp\\,dx}{2\\pi }\\,(-x-p)^m(-x+p)^n.\\label {vmn}\\eos \\eos \\eos \\eos \\eos \\eos \\eos \\eos \\eos \\eos \\eos \\eos \\eos \\eos \\eos \\eos \\eos</td>\n",
       "    </tr>\n",
       "    <tr>\n",
       "      <th>34</th>\n",
       "      <td>{\\kappa }^2\\;^{(\\Phi )}T_\\mu ^{\\;\\;\\lambda }=\\frac 12(g^{\\nu \\lambda }\\partial _\\mu \\Phi \\partial _\\nu \\Phi -\\frac 12\\delta _\\mu ^\\lambda (\\partial \\Phi )^2),\\eos \\eos \\eos \\eos \\eos \\eos \\eos \\eos \\eos \\eos \\eos \\eos \\eos \\eos \\eos \\eos \\eos \\eos \\eos \\eos \\eos</td>\n",
       "    </tr>\n",
       "    <tr>\n",
       "      <th>35</th>\n",
       "      <td>D(q,\\pm )\\equiv \\frac {\\zeta ^{\\pm 2}(\\zeta ^{\\pm 2}+1)}{(\\zeta ^{\\pm 2}+1)^2\\mp \\frac {2\\zeta ^{\\pm 1}}{qR}}\\label {eq5.8}\\eos \\eos \\eos \\eos \\eos \\eos \\eos \\eos \\eos \\eos \\eos \\eos \\eos \\eos \\eos \\eos \\eos \\eos</td>\n",
       "    </tr>\n",
       "    <tr>\n",
       "      <th>36</th>\n",
       "      <td>i{\\bf \\dot {q}}=-\\frac {1}{2}(\\partial _{x}^{2}+\\partial _{y}^{2}){\\bf q}+iA_{1}{\\bf q}+iA_{2}{\\bf q},\\eos \\eos \\eos \\eos \\eos \\eos \\eos \\eos \\eos \\eos \\eos \\eos \\eos \\eos \\eos \\eos</td>\n",
       "    </tr>\n",
       "    <tr>\n",
       "      <th>37</th>\n",
       "      <td>\\stackrel {1}{\\bar M}_\\pm \\stackrel {2}{\\bar M}_\\pm R^\\varepsilon =R^\\varepsilon \\stackrel {2}{\\bar M}_\\pm \\stackrel {1}{\\bar M}_\\pm \\,\\\\\\varepsilon =+,-\\\\\\eos \\eos \\eos \\eos \\eos \\eos \\eos \\eos \\eos \\eos \\eos \\eos \\eos \\eos \\eos \\eos \\eos \\eos \\eos \\eos \\eos \\eos \\eos</td>\n",
       "    </tr>\n",
       "    <tr>\n",
       "      <th>38</th>\n",
       "      <td>\\nabla ^a\\nabla _aY^{(l)}_{a_1\\cdots a_n}=-[l(l+d-3)-n]Y^{(l)}_{a_1\\cdots a_n}.\\label {eigeneq}\\eos \\eos \\eos \\eos \\eos \\eos \\eos \\eos \\eos \\eos \\eos \\eos \\eos \\eos \\eos \\eos</td>\n",
       "    </tr>\n",
       "    <tr>\n",
       "      <th>39</th>\n",
       "      <td>\\delta \\langle X\\rangle =dt\\left (\\sum _{k}(x_{k}^{\\mu }\\partial _{k}^{\\mu }+D_{k})\\langle X\\rangle -\\int d^{2}y\\langle X\\Theta (y)\\rangle \\right )\\eos \\eos \\eos \\eos \\eos \\eos \\eos \\eos \\eos \\eos \\eos \\eos \\eos \\eos \\eos \\eos \\eos \\eos \\eos \\eos \\eos</td>\n",
       "    </tr>\n",
       "  </tbody>\n",
       "</table>\n",
       "</div>"
      ],
      "text/plain": [
       "   0                                                                                                                                                                                                                                                                                                                  \n",
       "0                                                                                                                        h_{\\mu \\nu }(k)=h^{+}(k)e_{\\mu \\nu }^{+}(k)+h^{\\times }(k)\\,e_{\\mu \\nu }^{\\times }(k)\\,\\label {fas}\\eos \\eos \\eos \\eos \\eos \\eos \\eos \\eos \\eos \\eos \\eos \\eos \\eos \\eos \\eos \\eos \\eos \\eos \n",
       "1                                                                                                               \\label {8}D^{++}_r\\Gamma ^{(0|2,2,2,2)}=0\\;,\\quad \\mbox {if}x_r\\neq x_s\\;,\\quad r,s=1,\\ldots ,4\\;.\\eos \\eos \\eos \\eos \\eos \\eos \\eos \\eos \\eos \\eos \\eos \\eos \\eos \\eos \\eos \\eos \\eos \\eos \\eos \\eos \n",
       "2                                                                                                                                                             \\omega _0^2-k_n^2\\left [{1\\over g}+{1\\over 2}k_n^{D-4}\\int ^{\\Lambda /k_n}{d^Dq\\over (2\\pi )^D}\\,{1\\over q^2(q+1)^2}\\right ]=0.\\eos \\eos \\eos \\eos \\eos \n",
       "3                                                                                                              S_{YM}=\\int d^dx\\,\\left (-\\frac {1}{4g^2}\\right )F_{\\mu \\nu }*F^{\\mu \\nu }\\,,\\label {eq:NYM_action}\\eos \\eos \\eos \\eos \\eos \\eos \\eos \\eos \\eos \\eos \\eos \\eos \\eos \\eos \\eos \\eos \\eos \\eos \\eos \\eos \n",
       "4                                                                                                                                            \\label {A13}T(u_E)=\\left (\\begin {array}{c|c}1&b(u^0_E)\\vec u_E^{\\rm T}\\\\[1ex]\\hline 0&I\\end {array}\\right ),\\eos \\eos \\eos \\eos \\eos \\eos \\eos \\eos \\eos \\eos \\eos \\eos \n",
       "5                                                                                                           K^{(1)}\\;:=\\;\\frac {1}{-\\triangle +\\frac {e^2N}{\\pi +gN}}\\;=\\;\\frac {\\pi +gN}{\\pi }K_{11}\\;,\\eos \\eos \\eos \\eos \\eos \\eos \\eos \\eos \\eos \\eos \\eos \\eos \\eos \\eos \\eos \\eos \\eos \\eos \\eos \\eos \\eos \\eos \n",
       "6                                                                                                                                   \\label {Qrepresent_int}Q_{\\nu -1/2}(\\cosh \\rho )=\\frac {1}{\\sqrt {2}}\\int _{\\rho }^{\\infty }dt\\frac {e^{-\\nu t}}{\\sqrt {\\cosh t-\\cosh \\rho }}\\.\\eos \\eos \\eos \\eos \\eos \\eos \\eos \n",
       "7                                                           \\left .-2\\int d\\phi d\\theta N\\\\delta \\left (\\gamma -\\frac {\\gamma ^3}{l^2}\\right )\\right |^{r_{++}}_{r_+}\\.\\label {var3}\\eos \\eos \\eos \\eos \\eos \\eos \\eos \\eos \\eos \\eos \\eos \\eos \\eos \\eos \\eos \\eos \\eos \\eos \\eos \\eos \\eos \\eos \\eos \\eos \\eos \\eos \n",
       "8                                                                                                                                                                        S^{F}=\\sum ^{+\\infty }_{n_{1}=0}\\sum ^{n_{1}}_{n_{0}=-n_{1}-1}\\oplus (1/2+n_{0},3/2+n_{1}),\\eos \\eos \\eos \\eos \\eos \\eos \\eos \\eos \\eos \\eos \n",
       "9                               eq.(16)\\bar {\\bar {\\Psi }}_0\\i \\gamma ^\\mu \\partial _\\mu \\Psi _0=\\bar {\\Psi }\\i \\gamma ^\\mu (\\partial _\\mu \\Psi -\\i eA_\\mu )\\Psi -m\\bar {\\Psi }\\Psi \\eos \\eos \\eos \\eos \\eos \\eos \\eos \\eos \\eos \\eos \\eos \\eos \\eos \\eos \\eos \\eos \\eos \\eos \\eos \\eos \\eos \\eos \\eos \\eos \\eos \\eos \n",
       "10                                                                                                                                        V_J=\\left (\\frac {J}{3V}-\\frac {1}{r_{OM}}\\left (\\frac {6V}{d}\\right )^{1/3}\\right )^{-1}\\;,\\label {VDerivative}\\eos \\eos \\eos \\eos \\eos \\eos \\eos \\eos \\eos \\eos \\eos \\eos \n",
       "11                                                                                                                                                                                                      \\label {ex.20}z_{1}=Re^{i(k_{i}x^{i})}\\;\\;\\;,\\;\\;\\;z_{2}=Re^{i(k_{i}x^{i}+\\pi )}\\;\\;,\\eos \\eos \\eos \\eos \\eos \n",
       "12                                                                                                                                                                                                        {f'_0}^2{\\sum ^M_{i=1}}{f''_i}+{f_0}''{\\sum ^M_{i=1}}{f_i}'^2={\\sum _{i\\ne j}}{f_o}'^2{f_j}''\\eos \\eos \\eos \n",
       "13                                              I_{\\omega }\\rightarrow K_{\\omega },\\quad K_{\\omega }\\rightarrow I_{\\omega },\\quad \\xi _{1}\\rightarrow \\xi _{2},\\quad \\xi _{2}\\rightarrow \\xi _{1}.\\label {replace}\\eos \\eos \\eos \\eos \\eos \\eos \\eos \\eos \\eos \\eos \\eos \\eos \\eos \\eos \\eos \\eos \\eos \\eos \\eos \\eos \n",
       "14                                                                                             \\left [N,B\\right ]=-2B\\\\,\\\\\\left [N,B^\\dagger \\right ]=2B^\\dagger \\\\,\\\\\\left [B,B^\\dagger \\right ]=4N+2D_G=4N+6\\\\\\.\\eos \\eos \\eos \\eos \\eos \\eos \\eos \\eos \\eos \\eos \\eos \\eos \\eos \\eos \\eos \\eos \\eos \\eos \\eos \\eos \n",
       "15                                                                                            \\left (\\sqrt {\\tilde {x}^{2}+\\tilde {y}^{2}}-\\widetilde {\\rho }\\frac {\\cosh \\tau }{\\sinh \\tau }\\right )^{2}+\\tilde {z}^{2}=\\frac {\\widetilde {\\rho }^{2}}{\\sinh ^{2}\\tau }.\\eos \\eos \\eos \\eos \\eos \\eos \\eos \\eos \\eos \n",
       "16                                                                                                                                                        \\theta _{s}(\\sum (x_i-y_i)/2+z-w)\\prod _{I}\\theta _{s,h_I}(\\sum (x_i+y_i)/2-\\sum u_{i,I})~.\\label {theta0}\\eos \\eos \\eos \\eos \\eos \\eos \\eos \\eos \\eos \\eos \n",
       "17                                                                             S^{\\mu \\nu }={{\\partial L}\\over {\\partial \\sigma _{\\mu \\nu }}}={{L^{-1}}\\over 2}[J^2\\sigma ^{\\mu \\nu }+{MJ}\\epsilon ^{\\mu \\nu \\lambda }u_\\lambda ]\\label {8}\\eos \\eos \\eos \\eos \\eos \\eos \\eos \\eos \\eos \\eos \\eos \\eos \\eos \\eos \\eos \n",
       "18                                                              x^{\\prime i}=\\sqrt {a^2-z^2}\\left (e_1^i\\cos \\psi +e_2^i\\sin \\psi \\right ),~~~0\\leq z\\leq a,~0\\leq \\psi <2\\pi .\\eos \\eos \\eos \\eos \\eos \\eos \\eos \\eos \\eos \\eos \\eos \\eos \\eos \\eos \\eos \\eos \\eos \\eos \\eos \\eos \\eos \\eos \\eos \\eos \\eos \\eos \\eos \n",
       "19                                                                                                                    \\hat {A}_{\\mu }\\equiv \\frac {1}{2}(q+1)A_{\\mu }+\\frac {1}{2}(q-1)\\epsilon _{\\mu \\nu }A^{\\nu }+a_{\\mu }+\\epsilon _{\\mu \\nu }b^{\\nu }.\\eos \\eos \\eos \\eos \\eos \\eos \\eos \\eos \\eos \\eos \\eos \\eos \n",
       "20  \\delta _{\\mu \\nu }\\partial ^{2}-\\partial _{\\mu }\\partial _{\\nu }=\\frac {1}{2}\\epsilon _{\\mu \\kappa \\alpha \\beta }\\epsilon _{\\nu \\lambda \\alpha \\beta }\\partial _{\\kappa }\\partial _{\\lambda }\\.\\eos \\eos \\eos \\eos \\eos \\eos \\eos \\eos \\eos \\eos \\eos \\eos \\eos \\eos \\eos \\eos \\eos \\eos \\eos \\eos \\eos \\eos \\eos \n",
       "21                                                                                                                                   I_{2,2}(\\overline {P_1},\\overline {P_2},Q_1,Q_2)=\\int dx\\,\\overline {P_1(x)}\\overline {P_2(x)}Q_1(x)Q_2(x).\\eos \\eos \\eos \\eos \\eos \\eos \\eos \\eos \\eos \\eos \\eos \\eos \\eos \\eos \n",
       "22                                                                                                                     s_k\\sim k!\\,(-a)^{k}\\,k^b\\,\\left [1+O(k^{-1})\\right ]\\qquad \\qquad {\\rm with}\\qquad a=-1/g_b.\\label {lobh}\\eos \\eos \\eos \\eos \\eos \\eos \\eos \\eos \\eos \\eos \\eos \\eos \\eos \\eos \\eos \\eos \\eos \n",
       "23                                                                                                   \\sum _{i=1}^{N}\\left [-\\frac {\\partial ^{2}}{\\partial x_{i}^{2}}+V(x_{i})\\right ]\\psi _a(x)=E\\psi _a(x),\\eos \\eos \\eos \\eos \\eos \\eos \\eos \\eos \\eos \\eos \\eos \\eos \\eos \\eos \\eos \\eos \\eos \\eos \\eos \\eos \\eos \n",
       "24                                                                                                                                         N_i({\\vec x})=a_i^\\dagger ({\\vec x})a_{i}({\\vec x})={\\tilde a}_i^\\dagger ({\\vec x}){\\tilde a}_{i}({\\vec x})=n_i({\\vec x})\\eos \\eos \\eos \\eos \\eos \\eos \\eos \\eos \\eos \\eos \n",
       "25                                                                                               \\label {S-46}\\lim _{R\\rightarrow 0}E_{as}\\sim -\\frac {\\alpha C_0}{16\\pi R}-\\frac {\\alpha ^3}{24\\pi R}\\left (\\ln \\frac {1}{Rm}-C_3\\right ),\\eos \\eos \\eos \\eos \\eos \\eos \\eos \\eos \\eos \\eos \\eos \\eos \\eos \\eos \\eos \n",
       "26                                                                                                  Z=\\pi \\int {\\cal D}G{\\cal D}\\tilde {A}~~exp\\bigg (\\int G^{\\mu \\nu }_a[-\\alpha G_{\\mu \\nu }^a+F_{\\mu \\nu }^a(\\tilde {A})]dx\\bigg ),\\eos \\eos \\eos \\eos \\eos \\eos \\eos \\eos \\eos \\eos \\eos \\eos \\eos \\eos \\eos \\eos \n",
       "27                                                       \\delta a_i=-\\,{i}(\\delta \\lambda ){\\partial G\\over \\partial a_i^*},\\qquad \\delta a_j^*={i}(\\delta \\lambda ){\\partial G\\over \\partial a_j},\\label {notes9}\\eos \\eos \\eos \\eos \\eos \\eos \\eos \\eos \\eos \\eos \\eos \\eos \\eos \\eos \\eos \\eos \\eos \\eos \\eos \\eos \n",
       "28                                                                                                                                                    [\\phi _i^\\pm (z),\\phi _j^\\pm (z')]=0,~~~~[\\phi _i^\\pm (z),\\phi _j^\\mp (z')]=-\\frac {i}{4}\\hbar \\delta _{ij}h^\\pm (z-z'),\\eos \\eos \\eos \\eos \\eos \\eos \\eos \\eos \n",
       "29                                                                                                                                                           \\gamma _{str}=2+(1-f)\\frac {C-24}{24-C-12B^{2}-\\sqrt {(24-C-12B^{2})(-12B^{2}-C)}},\\eos \\eos \\eos \\eos \\eos \\eos \\eos \\eos \\eos \\eos \\eos \\eos \\eos \\eos \n",
       "30                                                                                                             g_{xy}\\,(\\varphi ^y)'=+3\\alpha G(x^5)W_{,x}\\,\\qquad \\qquad {a'\\over a}=-\\alpha G(x^5)W\\,,\\label {BPSsol}\\eos \\eos \\eos \\eos \\eos \\eos \\eos \\eos \\eos \\eos \\eos \\eos \\eos \\eos \\eos \\eos \\eos \\eos \\eos \n",
       "31                                                                                                               V(\\bar {\\phi })=-\\left [{\\cal L}_{1}(\\bar {\\phi })+{\\cal L}_{ct}(\\bar {\\phi })\\right ]-\\frac {T}{\\Omega }\\log Z'(K).\\label {effact2}\\eos \\eos \\eos \\eos \\eos \\eos \\eos \\eos \\eos \\eos \\eos \\eos \\eos \n",
       "32                                                                                                                             e^{2\\left (\\phi -\\phi _{\\infty }\\right )}=\\frac {1}{r(r-2M)}\\left |r-2M+\\frac {i(QN-PM){\\cal Q}^*}{|{\\cal M}|^2}\\right |^2.\\eos \\eos \\eos \\eos \\eos \\eos \\eos \\eos \\eos \\eos \\eos \\eos \n",
       "33                                                                                                                                             v_{mn}=e^{(n-m)t}\\int _{F-F_0}\\frac {dp\\,dx}{2\\pi }\\,(-x-p)^m(-x+p)^n.\\label {vmn}\\eos \\eos \\eos \\eos \\eos \\eos \\eos \\eos \\eos \\eos \\eos \\eos \\eos \\eos \\eos \\eos \\eos \n",
       "34                                             {\\kappa }^2\\;^{(\\Phi )}T_\\mu ^{\\;\\;\\lambda }=\\frac 12(g^{\\nu \\lambda }\\partial _\\mu \\Phi \\partial _\\nu \\Phi -\\frac 12\\delta _\\mu ^\\lambda (\\partial \\Phi )^2),\\eos \\eos \\eos \\eos \\eos \\eos \\eos \\eos \\eos \\eos \\eos \\eos \\eos \\eos \\eos \\eos \\eos \\eos \\eos \\eos \\eos \n",
       "35                                                                                               D(q,\\pm )\\equiv \\frac {\\zeta ^{\\pm 2}(\\zeta ^{\\pm 2}+1)}{(\\zeta ^{\\pm 2}+1)^2\\mp \\frac {2\\zeta ^{\\pm 1}}{qR}}\\label {eq5.8}\\eos \\eos \\eos \\eos \\eos \\eos \\eos \\eos \\eos \\eos \\eos \\eos \\eos \\eos \\eos \\eos \\eos \\eos \n",
       "36                                                                                                                              i{\\bf \\dot {q}}=-\\frac {1}{2}(\\partial _{x}^{2}+\\partial _{y}^{2}){\\bf q}+iA_{1}{\\bf q}+iA_{2}{\\bf q},\\eos \\eos \\eos \\eos \\eos \\eos \\eos \\eos \\eos \\eos \\eos \\eos \\eos \\eos \\eos \\eos \n",
       "37                                      \\stackrel {1}{\\bar M}_\\pm \\stackrel {2}{\\bar M}_\\pm R^\\varepsilon =R^\\varepsilon \\stackrel {2}{\\bar M}_\\pm \\stackrel {1}{\\bar M}_\\pm \\,\\\\\\varepsilon =+,-\\\\\\eos \\eos \\eos \\eos \\eos \\eos \\eos \\eos \\eos \\eos \\eos \\eos \\eos \\eos \\eos \\eos \\eos \\eos \\eos \\eos \\eos \\eos \\eos \n",
       "38                                                                                                                                     \\nabla ^a\\nabla _aY^{(l)}_{a_1\\cdots a_n}=-[l(l+d-3)-n]Y^{(l)}_{a_1\\cdots a_n}.\\label {eigeneq}\\eos \\eos \\eos \\eos \\eos \\eos \\eos \\eos \\eos \\eos \\eos \\eos \\eos \\eos \\eos \\eos \n",
       "39                                                        \\delta \\langle X\\rangle =dt\\left (\\sum _{k}(x_{k}^{\\mu }\\partial _{k}^{\\mu }+D_{k})\\langle X\\rangle -\\int d^{2}y\\langle X\\Theta (y)\\rangle \\right )\\eos \\eos \\eos \\eos \\eos \\eos \\eos \\eos \\eos \\eos \\eos \\eos \\eos \\eos \\eos \\eos \\eos \\eos \\eos \\eos \\eos "
      ]
     },
     "execution_count": 59,
     "metadata": {},
     "output_type": "execute_result"
    }
   ],
   "source": [
    "v.str('training', 1, 'y')"
   ]
  },
  {
   "cell_type": "code",
   "execution_count": 21,
   "metadata": {},
   "outputs": [
    {
     "data": {
      "text/plain": [
       "61"
      ]
     },
     "execution_count": 21,
     "metadata": {},
     "output_type": "execute_result"
    }
   ],
   "source": [
    "v.w2i['\\\\']"
   ]
  },
  {
   "cell_type": "code",
   "execution_count": null,
   "metadata": {
    "collapsed": true
   },
   "outputs": [],
   "source": []
  }
 ],
 "metadata": {
  "kernelspec": {
   "display_name": "Python 2",
   "language": "python",
   "name": "python2"
  },
  "language_info": {
   "codemirror_mode": {
    "name": "ipython",
    "version": 2
   },
   "file_extension": ".py",
   "mimetype": "text/x-python",
   "name": "python",
   "nbconvert_exporter": "python",
   "pygments_lexer": "ipython2",
   "version": "2.7.13"
  }
 },
 "nbformat": 4,
 "nbformat_minor": 2
}
