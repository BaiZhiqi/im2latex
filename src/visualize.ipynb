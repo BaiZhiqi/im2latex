{
 "cells": [
  {
   "cell_type": "code",
   "execution_count": 1,
   "metadata": {},
   "outputs": [
    {
     "data": {
      "text/html": [
       "<style>.container { width:90% !important; }</style>"
      ],
      "text/plain": [
       "<IPython.core.display.HTML object>"
      ]
     },
     "metadata": {},
     "output_type": "display_data"
    }
   ],
   "source": [
    "from IPython.core.display import display, HTML\n",
    "display(HTML(\"<style>.container { width:90% !important; }</style>\"))"
   ]
  },
  {
   "cell_type": "code",
   "execution_count": 2,
   "metadata": {
    "collapsed": true
   },
   "outputs": [],
   "source": [
    "import pandas as pd\n",
    "import os\n",
    "import re\n",
    "import codecs\n",
    "from IPython.display import display, Math\n",
    "from six.moves import cPickle as pickle\n",
    "import string\n",
    "from PIL import Image\n",
    "import numpy as np\n",
    "import h5py\n",
    "# Config the matplotlib backend as plotting inline in IPython\n",
    "%matplotlib inline"
   ]
  },
  {
   "cell_type": "code",
   "execution_count": 3,
   "metadata": {
    "collapsed": true
   },
   "outputs": [],
   "source": [
    "width = None\n",
    "pd.options.display.max_rows = 600\n",
    "pd.options.display.max_columns = width\n",
    "pd.options.display.max_colwidth = 600\n",
    "pd.options.display.width = width\n",
    "pd.options.display.max_seq_items = None\n",
    "pd.options.display.expand_frame_repr = False\n",
    "pd.options.display.colheader_justify = 'left'"
   ]
  },
  {
   "cell_type": "code",
   "execution_count": 4,
   "metadata": {},
   "outputs": [
    {
     "name": "stderr",
     "output_type": "stream",
     "text": [
      "Using TensorFlow backend.\n"
     ]
    }
   ],
   "source": [
    "import data_commons as dtc\n",
    "import dl_commons as dlc\n",
    "import viz_commons as vc\n",
    "from viz_commons import VisualizeDir, DiffParams, VisualizeStep"
   ]
  },
  {
   "cell_type": "code",
   "execution_count": 7,
   "metadata": {},
   "outputs": [],
   "source": [
    "vd = VisualizeDir(os.path.expanduser('~/im2latex/src/tb_metrics_dev/2017-11-17 21-30-42 PST newData_3.1LSTM_2init_3OutMLP_3attMLPfull_1beta_0pLambda_regroupImage_i=2/store'))"
   ]
  },
  {
   "cell_type": "code",
   "execution_count": 10,
   "metadata": {
    "scrolled": false
   },
   "outputs": [
    {
     "data": {
      "text/plain": [
       "27.165714285714284"
      ]
     },
     "execution_count": 10,
     "metadata": {},
     "output_type": "execute_result"
    }
   ],
   "source": [
    "23.77 * 64. / 56"
   ]
  },
  {
   "cell_type": "code",
   "execution_count": 9,
   "metadata": {
    "scrolled": true
   },
   "outputs": [
    {
     "name": "stdout",
     "output_type": "stream",
     "text": [
      "num_epoch_steps = 25\n",
      "epoch_steps = [1509, 3018, 4527, 6036, 7545, 9054, 10563, 12072, 13581, 15090, 16599, 18108, 19617, 21126, 22635, 24144, 25653, 27162, 28671, 30180, 31689, 33198, 34707, 36216, 37725]\n"
     ]
    }
   ],
   "source": [
    "vd.view_steps()"
   ]
  },
  {
   "cell_type": "code",
   "execution_count": 11,
   "metadata": {
    "scrolled": true
   },
   "outputs": [
    {
     "data": {
      "text/plain": [
       "[u'alpha', u'beta', u'bleu', u'ed', u'image_name', u'predicted_ids', u'y']"
      ]
     },
     "execution_count": 11,
     "metadata": {},
     "output_type": "execute_result"
    }
   ],
   "source": [
    "vs2 = VisualizeStep(vd, 'training', 27162)\n",
    "vs2.keys()"
   ]
  },
  {
   "cell_type": "code",
   "execution_count": 12,
   "metadata": {
    "scrolled": true
   },
   "outputs": [
    {
     "data": {
      "text/html": [
       "<div>\n",
       "<style>\n",
       "    .dataframe thead tr:only-child th {\n",
       "        text-align: right;\n",
       "    }\n",
       "\n",
       "    .dataframe thead th {\n",
       "        text-align: left;\n",
       "    }\n",
       "\n",
       "    .dataframe tbody tr th {\n",
       "        vertical-align: top;\n",
       "    }\n",
       "</style>\n",
       "<table border=\"1\" class=\"dataframe\">\n",
       "  <thead>\n",
       "    <tr style=\"text-align: left;\">\n",
       "      <th></th>\n",
       "      <th>edit_distance</th>\n",
       "      <th>predicted_ids</th>\n",
       "    </tr>\n",
       "  </thead>\n",
       "  <tbody>\n",
       "    <tr>\n",
       "      <th>47</th>\n",
       "      <td>0.017544</td>\n",
       "      <td>a_{-}^{\\prime }-\\frac {1}{\\rho }a_{-}=\\frac {\\eta ^{2}\\rho }{e}\\left( p_{6}^{2}-\\frac {1-c}{2}\\right) ,\\eos -2</td>\n",
       "    </tr>\n",
       "    <tr>\n",
       "      <th>52</th>\n",
       "      <td>0.038462</td>\n",
       "      <td>q^{\\prime }=\\frac {4\\epsilon }{a^{2}(d-1)(d-2)\\mathcal \\cal H}({\\cal H}^{2}-{\\cal H}^{\\prime }).\\eos \\eos \\eos \\eos \\eos \\eos \\eos -2</td>\n",
       "    </tr>\n",
       "    <tr>\n",
       "      <th>12</th>\n",
       "      <td>0.050847</td>\n",
       "      <td>\\hat {H}=\\lambda (A^{2}+D^{2})+e^{i\\pi (P-1)/2}q^{-1/2}(q-q^{-1})(C+B)\\eos \\eos \\eos</td>\n",
       "    </tr>\n",
       "    <tr>\n",
       "      <th>23</th>\n",
       "      <td>0.053571</td>\n",
       "      <td>(e\\cdot D_{j})=\\sum _{n=1}^{2}(e-P_{n})(P_{n}\\rightarrow Q_{n})(Q_{n}\\rightarrow D_{n})\\eos \\eos \\eos</td>\n",
       "    </tr>\n",
       "    <tr>\n",
       "      <th>45</th>\n",
       "      <td>0.054545</td>\n",
       "      <td>\\varphi _{1}^{\\prime }(0_{+})=\\varphi _{-}(0_{-})=\\varphi _{+}^{\\prime }(t)=\\varphi _{-}(-t)=0.\\eos \\eos \\eos -2</td>\n",
       "    </tr>\n",
       "    <tr>\n",
       "      <th>8</th>\n",
       "      <td>0.067797</td>\n",
       "      <td>\\gamma _{n}^{\\mu }=\\sqrt {4nx}\\, c_{n}^{\\mu },\\quad ~\\gamma _{-n}^{\\mu }=\\sqrt {4nx}\\, \\epsilon _{n}^{\\mu },\\eos \\eos</td>\n",
       "    </tr>\n",
       "    <tr>\n",
       "      <th>42</th>\n",
       "      <td>0.075472</td>\n",
       "      <td>K_{\\mu }(u)=\\frac {2\\int _{0}^{\\infty }d\\tau \\, \\tau ^{\\mu }1}\\operatorname {exp}\\left[ -\\frac {2(\\tau +\\tau ^{-1})\\right] \\eos \\eos \\eos \\eos \\eos -2</td>\n",
       "    </tr>\n",
       "    <tr>\n",
       "      <th>49</th>\n",
       "      <td>0.076923</td>\n",
       "      <td>S_{x}+S_{x}{\\prime }=\\frac {1}{32}W^{2}(x|^{2}+|x^{\\prime }|^{2}),\\eos \\eos \\eos \\eos \\eos \\eos \\eos \\eos \\eos -2</td>\n",
       "    </tr>\n",
       "    <tr>\n",
       "      <th>35</th>\n",
       "      <td>0.078431</td>\n",
       "      <td>\\{ \\phi _{\\alpha },H_{E}\\} =\\{ \\phi _{\\alpha },V\\} +\\sum _{\\beta }\\, \\phi _{\\alpha },\\phi _{\\beta }\\} =_{\\beta }=0.\\eos \\eos \\eos \\eos \\eos \\eos \\eos \\eos -2</td>\n",
       "    </tr>\n",
       "    <tr>\n",
       "      <th>46</th>\n",
       "      <td>0.084746</td>\n",
       "      <td>\\frac {dm^{2}(t)}{dt}=\\frac {2\\alpha ^{2}\\eta ^{2}(t)}{Q^{2}+\\Delta _{mn{\\prime }m^{2}(t)\\eos -2</td>\n",
       "    </tr>\n",
       "    <tr>\n",
       "      <th>18</th>\n",
       "      <td>0.100000</td>\n",
       "      <td>\\left( \\partial _{r}+\\frac {r\\right) \\partial _{r}\\sigma =\\left[ -\\Delta _{x}\\sigma \\right] +\\left[ -\\frac 1{r^{2}\\partial _{\\vec }^{2}+2\\phi ^{*}\\right] \\sigma _,\\eos</td>\n",
       "    </tr>\n",
       "    <tr>\n",
       "      <th>24</th>\n",
       "      <td>0.100000</td>\n",
       "      <td>Z_{A}^{(1)}=1+\\Pi _{\\alpha }^{(1)}=1+\\frac {\\sqrt }{4}\\frac {C_{2}(G)}{2}\\operatorname {sgn}(\\kappa )\\eos</td>\n",
       "    </tr>\n",
       "    <tr>\n",
       "      <th>33</th>\n",
       "      <td>0.101695</td>\n",
       "      <td>p_{\\sigma }=-2i\\partial _{u}-\\frac {i\\pi }{a},\\quad {\\cal L}=-\\frac {A}{N^{2},\\quad \\alpha =-\\frac {E}{N^{2},\\eos -2</td>\n",
       "    </tr>\n",
       "    <tr>\n",
       "      <th>5</th>\n",
       "      <td>0.109091</td>\n",
       "      <td>j_{F}^{\\pm }=\\pm \\mathrm ^{\\pm }\\psi ^{3}\\; ,~j_{F}^{3}=\\frac {1}{2}\\psi ^{+}\\psi ^{+}\\~\\eos \\eos \\eos \\eos \\eos \\eos</td>\n",
       "    </tr>\n",
       "    <tr>\n",
       "      <th>4</th>\n",
       "      <td>0.109091</td>\n",
       "      <td>\\delta {B}=\\nabla {\\nabla }\\times \\chi {A}\\quad \\mathrm {and}\\quad \\vec {E}=-\\frac {1}{c}\\frac {\\partial }{\\partial t}\\dot {A}-\\vec {\\Phi }\\Phi \\,\\eos \\eos \\eos \\eos</td>\n",
       "    </tr>\n",
       "    <tr>\n",
       "      <th>14</th>\n",
       "      <td>0.117647</td>\n",
       "      <td>X_{i}(t)=\\frac {2}{\\sqrt {N^{2}-1}{x}_{i}a_{i}(t),\\quad \\=1,2,3\\eos \\eos \\eos \\eos \\eos \\eos \\eos \\eos \\eos \\eos \\eos</td>\n",
       "    </tr>\n",
       "    <tr>\n",
       "      <th>44</th>\n",
       "      <td>0.120690</td>\n",
       "      <td>(_{1}(x)=\\frac {1}{2}(\\phi (x)+\\chi (x)\\quad \\qquad u_{2}(x)=\\frac {1}{2i}(\\phi (x)-x)x)\\eos \\eos \\eos -2</td>\n",
       "    </tr>\n",
       "    <tr>\n",
       "      <th>21</th>\n",
       "      <td>0.122807</td>\n",
       "      <td>A^{+}A^{-1}e_{nk}=(k+1)(s-k)(q_{1}-k-2)(q_{2}+1-1)+^{n+}^\\eos \\eos</td>\n",
       "    </tr>\n",
       "    <tr>\n",
       "      <th>37</th>\n",
       "      <td>0.125000</td>\n",
       "      <td>S_{S{SV}(A)=\\frac {k}{4\\pi }\\int _{\\cal M}\\, {Tr}\\left( A\\wedge dA+{\\frac {2}{3}A\\wedge A\\wedge A\\right) .\\eos \\eos \\eos \\eos \\eos \\eos -2</td>\n",
       "    </tr>\n",
       "    <tr>\n",
       "      <th>50</th>\n",
       "      <td>0.125000</td>\n",
       "      <td>|p_{(3){1})}|^{2}&lt;|p_{(D_{2})}|^{2}&lt;&gt;|p_{D_{N})}|^{2}.\\eos \\eos \\eos \\eos -2</td>\n",
       "    </tr>\n",
       "    <tr>\n",
       "      <th>6</th>\n",
       "      <td>0.127273</td>\n",
       "      <td>\\tilde {H}=H_{c}+\\sum _{n=1}^{\\infty }H^{(n)},\\qquad ~^{(n)}\\sim (\\Phi ^{a})^{n},\\eos \\eos \\eos \\eos \\eos \\eos \\eos \\eos</td>\n",
       "    </tr>\n",
       "    <tr>\n",
       "      <th>0</th>\n",
       "      <td>0.129630</td>\n",
       "      <td>S^{(\\sigma }\\right) }=1-\\frac {3}{\\sigma }-\\operatorname {log}{\\frac {\\sigma }{4\\pi }C+3\\operatorname {log}R_{0}\\eos \\eos \\eos \\eos \\eos \\eos \\eos \\eos \\eos \\eos \\eos</td>\n",
       "    </tr>\n",
       "    <tr>\n",
       "      <th>19</th>\n",
       "      <td>0.137931</td>\n",
       "      <td>f_{ab}(\\phi )=\\left( {\\frac {1}{g^{2}(\\phi )}\\right) )_{ab}-\\frac {3S{c}_{ab}(\\phi )}{8^{2}\\eos \\eos \\eos</td>\n",
       "    </tr>\n",
       "    <tr>\n",
       "      <th>20</th>\n",
       "      <td>0.137931</td>\n",
       "      <td>A_{i}=-\\frac {1}{q}\\frac {\\epsilon _{ij}{DC^{2}+^{2}+m^{2}\\right) }C\\partial _{j}J_{k}\\; ,\\eos \\eos \\eos \\eos</td>\n",
       "    </tr>\n",
       "    <tr>\n",
       "      <th>11</th>\n",
       "      <td>0.148148</td>\n",
       "      <td>F_{24}(a,b)\\simeq \\frac {1}{2\\sqrt {\\pi }\\frac {\\Gamma (s-1)2)}{S(k)}\\frac {1}{a^{2k+1}\\eos \\eos \\eos \\eos \\eos \\eos \\eos</td>\n",
       "    </tr>\n",
       "    <tr>\n",
       "      <th>55</th>\n",
       "      <td>0.150000</td>\n",
       "      <td>S}([u^{\\alpha }(x),x^{\\mu }]=\\int _{R}d^{4}x(}(u^{\\alpha },u_{\\mu }^{a})x^{\\mu }).\\eos -2</td>\n",
       "    </tr>\n",
       "    <tr>\n",
       "      <th>43</th>\n",
       "      <td>0.152542</td>\n",
       "      <td>S_{K}(\\Omega \\right) =\\int _{S^(2\\right) }{2}dq_{1}dg_{2}\\left( \\frac _{k}\\Omega ^{k}\\left( g_{1},g\\right) {2}\\right) \\eos -2</td>\n",
       "    </tr>\n",
       "    <tr>\n",
       "      <th>10</th>\n",
       "      <td>0.160714</td>\n",
       "      <td>(\\Delta a_{2})_{\\mathrm {ma}^{2}=\\frac {1}{4}-\\frac {\\alpha ^{2}{4+\\alpha {cxp}(2\\pi ^{2})^.\\eos \\eos \\eos \\eos \\eos</td>\n",
       "    </tr>\n",
       "    <tr>\n",
       "      <th>27</th>\n",
       "      <td>0.166667</td>\n",
       "      <td>a_{2}=C^{in{2}i_{2}i}{1}H_{i_{1}i_{1}i_{2}^{a}\\sigma ^{b}\\mu _{a_}\\eos \\eos</td>\n",
       "    </tr>\n",
       "    <tr>\n",
       "      <th>30</th>\n",
       "      <td>0.173077</td>\n",
       "      <td>\\frac {g_{N}^{2}N}{S^{3}\\frac {N^{4}{N^{2}\\frac {g^{2}N}{g^{2}\\eos \\eos \\eos \\eos \\eos \\eos \\eos \\eos \\eos \\eos \\eos -2</td>\n",
       "    </tr>\n",
       "    <tr>\n",
       "      <th>38</th>\n",
       "      <td>0.173077</td>\n",
       "      <td>\\tilde {H}{i}^{2}=\\frac {(p_{i}+1)2)^{2}{\\hbar {a}_{i}^{2}\\mu ^{2}.\\eos \\eos \\eos \\eos \\eos \\eos \\eos \\eos \\eos \\eos -2</td>\n",
       "    </tr>\n",
       "    <tr>\n",
       "      <th>2</th>\n",
       "      <td>0.175439</td>\n",
       "      <td>d_{\\cal }:=d=D(h^{\\frac {1}{2})\\, ,\\; d_{\\cal }^{\\dagger }\\; =d^{\\dagger }+O(h^{\\frac {1}{2})\\eos \\eos \\eos \\eos</td>\n",
       "    </tr>\n",
       "    <tr>\n",
       "      <th>41</th>\n",
       "      <td>0.175439</td>\n",
       "      <td>w^{\\mu }w_{\\mu }=\\frac {1}{\\rho ^{2}\\left( 1-{2\\rho ^{2}R_{ijkj}+O^\\rho ^{4})\\right) \\quad ~,\\eos \\eos \\eos \\eos \\eos \\eos -2</td>\n",
       "    </tr>\n",
       "    <tr>\n",
       "      <th>36</th>\n",
       "      <td>0.176471</td>\n",
       "      <td>S=\\int dzd^{4}x\\sqrt {g}\\; ({\\Psi }\\, 1\\gamma ^{a}\\nabla _{a}+g\\nabla _{1}+\\mu P_{2}\\right) ,\\eos \\eos \\eos \\eos \\eos \\eos \\eos \\eos \\eos \\eos -2</td>\n",
       "    </tr>\n",
       "    <tr>\n",
       "      <th>53</th>\n",
       "      <td>0.188679</td>\n",
       "      <td>A_{F}^{2}=\\frac {4}{2\\pi A^{p}^{2}H^{2}F^{2}(H|\\mu )|_{r=a},\\eos \\eos \\eos \\eos \\eos \\eos \\eos \\eos \\eos -2</td>\n",
       "    </tr>\n",
       "    <tr>\n",
       "      <th>3</th>\n",
       "      <td>0.188679</td>\n",
       "      <td>\\Gamma _{(\\mu \\nu )\\rho }=g_{\\rho \\sigma }\\Gamma _{(\\mu \\nu )}\\; }^{\\sigma }=\\{ \\mu ,\\rho \\rangle p\\} +{H}_{(\\mu \\nu )}\\, \\eos \\eos \\eos \\eos \\eos \\eos \\eos \\eos \\eos</td>\n",
       "    </tr>\n",
       "    <tr>\n",
       "      <th>40</th>\n",
       "      <td>0.189655</td>\n",
       "      <td>(\\Delta _{v}{\\prime }^{a})^{\\dagger }{_{\\bar ^{\\prime }^{a}=\\mathrm {Re}(R_{e^{\\prime }^{\\prime })\\; ,\\eos \\eos \\eos \\eos \\eos \\eos -2</td>\n",
       "    </tr>\n",
       "    <tr>\n",
       "      <th>29</th>\n",
       "      <td>0.189655</td>\n",
       "      <td>\\frac {1}{2}\\left( y_{m}+y_{-n-n}\\right) ,\\quad \\; \\frac {-i}{2}\\left( y_{mn}-y_{-n-n}\\right) .\\eos \\eos \\eos \\eos \\eos \\eos -2</td>\n",
       "    </tr>\n",
       "    <tr>\n",
       "      <th>54</th>\n",
       "      <td>0.200000</td>\n",
       "      <td>tr^T^{\\mathrm }=\\frac {1}{48}tr\\, t^{2}\\, r\\, F^{4}-\\frac {1}{140}frF^{2})^{2}\\; \\eos \\eos -2</td>\n",
       "    </tr>\n",
       "    <tr>\n",
       "      <th>1</th>\n",
       "      <td>0.207547</td>\n",
       "      <td>\\xi ^{a}\\, =\\, \\operatorname {constant}\\, d^{abc}\\xi ^{b}\\, ^{c}\\x\\cdot \\; C(2),\\eos \\eos \\eos \\eos \\eos \\eos \\eos \\eos \\eos \\eos \\eos \\eos \\eos</td>\n",
       "    </tr>\n",
       "    <tr>\n",
       "      <th>28</th>\n",
       "      <td>0.211538</td>\n",
       "      <td>(e_{al}(_{0}(M,Z)\\right) \\left( m)=2^{-N(N)}\\left( \\phi _{c}({c}(M,Z)\\right) .M).\\eos \\eos \\eos \\eos \\eos \\eos \\eos -2</td>\n",
       "    </tr>\n",
       "    <tr>\n",
       "      <th>22</th>\n",
       "      <td>0.216667</td>\n",
       "      <td>\\frac {\\partial {}{\\partial z_{n}=-2\\pi \\beta _{m}-2\\pi \\sum _{n,n}n}\\frac {g_{n}+_{n}{n_{n}+p_{n}\\eos \\eos</td>\n",
       "    </tr>\n",
       "    <tr>\n",
       "      <th>17</th>\n",
       "      <td>0.216667</td>\n",
       "      <td>\\frac {S}{E}=\\beta +\\sum \\frac {E-F}{L}=-{\\frac {2}{\\beta }\\left( {-{\\frac {x}{2}\\right) \\frac {dX}{dx}\\right) ,\\eos \\eos \\eos \\eos \\eos \\eos</td>\n",
       "    </tr>\n",
       "    <tr>\n",
       "      <th>13</th>\n",
       "      <td>0.220339</td>\n",
       "      <td>[x_{\\mu }^{s},a_{\\mu \\nu }^{j}]=i,\\qquad [a_{mn}^{ji},a_{-n]}^{+}\\} =n_\\eos \\eos \\eos \\eos \\eos</td>\n",
       "    </tr>\n",
       "    <tr>\n",
       "      <th>26</th>\n",
       "      <td>0.232143</td>\n",
       "      <td>(\\gamma -\\delta {)(\\gamma -\\delta \\omega -2)=-\\frac {g_{N{fM}^{2}(G(G)}{4\\pi ^{2}\\, \\epsilon (q)\\; .\\eos \\eos \\eos \\eos \\eos \\eos \\eos \\eos \\eos</td>\n",
       "    </tr>\n",
       "    <tr>\n",
       "      <th>39</th>\n",
       "      <td>0.245614</td>\n",
       "      <td>\\nabla ^{(2)}(e^{-\\sigma }L_{MA})=e^{-\\sigma }(L_{\\Lambda Z}P)P_{D\\sigma }-dE_{B})\\eos \\eos \\eos \\eos \\eos \\eos \\eos -2</td>\n",
       "    </tr>\n",
       "    <tr>\n",
       "      <th>25</th>\n",
       "      <td>0.250000</td>\n",
       "      <td>{\\cal O}^{\\prime }(1)\\rightarrow {\\operatorname {sanh{\\pi }{2}{\\operatorname {sanh^{\\pi }{2}\\, {\\cal O}^{\\prime }(1).\\eos \\eos \\eos \\eos \\eos \\eos \\eos</td>\n",
       "    </tr>\n",
       "    <tr>\n",
       "      <th>32</th>\n",
       "      <td>0.259259</td>\n",
       "      <td>\\delta \\theta ^{\\hat {\\alpha }=-\\lambda ^{\\alpha }\\kappa _\\xi ),\\quad \\delta \\lambda ^{\\bar {\\alpha }=i\\partial _{\\bar }\\theta ({\\hat {\\alpha }(\\xi ),\\eos \\eos \\eos \\eos \\eos \\eos \\eos \\eos \\eos \\eos \\eos -2</td>\n",
       "    </tr>\n",
       "    <tr>\n",
       "      <th>34</th>\n",
       "      <td>0.267857</td>\n",
       "      <td>\\frac {d^{2}{ix-y^{-/|^{2/p}\\operatorname {log}(|x-x^{\\prime }|^{2}|M\\vec ^{\\prime }).\\eos \\eos \\eos \\eos \\eos \\eos -2</td>\n",
       "    </tr>\n",
       "    <tr>\n",
       "      <th>48</th>\n",
       "      <td>0.269231</td>\n",
       "      <td>K(T,\\tilde {T})=-\\operatorname {log}(T+{\\tilde {T})^{3}+{\\cal {}_{madn}n}\\} \\eos \\eos \\eos \\eos \\eos \\eos \\eos \\eos \\eos \\eos \\eos \\eos \\eos -2</td>\n",
       "    </tr>\n",
       "    <tr>\n",
       "      <th>31</th>\n",
       "      <td>0.277778</td>\n",
       "      <td>p_{\\mu \\nu \\rho _{1{D}^{\\mu }(p,q)=0,q_{\\mu }\\rho _{\\mathrm {Mmp}^{\\mu }\\left( p,q)\\eos \\eos \\eos \\eos \\eos \\eos \\eos \\eos \\eos \\eos \\eos -2</td>\n",
       "    </tr>\n",
       "    <tr>\n",
       "      <th>16</th>\n",
       "      <td>0.280702</td>\n",
       "      <td>[\\, ,\\]_{\\prime }\\; \\left[ {lim}_{\\epsilon \\rightarrow 0}\\Phi _{\\theta }\\, [\\, ,\\, \\varepsilon \\, (\\Phi _{g}^{-1}\\oplus {_{a}^{-1})\\eos \\eos</td>\n",
       "    </tr>\n",
       "    <tr>\n",
       "      <th>15</th>\n",
       "      <td>0.339623</td>\n",
       "      <td>\\int du\\, f({(q)}(u)=\\left\\{ \\begin{array} {l}{f}a^0}\\\\ {a_{atd}e}q=0}\\\\ \\end{array} \\right. \\; .\\eos \\eos \\eos \\eos \\eos \\eos \\eos \\eos \\eos \\eos \\eos \\eos</td>\n",
       "    </tr>\n",
       "    <tr>\n",
       "      <th>51</th>\n",
       "      <td>0.358491</td>\n",
       "      <td>|v_{\\pm }|=\\frac {\\sqrt {E^{2}-q^{0}{2}{L(1+E_)^{2{1}{1},\\eos \\eos \\eos \\eos \\eos \\eos \\eos \\eos \\eos \\eos \\eos \\eos \\eos \\eos -2</td>\n",
       "    </tr>\n",
       "    <tr>\n",
       "      <th>7</th>\n",
       "      <td>0.392857</td>\n",
       "      <td>[K,Q],}=-{,\\; [K{,{Q}]\\overline }=\\overline {Q},\\quad \\{ Q{Q{Q},Q\\} }=f(K)\\eos \\eos \\eos \\eos \\eos \\eos \\eos \\eos \\eos \\eos \\eos \\eos \\eos \\eos</td>\n",
       "    </tr>\n",
       "    <tr>\n",
       "      <th>9</th>\n",
       "      <td>0.431034</td>\n",
       "      <td>X}{\\prime }X+i\\tilde {\\theta }\\gamma ^}\\, =^~}{\\prime }\\theta +\\epsilon }~\\tilde {\\theta }={\\prime }=\\hat {\\theta }+{\\phi }\\eos \\eos \\eos \\eos \\eos \\eos \\eos \\eos \\eos \\eos \\eos \\eos \\eos \\eos</td>\n",
       "    </tr>\n",
       "  </tbody>\n",
       "</table>\n",
       "</div>"
      ],
      "text/plain": [
       "    edit_distance predicted_ids                                                                                                                                                                                                   \n",
       "47  0.017544                                                                                                        a_{-}^{\\prime }-\\frac {1}{\\rho }a_{-}=\\frac {\\eta ^{2}\\rho }{e}\\left( p_{6}^{2}-\\frac {1-c}{2}\\right) ,\\eos -2\n",
       "52  0.038462                                                                                 q^{\\prime }=\\frac {4\\epsilon }{a^{2}(d-1)(d-2)\\mathcal \\cal H}({\\cal H}^{2}-{\\cal H}^{\\prime }).\\eos \\eos \\eos \\eos \\eos \\eos \\eos -2\n",
       "12  0.050847                                                                                                                                 \\hat {H}=\\lambda (A^{2}+D^{2})+e^{i\\pi (P-1)/2}q^{-1/2}(q-q^{-1})(C+B)\\eos \\eos \\eos \n",
       "23  0.053571                                                                                                                (e\\cdot D_{j})=\\sum _{n=1}^{2}(e-P_{n})(P_{n}\\rightarrow Q_{n})(Q_{n}\\rightarrow D_{n})\\eos \\eos \\eos \n",
       "45  0.054545                                                                                                      \\varphi _{1}^{\\prime }(0_{+})=\\varphi _{-}(0_{-})=\\varphi _{+}^{\\prime }(t)=\\varphi _{-}(-t)=0.\\eos \\eos \\eos -2\n",
       "8   0.067797                                                                                                \\gamma _{n}^{\\mu }=\\sqrt {4nx}\\, c_{n}^{\\mu },\\quad ~\\gamma _{-n}^{\\mu }=\\sqrt {4nx}\\, \\epsilon _{n}^{\\mu },\\eos \\eos \n",
       "42  0.075472                                                                K_{\\mu }(u)=\\frac {2\\int _{0}^{\\infty }d\\tau \\, \\tau ^{\\mu }1}\\operatorname {exp}\\left[ -\\frac {2(\\tau +\\tau ^{-1})\\right] \\eos \\eos \\eos \\eos \\eos -2\n",
       "49  0.076923                                                                                                     S_{x}+S_{x}{\\prime }=\\frac {1}{32}W^{2}(x|^{2}+|x^{\\prime }|^{2}),\\eos \\eos \\eos \\eos \\eos \\eos \\eos \\eos \\eos -2\n",
       "35  0.078431                                                         \\{ \\phi _{\\alpha },H_{E}\\} =\\{ \\phi _{\\alpha },V\\} +\\sum _{\\beta }\\, \\phi _{\\alpha },\\phi _{\\beta }\\} =_{\\beta }=0.\\eos \\eos \\eos \\eos \\eos \\eos \\eos \\eos -2\n",
       "46  0.084746                                                                                                                      \\frac {dm^{2}(t)}{dt}=\\frac {2\\alpha ^{2}\\eta ^{2}(t)}{Q^{2}+\\Delta _{mn{\\prime }m^{2}(t)\\eos -2\n",
       "18  0.100000                                              \\left( \\partial _{r}+\\frac {r\\right) \\partial _{r}\\sigma =\\left[ -\\Delta _{x}\\sigma \\right] +\\left[ -\\frac 1{r^{2}\\partial _{\\vec }^{2}+2\\phi ^{*}\\right] \\sigma _,\\eos \n",
       "24  0.100000                                                                                                            Z_{A}^{(1)}=1+\\Pi _{\\alpha }^{(1)}=1+\\frac {\\sqrt }{4}\\frac {C_{2}(G)}{2}\\operatorname {sgn}(\\kappa )\\eos \n",
       "33  0.101695                                                                                                  p_{\\sigma }=-2i\\partial _{u}-\\frac {i\\pi }{a},\\quad {\\cal L}=-\\frac {A}{N^{2},\\quad \\alpha =-\\frac {E}{N^{2},\\eos -2\n",
       "5   0.109091                                                                                                j_{F}^{\\pm }=\\pm \\mathrm ^{\\pm }\\psi ^{3}\\; ,~j_{F}^{3}=\\frac {1}{2}\\psi ^{+}\\psi ^{+}\\~\\eos \\eos \\eos \\eos \\eos \\eos \n",
       "4   0.109091                                                \\delta {B}=\\nabla {\\nabla }\\times \\chi {A}\\quad \\mathrm {and}\\quad \\vec {E}=-\\frac {1}{c}\\frac {\\partial }{\\partial t}\\dot {A}-\\vec {\\Phi }\\Phi \\,\\eos \\eos \\eos \\eos \n",
       "14  0.117647                                                                                                X_{i}(t)=\\frac {2}{\\sqrt {N^{2}-1}{x}_{i}a_{i}(t),\\quad \\=1,2,3\\eos \\eos \\eos \\eos \\eos \\eos \\eos \\eos \\eos \\eos \\eos \n",
       "44  0.120690                                                                                                             (_{1}(x)=\\frac {1}{2}(\\phi (x)+\\chi (x)\\quad \\qquad u_{2}(x)=\\frac {1}{2i}(\\phi (x)-x)x)\\eos \\eos \\eos -2\n",
       "21  0.122807                                                                                                                                                   A^{+}A^{-1}e_{nk}=(k+1)(s-k)(q_{1}-k-2)(q_{2}+1-1)+^{n+}^\\eos \\eos \n",
       "37  0.125000                                                                            S_{S{SV}(A)=\\frac {k}{4\\pi }\\int _{\\cal M}\\, {Tr}\\left( A\\wedge dA+{\\frac {2}{3}A\\wedge A\\wedge A\\right) .\\eos \\eos \\eos \\eos \\eos \\eos -2\n",
       "50  0.125000                                                                                                                                          |p_{(3){1})}|^{2}<|p_{(D_{2})}|^{2}<>|p_{D_{N})}|^{2}.\\eos \\eos \\eos \\eos -2\n",
       "6   0.127273                                                                                             \\tilde {H}=H_{c}+\\sum _{n=1}^{\\infty }H^{(n)},\\qquad ~^{(n)}\\sim (\\Phi ^{a})^{n},\\eos \\eos \\eos \\eos \\eos \\eos \\eos \\eos \n",
       "0   0.129630                                               S^{(\\sigma }\\right) }=1-\\frac {3}{\\sigma }-\\operatorname {log}{\\frac {\\sigma }{4\\pi }C+3\\operatorname {log}R_{0}\\eos \\eos \\eos \\eos \\eos \\eos \\eos \\eos \\eos \\eos \\eos \n",
       "19  0.137931                                                                                                            f_{ab}(\\phi )=\\left( {\\frac {1}{g^{2}(\\phi )}\\right) )_{ab}-\\frac {3S{c}_{ab}(\\phi )}{8^{2}\\eos \\eos \\eos \n",
       "20  0.137931                                                                                                        A_{i}=-\\frac {1}{q}\\frac {\\epsilon _{ij}{DC^{2}+^{2}+m^{2}\\right) }C\\partial _{j}J_{k}\\; ,\\eos \\eos \\eos \\eos \n",
       "11  0.148148                                                                                            F_{24}(a,b)\\simeq \\frac {1}{2\\sqrt {\\pi }\\frac {\\Gamma (s-1)2)}{S(k)}\\frac {1}{a^{2k+1}\\eos \\eos \\eos \\eos \\eos \\eos \\eos \n",
       "55  0.150000                                                                                                                             S}([u^{\\alpha }(x),x^{\\mu }]=\\int _{R}d^{4}x(}(u^{\\alpha },u_{\\mu }^{a})x^{\\mu }).\\eos -2\n",
       "43  0.152542                                                                                         S_{K}(\\Omega \\right) =\\int _{S^(2\\right) }{2}dq_{1}dg_{2}\\left( \\frac _{k}\\Omega ^{k}\\left( g_{1},g\\right) {2}\\right) \\eos -2\n",
       "10  0.160714                                                                                                 (\\Delta a_{2})_{\\mathrm {ma}^{2}=\\frac {1}{4}-\\frac {\\alpha ^{2}{4+\\alpha {cxp}(2\\pi ^{2})^.\\eos \\eos \\eos \\eos \\eos \n",
       "27  0.166667                                                                                                                                          a_{2}=C^{in{2}i_{2}i}{1}H_{i_{1}i_{1}i_{2}^{a}\\sigma ^{b}\\mu _{a_}\\eos \\eos \n",
       "30  0.173077                                                                                               \\frac {g_{N}^{2}N}{S^{3}\\frac {N^{4}{N^{2}\\frac {g^{2}N}{g^{2}\\eos \\eos \\eos \\eos \\eos \\eos \\eos \\eos \\eos \\eos \\eos -2\n",
       "38  0.173077                                                                                               \\tilde {H}{i}^{2}=\\frac {(p_{i}+1)2)^{2}{\\hbar {a}_{i}^{2}\\mu ^{2}.\\eos \\eos \\eos \\eos \\eos \\eos \\eos \\eos \\eos \\eos -2\n",
       "2   0.175439                                                                                                     d_{\\cal }:=d=D(h^{\\frac {1}{2})\\, ,\\; d_{\\cal }^{\\dagger }\\; =d^{\\dagger }+O(h^{\\frac {1}{2})\\eos \\eos \\eos \\eos \n",
       "41  0.175439                                                                                         w^{\\mu }w_{\\mu }=\\frac {1}{\\rho ^{2}\\left( 1-{2\\rho ^{2}R_{ijkj}+O^\\rho ^{4})\\right) \\quad ~,\\eos \\eos \\eos \\eos \\eos \\eos -2\n",
       "36  0.176471                                                                     S=\\int dzd^{4}x\\sqrt {g}\\; ({\\Psi }\\, 1\\gamma ^{a}\\nabla _{a}+g\\nabla _{1}+\\mu P_{2}\\right) ,\\eos \\eos \\eos \\eos \\eos \\eos \\eos \\eos \\eos \\eos -2\n",
       "53  0.188679                                                                                                           A_{F}^{2}=\\frac {4}{2\\pi A^{p}^{2}H^{2}F^{2}(H|\\mu )|_{r=a},\\eos \\eos \\eos \\eos \\eos \\eos \\eos \\eos \\eos -2\n",
       "3   0.188679                                               \\Gamma _{(\\mu \\nu )\\rho }=g_{\\rho \\sigma }\\Gamma _{(\\mu \\nu )}\\; }^{\\sigma }=\\{ \\mu ,\\rho \\rangle p\\} +{H}_{(\\mu \\nu )}\\, \\eos \\eos \\eos \\eos \\eos \\eos \\eos \\eos \\eos \n",
       "40  0.189655                                                                                (\\Delta _{v}{\\prime }^{a})^{\\dagger }{_{\\bar ^{\\prime }^{a}=\\mathrm {Re}(R_{e^{\\prime }^{\\prime })\\; ,\\eos \\eos \\eos \\eos \\eos \\eos -2\n",
       "29  0.189655                                                                                       \\frac {1}{2}\\left( y_{m}+y_{-n-n}\\right) ,\\quad \\; \\frac {-i}{2}\\left( y_{mn}-y_{-n-n}\\right) .\\eos \\eos \\eos \\eos \\eos \\eos -2\n",
       "54  0.200000                                                                                                                         tr^T^{\\mathrm }=\\frac {1}{48}tr\\, t^{2}\\, r\\, F^{4}-\\frac {1}{140}frF^{2})^{2}\\; \\eos \\eos -2\n",
       "1   0.207547                                                                     \\xi ^{a}\\, =\\, \\operatorname {constant}\\, d^{abc}\\xi ^{b}\\, ^{c}\\x\\cdot \\; C(2),\\eos \\eos \\eos \\eos \\eos \\eos \\eos \\eos \\eos \\eos \\eos \\eos \\eos \n",
       "28  0.211538                                                                                                (e_{al}(_{0}(M,Z)\\right) \\left( m)=2^{-N(N)}\\left( \\phi _{c}({c}(M,Z)\\right) .M).\\eos \\eos \\eos \\eos \\eos \\eos \\eos -2\n",
       "22  0.216667                                                                                                          \\frac {\\partial {}{\\partial z_{n}=-2\\pi \\beta _{m}-2\\pi \\sum _{n,n}n}\\frac {g_{n}+_{n}{n_{n}+p_{n}\\eos \\eos \n",
       "17  0.216667                                                                        \\frac {S}{E}=\\beta +\\sum \\frac {E-F}{L}=-{\\frac {2}{\\beta }\\left( {-{\\frac {x}{2}\\right) \\frac {dX}{dx}\\right) ,\\eos \\eos \\eos \\eos \\eos \\eos \n",
       "13  0.220339                                                                                                                      [x_{\\mu }^{s},a_{\\mu \\nu }^{j}]=i,\\qquad [a_{mn}^{ji},a_{-n]}^{+}\\} =n_\\eos \\eos \\eos \\eos \\eos \n",
       "26  0.232143                                                                     (\\gamma -\\delta {)(\\gamma -\\delta \\omega -2)=-\\frac {g_{N{fM}^{2}(G(G)}{4\\pi ^{2}\\, \\epsilon (q)\\; .\\eos \\eos \\eos \\eos \\eos \\eos \\eos \\eos \\eos \n",
       "39  0.245614                                                                                               \\nabla ^{(2)}(e^{-\\sigma }L_{MA})=e^{-\\sigma }(L_{\\Lambda Z}P)P_{D\\sigma }-dE_{B})\\eos \\eos \\eos \\eos \\eos \\eos \\eos -2\n",
       "25  0.250000                                                              {\\cal O}^{\\prime }(1)\\rightarrow {\\operatorname {sanh{\\pi }{2}{\\operatorname {sanh^{\\pi }{2}\\, {\\cal O}^{\\prime }(1).\\eos \\eos \\eos \\eos \\eos \\eos \\eos \n",
       "32  0.259259       \\delta \\theta ^{\\hat {\\alpha }=-\\lambda ^{\\alpha }\\kappa _\\xi ),\\quad \\delta \\lambda ^{\\bar {\\alpha }=i\\partial _{\\bar }\\theta ({\\hat {\\alpha }(\\xi ),\\eos \\eos \\eos \\eos \\eos \\eos \\eos \\eos \\eos \\eos \\eos -2\n",
       "34  0.267857                                                                                                \\frac {d^{2}{ix-y^{-/|^{2/p}\\operatorname {log}(|x-x^{\\prime }|^{2}|M\\vec ^{\\prime }).\\eos \\eos \\eos \\eos \\eos \\eos -2\n",
       "48  0.269231                                                                       K(T,\\tilde {T})=-\\operatorname {log}(T+{\\tilde {T})^{3}+{\\cal {}_{madn}n}\\} \\eos \\eos \\eos \\eos \\eos \\eos \\eos \\eos \\eos \\eos \\eos \\eos \\eos -2\n",
       "31  0.277778                                                                          p_{\\mu \\nu \\rho _{1{D}^{\\mu }(p,q)=0,q_{\\mu }\\rho _{\\mathrm {Mmp}^{\\mu }\\left( p,q)\\eos \\eos \\eos \\eos \\eos \\eos \\eos \\eos \\eos \\eos \\eos -2\n",
       "16  0.280702                                                                         [\\, ,\\]_{\\prime }\\; \\left[ {lim}_{\\epsilon \\rightarrow 0}\\Phi _{\\theta }\\, [\\, ,\\, \\varepsilon \\, (\\Phi _{g}^{-1}\\oplus {_{a}^{-1})\\eos \\eos \n",
       "15  0.339623                                                         \\int du\\, f({(q)}(u)=\\left\\{ \\begin{array} {l}{f}a^0}\\\\ {a_{atd}e}q=0}\\\\ \\end{array} \\right. \\; .\\eos \\eos \\eos \\eos \\eos \\eos \\eos \\eos \\eos \\eos \\eos \\eos \n",
       "51  0.358491                                                                                     |v_{\\pm }|=\\frac {\\sqrt {E^{2}-q^{0}{2}{L(1+E_)^{2{1}{1},\\eos \\eos \\eos \\eos \\eos \\eos \\eos \\eos \\eos \\eos \\eos \\eos \\eos \\eos -2\n",
       "7   0.392857                                                                      [K,Q],}=-{,\\; [K{,{Q}]\\overline }=\\overline {Q},\\quad \\{ Q{Q{Q},Q\\} }=f(K)\\eos \\eos \\eos \\eos \\eos \\eos \\eos \\eos \\eos \\eos \\eos \\eos \\eos \\eos \n",
       "9   0.431034                     X}{\\prime }X+i\\tilde {\\theta }\\gamma ^}\\, =^~}{\\prime }\\theta +\\epsilon }~\\tilde {\\theta }={\\prime }=\\hat {\\theta }+{\\phi }\\eos \\eos \\eos \\eos \\eos \\eos \\eos \\eos \\eos \\eos \\eos \\eos \\eos \\eos "
      ]
     },
     "execution_count": 12,
     "metadata": {},
     "output_type": "execute_result"
    }
   ],
   "source": [
    "vs2.strs('predicted_ids')"
   ]
  },
  {
   "cell_type": "code",
   "execution_count": 13,
   "metadata": {
    "scrolled": false
   },
   "outputs": [
    {
     "ename": "AssertionError",
     "evalue": "Got image shape (130, 1090, 3) instead of (130, 1090, 1)",
     "output_type": "error",
     "traceback": [
      "\u001b[0;31m\u001b[0m",
      "\u001b[0;31mAssertionError\u001b[0mTraceback (most recent call last)",
      "\u001b[0;32m<ipython-input-13-0b9674d7b7d6>\u001b[0m in \u001b[0;36m<module>\u001b[0;34m()\u001b[0m\n\u001b[0;32m----> 1\u001b[0;31m \u001b[0mnd_alpha\u001b[0m \u001b[0;34m=\u001b[0m \u001b[0mvs2\u001b[0m\u001b[0;34m.\u001b[0m\u001b[0malpha\u001b[0m\u001b[0;34m(\u001b[0m\u001b[0;36m1\u001b[0m\u001b[0;34m,\u001b[0m \u001b[0minvert_alpha\u001b[0m\u001b[0;34m=\u001b[0m\u001b[0mTrue\u001b[0m\u001b[0;34m)\u001b[0m\u001b[0;34m\u001b[0m\u001b[0m\n\u001b[0m",
      "\u001b[0;32m/home/sumeet/im2latex_dev/src/viz_commons.pyc\u001b[0m in \u001b[0;36malpha\u001b[0;34m(self, sample_num, invert_alpha)\u001b[0m\n\u001b[1;32m    489\u001b[0m \u001b[0;34m\u001b[0m\u001b[0m\n\u001b[1;32m    490\u001b[0m     \u001b[0;32mdef\u001b[0m \u001b[0malpha\u001b[0m\u001b[0;34m(\u001b[0m\u001b[0mself\u001b[0m\u001b[0;34m,\u001b[0m \u001b[0msample_num\u001b[0m\u001b[0;34m=\u001b[0m\u001b[0;36m0\u001b[0m\u001b[0;34m,\u001b[0m \u001b[0minvert_alpha\u001b[0m\u001b[0;34m=\u001b[0m\u001b[0mTrue\u001b[0m\u001b[0;34m)\u001b[0m\u001b[0;34m:\u001b[0m\u001b[0;34m\u001b[0m\u001b[0m\n\u001b[0;32m--> 491\u001b[0;31m         \u001b[0;32mreturn\u001b[0m \u001b[0mself\u001b[0m\u001b[0;34m.\u001b[0m\u001b[0m_visualizer\u001b[0m\u001b[0;34m.\u001b[0m\u001b[0malpha\u001b[0m\u001b[0;34m(\u001b[0m\u001b[0mself\u001b[0m\u001b[0;34m.\u001b[0m\u001b[0m_graph\u001b[0m\u001b[0;34m,\u001b[0m \u001b[0mself\u001b[0m\u001b[0;34m.\u001b[0m\u001b[0m_step\u001b[0m\u001b[0;34m,\u001b[0m \u001b[0msample_num\u001b[0m\u001b[0;34m,\u001b[0m \u001b[0minvert_alpha\u001b[0m\u001b[0;34m=\u001b[0m\u001b[0minvert_alpha\u001b[0m\u001b[0;34m)\u001b[0m\u001b[0;34m\u001b[0m\u001b[0m\n\u001b[0m\u001b[1;32m    492\u001b[0m \u001b[0;34m\u001b[0m\u001b[0m\n\u001b[1;32m    493\u001b[0m \u001b[0;32mclass\u001b[0m \u001b[0mDiffParams\u001b[0m\u001b[0;34m(\u001b[0m\u001b[0mobject\u001b[0m\u001b[0;34m)\u001b[0m\u001b[0;34m:\u001b[0m\u001b[0;34m\u001b[0m\u001b[0m\n",
      "\u001b[0;32m/home/sumeet/im2latex_dev/src/viz_commons.pyc\u001b[0m in \u001b[0;36malpha\u001b[0;34m(self, graph, step, sample_num, invert_alpha)\u001b[0m\n\u001b[1;32m    373\u001b[0m         \u001b[0mdf\u001b[0m \u001b[0;34m=\u001b[0m \u001b[0mself\u001b[0m\u001b[0;34m.\u001b[0m\u001b[0m_df_train_image\u001b[0m\u001b[0;34m\u001b[0m\u001b[0m\n\u001b[1;32m    374\u001b[0m         image_data = self._image_processor.get_one(os.path.join(self._image_dir, image_name), df.height.loc[image_name], \n\u001b[0;32m--> 375\u001b[0;31m                                                    df.width.loc[image_name], self._padded_im_dim) #(H,W,C)\n\u001b[0m\u001b[1;32m    376\u001b[0m         \u001b[0mpool_factor\u001b[0m \u001b[0;34m=\u001b[0m \u001b[0mself\u001b[0m\u001b[0;34m.\u001b[0m\u001b[0m_image_pool_factor\u001b[0m\u001b[0;34m\u001b[0m\u001b[0m\n\u001b[1;32m    377\u001b[0m         \u001b[0mpad_0\u001b[0m \u001b[0;34m=\u001b[0m \u001b[0mself\u001b[0m\u001b[0;34m.\u001b[0m\u001b[0m_hyper\u001b[0m\u001b[0;34m.\u001b[0m\u001b[0mimage_shape\u001b[0m\u001b[0;34m[\u001b[0m\u001b[0;36m0\u001b[0m\u001b[0;34m]\u001b[0m \u001b[0;34m-\u001b[0m \u001b[0mnd_alpha\u001b[0m\u001b[0;34m.\u001b[0m\u001b[0mshape\u001b[0m\u001b[0;34m[\u001b[0m\u001b[0;36m0\u001b[0m\u001b[0;34m]\u001b[0m\u001b[0;34m*\u001b[0m\u001b[0mpool_factor\u001b[0m\u001b[0;34m.\u001b[0m\u001b[0mh\u001b[0m\u001b[0;34m\u001b[0m\u001b[0m\n",
      "\u001b[0;32m/home/sumeet/im2latex_dev/src/viz_commons.pyc\u001b[0m in \u001b[0;36mget_one\u001b[0;34m(self, image_name_, height_, width_, padded_dim_)\u001b[0m\n\u001b[1;32m     44\u001b[0m         \u001b[0;34m\"\"\"Get image-array padded and aligned as it was done to extract vgg16 features using convnet.py.\"\"\"\u001b[0m\u001b[0;34m\u001b[0m\u001b[0m\n\u001b[1;32m     45\u001b[0m         \u001b[0mimage_data\u001b[0m \u001b[0;34m=\u001b[0m \u001b[0mImagenetProcessor\u001b[0m\u001b[0;34m.\u001b[0m\u001b[0mget_array\u001b[0m\u001b[0;34m(\u001b[0m\u001b[0mself\u001b[0m\u001b[0;34m,\u001b[0m \u001b[0mimage_name_\u001b[0m\u001b[0;34m,\u001b[0m \u001b[0mheight_\u001b[0m\u001b[0;34m,\u001b[0m \u001b[0mwidth_\u001b[0m\u001b[0;34m,\u001b[0m \u001b[0mpadded_dim_\u001b[0m\u001b[0;34m)\u001b[0m\u001b[0;34m\u001b[0m\u001b[0m\n\u001b[0;32m---> 46\u001b[0;31m         \u001b[0mwhitened\u001b[0m \u001b[0;34m=\u001b[0m  \u001b[0mself\u001b[0m\u001b[0;34m.\u001b[0m\u001b[0mwhiten\u001b[0m\u001b[0;34m(\u001b[0m\u001b[0mnp\u001b[0m\u001b[0;34m.\u001b[0m\u001b[0masarray\u001b[0m\u001b[0;34m(\u001b[0m\u001b[0;34m[\u001b[0m\u001b[0mimage_data\u001b[0m\u001b[0;34m]\u001b[0m\u001b[0;34m)\u001b[0m\u001b[0;34m)\u001b[0m\u001b[0;34m\u001b[0m\u001b[0m\n\u001b[0m\u001b[1;32m     47\u001b[0m         \u001b[0;32mreturn\u001b[0m \u001b[0mwhitened\u001b[0m\u001b[0;34m[\u001b[0m\u001b[0;36m0\u001b[0m\u001b[0;34m]\u001b[0m\u001b[0;34m\u001b[0m\u001b[0m\n\u001b[1;32m     48\u001b[0m \u001b[0;34m\u001b[0m\u001b[0m\n",
      "\u001b[0;32m/home/sumeet/im2latex_dev/src/viz_commons.pyc\u001b[0m in \u001b[0;36mwhiten\u001b[0;34m(self, image_batch)\u001b[0m\n\u001b[1;32m     57\u001b[0m             \u001b[0mimage_batch\u001b[0m\u001b[0;34m:\u001b[0m \u001b[0;34m(\u001b[0m\u001b[0mndarray\u001b[0m\u001b[0;34m)\u001b[0m \u001b[0mBatch\u001b[0m \u001b[0mof\u001b[0m \u001b[0mimages\u001b[0m\u001b[0;34m.\u001b[0m\u001b[0;34m\u001b[0m\u001b[0m\n\u001b[1;32m     58\u001b[0m         \"\"\"\n\u001b[0;32m---> 59\u001b[0;31m         \u001b[0;32massert\u001b[0m \u001b[0mimage_batch\u001b[0m\u001b[0;34m.\u001b[0m\u001b[0mshape\u001b[0m\u001b[0;34m[\u001b[0m\u001b[0;36m1\u001b[0m\u001b[0;34m:\u001b[0m\u001b[0;34m]\u001b[0m \u001b[0;34m==\u001b[0m \u001b[0mtuple\u001b[0m\u001b[0;34m(\u001b[0m\u001b[0mself\u001b[0m\u001b[0;34m.\u001b[0m\u001b[0m_params\u001b[0m\u001b[0;34m.\u001b[0m\u001b[0mimage_shape\u001b[0m\u001b[0;34m)\u001b[0m\u001b[0;34m,\u001b[0m \u001b[0;34m'Got image shape %s instead of %s'\u001b[0m\u001b[0;34m%\u001b[0m\u001b[0;34m(\u001b[0m\u001b[0mimage_batch\u001b[0m\u001b[0;34m.\u001b[0m\u001b[0mshape\u001b[0m\u001b[0;34m[\u001b[0m\u001b[0;36m1\u001b[0m\u001b[0;34m:\u001b[0m\u001b[0;34m]\u001b[0m\u001b[0;34m,\u001b[0m \u001b[0mtuple\u001b[0m\u001b[0;34m(\u001b[0m\u001b[0mself\u001b[0m\u001b[0;34m.\u001b[0m\u001b[0m_params\u001b[0m\u001b[0;34m.\u001b[0m\u001b[0mimage_shape\u001b[0m\u001b[0;34m)\u001b[0m\u001b[0;34m)\u001b[0m\u001b[0;34m\u001b[0m\u001b[0m\n\u001b[0m\u001b[1;32m     60\u001b[0m         \u001b[0;32mreturn\u001b[0m \u001b[0mimage_batch\u001b[0m \u001b[0;34m/\u001b[0m \u001b[0;36m255.0\u001b[0m\u001b[0;34m\u001b[0m\u001b[0m\n\u001b[1;32m     61\u001b[0m \u001b[0;34m\u001b[0m\u001b[0m\n",
      "\u001b[0;31mAssertionError\u001b[0m: Got image shape (130, 1090, 3) instead of (130, 1090, 1)"
     ]
    }
   ],
   "source": [
    "nd_alpha = vs2.alpha(1, invert_alpha=True)"
   ]
  },
  {
   "cell_type": "code",
   "execution_count": null,
   "metadata": {
    "collapsed": true
   },
   "outputs": [],
   "source": [
    "display(nd_alpha[:,:,0])"
   ]
  },
  {
   "cell_type": "code",
   "execution_count": null,
   "metadata": {
    "collapsed": true,
    "scrolled": true
   },
   "outputs": [],
   "source": [
    "vs = VisualizeStep(vd, 'validation', 94276)\n",
    "vs.strs('predicted_ids')"
   ]
  },
  {
   "cell_type": "code",
   "execution_count": null,
   "metadata": {
    "collapsed": true,
    "scrolled": true
   },
   "outputs": [],
   "source": [
    "vs.alpha()"
   ]
  },
  {
   "cell_type": "code",
   "execution_count": null,
   "metadata": {
    "collapsed": true
   },
   "outputs": [],
   "source": [
    "Math('\\\\overline {q}=q_4e_4-q_me_m\\\\equiv q_4-\\\\mathbf {q},')"
   ]
  },
  {
   "cell_type": "code",
   "execution_count": null,
   "metadata": {
    "collapsed": true,
    "scrolled": true
   },
   "outputs": [],
   "source": [
    "image_data = vs.alpha(sample_num=0)"
   ]
  },
  {
   "cell_type": "code",
   "execution_count": null,
   "metadata": {
    "collapsed": true
   },
   "outputs": [],
   "source": [
    "display('\\\\t')"
   ]
  },
  {
   "cell_type": "code",
   "execution_count": null,
   "metadata": {
    "collapsed": true
   },
   "outputs": [],
   "source": []
  }
 ],
 "metadata": {
  "kernelspec": {
   "display_name": "Python 2",
   "language": "python",
   "name": "python2"
  },
  "language_info": {
   "codemirror_mode": {
    "name": "ipython",
    "version": 2
   },
   "file_extension": ".py",
   "mimetype": "text/x-python",
   "name": "python",
   "nbconvert_exporter": "python",
   "pygments_lexer": "ipython2",
   "version": "2.7.14"
  }
 },
 "nbformat": 4,
 "nbformat_minor": 2
}
