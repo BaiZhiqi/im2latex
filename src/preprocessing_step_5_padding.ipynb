{
 "cells": [
  {
   "cell_type": "markdown",
   "metadata": {},
   "source": [
    "# im2latex: Data Binning\n",
    "\n",
    "&copy; Copyright 2017 Sumeet S Singh\n",
    "\n",
    "    This file is part of im2latex solution by Sumeet S Singh.\n",
    "\n",
    "    This program is free software: you can redistribute it and/or modify\n",
    "    it under the terms of the Affero GNU General Public License as published by\n",
    "    the Free Software Foundation, either version 3 of the License, or\n",
    "    (at your option) any later version.\n",
    "\n",
    "    This program is distributed in the hope that it will be useful,\n",
    "    but WITHOUT ANY WARRANTY; without even the implied warranty of\n",
    "    MERCHANTABILITY or FITNESS FOR A PARTICULAR PURPOSE.  See the\n",
    "    Affero GNU General Public License for more details.\n",
    "\n",
    "    You should have received a copy of the Affero GNU General Public License\n",
    "    along with this program.  If not, see <http://www.gnu.org/licenses/>."
   ]
  },
  {
   "cell_type": "markdown",
   "metadata": {},
   "source": [
    "# What This Program Does\n",
    "This notebook curates the [im2latex-100k dataset from Harvard NLP](https://zenodo.org/record/56198#.WT4fsxMrJE4) from a [Harvard NLP project](http://lstm.seas.harvard.edu/latex/) generated using [their code]( https://github.com/Miffyli/im2latex-dataset).\n",
    "\n",
    "* This notebook loads the data set which are png files generated using [textogif](https://www.fourmilab.ch/webtools/textogif/textogif.html) (via the abovementioned sourcecode)\n",
    "* Checks and visualizes the data\n",
    "* Curates the data - whitening etc.\n",
    "* Converts it to numpy arrays and finally stores it as pickle files."
   ]
  },
  {
   "cell_type": "markdown",
   "metadata": {},
   "source": [
    "----\n",
    "## 'Binning' Training Data by Markup Sequence Length\n",
    "Next, we'll group the samples by length of the (tokenized) latex formulas. The idea is to standardize the sequence lengths to a small set of fixed lengths (by padding smaller neighboring sequences with a 'null' tokens at the end.). This will allow us to create equal length batches for RNN/LSTM training while minimizing wasted training cycles. The [Show, Attend and Tell paper](https://www.semanticscholar.org/paper/Show-Attend-and-Tell-Neural-Image-Caption-Generati-Xu-Ba/146f6f6ed688c905fb6e346ad02332efd5464616) suggests this approach. At every epoch, we'll randomly/uniformly draw batches from within each group. Then we'll randomize said batch-list and use it for the training epoch. At next epoch, we'll repeat the process. The larger our group-size, that much better randomness we'll get in the training sequence. However the downside of increasing group-size is more padding of sequence-lengths resulting in wasteful  (and worse; maybe even misleading) training cycles.\n",
    "\n",
    "-----"
   ]
  },
  {
   "cell_type": "code",
   "execution_count": 1,
   "metadata": {
    "cellView": "both",
    "colab": {
     "autoexec": {
      "startup": false,
      "wait_interval": 0
     }
    },
    "colab_type": "code",
    "collapsed": true,
    "id": "apJbCsBHl-2A",
    "scrolled": true
   },
   "outputs": [],
   "source": [
    "from __future__ import print_function\n",
    "import os\n",
    "import numpy as np\n",
    "from IPython.display import display, Image as ipImage\n",
    "import PIL\n",
    "from PIL import Image\n",
    "from scipy import ndimage\n",
    "from sklearn.linear_model import LogisticRegression\n",
    "from six.moves import cPickle as pickle\n",
    "from mpl_toolkits.axes_grid1 import ImageGrid\n",
    "import pandas as pd\n",
    "import matplotlib.pyplot as plt\n",
    "\n",
    "# Config the matplotlib backend as plotting inline in IPython\n",
    "%matplotlib inline"
   ]
  },
  {
   "cell_type": "code",
   "execution_count": 2,
   "metadata": {
    "collapsed": true,
    "scrolled": true
   },
   "outputs": [],
   "source": [
    "# pd.options.display.max_rows = 600\n",
    "pd.options.display.max_columns = 20\n",
    "pd.options.display.max_colwidth = 100\n",
    "pd.options.display.width = 160"
   ]
  },
  {
   "cell_type": "markdown",
   "metadata": {},
   "source": [
    "### Notebook Arguments\n",
    "Change the arguments below before you run the notebook."
   ]
  },
  {
   "cell_type": "code",
   "execution_count": 3,
   "metadata": {
    "collapsed": true
   },
   "outputs": [],
   "source": [
    "HYPER_batch_size = 56\n",
    "HYPER_bins=[0,30,40,50,60,70,80,90,110,150]\n",
    "# HYPER_bins = [0,150]\n",
    "data_folder = data_dir = '../data/dataset4'\n",
    "image_folder = image_dir = os.path.join(data_folder, 'formula_images')\n",
    "raw_data_dir = os.path.join(data_folder, 'training_56')\n",
    "dump = True"
   ]
  },
  {
   "cell_type": "code",
   "execution_count": 4,
   "metadata": {},
   "outputs": [
    {
     "name": "stdout",
     "output_type": "stream",
     "text": [
      "Output Dir = ../data/dataset4/training_56\n"
     ]
    }
   ],
   "source": [
    "print('Output Dir = %s'%raw_data_dir)"
   ]
  },
  {
   "cell_type": "code",
   "execution_count": 16,
   "metadata": {
    "scrolled": true
   },
   "outputs": [
    {
     "name": "stdout",
     "output_type": "stream",
     "text": [
      "df_train.shape = (84445, 7)\n",
      "df_valid.shape = (4648, 7)\n",
      "df_test.shape = (4648, 7)\n"
     ]
    }
   ],
   "source": [
    "df_train = pd.read_pickle(os.path.join(data_folder, 'step4', 'df_train.pkl'))\n",
    "print('df_train.shape = %s'%(df_train.shape,))\n",
    "df_valid = pd.read_pickle(os.path.join(data_folder, 'step4', 'df_valid.pkl'))\n",
    "print('df_valid.shape = %s'%(df_valid.shape,))\n",
    "df_test = pd.read_pickle(os.path.join(data_folder, 'step4', 'df_test.pkl'))\n",
    "print('df_test.shape = %s'%(df_test.shape,))"
   ]
  },
  {
   "cell_type": "code",
   "execution_count": 17,
   "metadata": {
    "collapsed": true
   },
   "outputs": [],
   "source": [
    "def round_up(df_, batch_size):\n",
    "    # round df_ up to an integral multiple of batch_size by duplicating randomly selected samples\n",
    "    shortfall = batch_size - df_.shape[0]%batch_size\n",
    "    if shortfall > 0:\n",
    "        print('Rounding up df_ from size %d to %d'%(df_.shape[0], df_.shape[0]+shortfall))\n",
    "        df_shortfall = df_.sample(n=shortfall)\n",
    "        df_shortfall.index = (df_shortfall.index + 1000000) # Add 1 mil to the index to ensure unique index\n",
    "        df_ = df_.append(df_shortfall, verify_integrity=True)\n",
    "    assert df_.index.intersection(df_test.index).shape[0] == 0\n",
    "    return df_"
   ]
  },
  {
   "cell_type": "code",
   "execution_count": 19,
   "metadata": {
    "scrolled": true
   },
   "outputs": [
    {
     "name": "stdout",
     "output_type": "stream",
     "text": [
      "Rounding up df_ from size 84448 to 84504\n",
      "(4648, 7) (4648, 7) (84504, 7)\n",
      "Rounded up samples = 93800, Actual samples = 93744\n"
     ]
    }
   ],
   "source": [
    "# round df_train up to an integral multiple of batch_size by duplicating randomly selected samples\n",
    "original_shape = df_train.shape\n",
    "df_train = round_up(df_train, HYPER_batch_size)\n",
    "print(df_test.shape, df_valid.shape, df_train.shape)\n",
    "print('Rounded up samples = %d, Actual samples = %d'%(df_test.shape[0]+df_train.shape[0]+df_valid.shape[0], \n",
    "                                                      original_shape[0]+df_test.shape[0]+df_valid.shape[0],))"
   ]
  },
  {
   "cell_type": "code",
   "execution_count": 20,
   "metadata": {
    "scrolled": false
   },
   "outputs": [
    {
     "data": {
      "text/plain": [
       "<matplotlib.axes._subplots.AxesSubplot at 0x7f0416c4f850>"
      ]
     },
     "execution_count": 20,
     "metadata": {},
     "output_type": "execute_result"
    },
    {
     "data": {
      "image/png": "[encoded data removed]",
      "text/plain": [
       "<matplotlib.figure.Figure at 0x7f0413ba8e50>"
      ]
     },
     "metadata": {},
     "output_type": "display_data"
    }
   ],
   "source": [
    "axes = plt.axes()\n",
    "axes.set_ylabel('bin-count')\n",
    "axes.set_title('test bin distribution')\n",
    "df_test.groupby('bin_len').count().image.plot.bar(ax=axes, lw=2, figsize=(15,5), grid=True)"
   ]
  },
  {
   "cell_type": "code",
   "execution_count": 21,
   "metadata": {},
   "outputs": [
    {
     "data": {
      "text/plain": [
       "<matplotlib.axes._subplots.AxesSubplot at 0x7f04150661d0>"
      ]
     },
     "execution_count": 21,
     "metadata": {},
     "output_type": "execute_result"
    },
    {
     "data": {
      "image/png": "[encoded data removed]",
      "text/plain": [
       "<matplotlib.figure.Figure at 0x7f0414ed6290>"
      ]
     },
     "metadata": {},
     "output_type": "display_data"
    }
   ],
   "source": [
    "axes = plt.axes()\n",
    "axes.set_ylabel('bin-count')\n",
    "axes.set_title('test bin distribution')\n",
    "df_valid.groupby('bin_len').count().image.plot.bar(ax=axes, lw=2, figsize=(15,5), grid=True)"
   ]
  },
  {
   "cell_type": "code",
   "execution_count": 22,
   "metadata": {
    "scrolled": true
   },
   "outputs": [
    {
     "data": {
      "text/plain": [
       "<matplotlib.axes._subplots.AxesSubplot at 0x7f0414ed6690>"
      ]
     },
     "execution_count": 22,
     "metadata": {},
     "output_type": "execute_result"
    },
    {
     "data": {
      "image/png": "[encoded data removed]",
      "text/plain": [
       "<matplotlib.figure.Figure at 0x7f0448c23810>"
      ]
     },
     "metadata": {},
     "output_type": "display_data"
    }
   ],
   "source": [
    "axes = plt.axes()\n",
    "axes.set_ylabel('bin-count')\n",
    "axes.set_title('training bin distribution')\n",
    "df_train.groupby('bin_len').count().image.plot.bar(ax=axes, lw=2, figsize=(15,5), grid=True)"
   ]
  },
  {
   "cell_type": "code",
   "execution_count": 30,
   "metadata": {
    "collapsed": true,
    "scrolled": true
   },
   "outputs": [],
   "source": [
    "## Code that adjusts bin-composition in order to minimze waste of samples owing to batch quantization\n",
    "def print_bin_waste(df_, batch_size_):\n",
    "    cum = 0\n",
    "    bin_lens = sorted(df_.bin_len.unique().tolist())\n",
    "    counts = [df_[df_.bin_len==l].shape[0] for l in bin_lens]\n",
    "    total = sum(counts)\n",
    "    print('bin_len|count|waste|cumulative')\n",
    "    for i in range(len(bin_lens)):\n",
    "        rem = counts[i] % batch_size_\n",
    "        cum += rem\n",
    "        print(\"%d)\\t%d,\\t%d,\\t%d\"%(bin_lens[i], counts[i], rem, cum))\n",
    "    assert total == sum(counts)\n",
    "    print('total %% batch_size_ = %d'%(total%batch_size_,))\n",
    "    return\n",
    "\n",
    "def adjust_bins(df_bins_, batch_size_):\n",
    "    df_ = df_bins_.copy()\n",
    "    bin_lens = bins = sorted(df_.bin_len.unique().tolist())\n",
    "    for i in range(len(bin_lens)-1):\n",
    "        ## Can't use bin_count here because it changes during the loop\n",
    "        rem = df_[df_.bin_len == bins[i]].shape[0] % batch_size_\n",
    "        if rem > 0:\n",
    "            ## Move the tail of the bin into the next one\n",
    "            idx_tail = df_[df_.bin_len == bins[i]].word2id_len.sort_values()[-1*rem:].index\n",
    "            df_.loc[idx_tail, 'bin_len'] = bins[i+1]\n",
    "            print('Moving %d samples from bin %d to %d'%(rem,bin_lens[i],bin_lens[i+1]))\n",
    "\n",
    "    return df_\n",
    "\n",
    "# def adjust_bins2(df_bins_, batch_size_):\n",
    "#     df_ = df_bins_.copy()\n",
    "#     ## Idea is to spread the sample-waste over all the bins, proportional to the size of the bin.\n",
    "#     waste = df_.shape[0] % batch_size_\n",
    "#     bin_lens = sorted(df_.bin_len.unique().tolist())\n",
    "#     bin_counts = [df_[df_.bin_len==l].shape[0] for l in bin_lens]\n",
    "#     ## Draw from a multinomial distribution to get the number of samples to waste in each bin.\n",
    "#     pvals = np.array(bin_counts, dtype=float) / df_.shape[0]\n",
    "#     assert sum(pvals) == 1.0\n",
    "#     print(pvals, \" sum=%f\"%(sum(pvals),))\n",
    "#     bin_waste = np.random.multinomial(waste, pvals)\n",
    "#     print(bin_waste, \" sum=%d\"%(sum(bin_waste),))\n",
    "#     ## Now adjust the bins\n",
    "#     for i in range(len(bin_lens)-1):\n",
    "#         ## Can't use bin_count here because it changes during the loop\n",
    "#         rem = df_[df_.bin_len == bin_lens[i]].shape[0] % batch_size_ - bin_waste[i]\n",
    "#         if rem > 0:\n",
    "#             ## Move the tail of the bin into the next one\n",
    "#             df_slice = df_[df_.bin_len == bin_lens[i]].word2id_len.sort_values()[-1*rem:].index\n",
    "#             df_.loc[df_slice, 'bin_len'] = bin_lens[i+1]\n",
    "#             print('Moving %d samples from bin %d to %d'%(rem,bin_lens[i],bin_lens[i+1]))\n",
    "#         elif rem < 0:\n",
    "#             ## Move in the head of the next bin into this one\n",
    "#             df_slice = df_[df_.bin_len == bin_lens[i+1]].word2id_len.sort_values()[:-1*rem].index\n",
    "#             new_bin_len = df_.loc[df_slice].word2id_len.max() + 1\n",
    "#             print('Moving %d samples from bin %d to %d (old_bin_len = %d)'%(rem,bin_lens[i+1],new_bin_len,bin_lens[i]))\n",
    "#             df_.loc[df_slice, 'bin_len'] = new_bin_len\n",
    "#             df_.loc[df_.bin_len == bin_lens[i], 'bin_len'] = new_bin_len\n",
    "#             bin_lens[i] = new_bin_len\n",
    "#     print('Final bins: ', bin_lens)\n",
    "#     return df_"
   ]
  },
  {
   "cell_type": "code",
   "execution_count": 31,
   "metadata": {
    "scrolled": false
   },
   "outputs": [
    {
     "name": "stdout",
     "output_type": "stream",
     "text": [
      "bin_len|count|waste|cumulative\n",
      "31)\t12862,\t38,\t38\n",
      "41)\t13661,\t53,\t91\n",
      "51)\t13065,\t17,\t108\n",
      "61)\t10995,\t19,\t127\n",
      "71)\t8856,\t8,\t135\n",
      "81)\t6841,\t9,\t144\n",
      "91)\t5510,\t22,\t166\n",
      "111)\t7182,\t14,\t180\n",
      "151)\t5532,\t44,\t224\n",
      "total % batch_size_ = 0\n",
      "Moving 38 samples from bin 31 to 41\n",
      "Moving 35 samples from bin 41 to 51\n",
      "Moving 52 samples from bin 51 to 61\n",
      "Moving 15 samples from bin 61 to 71\n",
      "Moving 23 samples from bin 71 to 81\n",
      "Moving 32 samples from bin 81 to 91\n",
      "Moving 54 samples from bin 91 to 111\n",
      "Moving 12 samples from bin 111 to 151\n",
      "bin_len|count|waste|cumulative\n",
      "31)\t12824,\t0,\t0\n",
      "41)\t13664,\t0,\t0\n",
      "51)\t13048,\t0,\t0\n",
      "61)\t11032,\t0,\t0\n",
      "71)\t8848,\t0,\t0\n",
      "81)\t6832,\t0,\t0\n",
      "91)\t5488,\t0,\t0\n",
      "111)\t7224,\t0,\t0\n",
      "151)\t5544,\t0,\t0\n",
      "total % batch_size_ = 0\n"
     ]
    },
    {
     "data": {
      "text/plain": [
       "<matplotlib.axes._subplots.AxesSubplot at 0x7f0414444950>"
      ]
     },
     "execution_count": 31,
     "metadata": {},
     "output_type": "execute_result"
    },
    {
     "data": {
      "image/png": "[encoded data removed]",
      "text/plain": [
       "<matplotlib.figure.Figure at 0x7f0416228dd0>"
      ]
     },
     "metadata": {},
     "output_type": "display_data"
    }
   ],
   "source": [
    "print_bin_waste(df_train, HYPER_batch_size)\n",
    "df_train_adjusted = adjust_bins(df_train, HYPER_batch_size)\n",
    "print_bin_waste(df_train_adjusted, HYPER_batch_size)\n",
    "## Plot\n",
    "axes = plt.axes()\n",
    "axes.set_xlabel('bin_len')\n",
    "axes.set_ylabel('bin-count')\n",
    "axes.set_title('bin distribution')\n",
    "df_train_adjusted.groupby('bin_len').count().image.plot.bar(ax=axes, lw=2, figsize=(15,5), grid=True)"
   ]
  },
  {
   "cell_type": "code",
   "execution_count": 32,
   "metadata": {
    "scrolled": false
   },
   "outputs": [
    {
     "name": "stdout",
     "output_type": "stream",
     "text": [
      "bin_len|count|waste|cumulative\n",
      "31)\t724,\t52,\t52\n",
      "41)\t755,\t27,\t79\n",
      "51)\t700,\t28,\t107\n",
      "61)\t621,\t5,\t112\n",
      "71)\t464,\t16,\t128\n",
      "81)\t384,\t48,\t176\n",
      "91)\t299,\t19,\t195\n",
      "111)\t397,\t5,\t200\n",
      "151)\t304,\t24,\t224\n",
      "total % batch_size_ = 0\n",
      "Moving 52 samples from bin 31 to 41\n",
      "Moving 23 samples from bin 41 to 51\n",
      "Moving 51 samples from bin 51 to 61\n",
      "Moving 16 samples from bin 71 to 81\n",
      "Moving 8 samples from bin 81 to 91\n",
      "Moving 27 samples from bin 91 to 111\n",
      "Moving 32 samples from bin 111 to 151\n",
      "bin_len|count|waste|cumulative\n",
      "31)\t672,\t0,\t0\n",
      "41)\t784,\t0,\t0\n",
      "51)\t672,\t0,\t0\n",
      "61)\t672,\t0,\t0\n",
      "71)\t448,\t0,\t0\n",
      "81)\t392,\t0,\t0\n",
      "91)\t280,\t0,\t0\n",
      "111)\t392,\t0,\t0\n",
      "151)\t336,\t0,\t0\n",
      "total % batch_size_ = 0\n"
     ]
    },
    {
     "data": {
      "text/plain": [
       "<matplotlib.axes._subplots.AxesSubplot at 0x7f04170f0b50>"
      ]
     },
     "execution_count": 32,
     "metadata": {},
     "output_type": "execute_result"
    },
    {
     "data": {
      "image/png": "[encoded data removed]",
      "text/plain": [
       "<matplotlib.figure.Figure at 0x7f0416225b90>"
      ]
     },
     "metadata": {},
     "output_type": "display_data"
    }
   ],
   "source": [
    "print_bin_waste(df_test, HYPER_batch_size)\n",
    "df_test_adjusted = adjust_bins(df_test, HYPER_batch_size)\n",
    "print_bin_waste(df_test_adjusted, HYPER_batch_size)\n",
    "## Plot\n",
    "axes = plt.axes()\n",
    "axes.set_ylabel('bin-count')\n",
    "axes.set_title('bin distribution')\n",
    "df_test_adjusted.groupby('bin_len').count().image.plot.bar(ax=axes, lw=2, figsize=(15,5), grid=True)"
   ]
  },
  {
   "cell_type": "code",
   "execution_count": 33,
   "metadata": {},
   "outputs": [
    {
     "name": "stdout",
     "output_type": "stream",
     "text": [
      "bin_len|count|waste|cumulative\n",
      "31)\t703,\t31,\t31\n",
      "41)\t755,\t27,\t58\n",
      "51)\t713,\t41,\t99\n",
      "61)\t568,\t8,\t107\n",
      "71)\t504,\t0,\t107\n",
      "81)\t392,\t0,\t107\n",
      "91)\t325,\t45,\t152\n",
      "111)\t393,\t1,\t153\n",
      "151)\t295,\t15,\t168\n",
      "total % batch_size_ = 0\n",
      "Moving 31 samples from bin 31 to 41\n",
      "Moving 2 samples from bin 41 to 51\n",
      "Moving 43 samples from bin 51 to 61\n",
      "Moving 51 samples from bin 61 to 71\n",
      "Moving 51 samples from bin 71 to 81\n",
      "Moving 51 samples from bin 81 to 91\n",
      "Moving 40 samples from bin 91 to 111\n",
      "Moving 41 samples from bin 111 to 151\n",
      "bin_len|count|waste|cumulative\n",
      "31)\t672,\t0,\t0\n",
      "41)\t784,\t0,\t0\n",
      "51)\t672,\t0,\t0\n",
      "61)\t560,\t0,\t0\n",
      "71)\t504,\t0,\t0\n",
      "81)\t392,\t0,\t0\n",
      "91)\t336,\t0,\t0\n",
      "111)\t392,\t0,\t0\n",
      "151)\t336,\t0,\t0\n",
      "total % batch_size_ = 0\n"
     ]
    },
    {
     "data": {
      "text/plain": [
       "<matplotlib.axes._subplots.AxesSubplot at 0x7f0416b3f290>"
      ]
     },
     "execution_count": 33,
     "metadata": {},
     "output_type": "execute_result"
    },
    {
     "data": {
      "image/png": "[encoded data removed]",
      "text/plain": [
       "<matplotlib.figure.Figure at 0x7f04142e0a10>"
      ]
     },
     "metadata": {},
     "output_type": "display_data"
    }
   ],
   "source": [
    "print_bin_waste(df_valid, HYPER_batch_size)\n",
    "df_valid_adjusted = adjust_bins(df_valid, HYPER_batch_size)\n",
    "print_bin_waste(df_valid_adjusted, HYPER_batch_size)\n",
    "## Plot\n",
    "axes = plt.axes()\n",
    "axes.set_ylabel('bin-count')\n",
    "axes.set_title('bin distribution')\n",
    "df_valid_adjusted.groupby('bin_len').count().image.plot.bar(ax=axes, lw=2, figsize=(15,5), grid=True)"
   ]
  },
  {
   "cell_type": "code",
   "execution_count": 34,
   "metadata": {
    "collapsed": true,
    "scrolled": true
   },
   "outputs": [],
   "source": [
    "def get_padded(df_):\n",
    "    def pad(row_ar):\n",
    "        \"\"\"\n",
    "        Return null-terminated and padded token-sequence, padded upto bin_len size.\n",
    "        Arguments:\n",
    "            row_ar: sequence ('bin_len', 'word2id_len', 'word2id')\n",
    "        \"\"\"\n",
    "        word2id = row_ar[2]\n",
    "        ## plen = (pad_before, pad_after)\n",
    "        plen = (0, row_ar[0]-row_ar[1])\n",
    "        ## Ensure that we have room for at least one null-terminator\n",
    "        assert plen[1] > 0\n",
    "        return np.pad(word2id, plen, 'constant', constant_values=0).tolist()\n",
    "    \n",
    "    df = df_[['bin_len', 'word2id_len', 'word2id']]\n",
    "    padded_seq = df.apply(pad, raw=True, reduce=True, axis=1)\n",
    "    df_padded = df_.assign(seq_len=df_.word2id_len+1, ## add 1 for <eos> token (null)\n",
    "                      padded_seq=padded_seq, \n",
    "                      padded_seq_len=padded_seq.str.len())\n",
    "    print(df_padded.shape)\n",
    "    display(df_padded[:1])\n",
    "    return df_padded"
   ]
  },
  {
   "cell_type": "markdown",
   "metadata": {},
   "source": [
    "#### TODO: Squashing is not needed if we do not have any whitespace token. Need to short-cut this step by simply assigning padded_seq to squashed_seq"
   ]
  },
  {
   "cell_type": "code",
   "execution_count": 35,
   "metadata": {
    "collapsed": true
   },
   "outputs": [],
   "source": [
    "def get_squashed(df_):\n",
    "    def squash(row_ar):\n",
    "        \"\"\"\n",
    "        Return padded token-sequence, with all spaces removed and padded upto bin_len size.\n",
    "        Arguments:\n",
    "            row_ar: sequence ('bin_len', 'word2id')\n",
    "        \"\"\"\n",
    "        word2id = np.asarray(row_ar[1])\n",
    "        squashed = word2id[word2id != 556]\n",
    "        return squashed.tolist()\n",
    "    def pad2(row_ar):\n",
    "        \"\"\"\n",
    "        Return null-terminated and padded token-sequence, padded upto bin_len size.\n",
    "        Arguments:\n",
    "            row_ar: sequence ('bin_len', 'col')\n",
    "        \"\"\"\n",
    "        lst = row_ar[1]\n",
    "        ## plen = (pad_before, pad_after)\n",
    "        plen = (0, row_ar[0] - len(lst))\n",
    "        ## Ensure that we have room for at least one null-terminator\n",
    "        try:\n",
    "            assert plen[1] > 0\n",
    "        except:\n",
    "            print (row_ar)\n",
    "            raise\n",
    "        return np.pad(lst, plen, 'constant', constant_values=0).tolist()\n",
    "\n",
    "    df = df_[['bin_len', 'word2id']]\n",
    "    squashed_seq = df.apply(squash, raw=True, reduce=True, axis=1)\n",
    "    df_ =  df_.assign(squashed_seq=squashed_seq,\n",
    "                      squashed_len=squashed_seq.str.len()+1) ## add 1 for <eos>/null token\n",
    "    ## Pad the squashed sequence. Had to do this separately since str.len() would\n",
    "    ## return bin-lens if this was done in the previous step.\n",
    "    df = df_[['bin_len', 'squashed_seq']]\n",
    "    padded_seq = df.apply(pad2, raw=True, reduce=True, axis=1)\n",
    "    df_squashed = df_.assign(squashed_seq=padded_seq)\n",
    "    print(df_squashed.shape)\n",
    "    display(df_squashed[:1])\n",
    "    return df_squashed"
   ]
  },
  {
   "cell_type": "code",
   "execution_count": 36,
   "metadata": {
    "scrolled": true
   },
   "outputs": [
    {
     "name": "stdout",
     "output_type": "stream",
     "text": [
      "(84504, 10)\n"
     ]
    },
    {
     "data": {
      "text/html": [
       "<div>\n",
       "<style>\n",
       "    .dataframe thead tr:only-child th {\n",
       "        text-align: right;\n",
       "    }\n",
       "\n",
       "    .dataframe thead th {\n",
       "        text-align: left;\n",
       "    }\n",
       "\n",
       "    .dataframe tbody tr th {\n",
       "        vertical-align: top;\n",
       "    }\n",
       "</style>\n",
       "<table border=\"1\" class=\"dataframe\">\n",
       "  <thead>\n",
       "    <tr style=\"text-align: right;\">\n",
       "      <th></th>\n",
       "      <th>image</th>\n",
       "      <th>height</th>\n",
       "      <th>width</th>\n",
       "      <th>word2id_len</th>\n",
       "      <th>bin_len</th>\n",
       "      <th>word2id</th>\n",
       "      <th>latex_ascii</th>\n",
       "      <th>padded_seq</th>\n",
       "      <th>padded_seq_len</th>\n",
       "      <th>seq_len</th>\n",
       "    </tr>\n",
       "  </thead>\n",
       "  <tbody>\n",
       "    <tr>\n",
       "      <th>0</th>\n",
       "      <td>23be72ded29e9b4_basic.png</td>\n",
       "      <td>78</td>\n",
       "      <td>738</td>\n",
       "      <td>112</td>\n",
       "      <td>151</td>\n",
       "      <td>[173, 324, 353, 11, 154, 355, 323, 353, 172, 355, 330, 338, 63, 207, 353, 331, 355, 323, 353, 11...</td>\n",
       "      <td>\\int _ { - \\epsilon } ^ { \\infty } d l \\: \\mathrm { e } ^ { - l \\zeta } \\int _ { - \\epsilon } ^ ...</td>\n",
       "      <td>[173, 324, 353, 11, 154, 355, 323, 353, 172, 355, 330, 338, 63, 207, 353, 331, 355, 323, 353, 11...</td>\n",
       "      <td>151</td>\n",
       "      <td>113</td>\n",
       "    </tr>\n",
       "  </tbody>\n",
       "</table>\n",
       "</div>"
      ],
      "text/plain": [
       "                       image  height  width  word2id_len  bin_len  \\\n",
       "0  23be72ded29e9b4_basic.png      78    738          112      151   \n",
       "\n",
       "                                                                                               word2id  \\\n",
       "0  [173, 324, 353, 11, 154, 355, 323, 353, 172, 355, 330, 338, 63, 207, 353, 331, 355, 323, 353, 11...   \n",
       "\n",
       "                                                                                           latex_ascii  \\\n",
       "0  \\int _ { - \\epsilon } ^ { \\infty } d l \\: \\mathrm { e } ^ { - l \\zeta } \\int _ { - \\epsilon } ^ ...   \n",
       "\n",
       "                                                                                            padded_seq  padded_seq_len  seq_len  \n",
       "0  [173, 324, 353, 11, 154, 355, 323, 353, 172, 355, 330, 338, 63, 207, 353, 331, 355, 323, 353, 11...             151      113  "
      ]
     },
     "metadata": {},
     "output_type": "display_data"
    }
   ],
   "source": [
    "df_train_padded = get_padded(df_train_adjusted)\n",
    "assert sum(df_train_padded.padded_seq_len != df_train_padded.bin_len) == 0\n",
    "assert sum(df_train_padded.word2id_len != (df_train_padded.seq_len-1)) == 0"
   ]
  },
  {
   "cell_type": "code",
   "execution_count": 37,
   "metadata": {},
   "outputs": [
    {
     "name": "stdout",
     "output_type": "stream",
     "text": [
      "(84504, 12)\n"
     ]
    },
    {
     "data": {
      "text/html": [
       "<div>\n",
       "<style>\n",
       "    .dataframe thead tr:only-child th {\n",
       "        text-align: right;\n",
       "    }\n",
       "\n",
       "    .dataframe thead th {\n",
       "        text-align: left;\n",
       "    }\n",
       "\n",
       "    .dataframe tbody tr th {\n",
       "        vertical-align: top;\n",
       "    }\n",
       "</style>\n",
       "<table border=\"1\" class=\"dataframe\">\n",
       "  <thead>\n",
       "    <tr style=\"text-align: right;\">\n",
       "      <th></th>\n",
       "      <th>image</th>\n",
       "      <th>height</th>\n",
       "      <th>width</th>\n",
       "      <th>word2id_len</th>\n",
       "      <th>bin_len</th>\n",
       "      <th>word2id</th>\n",
       "      <th>latex_ascii</th>\n",
       "      <th>padded_seq</th>\n",
       "      <th>padded_seq_len</th>\n",
       "      <th>seq_len</th>\n",
       "      <th>squashed_len</th>\n",
       "      <th>squashed_seq</th>\n",
       "    </tr>\n",
       "  </thead>\n",
       "  <tbody>\n",
       "    <tr>\n",
       "      <th>0</th>\n",
       "      <td>23be72ded29e9b4_basic.png</td>\n",
       "      <td>78</td>\n",
       "      <td>738</td>\n",
       "      <td>112</td>\n",
       "      <td>151</td>\n",
       "      <td>[173, 324, 353, 11, 154, 355, 323, 353, 172, 355, 330, 338, 63, 207, 353, 331, 355, 323, 353, 11...</td>\n",
       "      <td>\\int _ { - \\epsilon } ^ { \\infty } d l \\: \\mathrm { e } ^ { - l \\zeta } \\int _ { - \\epsilon } ^ ...</td>\n",
       "      <td>[173, 324, 353, 11, 154, 355, 323, 353, 172, 355, 330, 338, 63, 207, 353, 331, 355, 323, 353, 11...</td>\n",
       "      <td>151</td>\n",
       "      <td>113</td>\n",
       "      <td>113</td>\n",
       "      <td>[173, 324, 353, 11, 154, 355, 323, 353, 172, 355, 330, 338, 63, 207, 353, 331, 355, 323, 353, 11...</td>\n",
       "    </tr>\n",
       "  </tbody>\n",
       "</table>\n",
       "</div>"
      ],
      "text/plain": [
       "                       image  height  width  word2id_len  bin_len  \\\n",
       "0  23be72ded29e9b4_basic.png      78    738          112      151   \n",
       "\n",
       "                                                                                               word2id  \\\n",
       "0  [173, 324, 353, 11, 154, 355, 323, 353, 172, 355, 330, 338, 63, 207, 353, 331, 355, 323, 353, 11...   \n",
       "\n",
       "                                                                                           latex_ascii  \\\n",
       "0  \\int _ { - \\epsilon } ^ { \\infty } d l \\: \\mathrm { e } ^ { - l \\zeta } \\int _ { - \\epsilon } ^ ...   \n",
       "\n",
       "                                                                                            padded_seq  padded_seq_len  seq_len  squashed_len  \\\n",
       "0  [173, 324, 353, 11, 154, 355, 323, 353, 172, 355, 330, 338, 63, 207, 353, 331, 355, 323, 353, 11...             151      113           113   \n",
       "\n",
       "                                                                                          squashed_seq  \n",
       "0  [173, 324, 353, 11, 154, 355, 323, 353, 172, 355, 330, 338, 63, 207, 353, 331, 355, 323, 353, 11...  "
      ]
     },
     "metadata": {},
     "output_type": "display_data"
    }
   ],
   "source": [
    "df_train_squashed = get_squashed(df_train_padded)\n",
    "assert sum(df_train_squashed.seq_len < df_train_squashed.squashed_len) == 0"
   ]
  },
  {
   "cell_type": "code",
   "execution_count": 38,
   "metadata": {},
   "outputs": [
    {
     "name": "stdout",
     "output_type": "stream",
     "text": [
      "(4648, 10)\n"
     ]
    },
    {
     "data": {
      "text/html": [
       "<div>\n",
       "<style>\n",
       "    .dataframe thead tr:only-child th {\n",
       "        text-align: right;\n",
       "    }\n",
       "\n",
       "    .dataframe thead th {\n",
       "        text-align: left;\n",
       "    }\n",
       "\n",
       "    .dataframe tbody tr th {\n",
       "        vertical-align: top;\n",
       "    }\n",
       "</style>\n",
       "<table border=\"1\" class=\"dataframe\">\n",
       "  <thead>\n",
       "    <tr style=\"text-align: right;\">\n",
       "      <th></th>\n",
       "      <th>image</th>\n",
       "      <th>height</th>\n",
       "      <th>width</th>\n",
       "      <th>word2id_len</th>\n",
       "      <th>bin_len</th>\n",
       "      <th>word2id</th>\n",
       "      <th>latex_ascii</th>\n",
       "      <th>padded_seq</th>\n",
       "      <th>padded_seq_len</th>\n",
       "      <th>seq_len</th>\n",
       "    </tr>\n",
       "  </thead>\n",
       "  <tbody>\n",
       "    <tr>\n",
       "      <th>53797</th>\n",
       "      <td>8314834c3de298f_basic.png</td>\n",
       "      <td>75</td>\n",
       "      <td>443</td>\n",
       "      <td>39</td>\n",
       "      <td>41</td>\n",
       "      <td>[49, 324, 353, 17, 355, 29, 11, 43, 324, 353, 8, 355, 323, 353, 34, 11, 17, 355, 173, 324, 353, ...</td>\n",
       "      <td>S _ { 1 } = - M _ { * } ^ { D - 1 } \\int _ { \\Sigma } d x ^ { D - 1 } F ( \\rho , \\varphi ) ~ ,</td>\n",
       "      <td>[49, 324, 353, 17, 355, 29, 11, 43, 324, 353, 8, 355, 323, 353, 34, 11, 17, 355, 173, 324, 353, ...</td>\n",
       "      <td>41</td>\n",
       "      <td>40</td>\n",
       "    </tr>\n",
       "  </tbody>\n",
       "</table>\n",
       "</div>"
      ],
      "text/plain": [
       "                           image  height  width  word2id_len  bin_len  \\\n",
       "53797  8314834c3de298f_basic.png      75    443           39       41   \n",
       "\n",
       "                                                                                                   word2id  \\\n",
       "53797  [49, 324, 353, 17, 355, 29, 11, 43, 324, 353, 8, 355, 323, 353, 34, 11, 17, 355, 173, 324, 353, ...   \n",
       "\n",
       "                                                                                          latex_ascii  \\\n",
       "53797  S _ { 1 } = - M _ { * } ^ { D - 1 } \\int _ { \\Sigma } d x ^ { D - 1 } F ( \\rho , \\varphi ) ~ ,   \n",
       "\n",
       "                                                                                                padded_seq  padded_seq_len  seq_len  \n",
       "53797  [49, 324, 353, 17, 355, 29, 11, 43, 324, 353, 8, 355, 323, 353, 34, 11, 17, 355, 173, 324, 353, ...              41       40  "
      ]
     },
     "metadata": {},
     "output_type": "display_data"
    }
   ],
   "source": [
    "df_valid_padded = get_padded(df_valid_adjusted)\n",
    "assert sum(df_valid_padded.padded_seq_len != df_valid_padded.bin_len) == 0\n",
    "assert sum(df_valid_padded.word2id_len != (df_valid_padded.seq_len-1)) == 0"
   ]
  },
  {
   "cell_type": "code",
   "execution_count": 39,
   "metadata": {},
   "outputs": [
    {
     "name": "stdout",
     "output_type": "stream",
     "text": [
      "(4648, 12)\n"
     ]
    },
    {
     "data": {
      "text/html": [
       "<div>\n",
       "<style>\n",
       "    .dataframe thead tr:only-child th {\n",
       "        text-align: right;\n",
       "    }\n",
       "\n",
       "    .dataframe thead th {\n",
       "        text-align: left;\n",
       "    }\n",
       "\n",
       "    .dataframe tbody tr th {\n",
       "        vertical-align: top;\n",
       "    }\n",
       "</style>\n",
       "<table border=\"1\" class=\"dataframe\">\n",
       "  <thead>\n",
       "    <tr style=\"text-align: right;\">\n",
       "      <th></th>\n",
       "      <th>image</th>\n",
       "      <th>height</th>\n",
       "      <th>width</th>\n",
       "      <th>word2id_len</th>\n",
       "      <th>bin_len</th>\n",
       "      <th>word2id</th>\n",
       "      <th>latex_ascii</th>\n",
       "      <th>padded_seq</th>\n",
       "      <th>padded_seq_len</th>\n",
       "      <th>seq_len</th>\n",
       "      <th>squashed_len</th>\n",
       "      <th>squashed_seq</th>\n",
       "    </tr>\n",
       "  </thead>\n",
       "  <tbody>\n",
       "    <tr>\n",
       "      <th>53797</th>\n",
       "      <td>8314834c3de298f_basic.png</td>\n",
       "      <td>75</td>\n",
       "      <td>443</td>\n",
       "      <td>39</td>\n",
       "      <td>41</td>\n",
       "      <td>[49, 324, 353, 17, 355, 29, 11, 43, 324, 353, 8, 355, 323, 353, 34, 11, 17, 355, 173, 324, 353, ...</td>\n",
       "      <td>S _ { 1 } = - M _ { * } ^ { D - 1 } \\int _ { \\Sigma } d x ^ { D - 1 } F ( \\rho , \\varphi ) ~ ,</td>\n",
       "      <td>[49, 324, 353, 17, 355, 29, 11, 43, 324, 353, 8, 355, 323, 353, 34, 11, 17, 355, 173, 324, 353, ...</td>\n",
       "      <td>41</td>\n",
       "      <td>40</td>\n",
       "      <td>40</td>\n",
       "      <td>[49, 324, 353, 17, 355, 29, 11, 43, 324, 353, 8, 355, 323, 353, 34, 11, 17, 355, 173, 324, 353, ...</td>\n",
       "    </tr>\n",
       "  </tbody>\n",
       "</table>\n",
       "</div>"
      ],
      "text/plain": [
       "                           image  height  width  word2id_len  bin_len  \\\n",
       "53797  8314834c3de298f_basic.png      75    443           39       41   \n",
       "\n",
       "                                                                                                   word2id  \\\n",
       "53797  [49, 324, 353, 17, 355, 29, 11, 43, 324, 353, 8, 355, 323, 353, 34, 11, 17, 355, 173, 324, 353, ...   \n",
       "\n",
       "                                                                                          latex_ascii  \\\n",
       "53797  S _ { 1 } = - M _ { * } ^ { D - 1 } \\int _ { \\Sigma } d x ^ { D - 1 } F ( \\rho , \\varphi ) ~ ,   \n",
       "\n",
       "                                                                                                padded_seq  padded_seq_len  seq_len  squashed_len  \\\n",
       "53797  [49, 324, 353, 17, 355, 29, 11, 43, 324, 353, 8, 355, 323, 353, 34, 11, 17, 355, 173, 324, 353, ...              41       40            40   \n",
       "\n",
       "                                                                                              squashed_seq  \n",
       "53797  [49, 324, 353, 17, 355, 29, 11, 43, 324, 353, 8, 355, 323, 353, 34, 11, 17, 355, 173, 324, 353, ...  "
      ]
     },
     "metadata": {},
     "output_type": "display_data"
    }
   ],
   "source": [
    "df_valid_squashed = get_squashed(df_valid_padded)\n",
    "assert sum(df_valid_squashed.seq_len < df_valid_squashed.squashed_len) == 0"
   ]
  },
  {
   "cell_type": "code",
   "execution_count": 40,
   "metadata": {},
   "outputs": [
    {
     "name": "stdout",
     "output_type": "stream",
     "text": [
      "(4648, 10)\n"
     ]
    },
    {
     "data": {
      "text/html": [
       "<div>\n",
       "<style>\n",
       "    .dataframe thead tr:only-child th {\n",
       "        text-align: right;\n",
       "    }\n",
       "\n",
       "    .dataframe thead th {\n",
       "        text-align: left;\n",
       "    }\n",
       "\n",
       "    .dataframe tbody tr th {\n",
       "        vertical-align: top;\n",
       "    }\n",
       "</style>\n",
       "<table border=\"1\" class=\"dataframe\">\n",
       "  <thead>\n",
       "    <tr style=\"text-align: right;\">\n",
       "      <th></th>\n",
       "      <th>image</th>\n",
       "      <th>height</th>\n",
       "      <th>width</th>\n",
       "      <th>word2id_len</th>\n",
       "      <th>bin_len</th>\n",
       "      <th>word2id</th>\n",
       "      <th>latex_ascii</th>\n",
       "      <th>padded_seq</th>\n",
       "      <th>padded_seq_len</th>\n",
       "      <th>seq_len</th>\n",
       "    </tr>\n",
       "  </thead>\n",
       "  <tbody>\n",
       "    <tr>\n",
       "      <th>95331</th>\n",
       "      <td>6471079a440438b_basic.png</td>\n",
       "      <td>44</td>\n",
       "      <td>686</td>\n",
       "      <td>87</td>\n",
       "      <td>91</td>\n",
       "      <td>[345, 52, 324, 353, 34, 11, 19, 11, 337, 355, 323, 353, 6, 337, 7, 6, 16, 7, 355, 29, 11, 34, 52...</td>\n",
       "      <td>s V _ { D - 3 - k } ^ { ( k ) ( 0 ) } = - D V _ { D - 4 - k } ^ { ( k + 1 ) ( 0 ) } - [ c , V _ ...</td>\n",
       "      <td>[345, 52, 324, 353, 34, 11, 19, 11, 337, 355, 323, 353, 6, 337, 7, 6, 16, 7, 355, 29, 11, 34, 52...</td>\n",
       "      <td>91</td>\n",
       "      <td>88</td>\n",
       "    </tr>\n",
       "  </tbody>\n",
       "</table>\n",
       "</div>"
      ],
      "text/plain": [
       "                           image  height  width  word2id_len  bin_len  \\\n",
       "95331  6471079a440438b_basic.png      44    686           87       91   \n",
       "\n",
       "                                                                                                   word2id  \\\n",
       "95331  [345, 52, 324, 353, 34, 11, 19, 11, 337, 355, 323, 353, 6, 337, 7, 6, 16, 7, 355, 29, 11, 34, 52...   \n",
       "\n",
       "                                                                                               latex_ascii  \\\n",
       "95331  s V _ { D - 3 - k } ^ { ( k ) ( 0 ) } = - D V _ { D - 4 - k } ^ { ( k + 1 ) ( 0 ) } - [ c , V _ ...   \n",
       "\n",
       "                                                                                                padded_seq  padded_seq_len  seq_len  \n",
       "95331  [345, 52, 324, 353, 34, 11, 19, 11, 337, 355, 323, 353, 6, 337, 7, 6, 16, 7, 355, 29, 11, 34, 52...              91       88  "
      ]
     },
     "metadata": {},
     "output_type": "display_data"
    }
   ],
   "source": [
    "df_test_padded = get_padded(df_test_adjusted)\n",
    "assert sum(df_test_padded.padded_seq_len != df_test_padded.bin_len) == 0\n",
    "assert sum(df_test_padded.word2id_len != (df_test_padded.seq_len-1)) == 0"
   ]
  },
  {
   "cell_type": "code",
   "execution_count": 41,
   "metadata": {},
   "outputs": [
    {
     "name": "stdout",
     "output_type": "stream",
     "text": [
      "(4648, 12)\n"
     ]
    },
    {
     "data": {
      "text/html": [
       "<div>\n",
       "<style>\n",
       "    .dataframe thead tr:only-child th {\n",
       "        text-align: right;\n",
       "    }\n",
       "\n",
       "    .dataframe thead th {\n",
       "        text-align: left;\n",
       "    }\n",
       "\n",
       "    .dataframe tbody tr th {\n",
       "        vertical-align: top;\n",
       "    }\n",
       "</style>\n",
       "<table border=\"1\" class=\"dataframe\">\n",
       "  <thead>\n",
       "    <tr style=\"text-align: right;\">\n",
       "      <th></th>\n",
       "      <th>image</th>\n",
       "      <th>height</th>\n",
       "      <th>width</th>\n",
       "      <th>word2id_len</th>\n",
       "      <th>bin_len</th>\n",
       "      <th>word2id</th>\n",
       "      <th>latex_ascii</th>\n",
       "      <th>padded_seq</th>\n",
       "      <th>padded_seq_len</th>\n",
       "      <th>seq_len</th>\n",
       "      <th>squashed_len</th>\n",
       "      <th>squashed_seq</th>\n",
       "    </tr>\n",
       "  </thead>\n",
       "  <tbody>\n",
       "    <tr>\n",
       "      <th>95331</th>\n",
       "      <td>6471079a440438b_basic.png</td>\n",
       "      <td>44</td>\n",
       "      <td>686</td>\n",
       "      <td>87</td>\n",
       "      <td>91</td>\n",
       "      <td>[345, 52, 324, 353, 34, 11, 19, 11, 337, 355, 323, 353, 6, 337, 7, 6, 16, 7, 355, 29, 11, 34, 52...</td>\n",
       "      <td>s V _ { D - 3 - k } ^ { ( k ) ( 0 ) } = - D V _ { D - 4 - k } ^ { ( k + 1 ) ( 0 ) } - [ c , V _ ...</td>\n",
       "      <td>[345, 52, 324, 353, 34, 11, 19, 11, 337, 355, 323, 353, 6, 337, 7, 6, 16, 7, 355, 29, 11, 34, 52...</td>\n",
       "      <td>91</td>\n",
       "      <td>88</td>\n",
       "      <td>88</td>\n",
       "      <td>[345, 52, 324, 353, 34, 11, 19, 11, 337, 355, 323, 353, 6, 337, 7, 6, 16, 7, 355, 29, 11, 34, 52...</td>\n",
       "    </tr>\n",
       "  </tbody>\n",
       "</table>\n",
       "</div>"
      ],
      "text/plain": [
       "                           image  height  width  word2id_len  bin_len  \\\n",
       "95331  6471079a440438b_basic.png      44    686           87       91   \n",
       "\n",
       "                                                                                                   word2id  \\\n",
       "95331  [345, 52, 324, 353, 34, 11, 19, 11, 337, 355, 323, 353, 6, 337, 7, 6, 16, 7, 355, 29, 11, 34, 52...   \n",
       "\n",
       "                                                                                               latex_ascii  \\\n",
       "95331  s V _ { D - 3 - k } ^ { ( k ) ( 0 ) } = - D V _ { D - 4 - k } ^ { ( k + 1 ) ( 0 ) } - [ c , V _ ...   \n",
       "\n",
       "                                                                                                padded_seq  padded_seq_len  seq_len  squashed_len  \\\n",
       "95331  [345, 52, 324, 353, 34, 11, 19, 11, 337, 355, 323, 353, 6, 337, 7, 6, 16, 7, 355, 29, 11, 34, 52...              91       88            88   \n",
       "\n",
       "                                                                                              squashed_seq  \n",
       "95331  [345, 52, 324, 353, 34, 11, 19, 11, 337, 355, 323, 353, 6, 337, 7, 6, 16, 7, 355, 29, 11, 34, 52...  "
      ]
     },
     "metadata": {},
     "output_type": "display_data"
    }
   ],
   "source": [
    "df_test_squashed = get_squashed(df_test_padded)\n",
    "assert sum(df_test_squashed.seq_len < df_test_squashed.squashed_len) == 0"
   ]
  },
  {
   "cell_type": "code",
   "execution_count": 42,
   "metadata": {},
   "outputs": [
    {
     "data": {
      "text/plain": [
       "(12824,)"
      ]
     },
     "execution_count": 42,
     "metadata": {},
     "output_type": "execute_result"
    }
   ],
   "source": [
    "df_train_squashed.seq_len[df_train_padded.bin_len == 31].values.shape\n",
    "## (6144,)"
   ]
  },
  {
   "cell_type": "code",
   "execution_count": 43,
   "metadata": {
    "collapsed": true
   },
   "outputs": [],
   "source": [
    "# Since we do not have a whitespace token the squashed and sequence lengths should be the same\n",
    "# In an earlier revision of the code we had whitespace tokens - necessitating squashing which is not needed anymore\n",
    "# but the code is still there, therefore the following assert just ensures that the code is doing the right thing\n",
    "assert df_train_squashed.seq_len.equals(df_train_squashed.squashed_len)\n",
    "assert df_test_squashed.seq_len.equals(df_test_squashed.squashed_len)\n",
    "assert df_valid_squashed.seq_len.equals(df_valid_squashed.squashed_len)"
   ]
  },
  {
   "cell_type": "code",
   "execution_count": 44,
   "metadata": {
    "collapsed": true,
    "scrolled": true
   },
   "outputs": [],
   "source": [
    "def make_seq_bins(df_):\n",
    "    \"\"\"\n",
    "    Creates ndarrays of (padded) sequence bins from df_*_padded \n",
    "    and pickles them as a dictionary of ndarrays wrapped in dataframes.\n",
    "    This preprocessing is needed in order to quickly obtain an ndarray of\n",
    "    token-sequences at training time.\n",
    "    \"\"\"\n",
    "    bin_lens = df_.bin_len.unique()\n",
    "    bins = {}\n",
    "    bins_squashed = {}\n",
    "    \n",
    "    for len_ in bin_lens:\n",
    "        df_slice = df_[df_.padded_seq_len == len_]\n",
    "        bin_ = np.array(df_slice.padded_seq.values.tolist(), dtype=np.int32)\n",
    "        bin_squashed = np.array(df_slice.squashed_seq.values.tolist(), dtype=np.int32)\n",
    "        assert bin_.shape[1] == len_\n",
    "        assert bin_.shape[0] == df_slice.shape[0]\n",
    "        bins[len_] = pd.DataFrame(bin_, index=df_slice.index)\n",
    "        bins_squashed[len_] = pd.DataFrame(bin_squashed, index=df_slice.index)\n",
    "    return bins, bins_squashed"
   ]
  },
  {
   "cell_type": "code",
   "execution_count": 45,
   "metadata": {
    "collapsed": true
   },
   "outputs": [],
   "source": [
    "bins_train, bins_sq_train = make_seq_bins(df_train_squashed)\n",
    "bins_test, bins_sq_test = make_seq_bins(df_test_squashed)\n",
    "bins_valid, bins_sq_valid = make_seq_bins(df_valid_squashed)"
   ]
  },
  {
   "cell_type": "code",
   "execution_count": 46,
   "metadata": {
    "collapsed": true
   },
   "outputs": [],
   "source": [
    "def check(bins, ser):\n",
    "    ## check that the two file contents match.\n",
    "    for bin_ in bins.keys():\n",
    "        print ('checking bin %d'%(bin_,))\n",
    "        for loc_ in bins[bin_].index.values:\n",
    "            ## print ('checking bin %d and loc %d'%(bin_,loc_))\n",
    "            try:\n",
    "                bin_seq = bins[bin_].loc[loc_]\n",
    "                assert sum(bin_seq.values != ser[loc_]) == 0\n",
    "            except:\n",
    "#                 if isinstance(bin_seq, pd.DataFrame):\n",
    "#                     # loc_ is duplicated owing to rounding up of df_train\n",
    "#                     # bin_seq is a DataFrame and ser[loc_] is a slice of the Series ser\n",
    "#                     ser_items = ser[loc_] # Series\n",
    "#                     try:\n",
    "#                         assert ser_items.shape[0] == bin_seq.shape[0]\n",
    "#                         assert sum(bin_seq.iloc[0].values != ser_items.iloc[0]) == 0\n",
    "#                     except:\n",
    "#                         print('Assertion failed at bin %d and loc %d'%(bin_,loc_))\n",
    "#                         raise\n",
    "#                 else:\n",
    "                print('Assertion failed at bin %d and loc %d'%(bin_,loc_))\n",
    "                raise"
   ]
  },
  {
   "cell_type": "code",
   "execution_count": 47,
   "metadata": {
    "scrolled": true
   },
   "outputs": [
    {
     "name": "stdout",
     "output_type": "stream",
     "text": [
      "checking bin 71\n",
      "checking bin 41\n",
      "checking bin 111\n",
      "checking bin 81\n",
      "checking bin 51\n",
      "checking bin 151\n",
      "checking bin 91\n",
      "checking bin 61\n",
      "checking bin 31\n",
      "checking bin 71\n",
      "checking bin 41\n",
      "checking bin 111\n",
      "checking bin 81\n",
      "checking bin 51\n",
      "checking bin 151\n",
      "checking bin 91\n",
      "checking bin 61\n",
      "checking bin 31\n",
      "checking bin 71\n",
      "checking bin 41\n",
      "checking bin 111\n",
      "checking bin 81\n",
      "checking bin 51\n",
      "checking bin 151\n",
      "checking bin 91\n",
      "checking bin 61\n",
      "checking bin 31\n",
      "all good !\n"
     ]
    }
   ],
   "source": [
    "check(bins_test, df_test_squashed.padded_seq)\n",
    "check(bins_valid, df_valid_squashed.padded_seq)\n",
    "check(bins_train, df_train_squashed.padded_seq)\n",
    "print(\"all good !\")"
   ]
  },
  {
   "cell_type": "markdown",
   "metadata": {},
   "source": [
    "### Persist to Disk"
   ]
  },
  {
   "cell_type": "code",
   "execution_count": 48,
   "metadata": {
    "collapsed": true
   },
   "outputs": [],
   "source": [
    "if dump:\n",
    "    if not os.path.exists(raw_data_dir):\n",
    "        os.makedirs(raw_data_dir)\n",
    "    with open(os.path.join(raw_data_dir, 'batch_size.pkl'), 'wb') as f:\n",
    "      pickle.dump(HYPER_batch_size, f, pickle.HIGHEST_PROTOCOL)\n",
    "    with open(os.path.join(raw_data_dir, 'batch_size.pkl'), 'rb') as f:\n",
    "        assert pickle.load(f) == HYPER_batch_size\n",
    "        \n",
    "    df_train_squashed.to_pickle(os.path.join(raw_data_dir, 'df_train.pkl'))\n",
    "    df_test_squashed.to_pickle(os.path.join(raw_data_dir, 'df_test.pkl'))\n",
    "    df_valid_squashed.to_pickle(os.path.join(raw_data_dir, 'df_valid.pkl'))\n",
    "    \n",
    "    with open(os.path.join(raw_data_dir, 'raw_seq_train.pkl'), 'wb') as f:\n",
    "      pickle.dump(bins_train, f, pickle.HIGHEST_PROTOCOL)\n",
    "    with open(os.path.join(raw_data_dir, 'raw_seq_sq_train.pkl'), 'wb') as f:\n",
    "      pickle.dump(bins_sq_train, f, pickle.HIGHEST_PROTOCOL)\n",
    "\n",
    "    with open(os.path.join(raw_data_dir, 'raw_seq_test.pkl'), 'wb') as f:\n",
    "      pickle.dump(bins_test, f, pickle.HIGHEST_PROTOCOL)\n",
    "    with open(os.path.join(raw_data_dir, 'raw_seq_sq_test.pkl'), 'wb') as f:\n",
    "      pickle.dump(bins_sq_test, f, pickle.HIGHEST_PROTOCOL)\n",
    "\n",
    "    with open(os.path.join(raw_data_dir, 'raw_seq_valid.pkl'), 'wb') as f:\n",
    "      pickle.dump(bins_valid, f, pickle.HIGHEST_PROTOCOL)\n",
    "    with open(os.path.join(raw_data_dir, 'raw_seq_sq_valid.pkl'), 'wb') as f:\n",
    "      pickle.dump(bins_sq_valid, f, pickle.HIGHEST_PROTOCOL)\n",
    "    \n",
    "    data_props = {}\n",
    "    dict_vocab = pd.read_pickle(os.path.join(data_dir, 'step2', 'dict_vocab.pkl'))\n",
    "    word2id = dict_vocab['id']\n",
    "    id2word = pd.read_pickle(os.path.join(data_dir, 'step2', 'dict_id2word.pkl'))\n",
    "    data_props['id2word'] = id2word\n",
    "    data_props['word2id'] = word2id\n",
    "    data_props['K'] = max(id2word.keys()) + 1\n",
    "    data_props['SpaceTokenID'] = word2id[' '] if ' ' in word2id else None\n",
    "    data_props['NullTokenID'] = word2id[r'\\eos']\n",
    "    data_props['StartTokenID'] = word2id[r'\\bos']\n",
    "    data_props['MaxSeqLen'] = df_train_squashed.padded_seq_len.max()\n",
    "    padded_image_dim = pd.read_pickle(os.path.join(data_dir, 'step3', 'padded_image_dim.pkl'))\n",
    "    data_props['padded_image_dim'] = {'height': padded_image_dim['height'], 'width':padded_image_dim['width']}\n",
    "    with open(os.path.join(raw_data_dir, 'data_props.pkl'), 'wb') as f:\n",
    "        pickle.dump(data_props, f, pickle.HIGHEST_PROTOCOL)"
   ]
  },
  {
   "cell_type": "markdown",
   "metadata": {},
   "source": [
    "# END"
   ]
  }
 ],
 "metadata": {
  "anaconda-cloud": {},
  "colab": {
   "default_view": {},
   "name": "1_notmnist.ipynb",
   "provenance": [],
   "version": "0.3.2",
   "views": {}
  },
  "kernelspec": {
   "display_name": "Python 2",
   "language": "python",
   "name": "python2"
  },
  "language_info": {
   "codemirror_mode": {
    "name": "ipython",
    "version": 2
   },
   "file_extension": ".py",
   "mimetype": "text/x-python",
   "name": "python",
   "nbconvert_exporter": "python",
   "pygments_lexer": "ipython2",
   "version": "2.7.14"
  }
 },
 "nbformat": 4,
 "nbformat_minor": 2
}
