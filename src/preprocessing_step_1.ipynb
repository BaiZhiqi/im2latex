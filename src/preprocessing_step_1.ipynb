{
 "cells": [
  {
   "cell_type": "code",
   "execution_count": 1,
   "metadata": {
    "collapsed": true
   },
   "outputs": [],
   "source": [
    "import pandas as pd\n",
    "import os"
   ]
  },
  {
   "cell_type": "code",
   "execution_count": 2,
   "metadata": {
    "collapsed": true
   },
   "outputs": [],
   "source": [
    "pd.options.display.max_rows = 600\n",
    "pd.options.display.max_columns = 20\n",
    "pd.options.display.max_colwidth = 1000\n",
    "pd.options.display.width = 160"
   ]
  },
  {
   "cell_type": "code",
   "execution_count": 3,
   "metadata": {
    "collapsed": true
   },
   "outputs": [],
   "source": [
    "input_dir = '../data/dataset_tmp/step0'\n",
    "formula_file = os.path.join(input_dir, 'formulas.norm.filtered.txt')\n",
    "output_dir = '../data/dataset_tmp/step1'\n",
    "dump = True"
   ]
  },
  {
   "cell_type": "markdown",
   "metadata": {},
   "source": [
    "### Perform Manual Steps\n",
    "\n",
    "#### Download Github repos\n",
    "Download contents of [untrix/im2latex](https://github.com/untrix/im2latex) to ~/im2latex and [untrix/im2latex-dataset](https://github.com/untrix/im2latex-dataset) to ~/im2latex-dataset.\n",
    "\n",
    "#### Render LaTeX Formula Images\n",
    "\n",
    "> `DATA_DIR=~/im2latex/data/dataset_tmp`  \n",
    "> `mkdir $DATA_DIR/formula_images`  \n",
    "\n",
    "We will use the script formula2image.py from [untrix/im2latex-dataset](https://github.com/untrix/im2latex-dataset) for details for rendering the formulas into images.\n",
    "\n",
    "> Download and copy textogif to the formula_images directory you just created above. Then run the script.  \n",
    "> `cd $DATA_DIR`  \n",
    "> `python ~/im2latex-dataset/src/formula2image.py step0/formulas.norm.filtered.txt formula_images/`\n",
    "\n",
    "#### Eliminate Formulas that Didn't Render of are Duplicates\n",
    "Some formulas didn't render, therefore we need to remove those.\n",
    "> `cd $DATA_DIR`  \n",
    "> `python ~/im2latex-dataset/src/formula_list.py step0/formulas.norm.filtered.txt formula_images/ -o step1 `"
   ]
  },
  {
   "cell_type": "code",
   "execution_count": null,
   "metadata": {
    "collapsed": true
   },
   "outputs": [],
   "source": []
  }
 ],
 "metadata": {
  "kernelspec": {
   "display_name": "Python 2",
   "language": "python",
   "name": "python2"
  },
  "language_info": {
   "codemirror_mode": {
    "name": "ipython",
    "version": 2
   },
   "file_extension": ".py",
   "mimetype": "text/x-python",
   "name": "python",
   "nbconvert_exporter": "python",
   "pygments_lexer": "ipython2",
   "version": "2.7.14"
  }
 },
 "nbformat": 4,
 "nbformat_minor": 2
}
