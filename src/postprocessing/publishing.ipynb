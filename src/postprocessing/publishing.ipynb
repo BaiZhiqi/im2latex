{
 "cells": [
  {
   "cell_type": "markdown",
   "metadata": {},
   "source": [
    "#### This notebook is used for extracting and formatting data for publishing."
   ]
  },
  {
   "cell_type": "markdown",
   "metadata": {
    "collapsed": true
   },
   "source": [
    "### View and save the unmatched images"
   ]
  },
  {
   "cell_type": "code",
   "execution_count": 1,
   "metadata": {},
   "outputs": [
    {
     "ename": "NameError",
     "evalue": "name 'os' is not defined",
     "output_type": "error",
     "traceback": [
      "\u001b[0;31m\u001b[0m",
      "\u001b[0;31mNameError\u001b[0mTraceback (most recent call last)",
      "\u001b[0;32m<ipython-input-1-0b96aebfe41d>\u001b[0m in \u001b[0;36m<module>\u001b[0;34m()\u001b[0m\n\u001b[0;32m----> 1\u001b[0;31m \u001b[0;32mwith\u001b[0m \u001b[0mopen\u001b[0m\u001b[0;34m(\u001b[0m\u001b[0mos\u001b[0m\u001b[0;34m.\u001b[0m\u001b[0mpath\u001b[0m\u001b[0;34m.\u001b[0m\u001b[0mjoin\u001b[0m\u001b[0;34m(\u001b[0m\u001b[0mrendered_dir\u001b[0m\u001b[0;34m,\u001b[0m \u001b[0;34m'unmatched_filenames.txt'\u001b[0m\u001b[0;34m)\u001b[0m\u001b[0;34m,\u001b[0m \u001b[0;34m'r'\u001b[0m\u001b[0;34m)\u001b[0m \u001b[0;32mas\u001b[0m \u001b[0mf\u001b[0m\u001b[0;34m:\u001b[0m\u001b[0;34m\u001b[0m\u001b[0m\n\u001b[0m\u001b[1;32m      2\u001b[0m     \u001b[0mfiles\u001b[0m \u001b[0;34m=\u001b[0m \u001b[0;34m[\u001b[0m\u001b[0;34m]\u001b[0m\u001b[0;34m\u001b[0m\u001b[0m\n\u001b[1;32m      3\u001b[0m     \u001b[0;32mfor\u001b[0m \u001b[0mfname\u001b[0m \u001b[0;32min\u001b[0m \u001b[0mf\u001b[0m\u001b[0;34m:\u001b[0m\u001b[0;34m\u001b[0m\u001b[0m\n\u001b[1;32m      4\u001b[0m         \u001b[0mfiles\u001b[0m\u001b[0;34m.\u001b[0m\u001b[0mappend\u001b[0m\u001b[0;34m(\u001b[0m\u001b[0mos\u001b[0m\u001b[0;34m.\u001b[0m\u001b[0mpath\u001b[0m\u001b[0;34m.\u001b[0m\u001b[0mbasename\u001b[0m\u001b[0;34m(\u001b[0m\u001b[0mfname\u001b[0m\u001b[0;34m.\u001b[0m\u001b[0mstrip\u001b[0m\u001b[0;34m(\u001b[0m\u001b[0;34m)\u001b[0m\u001b[0;34m)\u001b[0m\u001b[0;34m)\u001b[0m\u001b[0;34m\u001b[0m\u001b[0m\n\u001b[1;32m      5\u001b[0m \u001b[0;34m\u001b[0m\u001b[0m\n",
      "\u001b[0;31mNameError\u001b[0m: name 'os' is not defined"
     ]
    }
   ],
   "source": [
    "with open(os.path.join(rendered_dir, 'unmatched_filenames.txt'), 'r') as f:\n",
    "    files = []\n",
    "    for fname in f:\n",
    "        files.append(os.path.basename(fname.strip()))\n",
    "    \n",
    "df_bad = df.loc[files]\n",
    "targets=[]; preds=[]; index=[]\n",
    "for row in df_bad[['target_seq', 'pred_seq']].sample(55).itertuples(index=True):\n",
    "    index.append(row[0])\n",
    "    targets.append('$%s$'%row[1])\n",
    "    preds.append('$%s$'%row[2])\n",
    "df_ = pd.DataFrame(data={'gold': targets, 'pred': preds})\n",
    "df_"
   ]
  },
  {
   "cell_type": "markdown",
   "metadata": {},
   "source": [
    "### In favor of compatibility with publishing tools, remove entries that are not rendered by MathJax \n",
    "Though they rendered fine with render_latex.py above, MathJax has difficulty rendering them. Therefore we will remove them for visualization purposes just in case it causes a problem with publishing tools downstream."
   ]
  },
  {
   "cell_type": "code",
   "execution_count": 2,
   "metadata": {},
   "outputs": [
    {
     "ename": "NameError",
     "evalue": "name 'df_' is not defined",
     "output_type": "error",
     "traceback": [
      "\u001b[0;31m\u001b[0m",
      "\u001b[0;31mNameError\u001b[0mTraceback (most recent call last)",
      "\u001b[0;32m<ipython-input-2-e9c5800d234e>\u001b[0m in \u001b[0;36m<module>\u001b[0;34m()\u001b[0m\n\u001b[0;32m----> 1\u001b[0;31m \u001b[0mdf_2_\u001b[0m \u001b[0;34m=\u001b[0m \u001b[0mdf_\u001b[0m\u001b[0;34m.\u001b[0m\u001b[0mdrop\u001b[0m\u001b[0;34m(\u001b[0m\u001b[0;34m[\u001b[0m\u001b[0;36m51\u001b[0m\u001b[0;34m,\u001b[0m \u001b[0;36m41\u001b[0m\u001b[0;34m,\u001b[0m \u001b[0;36m18\u001b[0m\u001b[0;34m,\u001b[0m \u001b[0;36m21\u001b[0m\u001b[0;34m,\u001b[0m \u001b[0;36m35\u001b[0m\u001b[0;34m,\u001b[0m \u001b[0;36m38\u001b[0m\u001b[0;34m,\u001b[0m \u001b[0;36m26\u001b[0m\u001b[0;34m]\u001b[0m\u001b[0;34m)\u001b[0m\u001b[0;34m.\u001b[0m\u001b[0mreindex\u001b[0m\u001b[0;34m(\u001b[0m\u001b[0;34m)\u001b[0m\u001b[0;34m[\u001b[0m\u001b[0;34m:\u001b[0m\u001b[0;36m50\u001b[0m\u001b[0;34m]\u001b[0m\u001b[0;34m\u001b[0m\u001b[0m\n\u001b[0m",
      "\u001b[0;31mNameError\u001b[0m: name 'df_' is not defined"
     ]
    }
   ],
   "source": [
    "df_2_ = df_.drop([51, 41, 18, 21, 35, 38, 26]).reindex()[:50]"
   ]
  },
  {
   "cell_type": "code",
   "execution_count": null,
   "metadata": {
    "collapsed": true
   },
   "outputs": [],
   "source": [
    "pd.options.display.latex.repr = True\n",
    "with open('/tmp/df_2_frag.tex', 'w') as f:\n",
    "    f.write(df_2_.to_latex(escape=False))"
   ]
  },
  {
   "cell_type": "markdown",
   "metadata": {},
   "source": [
    "# End"
   ]
  },
  {
   "cell_type": "code",
   "execution_count": null,
   "metadata": {
    "collapsed": true
   },
   "outputs": [],
   "source": [
    "num2display = 10\n",
    "# with open(os.path.join(rendered_dir, 'unmatched_filenames.txt'), 'r') as f:\n",
    "#     files = np.random.choice(f.readlines(), num2display)\n",
    "#     for fname in files:\n",
    "#         fname = os.path.basename(fname.strip())\n",
    "#         display(df.loc[fname][['target_seq', 'pred_seq']])\n",
    "#         gold = ipImage(filename=os.path.join(rendered_dir, 'images_gold', fname), unconfined=True)\n",
    "#         pred = ipImage(filename=os.path.join(rendered_dir, 'images_pred', fname), unconfined=True)\n",
    "#         display(gold)\n",
    "#         display(pred)\n",
    "gold = []; pred = [];\n",
    "gold_images = []; pred_images = []\n",
    "with open(os.path.join(rendered_dir, 'unmatched_filenames.txt'), 'r') as f:\n",
    "    files = np.random.choice(f.readlines(), num2display)\n",
    "    for fname in files:\n",
    "        fname = os.path.basename(fname.strip())\n",
    "        if not os.path.exists(os.path.join(rendered_dir, 'images_pred', fname)):\n",
    "            continue\n",
    "        gold_images.append(ipImage(filename=os.path.join(rendered_dir, 'images_gold', fname), format='png', unconfined=True))\n",
    "        gold.append('<img src=\".%s\"/>' % os.path.join(rendered_dir, 'images_gold', fname))\n",
    "        pred_images.append(ipImage(filename=os.path.join(rendered_dir, 'images_pred', fname), format='png', unconfined=True))\n",
    "        pred.append('<img src=\".%s\"/>' % os.path.join(rendered_dir, 'images_pred', fname))\n",
    "df_= pd.DataFrame({'gold': gold, 'pred': pred})\n",
    "HTML((df_).to_html(escape=False))"
   ]
  },
  {
   "cell_type": "code",
   "execution_count": null,
   "metadata": {
    "collapsed": true
   },
   "outputs": [],
   "source": [
    "def loadImage(path, mode=\"RGB\"):\n",
    "    img = Image.open(path)\n",
    "    img = img.convert(mode)\n",
    "    return np.asarray(img)\n",
    "\n",
    "def plotImage(path, axes):\n",
    "    image_data = loadImage(path)\n",
    "#     title = os.path.splitext(os.path.basename(path))[0] + ' %s'%(image_data.shape,)\n",
    "#     axes.set_title( title )\n",
    "    axes.set_xlim(0,1000)\n",
    "    axes.imshow(image_data, aspect='equal', extent=None, resample=False, interpolation='bilinear')\n",
    "    return\n",
    "\n",
    "def plotImages(image_paths, dpi=None):\n",
    "    \"\"\" image_details should be an array of image path and width - [[path, image_data, image_data.shape], ...] \"\"\"\n",
    "    ## Display image data loaded as a numpy array\n",
    "    try:\n",
    "        plt.close(fig)\n",
    "    except:\n",
    "        pass\n",
    "    orig_dpi = plt.rcParams['figure.dpi']\n",
    "\n",
    "    for path in (image_paths):\n",
    "        gold = os.path.join(rendered_dir, 'images_gold', path)\n",
    "        pred = os.path.join(rendered_dir, 'images_pred', path)\n",
    "        image_data.append(plotImage(gold, grid[i]))\n",
    "        i+=1\n",
    "        image_data.append(plotImage(pred, grid[i]))\n",
    "        i+=1\n",
    "        \n",
    "    with mpl.rc_context(rc={'figure.dpi': dpi or orig_dpi}):\n",
    "        fig = plt.figure(figsize=(20.,2.*len(image_paths)))\n",
    "        grid = ImageGrid(fig, 111, nrows_ncols=(len(image_paths),2), axes_pad=(0.1, 0.5), label_mode=\"L\")\n",
    "        i = 0\n",
    "        for path in (image_paths):\n",
    "            gold = os.path.join(rendered_dir, 'images_gold', path)\n",
    "            pred = os.path.join(rendered_dir, 'images_pred', path)\n",
    "            plotImage(gold, grid[i])\n",
    "            i+=1\n",
    "            plotImage(pred, grid[i])\n",
    "            i+=1\n",
    "    return # image_data\n",
    "\n",
    "num2display = 5\n",
    "with open(os.path.join(rendered_dir, 'unmatched_filenames.txt'), 'r') as f:\n",
    "    files = [os.path.basename(fname.strip()) for fname in np.random.choice(f.readlines(), num2display)]\n",
    "fnames=[]\n",
    "plotImages(files)\n",
    "\n",
    "# fig, axes = plt.subplots(nrows=num2display, ncols=2, sharex=True, sharey=True, squeeze=True)\n",
    "# for i, fname in enumerate(files):\n",
    "#     fname = os.path.basename(fname.strip())\n",
    "#     im_gold = loadImage(os.path.join(rendered_dir, 'images_gold', fname))\n",
    "#     im_pred = loadImage(os.path.join(rendered_dir, 'images_pred', fname))\n",
    "#     axes[i][0].imshow(im_gold, aspect='equal', extent=None, resample=False, interpolation='bilinear', cmap='gray')\n",
    "#     axes[i][1].imshow(im_pred, aspect='equal', extent=None, resample=False, interpolation='bilinear', cmap='gray')"
   ]
  },
  {
   "cell_type": "code",
   "execution_count": null,
   "metadata": {
    "collapsed": true
   },
   "outputs": [],
   "source": [
    "# for fname in files:\n",
    "#     print os.path.join(rendered_dir,'images_gold', os.path.basename(fname.strip()))\n",
    "#     print os.path.join(rendered_dir,'images_pred', os.path.basename(fname.strip()))"
   ]
  },
  {
   "cell_type": "code",
   "execution_count": null,
   "metadata": {
    "collapsed": true
   },
   "outputs": [],
   "source": []
  }
 ],
 "metadata": {
  "kernelspec": {
   "display_name": "Python 2",
   "language": "python",
   "name": "python2"
  },
  "language_info": {
   "codemirror_mode": {
    "name": "ipython",
    "version": 2
   },
   "file_extension": ".py",
   "mimetype": "text/x-python",
   "name": "python",
   "nbconvert_exporter": "python",
   "pygments_lexer": "ipython2",
   "version": "2.7.14"
  }
 },
 "nbformat": 4,
 "nbformat_minor": 2
}
