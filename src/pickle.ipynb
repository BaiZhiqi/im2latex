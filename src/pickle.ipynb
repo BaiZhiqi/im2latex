{
 "cells": [
  {
   "cell_type": "markdown",
   "metadata": {},
   "source": [
    "# im2latex(S): Data Curation\n",
    "\n",
    "&copy; Copyright 2017 Sumeet S Singh\n",
    "\n",
    "    This file is part of im2latex solution by Sumeet S Singh.\n",
    "\n",
    "    This program is free software: you can redistribute it and/or modify\n",
    "    it under the terms of the Affero GNU General Public License as published by\n",
    "    the Free Software Foundation, either version 3 of the License, or\n",
    "    (at your option) any later version.\n",
    "\n",
    "    This program is distributed in the hope that it will be useful,\n",
    "    but WITHOUT ANY WARRANTY; without even the implied warranty of\n",
    "    MERCHANTABILITY or FITNESS FOR A PARTICULAR PURPOSE.  See the\n",
    "    Affero GNU General Public License for more details.\n",
    "\n",
    "    You should have received a copy of the Affero GNU General Public License\n",
    "    along with this program.  If not, see <http://www.gnu.org/licenses/>."
   ]
  },
  {
   "cell_type": "markdown",
   "metadata": {},
   "source": [
    "# What This Program Does\n",
    "This notebook curates the [im2latex-100k dataset from Harvard NLP](https://zenodo.org/record/56198#.WT4fsxMrJE4) from a [Harvard NLP project](http://lstm.seas.harvard.edu/latex/) generated using [their code]( https://github.com/Miffyli/im2latex-dataset).\n",
    "\n",
    "* This notebook loads the data set which are png files generated using [textogif](https://www.fourmilab.ch/webtools/textogif/textogif.html) (via the abovementioned sourcecode)\n",
    "* Checks and visualizes the data\n",
    "* Curates the data - whitening etc.\n",
    "* Converts it to numpy arrays and finally stores it as pickle files."
   ]
  },
  {
   "cell_type": "code",
   "execution_count": 1,
   "metadata": {
    "cellView": "both",
    "colab": {
     "autoexec": {
      "startup": false,
      "wait_interval": 0
     }
    },
    "colab_type": "code",
    "collapsed": true,
    "id": "apJbCsBHl-2A"
   },
   "outputs": [],
   "source": [
    "from __future__ import print_function\n",
    "import os\n",
    "import numpy as np\n",
    "from IPython.display import display, Image as ipImage\n",
    "import PIL\n",
    "from PIL import Image\n",
    "from scipy import ndimage\n",
    "from sklearn.linear_model import LogisticRegression\n",
    "from six.moves.urllib.request import urlretrieve\n",
    "from six.moves import cPickle as pickle\n",
    "from mpl_toolkits.axes_grid1 import ImageGrid\n",
    "import pandas as pd\n",
    "import matplotlib.pyplot as plt\n",
    "\n",
    "# Config the matplotlib backend as plotting inline in IPython\n",
    "%matplotlib inline"
   ]
  },
  {
   "cell_type": "code",
   "execution_count": 2,
   "metadata": {
    "collapsed": true
   },
   "outputs": [],
   "source": [
    "data_folder = '../data/generated2'\n",
    "image_folder = os.path.join(data_folder,'formula_images')"
   ]
  },
  {
   "cell_type": "code",
   "execution_count": 3,
   "metadata": {},
   "outputs": [
    {
     "data": {
      "text/html": [
       "<div>\n",
       "<style>\n",
       "    .dataframe thead tr:only-child th {\n",
       "        text-align: right;\n",
       "    }\n",
       "\n",
       "    .dataframe thead th {\n",
       "        text-align: left;\n",
       "    }\n",
       "\n",
       "    .dataframe tbody tr th {\n",
       "        vertical-align: top;\n",
       "    }\n",
       "</style>\n",
       "<table border=\"1\" class=\"dataframe\">\n",
       "  <thead>\n",
       "    <tr style=\"text-align: right;\">\n",
       "      <th></th>\n",
       "      <th>image</th>\n",
       "      <th>formula_name</th>\n",
       "      <th>latex</th>\n",
       "      <th>formula_len</th>\n",
       "      <th>height</th>\n",
       "      <th>width</th>\n",
       "    </tr>\n",
       "  </thead>\n",
       "  <tbody>\n",
       "    <tr>\n",
       "      <th>0</th>\n",
       "      <td>450f7c1496143fd_basic.png</td>\n",
       "      <td>450f7c1496143fd_basic</td>\n",
       "      <td>\\int_{-\\epsilon}^\\infty dl\\: {\\rm e}^{-l\\zeta}...</td>\n",
       "      <td>178</td>\n",
       "      <td>78</td>\n",
       "      <td>738</td>\n",
       "    </tr>\n",
       "    <tr>\n",
       "      <th>1</th>\n",
       "      <td>868d5037af9e4b4_basic.png</td>\n",
       "      <td>868d5037af9e4b4_basic</td>\n",
       "      <td>ds^{2} = (1 - {qcos\\theta\\over r})^{2\\over 1 +...</td>\n",
       "      <td>199</td>\n",
       "      <td>94</td>\n",
       "      <td>962</td>\n",
       "    </tr>\n",
       "    <tr>\n",
       "      <th>2</th>\n",
       "      <td>af0b6c3ee18804a_basic.png</td>\n",
       "      <td>af0b6c3ee18804a_basic</td>\n",
       "      <td>\\widetilde\\gamma_{\\rm hopf}\\simeq\\sum_{n&gt;0}\\wi...</td>\n",
       "      <td>89</td>\n",
       "      <td>87</td>\n",
       "      <td>291</td>\n",
       "    </tr>\n",
       "    <tr>\n",
       "      <th>3</th>\n",
       "      <td>dda45eca6d32fa3_basic.png</td>\n",
       "      <td>dda45eca6d32fa3_basic</td>\n",
       "      <td>({\\cal L}_a g)_{ij} = 0, \\ \\ \\ \\ ({\\cal L}_a H...</td>\n",
       "      <td>59</td>\n",
       "      <td>35</td>\n",
       "      <td>405</td>\n",
       "    </tr>\n",
       "    <tr>\n",
       "      <th>4</th>\n",
       "      <td>67eb249ed1c20d2_basic.png</td>\n",
       "      <td>67eb249ed1c20d2_basic</td>\n",
       "      <td>S_{stat} = 2\\pi \\sqrt{N_5^{(1)} N_5^{(2)} N_5^...</td>\n",
       "      <td>100</td>\n",
       "      <td>60</td>\n",
       "      <td>521</td>\n",
       "    </tr>\n",
       "  </tbody>\n",
       "</table>\n",
       "</div>"
      ],
      "text/plain": [
       "                       image           formula_name  \\\n",
       "0  450f7c1496143fd_basic.png  450f7c1496143fd_basic   \n",
       "1  868d5037af9e4b4_basic.png  868d5037af9e4b4_basic   \n",
       "2  af0b6c3ee18804a_basic.png  af0b6c3ee18804a_basic   \n",
       "3  dda45eca6d32fa3_basic.png  dda45eca6d32fa3_basic   \n",
       "4  67eb249ed1c20d2_basic.png  67eb249ed1c20d2_basic   \n",
       "\n",
       "                                               latex  formula_len  height  \\\n",
       "0  \\int_{-\\epsilon}^\\infty dl\\: {\\rm e}^{-l\\zeta}...          178      78   \n",
       "1  ds^{2} = (1 - {qcos\\theta\\over r})^{2\\over 1 +...          199      94   \n",
       "2  \\widetilde\\gamma_{\\rm hopf}\\simeq\\sum_{n>0}\\wi...           89      87   \n",
       "3  ({\\cal L}_a g)_{ij} = 0, \\ \\ \\ \\ ({\\cal L}_a H...           59      35   \n",
       "4  S_{stat} = 2\\pi \\sqrt{N_5^{(1)} N_5^{(2)} N_5^...          100      60   \n",
       "\n",
       "   width  \n",
       "0    738  \n",
       "1    962  \n",
       "2    291  \n",
       "3    405  \n",
       "4    521  "
      ]
     },
     "execution_count": 3,
     "metadata": {},
     "output_type": "execute_result"
    }
   ],
   "source": [
    "def loadImageList(filepath):\n",
    "    df=pd.read_table(filepath, header=None, \n",
    "                     names=['id', 'name', 'type'], \n",
    "                     delim_whitespace=True, \n",
    "                     usecols=('id','name'), \n",
    "                     dtype={'id':int, 'name':str, 'type':str})\n",
    "    return df\n",
    "\n",
    "def getImageDetails(data_dir):\n",
    "    try:\n",
    "        image_details = pd.read_csv(os.path.join(data_dir,'image_details.csv'),\n",
    "                                   index_col=0)\n",
    "        return image_details\n",
    "    except:\n",
    "        pass\n",
    "    widths=[]\n",
    "    heights=[]\n",
    "    filenames=[]\n",
    "    imageList = loadImageList(os.path.join(data_dir,'im2latex.lst'))\n",
    "    for i in range(imageList.shape[0]):\n",
    "        try:\n",
    "            image_name = imageList.iloc[i,1] + '.png'\n",
    "            im = Image.open(os.path.join(image_folder,image_name))\n",
    "            widths.append(im.size[0])\n",
    "            heights.append(im.size[1])\n",
    "            filenames.append(image_name)\n",
    "        except Exception as e:\n",
    "            #print(e)\n",
    "            pass\n",
    "    print(len(widths), len(filenames), len(heights))\n",
    "    dff = pd.DataFrame({'filename':filenames, 'width':widths, 'height':heights})\n",
    "    dff.to_csv(os.path.join(data_dir,'image_details.csv'))\n",
    "    return dff\n",
    "\n",
    "\n",
    "def getDatasetDetails(data_dir):\n",
    "    try:\n",
    "        image_details = pd.read_pickle(os.path.join(data_dir,'image_details.pkl'))\n",
    "        return image_details\n",
    "    except:\n",
    "        pass\n",
    "    widths=[]\n",
    "    heights=[]\n",
    "    formula_lens=[]\n",
    "    datasetDF = pd.read_pickle(os.path.join(data_dir,'im2latex_map.pkl'))\n",
    "    for _, row in datasetDF.iterrows():\n",
    "        image_name = row.image\n",
    "        im = Image.open(os.path.join(image_folder,image_name))\n",
    "        widths.append(im.size[0])\n",
    "        heights.append(im.size[1])\n",
    "        formula_lens.append(len(row.latex))\n",
    "    print(len(widths), len(heights))\n",
    "    datasetDF = datasetDF.assign(width=widths, height=heights, formula_len=formula_lens)\n",
    "    datasetDF.to_pickle(os.path.join(data_dir,'image_details.pkl'))\n",
    "    return datasetDF\n",
    "\n",
    "dff_all = getDatasetDetails(data_folder)\n",
    "dff_all.head()"
   ]
  },
  {
   "cell_type": "markdown",
   "metadata": {
    "colab_type": "text",
    "id": "4riXK3IoHgx6"
   },
   "source": [
    "---\n",
    "View The Images\n",
    "---------\n",
    "\n",
    "Let's take a peek at some of the see what it looks like.\n",
    "\n",
    "---"
   ]
  },
  {
   "cell_type": "markdown",
   "metadata": {},
   "source": [
    "### PNG Format Channels\n",
    "The PNG files in our data have a varying number of channels (4 and 1). Here's a table from [Wikipedia](https://en.wikipedia.org/wiki/Portable_Network_Graphics) explaining the channels.\n",
    "\n",
    "<table class=\"wikitable floatright\">\n",
    "<caption>PNG color options<sup id=\"cite_ref-15\" class=\"reference\"><a href=\"#cite_note-15\">[15]</a></sup></caption>\n",
    "<tbody><tr>\n",
    "<th colspan=\"7\">Bits per pixel</th>\n",
    "</tr>\n",
    "<tr>\n",
    "<th rowspan=\"2\">Color option</th>\n",
    "<th rowspan=\"2\">Channels</th>\n",
    "<th colspan=\"5\">Bits per channel</th>\n",
    "</tr>\n",
    "<tr>\n",
    "<th>1</th>\n",
    "<th>2</th>\n",
    "<th>4</th>\n",
    "<th>8</th>\n",
    "<th>16</th>\n",
    "</tr>\n",
    "<tr>\n",
    "<th>Indexed</th>\n",
    "<th>1</th>\n",
    "<td style=\"background:#9F9;vertical-align:middle;text-align:center;\" class=\"table-yes\">1</td>\n",
    "<td style=\"background:#9F9;vertical-align:middle;text-align:center;\" class=\"table-yes\">2</td>\n",
    "<td style=\"background:#9F9;vertical-align:middle;text-align:center;\" class=\"table-yes\">4</td>\n",
    "<td style=\"background:#9F9;vertical-align:middle;text-align:center;\" class=\"table-yes\">8</td>\n",
    "<td style=\"background:#F99;vertical-align:middle;text-align:center;\" class=\"table-no\"></td>\n",
    "</tr>\n",
    "<tr>\n",
    "<th>Grayscale</th>\n",
    "<th>1</th>\n",
    "<td style=\"background:#9F9;vertical-align:middle;text-align:center;\" class=\"table-yes\">1</td>\n",
    "<td style=\"background:#9F9;vertical-align:middle;text-align:center;\" class=\"table-yes\">2</td>\n",
    "<td style=\"background:#9F9;vertical-align:middle;text-align:center;\" class=\"table-yes\">4</td>\n",
    "<td style=\"background:#9F9;vertical-align:middle;text-align:center;\" class=\"table-yes\">8</td>\n",
    "<td style=\"background:#9F9;vertical-align:middle;text-align:center;\" class=\"table-yes\">16</td>\n",
    "</tr>\n",
    "<tr>\n",
    "<th>Grayscale and alpha</th>\n",
    "<th>2</th>\n",
    "<td style=\"background:#F99;vertical-align:middle;text-align:center;\" class=\"table-no\"></td>\n",
    "<td style=\"background:#F99;vertical-align:middle;text-align:center;\" class=\"table-no\"></td>\n",
    "<td style=\"background:#F99;vertical-align:middle;text-align:center;\" class=\"table-no\"></td>\n",
    "<td style=\"background:#9F9;vertical-align:middle;text-align:center;\" class=\"table-yes\">16</td>\n",
    "<td style=\"background:#9F9;vertical-align:middle;text-align:center;\" class=\"table-yes\">32</td>\n",
    "</tr>\n",
    "<tr>\n",
    "<th>Truecolor</th>\n",
    "<th>3</th>\n",
    "<td style=\"background:#F99;vertical-align:middle;text-align:center;\" class=\"table-no\"></td>\n",
    "<td style=\"background:#F99;vertical-align:middle;text-align:center;\" class=\"table-no\"></td>\n",
    "<td style=\"background:#F99;vertical-align:middle;text-align:center;\" class=\"table-no\"></td>\n",
    "<td style=\"background:#9F9;vertical-align:middle;text-align:center;\" class=\"table-yes\">24</td>\n",
    "<td style=\"background:#9F9;vertical-align:middle;text-align:center;\" class=\"table-yes\">48</td>\n",
    "</tr>\n",
    "<tr>\n",
    "<th>Truecolor and alpha</th>\n",
    "<th>4</th>\n",
    "<td style=\"background:#F99;vertical-align:middle;text-align:center;\" class=\"table-no\"></td>\n",
    "<td style=\"background:#F99;vertical-align:middle;text-align:center;\" class=\"table-no\"></td>\n",
    "<td style=\"background:#F99;vertical-align:middle;text-align:center;\" class=\"table-no\"></td>\n",
    "<td style=\"background:#9F9;vertical-align:middle;text-align:center;\" class=\"table-yes\">32</td>\n",
    "<td style=\"background:#9F9;vertical-align:middle;text-align:center;\" class=\"table-yes\">64</td>\n",
    "</tr>\n",
    "</tbody></table>\n",
    "\n",
    "We'll load files using the flatten=True flag so that the RGB channels get flattened into a single grayscale value."
   ]
  },
  {
   "cell_type": "code",
   "execution_count": null,
   "metadata": {
    "collapsed": true
   },
   "outputs": [],
   "source": [
    "def displayRandImage(root):\n",
    "    path = os.path.join(root, np.random.choice(filter(lambda f: f.endswith('.png'),os.listdir(root))));\n",
    "    image_data = ndimage.imread(path)\n",
    "    print(path, ' ', image_data.shape)\n",
    "    display(ipImage(filename=path, format='png', unconfined=True))\n",
    "    return [path, image_data, image_data.shape]\n"
   ]
  },
  {
   "cell_type": "code",
   "execution_count": null,
   "metadata": {
    "collapsed": true
   },
   "outputs": [],
   "source": [
    "\n",
    "image_details = [displayRandImage(image_folder) for _ in range(10)]"
   ]
  },
  {
   "cell_type": "code",
   "execution_count": null,
   "metadata": {
    "collapsed": true
   },
   "outputs": [],
   "source": [
    "# Histogram the image values\n",
    "vals = np.array([])\n",
    "for i in range(len(image_details)):\n",
    "    vals = np.append(vals, image_details[i][1].flatten())\n",
    "\n",
    "\n",
    "pd.DataFrame(vals).plot.hist()"
   ]
  },
  {
   "cell_type": "markdown",
   "metadata": {},
   "source": [
    "---\n",
    "## View Data after Loading into NDArray\n",
    "---"
   ]
  },
  {
   "cell_type": "code",
   "execution_count": null,
   "metadata": {
    "collapsed": true
   },
   "outputs": [],
   "source": [
    "def loadImage(path, mode=\"L\"):\n",
    "    # Flatten=True collapses the RGB channels into a single grayscale\n",
    "    #return ndimage.imread(path, flatten=True)\n",
    "    return ndimage.imread(path, mode=mode)\n",
    "\n",
    "def plotImage(path, axes):\n",
    "    image_data = loadImage(path)\n",
    "    title = os.path.splitext(os.path.basename(path))[0] + ' %s'%(image_data.shape,)\n",
    "    axes.set_title( title )\n",
    "    axes.set_xlim(-10,1500)\n",
    "    axes.imshow(image_data, cmap=\"gray\")\n",
    "    return [path, image_data, image_data.shape]\n",
    "\n",
    "\"\"\" image_details should be an array of image path and width - [(path1, width1), (path2, width2) ...] \"\"\"\n",
    "def plotImages(image_details):\n",
    "    ## Display image data loaded as a numpy array\n",
    "    try:\n",
    "        plt.close(fig)\n",
    "    except:\n",
    "        pass\n",
    "    image_data = []\n",
    "    my_dpi = 96\n",
    "    fig = plt.figure(num=1, figsize=(15,15*len(image_details)), dpi=my_dpi)\n",
    "    grid = ImageGrid(fig, 111, nrows_ncols=(len(image_details),1), axes_pad=(0.1, 0.5), label_mode=\"L\")\n",
    "    for i in range(len(image_details)):\n",
    "        image_data.append(plotImage(image_details[i][0], grid[i]))\n",
    "        \n",
    "    return image_data\n",
    "        \n",
    "image_details2 = plotImages(image_details)"
   ]
  },
  {
   "cell_type": "code",
   "execution_count": null,
   "metadata": {
    "collapsed": true
   },
   "outputs": [],
   "source": [
    "# Histogram the image values\n",
    "vals2 = np.array([])\n",
    "for i in range(len(image_details2)):\n",
    "    vals2 = np.append(vals, image_details2[i][1].flatten())\n",
    "    \n",
    "pd.DataFrame(vals2).plot.hist()"
   ]
  },
  {
   "cell_type": "code",
   "execution_count": null,
   "metadata": {
    "collapsed": true
   },
   "outputs": [],
   "source": [
    "# images = filter(lambda s: s.endswith('.png'), os.listdir(image_folder))\n",
    "# sizes = []\n",
    "# for image in images:\n",
    "#     try:\n",
    "#         im = Image.open(os.path.join(image_folder,image))\n",
    "#         sizes.append(im.size)\n",
    "#     except Exception as e:\n",
    "#         #print(e)\n",
    "#         pass\n",
    "    \n",
    "# print (len(sizes))\n",
    "# len(images)"
   ]
  },
  {
   "cell_type": "markdown",
   "metadata": {},
   "source": [
    "## Latex Markup Lengths"
   ]
  },
  {
   "cell_type": "code",
   "execution_count": 5,
   "metadata": {},
   "outputs": [
    {
     "data": {
      "text/plain": [
       "<matplotlib.axes._subplots.AxesSubplot at 0x11e660950>"
      ]
     },
     "execution_count": 5,
     "metadata": {},
     "output_type": "execute_result"
    },
    {
     "data": {
      "image/png": "[encoded data removed]",
      "text/plain": [
       "<matplotlib.figure.Figure at 0x11e66ef10>"
      ]
     },
     "metadata": {},
     "output_type": "display_data"
    }
   ],
   "source": [
    "axes = plt.axes()\n",
    "axes.set_xlabel('latex markup length')\n",
    "axes.set_title('Distribution of markup length')\n",
    "#bins=range(0,501,50)\n",
    "dff_all.formula_len.plot.hist(ax=axes, histtype='step', lw=2,  figsize=(10,5), grid=True)"
   ]
  },
  {
   "cell_type": "code",
   "execution_count": 6,
   "metadata": {},
   "outputs": [
    {
     "data": {
      "text/plain": [
       "<matplotlib.axes._subplots.AxesSubplot at 0x11e616f90>"
      ]
     },
     "execution_count": 6,
     "metadata": {},
     "output_type": "execute_result"
    },
    {
     "data": {
      "image/png": "[encoded data removed]",
      "text/plain": [
       "<matplotlib.figure.Figure at 0x11e681b10>"
      ]
     },
     "metadata": {},
     "output_type": "display_data"
    }
   ],
   "source": [
    "axes = plt.axes()\n",
    "axes.set_xlabel('latex markup length')\n",
    "axes.set_title('Cumulative distribution of markup length')\n",
    "bins=range(0,1000,25)\n",
    "dff_all.formula_len.plot.hist(ax=axes, histtype='step', lw=2, bins=bins, xticks=bins, figsize=(15,5), grid=True, cumulative=True)"
   ]
  },
  {
   "cell_type": "code",
   "execution_count": 7,
   "metadata": {},
   "outputs": [
    {
     "data": {
      "text/plain": [
       "0.50     97.0\n",
       "0.10     51.0\n",
       "0.15     57.0\n",
       "0.20     62.0\n",
       "0.25     67.0\n",
       "0.30     72.0\n",
       "0.35     78.0\n",
       "0.40     84.0\n",
       "0.45     90.0\n",
       "0.50     97.0\n",
       "0.55    105.0\n",
       "0.60    113.0\n",
       "0.65    122.0\n",
       "0.70    133.0\n",
       "0.75    144.0\n",
       "0.80    159.0\n",
       "0.85    178.0\n",
       "0.90    204.0\n",
       "0.95    250.0\n",
       "0.97    286.0\n",
       "1.00    991.0\n",
       "Name: formula_len, dtype: float64"
      ]
     },
     "metadata": {},
     "output_type": "display_data"
    }
   ],
   "source": [
    "display(dff_all.formula_len.quantile((.5,.10,.15,.20,.25,.30,.35,.40,.45,.50,.55,.60,.65,.70,.75,.80,.85,.90,.95,.97,1.0)))"
   ]
  },
  {
   "cell_type": "markdown",
   "metadata": {},
   "source": [
    "### Conclusion of Formula Length Analyses\n",
    "For training efficiency it will be desirable to batch together formulas of equal length. Also, since 95% of the formulas are below 250 characters long, we'll limit our training set to under 250 characters - which will leave us with ~97K samples (see below)."
   ]
  },
  {
   "cell_type": "code",
   "execution_count": 8,
   "metadata": {},
   "outputs": [
    {
     "data": {
      "text/plain": [
       "97147"
      ]
     },
     "execution_count": 8,
     "metadata": {},
     "output_type": "execute_result"
    }
   ],
   "source": [
    "dff_l = dff_all[dff_all.formula_len <= 250]\n",
    "dff_l.shape[0]"
   ]
  },
  {
   "cell_type": "code",
   "execution_count": 9,
   "metadata": {},
   "outputs": [
    {
     "data": {
      "text/html": [
       "<div>\n",
       "<style>\n",
       "    .dataframe thead tr:only-child th {\n",
       "        text-align: right;\n",
       "    }\n",
       "\n",
       "    .dataframe thead th {\n",
       "        text-align: left;\n",
       "    }\n",
       "\n",
       "    .dataframe tbody tr th {\n",
       "        vertical-align: top;\n",
       "    }\n",
       "</style>\n",
       "<table border=\"1\" class=\"dataframe\">\n",
       "  <thead>\n",
       "    <tr style=\"text-align: right;\">\n",
       "      <th></th>\n",
       "      <th>formula_len</th>\n",
       "      <th>width</th>\n",
       "    </tr>\n",
       "  </thead>\n",
       "  <tbody>\n",
       "    <tr>\n",
       "      <th>formula_len</th>\n",
       "      <td>1.000000</td>\n",
       "      <td>0.632305</td>\n",
       "    </tr>\n",
       "    <tr>\n",
       "      <th>width</th>\n",
       "      <td>0.632305</td>\n",
       "      <td>1.000000</td>\n",
       "    </tr>\n",
       "  </tbody>\n",
       "</table>\n",
       "</div>"
      ],
      "text/plain": [
       "             formula_len     width\n",
       "formula_len     1.000000  0.632305\n",
       "width           0.632305  1.000000"
      ]
     },
     "metadata": {},
     "output_type": "display_data"
    },
    {
     "data": {
      "text/plain": [
       "image                                   ffff99cc5bfff61_basic.png\n",
       "formula_name                                ffff99cc5bfff61_basic\n",
       "latex           ~~~=-\\frac{1}{24\\pi}g_{\\gamma \\delta }R \\sigma...\n",
       "formula_len                                                   991\n",
       "height                                                       1491\n",
       "width                                                        1532\n",
       "dtype: object"
      ]
     },
     "metadata": {},
     "output_type": "display_data"
    }
   ],
   "source": [
    "display(dff_all[['formula_len', 'width']].corr())\n",
    "display(dff_all.max())"
   ]
  },
  {
   "cell_type": "code",
   "execution_count": 31,
   "metadata": {},
   "outputs": [
    {
     "data": {
      "text/plain": [
       "(76, 6)"
      ]
     },
     "execution_count": 31,
     "metadata": {},
     "output_type": "execute_result"
    }
   ],
   "source": [
    "dff_all[dff_all.height>=400].shape"
   ]
  },
  {
   "cell_type": "markdown",
   "metadata": {},
   "source": [
    "---\n",
    "## Image Width Analysis\n",
    "Since images are of varying sizes, we'll need to standardize/quantize their shapes by padding around them. First we need to check the sizes.\n",
    "\n",
    "---"
   ]
  },
  {
   "cell_type": "code",
   "execution_count": 10,
   "metadata": {},
   "outputs": [
    {
     "data": {
      "text/plain": [
       "<matplotlib.axes._subplots.AxesSubplot at 0x124ba32d0>"
      ]
     },
     "execution_count": 10,
     "metadata": {},
     "output_type": "execute_result"
    },
    {
     "data": {
      "image/png": "[encoded data removed]",
      "text/plain": [
       "<matplotlib.figure.Figure at 0x11e6607d0>"
      ]
     },
     "metadata": {},
     "output_type": "display_data"
    }
   ],
   "source": [
    "axes = plt.axes()\n",
    "axes.set_xlabel('image widths')\n",
    "axes.set_title('Distribution of image widths')\n",
    "bins=range(0,1501,50)\n",
    "dff_l['width'].plot.hist(histtype='step', bins=bins, xticks=bins, figsize=(15,5), grid=True, lw=2)"
   ]
  },
  {
   "cell_type": "code",
   "execution_count": 52,
   "metadata": {},
   "outputs": [
    {
     "data": {
      "text/plain": [
       "<matplotlib.axes._subplots.AxesSubplot at 0x125232cd0>"
      ]
     },
     "execution_count": 52,
     "metadata": {},
     "output_type": "execute_result"
    },
    {
     "data": {
      "image/png": "[encoded data removed]",
      "text/plain": [
       "<matplotlib.figure.Figure at 0x1252327d0>"
      ]
     },
     "metadata": {},
     "output_type": "display_data"
    }
   ],
   "source": [
    "axes = plt.axes()\n",
    "axes.set_xlabel('image widths')\n",
    "axes.set_ylabel('Cumulative Count')\n",
    "axes.set_title('Cumulative distribution of image widths')\n",
    "dff_l['width'].plot.hist(histtype='step',bins=range(0,1501,10), yticks=range(0,105000,5000), figsize=(10,5), grid=True, cumulative=True, lw=2)"
   ]
  },
  {
   "cell_type": "code",
   "execution_count": 57,
   "metadata": {},
   "outputs": [
    {
     "data": {
      "text/plain": [
       "0.50     486.0\n",
       "0.55     518.0\n",
       "0.60     551.0\n",
       "0.65     587.0\n",
       "0.70     626.0\n",
       "0.75     671.0\n",
       "0.80     723.0\n",
       "0.85     784.0\n",
       "0.90     863.0\n",
       "0.95     978.0\n",
       "0.96    1010.0\n",
       "0.97    1046.0\n",
       "0.98    1075.0\n",
       "0.99    1130.0\n",
       "1.00    1391.0\n",
       "Name: width, dtype: float64"
      ]
     },
     "execution_count": 57,
     "metadata": {},
     "output_type": "execute_result"
    }
   ],
   "source": [
    "dff_l.width.quantile((.50,.55,.60,.65,.70,.75,.80,.85,.90,.95,.96,.97,.98,.99,1.0))"
   ]
  },
  {
   "cell_type": "markdown",
   "metadata": {},
   "source": [
    "### Conclusion of Width Analysis\n",
    "We'll standardize the width of all images to 1075 (98 percentil point) by padding the smaller ones. We could've gone with a much lower number - specifically the 85% cutoff point but that would've left us with only 82K samples. At this time we want to ensure close to 100K samples, therefore we'll settle for a width of 1075, which gives us 95K samples."
   ]
  },
  {
   "cell_type": "code",
   "execution_count": 36,
   "metadata": {},
   "outputs": [
    {
     "data": {
      "text/plain": [
       "(95261, 6)"
      ]
     },
     "execution_count": 36,
     "metadata": {},
     "output_type": "execute_result"
    }
   ],
   "source": [
    "dff_lw = dff_l[dff_l.width <= 1075]\n",
    "dff_lw.shape"
   ]
  },
  {
   "cell_type": "markdown",
   "metadata": {},
   "source": [
    "### Image Height Analysis"
   ]
  },
  {
   "cell_type": "code",
   "execution_count": 25,
   "metadata": {},
   "outputs": [
    {
     "data": {
      "text/plain": [
       "<matplotlib.axes._subplots.AxesSubplot at 0x121db8610>"
      ]
     },
     "execution_count": 25,
     "metadata": {},
     "output_type": "execute_result"
    },
    {
     "data": {
      "image/png": "[encoded data removed]",
      "text/plain": [
       "<matplotlib.figure.Figure at 0x124787d50>"
      ]
     },
     "metadata": {},
     "output_type": "display_data"
    }
   ],
   "source": [
    "axes = plt.axes()\n",
    "axes.set_xlabel('image heights')\n",
    "axes.set_title('Distribution of image heights')\n",
    "bins=range(0,501,50)\n",
    "dff_lw['height'].plot.hist(ax=axes, histtype='step', lw=3, bins=bins, figsize=(10,5), grid=True, xticks=bins, normed=True)"
   ]
  },
  {
   "cell_type": "code",
   "execution_count": 26,
   "metadata": {},
   "outputs": [
    {
     "data": {
      "text/plain": [
       "<matplotlib.axes._subplots.AxesSubplot at 0x1246f9590>"
      ]
     },
     "execution_count": 26,
     "metadata": {},
     "output_type": "execute_result"
    },
    {
     "data": {
      "image/png": "[encoded data removed]",
      "text/plain": [
       "<matplotlib.figure.Figure at 0x1246c0e50>"
      ]
     },
     "metadata": {},
     "output_type": "display_data"
    }
   ],
   "source": [
    "axes = plt.axes()\n",
    "axes.set_xlabel('image heights')\n",
    "axes.set_title('Cumulative Distribution of heights')\n",
    "bins=range(0,501,50)\n",
    "dff_lw['height'].plot.hist(histtype='step', lw=2, bins=bins, xticks=bins, figsize=(10,5), grid=True, normed=True, cumulative=True)"
   ]
  },
  {
   "cell_type": "code",
   "execution_count": 32,
   "metadata": {},
   "outputs": [
    {
     "data": {
      "text/plain": [
       "0.850      84.0\n",
       "0.900      90.0\n",
       "0.950     100.0\n",
       "0.960     100.0\n",
       "0.970     102.0\n",
       "0.980     109.0\n",
       "0.985     117.0\n",
       "0.990     120.0\n",
       "1.000    1490.0\n",
       "Name: height, dtype: float64"
      ]
     },
     "metadata": {},
     "output_type": "display_data"
    }
   ],
   "source": [
    "display(dff_lw.height.quantile((.85,.90,.95,.96,.97,.98,.985,.99,1.0)))"
   ]
  },
  {
   "cell_type": "code",
   "execution_count": 37,
   "metadata": {},
   "outputs": [
    {
     "data": {
      "text/plain": [
       "(94345, 6)"
      ]
     },
     "execution_count": 37,
     "metadata": {},
     "output_type": "execute_result"
    }
   ],
   "source": [
    "dff_lwh = dff_lw[dff_lw.height<=120]\n",
    "dff_lwh.shape"
   ]
  },
  {
   "cell_type": "markdown",
   "metadata": {},
   "source": [
    "### Conclusion\n",
    "Note that there is a big difference between the 99% and 100% height values. And since the image is much wider than it is tall, a reduction in the height of the image will be much more impactful than a similar reduction in its width. Hence, we'll select images that are 120 or fewer pixels high. That will leave us with ~94K samples.\n",
    "\n",
    "In conclusion, we'll set all images to a size of 120 x 1075. Images smaller than this dimension will be padded equally on both sides with whites (value 255) while images wider or taller will be discarded from the training, validation or test sets.\n",
    "\n",
    "Furthermore, the images will be batched together according to the sequence length of the formulas."
   ]
  },
  {
   "cell_type": "code",
   "execution_count": 51,
   "metadata": {},
   "outputs": [
    {
     "data": {
      "text/html": [
       "<div>\n",
       "<style>\n",
       "    .dataframe thead tr:only-child th {\n",
       "        text-align: right;\n",
       "    }\n",
       "\n",
       "    .dataframe thead th {\n",
       "        text-align: left;\n",
       "    }\n",
       "\n",
       "    .dataframe tbody tr th {\n",
       "        vertical-align: top;\n",
       "    }\n",
       "</style>\n",
       "<table border=\"1\" class=\"dataframe\">\n",
       "  <thead>\n",
       "    <tr style=\"text-align: right;\">\n",
       "      <th></th>\n",
       "      <th>width</th>\n",
       "      <th>formula_len</th>\n",
       "      <th>height</th>\n",
       "    </tr>\n",
       "  </thead>\n",
       "  <tbody>\n",
       "    <tr>\n",
       "      <th>width</th>\n",
       "      <td>1.000000</td>\n",
       "      <td>0.696189</td>\n",
       "      <td>0.224484</td>\n",
       "    </tr>\n",
       "    <tr>\n",
       "      <th>formula_len</th>\n",
       "      <td>0.696189</td>\n",
       "      <td>1.000000</td>\n",
       "      <td>0.374522</td>\n",
       "    </tr>\n",
       "    <tr>\n",
       "      <th>height</th>\n",
       "      <td>0.224484</td>\n",
       "      <td>0.374522</td>\n",
       "      <td>1.000000</td>\n",
       "    </tr>\n",
       "  </tbody>\n",
       "</table>\n",
       "</div>"
      ],
      "text/plain": [
       "                width  formula_len    height\n",
       "width        1.000000     0.696189  0.224484\n",
       "formula_len  0.696189     1.000000  0.374522\n",
       "height       0.224484     0.374522  1.000000"
      ]
     },
     "execution_count": 51,
     "metadata": {},
     "output_type": "execute_result"
    }
   ],
   "source": [
    "dff_lwh[['width', 'formula_len', 'height']].corr()"
   ]
  },
  {
   "cell_type": "code",
   "execution_count": 50,
   "metadata": {},
   "outputs": [
    {
     "data": {
      "text/html": [
       "<div>\n",
       "<style>\n",
       "    .dataframe thead tr:only-child th {\n",
       "        text-align: right;\n",
       "    }\n",
       "\n",
       "    .dataframe thead th {\n",
       "        text-align: left;\n",
       "    }\n",
       "\n",
       "    .dataframe tbody tr th {\n",
       "        vertical-align: top;\n",
       "    }\n",
       "</style>\n",
       "<table border=\"1\" class=\"dataframe\">\n",
       "  <thead>\n",
       "    <tr style=\"text-align: right;\">\n",
       "      <th></th>\n",
       "      <th>image</th>\n",
       "      <th>formula_name</th>\n",
       "      <th>latex</th>\n",
       "      <th>height</th>\n",
       "      <th>width</th>\n",
       "    </tr>\n",
       "    <tr>\n",
       "      <th>formula_len</th>\n",
       "      <th></th>\n",
       "      <th></th>\n",
       "      <th></th>\n",
       "      <th></th>\n",
       "      <th></th>\n",
       "    </tr>\n",
       "  </thead>\n",
       "  <tbody>\n",
       "    <tr>\n",
       "      <th>37</th>\n",
       "      <td>3</td>\n",
       "      <td>3</td>\n",
       "      <td>3</td>\n",
       "      <td>3</td>\n",
       "      <td>3</td>\n",
       "    </tr>\n",
       "    <tr>\n",
       "      <th>38</th>\n",
       "      <td>4</td>\n",
       "      <td>4</td>\n",
       "      <td>4</td>\n",
       "      <td>4</td>\n",
       "      <td>4</td>\n",
       "    </tr>\n",
       "    <tr>\n",
       "      <th>39</th>\n",
       "      <td>10</td>\n",
       "      <td>10</td>\n",
       "      <td>10</td>\n",
       "      <td>10</td>\n",
       "      <td>10</td>\n",
       "    </tr>\n",
       "    <tr>\n",
       "      <th>245</th>\n",
       "      <td>49</td>\n",
       "      <td>49</td>\n",
       "      <td>49</td>\n",
       "      <td>49</td>\n",
       "      <td>49</td>\n",
       "    </tr>\n",
       "    <tr>\n",
       "      <th>247</th>\n",
       "      <td>48</td>\n",
       "      <td>48</td>\n",
       "      <td>48</td>\n",
       "      <td>48</td>\n",
       "      <td>48</td>\n",
       "    </tr>\n",
       "  </tbody>\n",
       "</table>\n",
       "</div>"
      ],
      "text/plain": [
       "             image  formula_name  latex  height  width\n",
       "formula_len                                           \n",
       "37               3             3      3       3      3\n",
       "38               4             4      4       4      4\n",
       "39              10            10     10      10     10\n",
       "245             49            49     49      49     49\n",
       "247             48            48     48      48     48"
      ]
     },
     "execution_count": 50,
     "metadata": {},
     "output_type": "execute_result"
    }
   ],
   "source": [
    "groups = dff_lwh.groupby('formula_len')\n",
    "count = groups.count()\n",
    "count[count.image < 50]"
   ]
  },
  {
   "cell_type": "markdown",
   "metadata": {},
   "source": [
    "## Pixel Value Analysis\n",
    "Find out if we can simplify the dataset to bitmaps. This would greatly simplify the learning and also reduce the memory required for storing the data."
   ]
  },
  {
   "cell_type": "code",
   "execution_count": null,
   "metadata": {
    "collapsed": true
   },
   "outputs": [],
   "source": [
    "def getValuesDF(dff, data_dir):\n",
    "    try:\n",
    "        return pd.read_csv(os.path.join(data_dir,'pixel_value_dist.csv'), index_col=0)\n",
    "    except:\n",
    "        pass\n",
    "    vals = pd.Series([])\n",
    "    for filename in dff.filename:\n",
    "        image_data = ndimage.imread(os.path.join(data_dir,'formula_images',filename), mode='L')\n",
    "        vals = vals.add(pd.Series(image_data.flatten()).value_counts(), fill_value=0)\n",
    "\n",
    "    dV = pd.DataFrame({'pixel_value':vals.index, 'count':vals}, columns=['pixel_value', 'count'])\n",
    "    dV.to_csv(os.path.join(data_dir,'pixel_value_dist.csv'))\n",
    "    return dV\n",
    "\n",
    "dV = getValuesDF(dff, data_folder)"
   ]
  },
  {
   "cell_type": "code",
   "execution_count": null,
   "metadata": {
    "collapsed": true
   },
   "outputs": [],
   "source": [
    "dV.T"
   ]
  },
  {
   "cell_type": "code",
   "execution_count": null,
   "metadata": {
    "collapsed": true
   },
   "outputs": [],
   "source": [
    "axes = plt.axes()\n",
    "axes.set_xlabel('pixel values')\n",
    "axes.set_ylabel('log(count)')\n",
    "axes.set_title('pixel value log(distribution)')\n",
    "dV['count'].plot(ax=axes, kind='line', figsize=(10,5), xticks=range(0,255, 10), logy=True, linewidth=2, grid=True, xlim=(-10, 265))"
   ]
  },
  {
   "cell_type": "code",
   "execution_count": null,
   "metadata": {
    "collapsed": true,
    "scrolled": false
   },
   "outputs": [],
   "source": [
    "axes = plt.axes()\n",
    "axes.set_xlabel('pixel values')\n",
    "axes.set_ylabel('cumulative % count')\n",
    "((dV['count'].cumsum() / dV['count'].sum())*100).plot(ax=axes, kind='area', figsize=(10,5), xticks=range(0,255, 10), yticks=range(0,101,5), linewidth=2, grid=True, xlim=(-10, 265), ylim=(-5, 105), title='pixel value cumulative sum')"
   ]
  },
  {
   "cell_type": "markdown",
   "metadata": {},
   "source": [
    "---\n",
    "### Conclusion of Pixel Value Analysis\n",
    "The above analysis shows that though the data distribution is heavily skewed around values 255 (white) and 0 (black), there are some significant bumps at values 124, 179 and 221. Therefore, we'll leave the images as grayscale for now.\n",
    "\n",
    "---"
   ]
  },
  {
   "cell_type": "markdown",
   "metadata": {
    "colab_type": "text",
    "id": "PBdkjESPK8tw"
   },
   "source": [
    "Data Whitening\n",
    "--------------\n",
    "\n",
    "Now let's load the data in a more manageable format. Since, depending on your computer setup you might not be able to fit it all in memory, we'll load each class into a separate dataset, store them on disk and curate them independently. Later we'll merge them into a single dataset of manageable size.\n",
    "\n",
    "We'll convert the entire dataset into a 3D array (image index, x, y) of floating point values, normalized to have approximately zero mean and standard deviation ~0.5 to make training easier down the road. \n",
    "\n",
    "A few images might not be readable, we'll just skip them."
   ]
  },
  {
   "cell_type": "code",
   "execution_count": null,
   "metadata": {
    "cellView": "both",
    "colab": {
     "autoexec": {
      "startup": false,
      "wait_interval": 0
     },
     "output_extras": [
      {
       "item_id": 30
      }
     ]
    },
    "colab_type": "code",
    "collapsed": true,
    "executionInfo": {
     "elapsed": 399874,
     "status": "ok",
     "timestamp": 1444485886378,
     "user": {
      "color": "#1FA15D",
      "displayName": "Vincent Vanhoucke",
      "isAnonymous": false,
      "isMe": true,
      "permissionId": "05076109866853157986",
      "photoUrl": "//lh6.googleusercontent.com/-cCJa7dTDcgQ/AAAAAAAAAAI/AAAAAAAACgw/r2EZ_8oYer4/s50-c-k-no/photo.jpg",
      "sessionId": "2a0a5e044bb03b66",
      "userId": "102167687554210253930"
     },
     "user_tz": 420
    },
    "id": "h7q0XhG3MJdf",
    "outputId": "92c391bb-86ff-431d-9ada-315568a19e59"
   },
   "outputs": [],
   "source": [
    "image_size = 28  # Pixel width and height.\n",
    "pixel_depth = 255.0  # Number of levels per pixel.\n",
    "\n",
    "def load_letter(folder, min_num_images):\n",
    "  \"\"\"Load the data for a single letter label.\"\"\"\n",
    "  image_files = os.listdir(folder)\n",
    "  dataset = np.ndarray(shape=(len(image_files), image_size, image_size),\n",
    "                         dtype=np.float32)\n",
    "  print(folder)\n",
    "  num_images = 0\n",
    "  for image in image_files:\n",
    "    image_file = os.path.join(folder, image)\n",
    "    try:\n",
    "      image_data = (ndimage.imread(image_file).astype(float) - \n",
    "                    pixel_depth / 2) / pixel_depth\n",
    "      if image_data.shape != (image_size, image_size):\n",
    "        raise Exception('Unexpected image shape: %s' % str(image_data.shape))\n",
    "      dataset[num_images, :, :] = image_data\n",
    "      num_images = num_images + 1\n",
    "    except IOError as e:\n",
    "      print('Could not read:', image_file, ':', e, '- it\\'s ok, skipping.')\n",
    "    \n",
    "  dataset = dataset[0:num_images, :, :]\n",
    "  if num_images < min_num_images:\n",
    "    raise Exception('Many fewer images than expected: %d < %d' %\n",
    "                    (num_images, min_num_images))\n",
    "    \n",
    "  print('Full dataset tensor:', dataset.shape)\n",
    "  print('Mean:', np.mean(dataset))\n",
    "  print('Standard deviation:', np.std(dataset))\n",
    "  return dataset\n",
    "        \n",
    "def maybe_pickle(data_folders, min_num_images_per_class, force=False):\n",
    "  dataset_names = []\n",
    "  for folder in data_folders:\n",
    "    set_filename = folder + '.pickle'\n",
    "    dataset_names.append(set_filename)\n",
    "    if os.path.exists(set_filename) and not force:\n",
    "      # You may override by setting force=True.\n",
    "      print('%s already present - Skipping pickling.' % set_filename)\n",
    "    else:\n",
    "      print('Pickling %s.' % set_filename)\n",
    "      dataset = load_letter(folder, min_num_images_per_class)\n",
    "      try:\n",
    "        with open(set_filename, 'wb') as f:\n",
    "          pickle.dump(dataset, f, pickle.HIGHEST_PROTOCOL)\n",
    "      except Exception as e:\n",
    "        print('Unable to save data to', set_filename, ':', e)\n",
    "  \n",
    "  return dataset_names\n",
    "\n",
    "train_datasets = maybe_pickle(train_folders, 45000)\n",
    "test_datasets = maybe_pickle(test_folders, 1800)"
   ]
  },
  {
   "cell_type": "markdown",
   "metadata": {
    "colab_type": "text",
    "id": "vUdbskYE2d87"
   },
   "source": [
    "---\n",
    "Check 2\n",
    "---------\n",
    "\n",
    "Let's verify that the data still looks good. Displaying a sample of the labels and images from the ndarray.\n",
    "\n",
    "---"
   ]
  },
  {
   "cell_type": "code",
   "execution_count": null,
   "metadata": {
    "collapsed": true
   },
   "outputs": [],
   "source": [
    "fig = plt.figure(\"Problem2\", (10.9, 5))\n",
    "grid = ImageGrid(fig, 111, nrows_ncols=(2,10), axes_pad=(0.1, 0.5))\n",
    "\n",
    "def displayOneImageFromPickle(ppath, pos, label):\n",
    "    global grid\n",
    "    try:\n",
    "      with open(ppath, 'rb') as f:\n",
    "        arrs = pickle.load(f)\n",
    "        num_images = arrs.shape[0];\n",
    "        img_idx = np.random.randint(0, high=num_images)\n",
    "        arr = arrs[img_idx]\n",
    "        print(ppath, \" num_images = \", num_images)\n",
    "        print(ppath,\"[\", img_idx, \"] shape = \", np.shape(arr), \" dtype = \", arr.dtype, \", mean,min,max = \", np.mean(arr), np.min(arr), np.max(arr))\n",
    "        fig.add_axes\n",
    "        grid[pos].set_title(label)\n",
    "        grid[pos].imshow(arr, cmap=\"gray\")\n",
    "    except Exception as e:\n",
    "      print('Unable to process data from', ppath, ':', e)\n",
    "      raise\n",
    "\n",
    "\n",
    "def verifyImageData(msg, pickle_filepaths, start_pos=0):\n",
    "    print(msg, pickle_filepaths)\n",
    "    end_pos = start_pos + len(pickle_filepaths)\n",
    "    labels = map(lambda path: os.path.splitext(os.path.basename(path))[0], pickle_filepaths)\n",
    "    print (labels)\n",
    "    map(displayOneImageFromPickle, pickle_filepaths, range(start_pos, end_pos), labels)\n",
    "    return end_pos\n",
    "\n",
    "def verifyImages():\n",
    "    pos = verifyImageData(\"Training Data Folders: \", train_datasets)\n",
    "    verifyImageData(\"Test Data Folders: \", test_datasets, pos)\n",
    "\n",
    "verifyImages()\n",
    "#plt.close(\"all\")"
   ]
  },
  {
   "cell_type": "markdown",
   "metadata": {
    "colab_type": "text",
    "id": "LA7M7K22ynCt"
   },
   "source": [
    "Training, Validation and Test Datasets\n",
    "--------------------------------------\n",
    "\n",
    "Merge and prune the training data as needed. Depending on your computer setup, you might not be able to fit it all in memory, and you can tune `train_size` as needed. The labels will be stored into a separate array of integers 0 through 9.\n",
    "\n",
    "Also create a validation dataset for hyperparameter tuning."
   ]
  },
  {
   "cell_type": "code",
   "execution_count": null,
   "metadata": {
    "cellView": "both",
    "colab": {
     "autoexec": {
      "startup": false,
      "wait_interval": 0
     },
     "output_extras": [
      {
       "item_id": 1
      }
     ]
    },
    "colab_type": "code",
    "collapsed": true,
    "executionInfo": {
     "elapsed": 411281,
     "status": "ok",
     "timestamp": 1444485897869,
     "user": {
      "color": "#1FA15D",
      "displayName": "Vincent Vanhoucke",
      "isAnonymous": false,
      "isMe": true,
      "permissionId": "05076109866853157986",
      "photoUrl": "//lh6.googleusercontent.com/-cCJa7dTDcgQ/AAAAAAAAAAI/AAAAAAAACgw/r2EZ_8oYer4/s50-c-k-no/photo.jpg",
      "sessionId": "2a0a5e044bb03b66",
      "userId": "102167687554210253930"
     },
     "user_tz": 420
    },
    "id": "s3mWgZLpyuzq",
    "outputId": "8af66da6-902d-4719-bedc-7c9fb7ae7948"
   },
   "outputs": [],
   "source": [
    "def make_arrays(nb_rows, img_size):\n",
    "  if nb_rows:\n",
    "    dataset = np.ndarray((nb_rows, img_size, img_size), dtype=np.float32)\n",
    "    labels = np.ndarray(nb_rows, dtype=np.int32)\n",
    "  else:\n",
    "    dataset, labels = None, None\n",
    "  return dataset, labels\n",
    "\n",
    "def merge_datasets(pickle_files, train_size, valid_size=0):\n",
    "  num_classes = len(pickle_files)\n",
    "  valid_dataset, valid_labels = make_arrays(valid_size, image_size)\n",
    "  train_dataset, train_labels = make_arrays(train_size, image_size)\n",
    "  vsize_per_class = valid_size // num_classes\n",
    "  tsize_per_class = train_size // num_classes\n",
    "    \n",
    "  start_v, start_t = 0, 0\n",
    "  end_v, end_t = vsize_per_class, tsize_per_class\n",
    "  end_l = vsize_per_class+tsize_per_class\n",
    "  for label, pickle_file in enumerate(pickle_files):       \n",
    "    try:\n",
    "      with open(pickle_file, 'rb') as f:\n",
    "        letter_set = pickle.load(f)\n",
    "        # let's shuffle the letters to have random validation and training set\n",
    "        np.random.shuffle(letter_set)\n",
    "        if valid_dataset is not None:\n",
    "          valid_letter = letter_set[:vsize_per_class, :, :]\n",
    "          valid_dataset[start_v:end_v, :, :] = valid_letter\n",
    "          valid_labels[start_v:end_v] = label\n",
    "          start_v += vsize_per_class\n",
    "          end_v += vsize_per_class\n",
    "                    \n",
    "        train_letter = letter_set[vsize_per_class:end_l, :, :]\n",
    "        train_dataset[start_t:end_t, :, :] = train_letter\n",
    "        train_labels[start_t:end_t] = label\n",
    "        start_t += tsize_per_class\n",
    "        end_t += tsize_per_class\n",
    "    except Exception as e:\n",
    "      print('Unable to process data from', pickle_file, ':', e)\n",
    "      raise\n",
    "    \n",
    "  return valid_dataset, valid_labels, train_dataset, train_labels\n",
    "            \n",
    "            \n",
    "train_size = 200000\n",
    "valid_size = 10000\n",
    "test_size = 10000\n",
    "\n",
    "valid_dataset, valid_labels, train_dataset, train_labels = merge_datasets(\n",
    "  train_datasets, train_size, valid_size)\n",
    "_, _, test_dataset, test_labels = merge_datasets(test_datasets, test_size)\n",
    "\n",
    "print('Training:', train_dataset.shape, train_labels.shape)\n",
    "print('Validation:', valid_dataset.shape, valid_labels.shape)\n",
    "print('Testing:', test_dataset.shape, test_labels.shape)"
   ]
  },
  {
   "cell_type": "markdown",
   "metadata": {
    "colab_type": "text",
    "id": "GPTCnjIcyuKN"
   },
   "source": [
    "Next, we'll randomize the data. It's important to have the labels well shuffled for the training and test distributions to match."
   ]
  },
  {
   "cell_type": "code",
   "execution_count": null,
   "metadata": {
    "cellView": "both",
    "colab": {
     "autoexec": {
      "startup": false,
      "wait_interval": 0
     }
    },
    "colab_type": "code",
    "collapsed": true,
    "id": "6WZ2l2tN2zOL"
   },
   "outputs": [],
   "source": [
    "def randomize(dataset, labels):\n",
    "  permutation = np.random.permutation(labels.shape[0])\n",
    "  shuffled_dataset = dataset[permutation,:,:]\n",
    "  shuffled_labels = labels[permutation]\n",
    "  print(\"randomize done\")\n",
    "  return shuffled_dataset, shuffled_labels\n",
    "train_dataset, train_labels = randomize(train_dataset, train_labels)\n",
    "test_dataset, test_labels = randomize(test_dataset, test_labels)\n",
    "valid_dataset, valid_labels = randomize(valid_dataset, valid_labels)\n",
    "\n",
    "print(\"Randomization is done\")"
   ]
  },
  {
   "cell_type": "markdown",
   "metadata": {
    "colab_type": "text",
    "id": "puDUTe6t6USl"
   },
   "source": [
    "---\n",
    "Check Again\n",
    "---------\n",
    "Convince yourself that the data is still good after shuffling!\n",
    "\n",
    "---"
   ]
  },
  {
   "cell_type": "code",
   "execution_count": null,
   "metadata": {
    "collapsed": true
   },
   "outputs": [],
   "source": [
    "label_names = ('A', 'B', 'C', 'D', 'E', 'F', 'G', 'H', 'I', 'J')\n",
    "\n",
    "def displayRandImagesFromArray(desc, arrs, labels, sample_size=10):\n",
    "    num_images = arrs.shape[0]\n",
    "    print(desc, \" num_images = \", num_images)\n",
    "    fig = plt.figure(figsize=(10.9, 5))\n",
    "    grid = ImageGrid(fig, 111, nrows_ncols=(1,10), axes_pad=(0.1, 0.5))\n",
    "\n",
    "    for i in range(sample_size):\n",
    "        img_idx = np.random.randint(low=0, high=num_images)\n",
    "        arr = arrs[img_idx]\n",
    "        print(desc,\"[\", img_idx, \"] shape = \", np.shape(arr), \" dtype = \", arr.dtype,\n",
    "              \", mean,min,max = \", np.mean(arr), np.min(arr), np.max(arr))\n",
    "        grid[i].set_title(label_names[labels[img_idx]])\n",
    "        grid[i].imshow(arr, cmap=\"gray\")\n",
    "\n",
    "def displayRandImages():\n",
    "    displayRandImagesFromArray(\"Training Dataset: \", train_dataset, train_labels)\n",
    "    displayRandImagesFromArray(\"Test Dataset: \", test_dataset, test_labels)\n",
    "    displayRandImagesFromArray(\"Validation Dataset: \", valid_dataset, valid_labels)\n",
    "\n",
    "displayRandImages()\n",
    "#plt.close(\"all\")\n",
    "print(\"Done with data verification\")"
   ]
  },
  {
   "cell_type": "markdown",
   "metadata": {
    "colab_type": "text",
    "id": "tIQJaJuwg5Hw"
   },
   "source": [
    "Finally, let's save the data for later reuse:"
   ]
  },
  {
   "cell_type": "code",
   "execution_count": null,
   "metadata": {
    "cellView": "both",
    "colab": {
     "autoexec": {
      "startup": false,
      "wait_interval": 0
     }
    },
    "colab_type": "code",
    "collapsed": true,
    "id": "QiR_rETzem6C"
   },
   "outputs": [],
   "source": [
    "pickle_file = 'notMNIST.pickle'\n",
    "\n",
    "try:\n",
    "  f = open(pickle_file, 'wb')\n",
    "  save = {\n",
    "    'train_dataset': train_dataset,\n",
    "    'train_labels': train_labels,\n",
    "    'valid_dataset': valid_dataset,\n",
    "    'valid_labels': valid_labels,\n",
    "    'test_dataset': test_dataset,\n",
    "    'test_labels': test_labels,\n",
    "    }\n",
    "  pickle.dump(save, f, pickle.HIGHEST_PROTOCOL)\n",
    "  f.close()\n",
    "except Exception as e:\n",
    "  print('Unable to save data to', pickle_file, ':', e)\n",
    "  raise\n"
   ]
  },
  {
   "cell_type": "code",
   "execution_count": null,
   "metadata": {
    "cellView": "both",
    "colab": {
     "autoexec": {
      "startup": false,
      "wait_interval": 0
     },
     "output_extras": [
      {
       "item_id": 1
      }
     ]
    },
    "colab_type": "code",
    "collapsed": true,
    "executionInfo": {
     "elapsed": 413065,
     "status": "ok",
     "timestamp": 1444485899688,
     "user": {
      "color": "#1FA15D",
      "displayName": "Vincent Vanhoucke",
      "isAnonymous": false,
      "isMe": true,
      "permissionId": "05076109866853157986",
      "photoUrl": "//lh6.googleusercontent.com/-cCJa7dTDcgQ/AAAAAAAAAAI/AAAAAAAACgw/r2EZ_8oYer4/s50-c-k-no/photo.jpg",
      "sessionId": "2a0a5e044bb03b66",
      "userId": "102167687554210253930"
     },
     "user_tz": 420
    },
    "id": "hQbLjrW_iT39",
    "outputId": "b440efc6-5ee1-4cbc-d02d-93db44ebd956"
   },
   "outputs": [],
   "source": [
    "statinfo = os.stat(pickle_file)\n",
    "print('Compressed pickle size:', statinfo.st_size)\n",
    "del train_dataset, train_labels, valid_dataset, valid_labels, test_dataset, test_labels"
   ]
  },
  {
   "cell_type": "markdown",
   "metadata": {
    "colab_type": "text",
    "id": "gE_cRAQB33lk"
   },
   "source": [
    "---\n",
    "Check for Duplicates\n",
    "--------------------\n",
    "\n",
    "By construction, this dataset might contain a lot of overlapping samples, including training data that's also contained in the validation and test set! Overlap between training and test can skew the results if you expect to use your model in an environment where there is never an overlap, but are actually ok if you expect to see training samples recur when you use it.\n",
    "Measure how much overlap there is between training, validation and test samples.\n",
    "\n",
    "---"
   ]
  },
  {
   "cell_type": "code",
   "execution_count": null,
   "metadata": {
    "collapsed": true
   },
   "outputs": [],
   "source": [
    "#Create unique validation and test sets\n",
    "\n",
    "def getFileList(root):\n",
    "    dirs = ('A', 'B', 'C', 'D', 'E', 'F', 'G', 'H', 'I', 'J')\n",
    "    filelist = np.array([ os.path.join(dirpath, filename) for d in dirs for dirpath, dirnames, filenames in os.walk(root + '/' + d) for filename in filenames])\n",
    "    print(\"Files under %s = \"% root, filelist.shape)\n",
    "    n1 = filelist.size\n",
    "    filelist2 = np.unique(filelist)\n",
    "    n2 = filelist2.size\n",
    "    print(\"% Duplicates = \", ((n1-n2)*100.0)/n1)\n",
    "    return filelist\n",
    "\n",
    "train_files = getFileList('./notMNIST_large')\n",
    "test_files = getFileList('./notMNIST_small')\n",
    "\n",
    "del train_files\n",
    "del test_files\n",
    "\n",
    "\n"
   ]
  },
  {
   "cell_type": "markdown",
   "metadata": {},
   "source": [
    "Check for Similar Images\n",
    "------------------------\n",
    "\n",
    "- What about near duplicates between datasets? (images that are almost identical)\n",
    "- Create a sanitized validation and test set, and compare your accuracy on those in subsequent models."
   ]
  },
  {
   "cell_type": "code",
   "execution_count": null,
   "metadata": {
    "collapsed": true
   },
   "outputs": [],
   "source": [
    "def loadFlattenedData(pickle_file):\n",
    "    try:\n",
    "      with open(pickle_file, 'rb') as f:\n",
    "        data = pickle.load(f)\n",
    "        print (\"loaded data \", data.viewkeys())\n",
    "    except Exception as e:\n",
    "      print('Unable to process data from', pickle_file, ':', e)\n",
    "      raise\n",
    "    \n",
    "    x = data[\"train_dataset\"]\n",
    "    v = data[\"valid_dataset\"]\n",
    "    t = data[\"test_dataset\"]\n",
    "    \n",
    "    A = [a.reshape(a.shape[0],-1) for a in (x,v,t)]\n",
    "    \n",
    "    return A[0], A[1], A[2]\n",
    "\n",
    "x, v, t = loadFlattenedData('notMNIST.pickle')\n",
    "print(\"Test, Validate & Train Data Shapes = \", x.shape, v.shape, t.shape)\n",
    "\n"
   ]
  },
  {
   "cell_type": "code",
   "execution_count": null,
   "metadata": {
    "collapsed": true
   },
   "outputs": [],
   "source": [
    "from pandas import DataFrame\n",
    "\n",
    "def calcDupes(m, desc):\n",
    "    # calculate normalized covariance matrix\n",
    "    m = np.mat(np.corrcoef(m))\n",
    "    n = m.shape[0]\n",
    "    similar = 0.95\n",
    "\n",
    "    # zero out the matrix diagonal and the triangle below it\n",
    "    m[np.tril_indices(m.shape[0])] = 0\n",
    "    assert np.trace(m) == 0\n",
    "    print(\"Min, Max, Median & SD of corrcoef of %s = \" % desc, np.nanmin(m), np.nanmax(m), np.nanmean(m), np.nanstd(m))\n",
    "\n",
    "    dupes = np.unique(np.argwhere(m >= similar)).shape[0]\n",
    "    #dupes = np.count_nonzero(m == 1)\n",
    "    print(\"Num duplicates in %s = %s = %s%%\" % (desc, dupes, dupes*100.0/n))\n",
    "\n",
    "def calcDupes2(m, desc):\n",
    "    print(\"Creating data frame for \", desc)\n",
    "    d = DataFrame({ i:m[i] for i in range(m.shape[0])})\n",
    "    print(\"Dataframe created. Calculating correlation matrix now ...\")\n",
    "    #s = DataFrame(d)\n",
    "    return d.corr()"
   ]
  },
  {
   "cell_type": "code",
   "execution_count": null,
   "metadata": {
    "collapsed": true
   },
   "outputs": [],
   "source": [
    "#v_dupes = calcDupes(v, \"v\")\n",
    "#v_dupes.to_pickle('v_dupes.pickle')\n",
    "t_dupes = calcDupes(t, \"t\")\n",
    "#t_dupes.to_pickle('t_dupes.pickle')\n",
    "print (\"Done calculating correlations of t\")\n",
    "#x_dupes = calcDupes2(x, \"x\")\n",
    "#x_dupes.to_pickle('x_dupes.pickle')"
   ]
  },
  {
   "cell_type": "markdown",
   "metadata": {
    "colab_type": "text",
    "id": "L8oww1s4JMQx"
   },
   "source": [
    "---\n",
    "Logistic Regression Classifier\n",
    "------------------------------\n",
    "\n",
    "Let's get an idea of what an off-the-shelf classifier can give you on this data. It's always good to check that there is something to learn, and that it's a problem that is not so trivial that a canned solution solves it.\n",
    "\n",
    "Train a simple model on this data using 50, 100, 1000 and 5000 training samples. Using the LogisticRegression model from sklearn.linear_model.\n",
    "\n",
    "---"
   ]
  },
  {
   "cell_type": "code",
   "execution_count": null,
   "metadata": {
    "collapsed": true,
    "scrolled": false
   },
   "outputs": [],
   "source": [
    "## Logistic Regression\n",
    "import sklearn.linear_model as glm\n",
    "\n",
    "def loadData(pickle_file):\n",
    "    data = {}\n",
    "    try:\n",
    "      with open(pickle_file, 'rb') as f:\n",
    "        data = pickle.load(f)\n",
    "        print (\"loaded data \", data.viewkeys())\n",
    "    except Exception as e:\n",
    "      print('Unable to process data from', pickle_file, ':', e)\n",
    "      raise\n",
    "        \n",
    "    return data\n",
    "\n",
    "def learn(data, solver, num_train, multi_class):\n",
    "    num_validate = data[\"valid_dataset\"].shape[0]\n",
    "    num_test = data[\"test_dataset\"].shape[0]\n",
    "    #print(data)\n",
    "    train = {\n",
    "        'X': data[\"train_dataset\"][:num_train].reshape(num_train,-1),\n",
    "        'Y': data[\"train_labels\"][:num_train],\n",
    "        'vX': data[\"valid_dataset\"].reshape(num_validate,-1),\n",
    "        'vY': data[\"valid_labels\"],\n",
    "        'tX': data[\"test_dataset\"].reshape(num_test,-1),\n",
    "        'tY': data[\"test_labels\"]\n",
    "    }\n",
    "    \n",
    "    print(\"logr_%s.fit starting.\" % (solver))\n",
    "    print(\"shape X= \", train[\"X\"].shape, \" shape Y= \", train[\"Y\"].shape)\n",
    "    print(\"shape vX= \", train[\"vX\"].shape, \" shape vY= \", train[\"vY\"].shape)\n",
    "    print(\"shape tX= \", train[\"tX\"].shape, \" shape tY= \", train[\"tY\"].shape)\n",
    "    logr = glm.LogisticRegression(solver=solver,multi_class=multi_class, n_jobs=-1, warm_start=False)\n",
    "    logr.fit(train[\"X\"], train[\"Y\"])\n",
    "    print(\"logr_%s.fit done. Validation score = %s\" % (solver, logr.score(train[\"vX\"], train[\"vY\"])),\n",
    "         \"test score = \", logr.score(train[\"tX\"], train[\"tY\"]))\n",
    "    \n",
    "data = loadData('notMNIST.pickle')\n",
    "map( lambda n: learn(data, \"newton-cg\", n, \"multinomial\"), [50000])\n",
    "#map( lambda n: learn(data, \"lbfgs\", n, \"multinomial\"), [200000])\n",
    "#map( lambda n: learn(data, \"sag\", n, \"ovr\"), [200000])\n",
    "#map( lambda n: learn(data, \"liblinear\", n, \"ovr\"), [5000, 50000, 200000])\n",
    "\n",
    "\n"
   ]
  },
  {
   "cell_type": "code",
   "execution_count": null,
   "metadata": {
    "collapsed": true
   },
   "outputs": [],
   "source": []
  }
 ],
 "metadata": {
  "anaconda-cloud": {},
  "colab": {
   "default_view": {},
   "name": "1_notmnist.ipynb",
   "provenance": [],
   "version": "0.3.2",
   "views": {}
  },
  "kernelspec": {
   "display_name": "Python 2",
   "language": "python",
   "name": "python2"
  },
  "language_info": {
   "codemirror_mode": {
    "name": "ipython",
    "version": 2
   },
   "file_extension": ".py",
   "mimetype": "text/x-python",
   "name": "python",
   "nbconvert_exporter": "python",
   "pygments_lexer": "ipython2",
   "version": "2.7.13"
  }
 },
 "nbformat": 4,
 "nbformat_minor": 1
}
